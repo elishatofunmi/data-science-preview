{
 "cells": [
  {
   "cell_type": "code",
   "execution_count": 4,
   "metadata": {
    "collapsed": true
   },
   "outputs": [],
   "source": [
    "import pandas as pd\n",
    "import numpy as np\n",
    "import scipy as sp\n",
    "import warnings\n",
    "warnings.filterwarnings('ignore')"
   ]
  },
  {
   "cell_type": "code",
   "execution_count": 5,
   "metadata": {
    "collapsed": true
   },
   "outputs": [],
   "source": [
    "main_data = pd.read_csv(r'week3_challenge.csv')\n",
    "read_data = main_data.copy()"
   ]
  },
  {
   "cell_type": "code",
   "execution_count": 6,
   "metadata": {},
   "outputs": [
    {
     "data": {
      "text/html": [
       "<div>\n",
       "<style>\n",
       "    .dataframe thead tr:only-child th {\n",
       "        text-align: right;\n",
       "    }\n",
       "\n",
       "    .dataframe thead th {\n",
       "        text-align: left;\n",
       "    }\n",
       "\n",
       "    .dataframe tbody tr th {\n",
       "        vertical-align: top;\n",
       "    }\n",
       "</style>\n",
       "<table border=\"1\" class=\"dataframe\">\n",
       "  <thead>\n",
       "    <tr style=\"text-align: right;\">\n",
       "      <th></th>\n",
       "      <th>Unnamed: 0</th>\n",
       "      <th>createdAt_Month</th>\n",
       "      <th>Reason</th>\n",
       "      <th>application_id</th>\n",
       "      <th>SystemCustomerID</th>\n",
       "      <th>SystemLoanID</th>\n",
       "      <th>income_source</th>\n",
       "      <th>income_verified</th>\n",
       "      <th>next_loan_number</th>\n",
       "      <th>country</th>\n",
       "      <th>...</th>\n",
       "      <th>callFeatures_no_distinct_call_numbers_out</th>\n",
       "      <th>callFeatures_no_calls_over_zero_secs_out</th>\n",
       "      <th>callFeatures_no_calls_out</th>\n",
       "      <th>predictedIncome</th>\n",
       "      <th>installationId</th>\n",
       "      <th>obiResult_scorecard</th>\n",
       "      <th>obiResult_score</th>\n",
       "      <th>obiResult_riskLevel</th>\n",
       "      <th>obiResult_ratingClass</th>\n",
       "      <th>obiResult_ncngav2Id</th>\n",
       "    </tr>\n",
       "  </thead>\n",
       "  <tbody>\n",
       "    <tr>\n",
       "      <th>0</th>\n",
       "      <td>0</td>\n",
       "      <td>201812</td>\n",
       "      <td>Client did not meet approval score.</td>\n",
       "      <td>WRYRieZlqBsT6w53b2HDpA_1544015103274</td>\n",
       "      <td>334043596</td>\n",
       "      <td>302881418623</td>\n",
       "      <td>credit</td>\n",
       "      <td>True</td>\n",
       "      <td>1</td>\n",
       "      <td>NG</td>\n",
       "      <td>...</td>\n",
       "      <td>139.0</td>\n",
       "      <td>287.0</td>\n",
       "      <td>655.0</td>\n",
       "      <td>105872.674499</td>\n",
       "      <td>374ac87639a74b3e01465993be618360</td>\n",
       "      <td>NC_NGA_V2</td>\n",
       "      <td>337.57000</td>\n",
       "      <td>Decline</td>\n",
       "      <td>NaN</td>\n",
       "      <td>a6e99ddb-2c95-4b1e-90cb-d05ffa9d1c9a</td>\n",
       "    </tr>\n",
       "    <tr>\n",
       "      <th>1</th>\n",
       "      <td>1</td>\n",
       "      <td>201809</td>\n",
       "      <td>Client did not meet approval score.</td>\n",
       "      <td>oVpQz7tgkPa3bmvVDzYqw_1530858694219</td>\n",
       "      <td>524284563</td>\n",
       "      <td>302328949395</td>\n",
       "      <td>credit</td>\n",
       "      <td>True</td>\n",
       "      <td>4</td>\n",
       "      <td>NG</td>\n",
       "      <td>...</td>\n",
       "      <td>327.0</td>\n",
       "      <td>1114.0</td>\n",
       "      <td>2923.0</td>\n",
       "      <td>34421.220891</td>\n",
       "      <td>e24749e856614a1ae3734c773670f74c</td>\n",
       "      <td>NaN</td>\n",
       "      <td>NaN</td>\n",
       "      <td>NaN</td>\n",
       "      <td>NaN</td>\n",
       "      <td>NaN</td>\n",
       "    </tr>\n",
       "    <tr>\n",
       "      <th>2</th>\n",
       "      <td>2</td>\n",
       "      <td>201810</td>\n",
       "      <td>Client did not meet approval score.</td>\n",
       "      <td>WCONqdL9BlaRetaDRERg_1538822524979</td>\n",
       "      <td>481582700</td>\n",
       "      <td>302536536368</td>\n",
       "      <td>credit</td>\n",
       "      <td>True</td>\n",
       "      <td>2</td>\n",
       "      <td>NG</td>\n",
       "      <td>...</td>\n",
       "      <td>139.0</td>\n",
       "      <td>583.0</td>\n",
       "      <td>1115.0</td>\n",
       "      <td>14447.944277</td>\n",
       "      <td>abe46a8fe9345c0b230c3fcaa5ddbbbc</td>\n",
       "      <td>NaN</td>\n",
       "      <td>NaN</td>\n",
       "      <td>NaN</td>\n",
       "      <td>NaN</td>\n",
       "      <td>NaN</td>\n",
       "    </tr>\n",
       "    <tr>\n",
       "      <th>3</th>\n",
       "      <td>3</td>\n",
       "      <td>201812</td>\n",
       "      <td>Client did not meet approval score.</td>\n",
       "      <td>Wi5dgyaoGQ9yciK89PEg_1544071630964</td>\n",
       "      <td>234330495</td>\n",
       "      <td>302887567434</td>\n",
       "      <td>credit</td>\n",
       "      <td>True</td>\n",
       "      <td>1</td>\n",
       "      <td>NG</td>\n",
       "      <td>...</td>\n",
       "      <td>46.0</td>\n",
       "      <td>38.0</td>\n",
       "      <td>108.0</td>\n",
       "      <td>52952.581832</td>\n",
       "      <td>cfe3f3006f8e9799e9d17859df394b18</td>\n",
       "      <td>NC_NGA_V2</td>\n",
       "      <td>394.94000</td>\n",
       "      <td>Decline</td>\n",
       "      <td>18a</td>\n",
       "      <td>da360fe9-8e86-4031-afb9-2143a3f734ee</td>\n",
       "    </tr>\n",
       "    <tr>\n",
       "      <th>4</th>\n",
       "      <td>4</td>\n",
       "      <td>201901</td>\n",
       "      <td>Client did not meet approval score.</td>\n",
       "      <td>16JgKGioSsWVaWdY7noC8A_1547701922961</td>\n",
       "      <td>563455515</td>\n",
       "      <td>303057983993</td>\n",
       "      <td>credit</td>\n",
       "      <td>True</td>\n",
       "      <td>2</td>\n",
       "      <td>NG</td>\n",
       "      <td>...</td>\n",
       "      <td>114.0</td>\n",
       "      <td>549.0</td>\n",
       "      <td>1474.0</td>\n",
       "      <td>31577.275467</td>\n",
       "      <td>7af8400ec773914c8d1fed044aa420b7</td>\n",
       "      <td>RC_NGA_V1L</td>\n",
       "      <td>423.70578</td>\n",
       "      <td>Decline</td>\n",
       "      <td>NaN</td>\n",
       "      <td>NaN</td>\n",
       "    </tr>\n",
       "  </tbody>\n",
       "</table>\n",
       "<p>5 rows × 290 columns</p>\n",
       "</div>"
      ],
      "text/plain": [
       "   Unnamed: 0  createdAt_Month                               Reason  \\\n",
       "0           0           201812  Client did not meet approval score.   \n",
       "1           1           201809  Client did not meet approval score.   \n",
       "2           2           201810  Client did not meet approval score.   \n",
       "3           3           201812  Client did not meet approval score.   \n",
       "4           4           201901  Client did not meet approval score.   \n",
       "\n",
       "                         application_id  SystemCustomerID  SystemLoanID  \\\n",
       "0  WRYRieZlqBsT6w53b2HDpA_1544015103274         334043596  302881418623   \n",
       "1   oVpQz7tgkPa3bmvVDzYqw_1530858694219         524284563  302328949395   \n",
       "2    WCONqdL9BlaRetaDRERg_1538822524979         481582700  302536536368   \n",
       "3    Wi5dgyaoGQ9yciK89PEg_1544071630964         234330495  302887567434   \n",
       "4  16JgKGioSsWVaWdY7noC8A_1547701922961         563455515  303057983993   \n",
       "\n",
       "  income_source  income_verified  next_loan_number country  \\\n",
       "0        credit             True                 1      NG   \n",
       "1        credit             True                 4      NG   \n",
       "2        credit             True                 2      NG   \n",
       "3        credit             True                 1      NG   \n",
       "4        credit             True                 2      NG   \n",
       "\n",
       "                   ...                   \\\n",
       "0                  ...                    \n",
       "1                  ...                    \n",
       "2                  ...                    \n",
       "3                  ...                    \n",
       "4                  ...                    \n",
       "\n",
       "  callFeatures_no_distinct_call_numbers_out  \\\n",
       "0                                     139.0   \n",
       "1                                     327.0   \n",
       "2                                     139.0   \n",
       "3                                      46.0   \n",
       "4                                     114.0   \n",
       "\n",
       "  callFeatures_no_calls_over_zero_secs_out  callFeatures_no_calls_out  \\\n",
       "0                                    287.0                      655.0   \n",
       "1                                   1114.0                     2923.0   \n",
       "2                                    583.0                     1115.0   \n",
       "3                                     38.0                      108.0   \n",
       "4                                    549.0                     1474.0   \n",
       "\n",
       "  predictedIncome                    installationId  obiResult_scorecard  \\\n",
       "0   105872.674499  374ac87639a74b3e01465993be618360            NC_NGA_V2   \n",
       "1    34421.220891  e24749e856614a1ae3734c773670f74c                  NaN   \n",
       "2    14447.944277  abe46a8fe9345c0b230c3fcaa5ddbbbc                  NaN   \n",
       "3    52952.581832  cfe3f3006f8e9799e9d17859df394b18            NC_NGA_V2   \n",
       "4    31577.275467  7af8400ec773914c8d1fed044aa420b7           RC_NGA_V1L   \n",
       "\n",
       "  obiResult_score  obiResult_riskLevel  obiResult_ratingClass  \\\n",
       "0       337.57000              Decline                    NaN   \n",
       "1             NaN                  NaN                    NaN   \n",
       "2             NaN                  NaN                    NaN   \n",
       "3       394.94000              Decline                    18a   \n",
       "4       423.70578              Decline                    NaN   \n",
       "\n",
       "                    obiResult_ncngav2Id  \n",
       "0  a6e99ddb-2c95-4b1e-90cb-d05ffa9d1c9a  \n",
       "1                                   NaN  \n",
       "2                                   NaN  \n",
       "3  da360fe9-8e86-4031-afb9-2143a3f734ee  \n",
       "4                                   NaN  \n",
       "\n",
       "[5 rows x 290 columns]"
      ]
     },
     "execution_count": 6,
     "metadata": {},
     "output_type": "execute_result"
    }
   ],
   "source": [
    "read_data.head()"
   ]
  },
  {
   "cell_type": "code",
   "execution_count": 22,
   "metadata": {
    "collapsed": true
   },
   "outputs": [],
   "source": [
    "cut_off = read_data.shape[0]* 0.7"
   ]
  },
  {
   "cell_type": "code",
   "execution_count": 27,
   "metadata": {
    "scrolled": true
   },
   "outputs": [],
   "source": [
    "read_data = read_data.dropna(thresh = cut_off, axis = 1)"
   ]
  },
  {
   "cell_type": "code",
   "execution_count": 28,
   "metadata": {},
   "outputs": [
    {
     "name": "stdout",
     "output_type": "stream",
     "text": [
      "<class 'pandas.core.frame.DataFrame'>\n",
      "RangeIndex: 11993 entries, 0 to 11992\n",
      "Columns: 272 entries, Unnamed: 0 to installationId\n",
      "dtypes: bool(1), float64(244), int64(5), object(22)\n",
      "memory usage: 24.8+ MB\n"
     ]
    }
   ],
   "source": [
    "read_data.info()"
   ]
  },
  {
   "cell_type": "code",
   "execution_count": 30,
   "metadata": {},
   "outputs": [
    {
     "data": {
      "text/plain": [
       "(11993, 272)"
      ]
     },
     "execution_count": 30,
     "metadata": {},
     "output_type": "execute_result"
    }
   ],
   "source": [
    "read_data.shape"
   ]
  },
  {
   "cell_type": "code",
   "execution_count": 31,
   "metadata": {},
   "outputs": [
    {
     "name": "stdout",
     "output_type": "stream",
     "text": [
      "number of columns with missing values: 18\n"
     ]
    }
   ],
   "source": [
    "number_of_missing_values = 290 - 272\n",
    "print('number of columns with missing values:', number_of_missing_values)"
   ]
  },
  {
   "cell_type": "code",
   "execution_count": 32,
   "metadata": {
    "collapsed": true,
    "scrolled": true
   },
   "outputs": [],
   "source": [
    "# select columns with type float and int\n",
    "new_dataframe = read_data.select_dtypes(include = [np.float64, np.int64])"
   ]
  },
  {
   "cell_type": "code",
   "execution_count": 34,
   "metadata": {},
   "outputs": [
    {
     "name": "stdout",
     "output_type": "stream",
     "text": [
      "<class 'pandas.core.frame.DataFrame'>\n",
      "RangeIndex: 11993 entries, 0 to 11992\n",
      "Columns: 249 entries, Unnamed: 0 to predictedIncome\n",
      "dtypes: float64(244), int64(5)\n",
      "memory usage: 22.8 MB\n"
     ]
    }
   ],
   "source": [
    "new_dataframe.info()"
   ]
  },
  {
   "cell_type": "code",
   "execution_count": 35,
   "metadata": {},
   "outputs": [
    {
     "data": {
      "text/html": [
       "<div>\n",
       "<style>\n",
       "    .dataframe thead tr:only-child th {\n",
       "        text-align: right;\n",
       "    }\n",
       "\n",
       "    .dataframe thead th {\n",
       "        text-align: left;\n",
       "    }\n",
       "\n",
       "    .dataframe tbody tr th {\n",
       "        vertical-align: top;\n",
       "    }\n",
       "</style>\n",
       "<table border=\"1\" class=\"dataframe\">\n",
       "  <thead>\n",
       "    <tr style=\"text-align: right;\">\n",
       "      <th></th>\n",
       "      <th>Unnamed: 0</th>\n",
       "      <th>createdAt_Month</th>\n",
       "      <th>SystemCustomerID</th>\n",
       "      <th>SystemLoanID</th>\n",
       "      <th>next_loan_number</th>\n",
       "      <th>Income</th>\n",
       "      <th>__v</th>\n",
       "      <th>demofeatures_net_income_band</th>\n",
       "      <th>demofeatures_appweek</th>\n",
       "      <th>demofeatures_age_at_application_yrs</th>\n",
       "      <th>...</th>\n",
       "      <th>callFeatures_vol_calls_1_mnth_out</th>\n",
       "      <th>callFeatures_vol_calls_2_mnth_out</th>\n",
       "      <th>callFeatures_vol_calls_3_mnth_out</th>\n",
       "      <th>callFeatures_dur_calls_out</th>\n",
       "      <th>callFeatures_dur_calls_contacts_out</th>\n",
       "      <th>callFeatures_ratio_contacts_out</th>\n",
       "      <th>callFeatures_no_distinct_call_numbers_out</th>\n",
       "      <th>callFeatures_no_calls_over_zero_secs_out</th>\n",
       "      <th>callFeatures_no_calls_out</th>\n",
       "      <th>predictedIncome</th>\n",
       "    </tr>\n",
       "  </thead>\n",
       "  <tbody>\n",
       "    <tr>\n",
       "      <th>0</th>\n",
       "      <td>0</td>\n",
       "      <td>201812</td>\n",
       "      <td>334043596</td>\n",
       "      <td>302881418623</td>\n",
       "      <td>1</td>\n",
       "      <td>200000.0</td>\n",
       "      <td>0.0</td>\n",
       "      <td>200000.0</td>\n",
       "      <td>1.0</td>\n",
       "      <td>28.0</td>\n",
       "      <td>...</td>\n",
       "      <td>655.0</td>\n",
       "      <td>0.0</td>\n",
       "      <td>0.0</td>\n",
       "      <td>48872.0</td>\n",
       "      <td>0.985554</td>\n",
       "      <td>0.929771</td>\n",
       "      <td>139.0</td>\n",
       "      <td>287.0</td>\n",
       "      <td>655.0</td>\n",
       "      <td>105872.674499</td>\n",
       "    </tr>\n",
       "    <tr>\n",
       "      <th>1</th>\n",
       "      <td>1</td>\n",
       "      <td>201809</td>\n",
       "      <td>524284563</td>\n",
       "      <td>302328949395</td>\n",
       "      <td>4</td>\n",
       "      <td>80000.0</td>\n",
       "      <td>0.0</td>\n",
       "      <td>100000.0</td>\n",
       "      <td>1.0</td>\n",
       "      <td>33.0</td>\n",
       "      <td>...</td>\n",
       "      <td>2923.0</td>\n",
       "      <td>0.0</td>\n",
       "      <td>0.0</td>\n",
       "      <td>65335.0</td>\n",
       "      <td>0.956868</td>\n",
       "      <td>0.917550</td>\n",
       "      <td>327.0</td>\n",
       "      <td>1114.0</td>\n",
       "      <td>2923.0</td>\n",
       "      <td>34421.220891</td>\n",
       "    </tr>\n",
       "    <tr>\n",
       "      <th>2</th>\n",
       "      <td>2</td>\n",
       "      <td>201810</td>\n",
       "      <td>481582700</td>\n",
       "      <td>302536536368</td>\n",
       "      <td>2</td>\n",
       "      <td>39500.0</td>\n",
       "      <td>0.0</td>\n",
       "      <td>50000.0</td>\n",
       "      <td>2.0</td>\n",
       "      <td>26.0</td>\n",
       "      <td>...</td>\n",
       "      <td>1115.0</td>\n",
       "      <td>0.0</td>\n",
       "      <td>0.0</td>\n",
       "      <td>98762.0</td>\n",
       "      <td>0.000000</td>\n",
       "      <td>0.000000</td>\n",
       "      <td>139.0</td>\n",
       "      <td>583.0</td>\n",
       "      <td>1115.0</td>\n",
       "      <td>14447.944277</td>\n",
       "    </tr>\n",
       "    <tr>\n",
       "      <th>3</th>\n",
       "      <td>3</td>\n",
       "      <td>201812</td>\n",
       "      <td>234330495</td>\n",
       "      <td>302887567434</td>\n",
       "      <td>1</td>\n",
       "      <td>50000.0</td>\n",
       "      <td>0.0</td>\n",
       "      <td>50000.0</td>\n",
       "      <td>1.0</td>\n",
       "      <td>36.0</td>\n",
       "      <td>...</td>\n",
       "      <td>58.0</td>\n",
       "      <td>50.0</td>\n",
       "      <td>0.0</td>\n",
       "      <td>1530.0</td>\n",
       "      <td>0.762092</td>\n",
       "      <td>0.777778</td>\n",
       "      <td>46.0</td>\n",
       "      <td>38.0</td>\n",
       "      <td>108.0</td>\n",
       "      <td>52952.581832</td>\n",
       "    </tr>\n",
       "    <tr>\n",
       "      <th>4</th>\n",
       "      <td>4</td>\n",
       "      <td>201901</td>\n",
       "      <td>563455515</td>\n",
       "      <td>303057983993</td>\n",
       "      <td>2</td>\n",
       "      <td>20000.0</td>\n",
       "      <td>0.0</td>\n",
       "      <td>75000.0</td>\n",
       "      <td>3.0</td>\n",
       "      <td>28.0</td>\n",
       "      <td>...</td>\n",
       "      <td>1474.0</td>\n",
       "      <td>0.0</td>\n",
       "      <td>0.0</td>\n",
       "      <td>29949.0</td>\n",
       "      <td>0.937828</td>\n",
       "      <td>0.938942</td>\n",
       "      <td>114.0</td>\n",
       "      <td>549.0</td>\n",
       "      <td>1474.0</td>\n",
       "      <td>31577.275467</td>\n",
       "    </tr>\n",
       "  </tbody>\n",
       "</table>\n",
       "<p>5 rows × 249 columns</p>\n",
       "</div>"
      ],
      "text/plain": [
       "   Unnamed: 0  createdAt_Month  SystemCustomerID  SystemLoanID  \\\n",
       "0           0           201812         334043596  302881418623   \n",
       "1           1           201809         524284563  302328949395   \n",
       "2           2           201810         481582700  302536536368   \n",
       "3           3           201812         234330495  302887567434   \n",
       "4           4           201901         563455515  303057983993   \n",
       "\n",
       "   next_loan_number    Income  __v  demofeatures_net_income_band  \\\n",
       "0                 1  200000.0  0.0                      200000.0   \n",
       "1                 4   80000.0  0.0                      100000.0   \n",
       "2                 2   39500.0  0.0                       50000.0   \n",
       "3                 1   50000.0  0.0                       50000.0   \n",
       "4                 2   20000.0  0.0                       75000.0   \n",
       "\n",
       "   demofeatures_appweek  demofeatures_age_at_application_yrs       ...         \\\n",
       "0                   1.0                                 28.0       ...          \n",
       "1                   1.0                                 33.0       ...          \n",
       "2                   2.0                                 26.0       ...          \n",
       "3                   1.0                                 36.0       ...          \n",
       "4                   3.0                                 28.0       ...          \n",
       "\n",
       "   callFeatures_vol_calls_1_mnth_out  callFeatures_vol_calls_2_mnth_out  \\\n",
       "0                              655.0                                0.0   \n",
       "1                             2923.0                                0.0   \n",
       "2                             1115.0                                0.0   \n",
       "3                               58.0                               50.0   \n",
       "4                             1474.0                                0.0   \n",
       "\n",
       "   callFeatures_vol_calls_3_mnth_out  callFeatures_dur_calls_out  \\\n",
       "0                                0.0                     48872.0   \n",
       "1                                0.0                     65335.0   \n",
       "2                                0.0                     98762.0   \n",
       "3                                0.0                      1530.0   \n",
       "4                                0.0                     29949.0   \n",
       "\n",
       "   callFeatures_dur_calls_contacts_out  callFeatures_ratio_contacts_out  \\\n",
       "0                             0.985554                         0.929771   \n",
       "1                             0.956868                         0.917550   \n",
       "2                             0.000000                         0.000000   \n",
       "3                             0.762092                         0.777778   \n",
       "4                             0.937828                         0.938942   \n",
       "\n",
       "   callFeatures_no_distinct_call_numbers_out  \\\n",
       "0                                      139.0   \n",
       "1                                      327.0   \n",
       "2                                      139.0   \n",
       "3                                       46.0   \n",
       "4                                      114.0   \n",
       "\n",
       "   callFeatures_no_calls_over_zero_secs_out  callFeatures_no_calls_out  \\\n",
       "0                                     287.0                      655.0   \n",
       "1                                    1114.0                     2923.0   \n",
       "2                                     583.0                     1115.0   \n",
       "3                                      38.0                      108.0   \n",
       "4                                     549.0                     1474.0   \n",
       "\n",
       "   predictedIncome  \n",
       "0    105872.674499  \n",
       "1     34421.220891  \n",
       "2     14447.944277  \n",
       "3     52952.581832  \n",
       "4     31577.275467  \n",
       "\n",
       "[5 rows x 249 columns]"
      ]
     },
     "execution_count": 35,
     "metadata": {},
     "output_type": "execute_result"
    }
   ],
   "source": [
    "new_dataframe.head()"
   ]
  },
  {
   "cell_type": "code",
   "execution_count": 36,
   "metadata": {
    "collapsed": true
   },
   "outputs": [],
   "source": [
    "frame = new_dataframe.replace(np.nan, 0)"
   ]
  },
  {
   "cell_type": "code",
   "execution_count": 37,
   "metadata": {
    "collapsed": true
   },
   "outputs": [],
   "source": [
    "list_value = []\n",
    "for k in frame.columns:\n",
    "    value = sum(frame[k].isnull())\n",
    "    list_value.append(value)"
   ]
  },
  {
   "cell_type": "code",
   "execution_count": 38,
   "metadata": {},
   "outputs": [
    {
     "name": "stdout",
     "output_type": "stream",
     "text": [
      "we have:  173632 missing values in our dataframe\n"
     ]
    }
   ],
   "source": [
    "list_value = []\n",
    "for k in new_dataframe.columns:\n",
    "    value = sum(new_dataframe[k].isnull())\n",
    "    list_value.append(value)\n",
    "print('we have: ',sum(list_value), 'missing values in our dataframe')"
   ]
  },
  {
   "cell_type": "code",
   "execution_count": 39,
   "metadata": {
    "collapsed": true
   },
   "outputs": [],
   "source": [
    "import matplotlib.pyplot as plt\n",
    "from sklearn.decomposition import PCA\n",
    "from sklearn.preprocessing import StandardScaler\n",
    "%matplotlib inline"
   ]
  },
  {
   "cell_type": "code",
   "execution_count": 40,
   "metadata": {
    "collapsed": true
   },
   "outputs": [],
   "source": [
    "standard_data = StandardScaler().fit_transform(frame)"
   ]
  },
  {
   "cell_type": "code",
   "execution_count": 41,
   "metadata": {
    "collapsed": true
   },
   "outputs": [],
   "source": [
    "to_frame = pd.DataFrame(data = standard_data, columns = frame.columns)"
   ]
  },
  {
   "cell_type": "code",
   "execution_count": 42,
   "metadata": {},
   "outputs": [
    {
     "data": {
      "text/html": [
       "<div>\n",
       "<style>\n",
       "    .dataframe thead tr:only-child th {\n",
       "        text-align: right;\n",
       "    }\n",
       "\n",
       "    .dataframe thead th {\n",
       "        text-align: left;\n",
       "    }\n",
       "\n",
       "    .dataframe tbody tr th {\n",
       "        vertical-align: top;\n",
       "    }\n",
       "</style>\n",
       "<table border=\"1\" class=\"dataframe\">\n",
       "  <thead>\n",
       "    <tr style=\"text-align: right;\">\n",
       "      <th></th>\n",
       "      <th>Unnamed: 0</th>\n",
       "      <th>createdAt_Month</th>\n",
       "      <th>SystemCustomerID</th>\n",
       "      <th>SystemLoanID</th>\n",
       "      <th>next_loan_number</th>\n",
       "      <th>Income</th>\n",
       "      <th>__v</th>\n",
       "      <th>demofeatures_net_income_band</th>\n",
       "      <th>demofeatures_appweek</th>\n",
       "      <th>demofeatures_age_at_application_yrs</th>\n",
       "      <th>...</th>\n",
       "      <th>callFeatures_vol_calls_1_mnth_out</th>\n",
       "      <th>callFeatures_vol_calls_2_mnth_out</th>\n",
       "      <th>callFeatures_vol_calls_3_mnth_out</th>\n",
       "      <th>callFeatures_dur_calls_out</th>\n",
       "      <th>callFeatures_dur_calls_contacts_out</th>\n",
       "      <th>callFeatures_ratio_contacts_out</th>\n",
       "      <th>callFeatures_no_distinct_call_numbers_out</th>\n",
       "      <th>callFeatures_no_calls_over_zero_secs_out</th>\n",
       "      <th>callFeatures_no_calls_out</th>\n",
       "      <th>predictedIncome</th>\n",
       "    </tr>\n",
       "  </thead>\n",
       "  <tbody>\n",
       "    <tr>\n",
       "      <th>0</th>\n",
       "      <td>-1.731906</td>\n",
       "      <td>-0.552327</td>\n",
       "      <td>-0.542589</td>\n",
       "      <td>0.488975</td>\n",
       "      <td>-0.389585</td>\n",
       "      <td>2.488673</td>\n",
       "      <td>0.0</td>\n",
       "      <td>0.964747</td>\n",
       "      <td>-1.243848</td>\n",
       "      <td>-0.222474</td>\n",
       "      <td>...</td>\n",
       "      <td>0.016726</td>\n",
       "      <td>-0.218086</td>\n",
       "      <td>-0.113863</td>\n",
       "      <td>0.075120</td>\n",
       "      <td>0.792418</td>\n",
       "      <td>0.703710</td>\n",
       "      <td>0.543044</td>\n",
       "      <td>0.004773</td>\n",
       "      <td>-0.006009</td>\n",
       "      <td>2.802797</td>\n",
       "    </tr>\n",
       "    <tr>\n",
       "      <th>1</th>\n",
       "      <td>-1.731618</td>\n",
       "      <td>-0.626734</td>\n",
       "      <td>0.114605</td>\n",
       "      <td>-1.045259</td>\n",
       "      <td>2.823083</td>\n",
       "      <td>0.541326</td>\n",
       "      <td>0.0</td>\n",
       "      <td>0.082888</td>\n",
       "      <td>-1.243848</td>\n",
       "      <td>0.443094</td>\n",
       "      <td>...</td>\n",
       "      <td>1.841329</td>\n",
       "      <td>-0.218086</td>\n",
       "      <td>-0.113863</td>\n",
       "      <td>0.127209</td>\n",
       "      <td>0.709694</td>\n",
       "      <td>0.667245</td>\n",
       "      <td>2.471878</td>\n",
       "      <td>1.408808</td>\n",
       "      <td>1.776958</td>\n",
       "      <td>-0.149962</td>\n",
       "    </tr>\n",
       "    <tr>\n",
       "      <th>2</th>\n",
       "      <td>-1.731329</td>\n",
       "      <td>-0.601932</td>\n",
       "      <td>-0.032910</td>\n",
       "      <td>-0.468779</td>\n",
       "      <td>0.681305</td>\n",
       "      <td>-0.115904</td>\n",
       "      <td>0.0</td>\n",
       "      <td>-0.358041</td>\n",
       "      <td>-0.386424</td>\n",
       "      <td>-0.488701</td>\n",
       "      <td>...</td>\n",
       "      <td>0.386796</td>\n",
       "      <td>-0.218086</td>\n",
       "      <td>-0.113863</td>\n",
       "      <td>0.232974</td>\n",
       "      <td>-2.049741</td>\n",
       "      <td>-2.070640</td>\n",
       "      <td>0.543044</td>\n",
       "      <td>0.507306</td>\n",
       "      <td>0.355615</td>\n",
       "      <td>-0.975365</td>\n",
       "    </tr>\n",
       "    <tr>\n",
       "      <th>3</th>\n",
       "      <td>-1.731040</td>\n",
       "      <td>-0.552327</td>\n",
       "      <td>-0.887051</td>\n",
       "      <td>0.506051</td>\n",
       "      <td>-0.389585</td>\n",
       "      <td>0.054489</td>\n",
       "      <td>0.0</td>\n",
       "      <td>-0.358041</td>\n",
       "      <td>-1.243848</td>\n",
       "      <td>0.842434</td>\n",
       "      <td>...</td>\n",
       "      <td>-0.463560</td>\n",
       "      <td>0.348488</td>\n",
       "      <td>-0.113863</td>\n",
       "      <td>-0.074673</td>\n",
       "      <td>0.147992</td>\n",
       "      <td>0.250177</td>\n",
       "      <td>-0.411114</td>\n",
       "      <td>-0.417965</td>\n",
       "      <td>-0.436028</td>\n",
       "      <td>0.615854</td>\n",
       "    </tr>\n",
       "    <tr>\n",
       "      <th>4</th>\n",
       "      <td>-1.730751</td>\n",
       "      <td>1.655065</td>\n",
       "      <td>0.249922</td>\n",
       "      <td>0.979306</td>\n",
       "      <td>0.681305</td>\n",
       "      <td>-0.432348</td>\n",
       "      <td>0.0</td>\n",
       "      <td>-0.137577</td>\n",
       "      <td>0.471001</td>\n",
       "      <td>-0.222474</td>\n",
       "      <td>...</td>\n",
       "      <td>0.675611</td>\n",
       "      <td>-0.218086</td>\n",
       "      <td>-0.113863</td>\n",
       "      <td>0.015246</td>\n",
       "      <td>0.654783</td>\n",
       "      <td>0.731075</td>\n",
       "      <td>0.286550</td>\n",
       "      <td>0.449582</td>\n",
       "      <td>0.637840</td>\n",
       "      <td>-0.267489</td>\n",
       "    </tr>\n",
       "  </tbody>\n",
       "</table>\n",
       "<p>5 rows × 249 columns</p>\n",
       "</div>"
      ],
      "text/plain": [
       "   Unnamed: 0  createdAt_Month  SystemCustomerID  SystemLoanID  \\\n",
       "0   -1.731906        -0.552327         -0.542589      0.488975   \n",
       "1   -1.731618        -0.626734          0.114605     -1.045259   \n",
       "2   -1.731329        -0.601932         -0.032910     -0.468779   \n",
       "3   -1.731040        -0.552327         -0.887051      0.506051   \n",
       "4   -1.730751         1.655065          0.249922      0.979306   \n",
       "\n",
       "   next_loan_number    Income  __v  demofeatures_net_income_band  \\\n",
       "0         -0.389585  2.488673  0.0                      0.964747   \n",
       "1          2.823083  0.541326  0.0                      0.082888   \n",
       "2          0.681305 -0.115904  0.0                     -0.358041   \n",
       "3         -0.389585  0.054489  0.0                     -0.358041   \n",
       "4          0.681305 -0.432348  0.0                     -0.137577   \n",
       "\n",
       "   demofeatures_appweek  demofeatures_age_at_application_yrs       ...         \\\n",
       "0             -1.243848                            -0.222474       ...          \n",
       "1             -1.243848                             0.443094       ...          \n",
       "2             -0.386424                            -0.488701       ...          \n",
       "3             -1.243848                             0.842434       ...          \n",
       "4              0.471001                            -0.222474       ...          \n",
       "\n",
       "   callFeatures_vol_calls_1_mnth_out  callFeatures_vol_calls_2_mnth_out  \\\n",
       "0                           0.016726                          -0.218086   \n",
       "1                           1.841329                          -0.218086   \n",
       "2                           0.386796                          -0.218086   \n",
       "3                          -0.463560                           0.348488   \n",
       "4                           0.675611                          -0.218086   \n",
       "\n",
       "   callFeatures_vol_calls_3_mnth_out  callFeatures_dur_calls_out  \\\n",
       "0                          -0.113863                    0.075120   \n",
       "1                          -0.113863                    0.127209   \n",
       "2                          -0.113863                    0.232974   \n",
       "3                          -0.113863                   -0.074673   \n",
       "4                          -0.113863                    0.015246   \n",
       "\n",
       "   callFeatures_dur_calls_contacts_out  callFeatures_ratio_contacts_out  \\\n",
       "0                             0.792418                         0.703710   \n",
       "1                             0.709694                         0.667245   \n",
       "2                            -2.049741                        -2.070640   \n",
       "3                             0.147992                         0.250177   \n",
       "4                             0.654783                         0.731075   \n",
       "\n",
       "   callFeatures_no_distinct_call_numbers_out  \\\n",
       "0                                   0.543044   \n",
       "1                                   2.471878   \n",
       "2                                   0.543044   \n",
       "3                                  -0.411114   \n",
       "4                                   0.286550   \n",
       "\n",
       "   callFeatures_no_calls_over_zero_secs_out  callFeatures_no_calls_out  \\\n",
       "0                                  0.004773                  -0.006009   \n",
       "1                                  1.408808                   1.776958   \n",
       "2                                  0.507306                   0.355615   \n",
       "3                                 -0.417965                  -0.436028   \n",
       "4                                  0.449582                   0.637840   \n",
       "\n",
       "   predictedIncome  \n",
       "0         2.802797  \n",
       "1        -0.149962  \n",
       "2        -0.975365  \n",
       "3         0.615854  \n",
       "4        -0.267489  \n",
       "\n",
       "[5 rows x 249 columns]"
      ]
     },
     "execution_count": 42,
     "metadata": {},
     "output_type": "execute_result"
    }
   ],
   "source": [
    "to_frame.head()"
   ]
  },
  {
   "cell_type": "code",
   "execution_count": 43,
   "metadata": {
    "collapsed": true
   },
   "outputs": [],
   "source": [
    "# create pca\n",
    "pca = PCA(n_components=5)"
   ]
  },
  {
   "cell_type": "code",
   "execution_count": 44,
   "metadata": {
    "collapsed": true
   },
   "outputs": [],
   "source": [
    "# fit the data to the model\n",
    "principalComponents = pca.fit_transform(to_frame)"
   ]
  },
  {
   "cell_type": "code",
   "execution_count": 45,
   "metadata": {
    "collapsed": true
   },
   "outputs": [],
   "source": [
    "# create dataframe containing principal components\n",
    "cols = ['principal_component_1','principal_component_2','principal_component_3',\n",
    "        'principal_component_4','principal_component_5']\n",
    "principalDf = pd.DataFrame(data = principalComponents, columns =cols)"
   ]
  },
  {
   "cell_type": "code",
   "execution_count": 46,
   "metadata": {},
   "outputs": [
    {
     "data": {
      "text/html": [
       "<div>\n",
       "<style>\n",
       "    .dataframe thead tr:only-child th {\n",
       "        text-align: right;\n",
       "    }\n",
       "\n",
       "    .dataframe thead th {\n",
       "        text-align: left;\n",
       "    }\n",
       "\n",
       "    .dataframe tbody tr th {\n",
       "        vertical-align: top;\n",
       "    }\n",
       "</style>\n",
       "<table border=\"1\" class=\"dataframe\">\n",
       "  <thead>\n",
       "    <tr style=\"text-align: right;\">\n",
       "      <th></th>\n",
       "      <th>principal_component_1</th>\n",
       "      <th>principal_component_2</th>\n",
       "      <th>principal_component_3</th>\n",
       "      <th>principal_component_4</th>\n",
       "      <th>principal_component_5</th>\n",
       "    </tr>\n",
       "  </thead>\n",
       "  <tbody>\n",
       "    <tr>\n",
       "      <th>0</th>\n",
       "      <td>4.279458</td>\n",
       "      <td>-2.271278</td>\n",
       "      <td>0.755091</td>\n",
       "      <td>-1.591121</td>\n",
       "      <td>4.251057</td>\n",
       "    </tr>\n",
       "    <tr>\n",
       "      <th>1</th>\n",
       "      <td>13.517623</td>\n",
       "      <td>-3.686487</td>\n",
       "      <td>-2.144075</td>\n",
       "      <td>-0.885828</td>\n",
       "      <td>-0.208720</td>\n",
       "    </tr>\n",
       "    <tr>\n",
       "      <th>2</th>\n",
       "      <td>5.958359</td>\n",
       "      <td>-2.369066</td>\n",
       "      <td>0.090197</td>\n",
       "      <td>0.489621</td>\n",
       "      <td>0.275134</td>\n",
       "    </tr>\n",
       "    <tr>\n",
       "      <th>3</th>\n",
       "      <td>-1.822008</td>\n",
       "      <td>1.369439</td>\n",
       "      <td>-0.224597</td>\n",
       "      <td>3.310825</td>\n",
       "      <td>0.321025</td>\n",
       "    </tr>\n",
       "    <tr>\n",
       "      <th>4</th>\n",
       "      <td>2.691006</td>\n",
       "      <td>1.781517</td>\n",
       "      <td>0.573303</td>\n",
       "      <td>-2.890716</td>\n",
       "      <td>-0.830642</td>\n",
       "    </tr>\n",
       "  </tbody>\n",
       "</table>\n",
       "</div>"
      ],
      "text/plain": [
       "   principal_component_1  principal_component_2  principal_component_3  \\\n",
       "0               4.279458              -2.271278               0.755091   \n",
       "1              13.517623              -3.686487              -2.144075   \n",
       "2               5.958359              -2.369066               0.090197   \n",
       "3              -1.822008               1.369439              -0.224597   \n",
       "4               2.691006               1.781517               0.573303   \n",
       "\n",
       "   principal_component_4  principal_component_5  \n",
       "0              -1.591121               4.251057  \n",
       "1              -0.885828              -0.208720  \n",
       "2               0.489621               0.275134  \n",
       "3               3.310825               0.321025  \n",
       "4              -2.890716              -0.830642  "
      ]
     },
     "execution_count": 46,
     "metadata": {},
     "output_type": "execute_result"
    }
   ],
   "source": [
    "# display principal components\n",
    "principalDf.head()"
   ]
  },
  {
   "cell_type": "code",
   "execution_count": 47,
   "metadata": {},
   "outputs": [
    {
     "data": {
      "text/plain": [
       "array([ 0.35007622,  0.09273704,  0.03771213,  0.03327798,  0.02723906])"
      ]
     },
     "execution_count": 47,
     "metadata": {},
     "output_type": "execute_result"
    }
   ],
   "source": [
    "pca.explained_variance_ratio_"
   ]
  },
  {
   "cell_type": "code",
   "execution_count": 48,
   "metadata": {},
   "outputs": [
    {
     "data": {
      "text/plain": [
       "0.54104242354180121"
      ]
     },
     "execution_count": 48,
     "metadata": {},
     "output_type": "execute_result"
    }
   ],
   "source": [
    "pca.explained_variance_ratio_.sum()"
   ]
  },
  {
   "cell_type": "code",
   "execution_count": 49,
   "metadata": {
    "collapsed": true
   },
   "outputs": [],
   "source": [
    "# import Kmeans module\n",
    "from sklearn.cluster import KMeans"
   ]
  },
  {
   "cell_type": "code",
   "execution_count": 50,
   "metadata": {
    "collapsed": true
   },
   "outputs": [],
   "source": [
    "# declare a Kmeans instance with 3 classes\n",
    "model = KMeans(n_clusters=3)"
   ]
  },
  {
   "cell_type": "code",
   "execution_count": 51,
   "metadata": {},
   "outputs": [
    {
     "data": {
      "text/plain": [
       "KMeans(algorithm='auto', copy_x=True, init='k-means++', max_iter=300,\n",
       "    n_clusters=3, n_init=10, n_jobs=1, precompute_distances='auto',\n",
       "    random_state=None, tol=0.0001, verbose=0)"
      ]
     },
     "execution_count": 51,
     "metadata": {},
     "output_type": "execute_result"
    }
   ],
   "source": [
    "# fit data \n",
    "model.fit(principalComponents)"
   ]
  },
  {
   "cell_type": "code",
   "execution_count": 52,
   "metadata": {},
   "outputs": [
    {
     "data": {
      "text/plain": [
       "array([0, 1, 2])"
      ]
     },
     "execution_count": 52,
     "metadata": {},
     "output_type": "execute_result"
    }
   ],
   "source": [
    "np.unique(model.labels_)"
   ]
  },
  {
   "cell_type": "code",
   "execution_count": 53,
   "metadata": {},
   "outputs": [
    {
     "data": {
      "text/plain": [
       "-1.822007504098605"
      ]
     },
     "execution_count": 53,
     "metadata": {},
     "output_type": "execute_result"
    }
   ],
   "source": [
    "principalComponents[3, 0]"
   ]
  },
  {
   "cell_type": "code",
   "execution_count": null,
   "metadata": {},
   "outputs": [],
   "source": [
    "# plot based on cluster\n",
    "def show_plot(num_1, num_2):\n",
    "    for i in range(len(model.labels_)):\n",
    "        if model.labels_[i] == 0:\n",
    "            c1 = plt.scatter(principalComponents[i, num_1], principalComponents[i, num_2], c='r', marker='+')\n",
    "        elif model.labels_[i] == 1:\n",
    "            c2 = plt.scatter(principalComponents[i, num_1], principalComponents[i, num_2], c='g', marker='o')\n",
    "        elif model.labels_[i] == 2:\n",
    "            c3 = plt.scatter(principalComponents[i, num_1], principalComponents[i, num_2], c='b', marker='*')\n",
    "\n",
    "    plt.legend([c1, c2, c3], ['Cluster 1', 'Cluster 2', 'Cluster3'])\n",
    "    plt.title('There are 3 cluster in our data but we can only plot in 2 dimensions')\n",
    "    savefig_name = 'plot of col', str(num_1), 'against col ', str(num_2)\n",
    "    plt.show()\n",
    "    \n",
    "show_plot(0,1)\n",
    "    "
   ]
  },
  {
   "cell_type": "code",
   "execution_count": null,
   "metadata": {},
   "outputs": [],
   "source": [
    "show_plot(0,2)"
   ]
  },
  {
   "cell_type": "code",
   "execution_count": null,
   "metadata": {},
   "outputs": [],
   "source": [
    "show_plot(0,3)"
   ]
  },
  {
   "cell_type": "code",
   "execution_count": null,
   "metadata": {},
   "outputs": [],
   "source": [
    "show_plot(0,4)"
   ]
  },
  {
   "cell_type": "code",
   "execution_count": null,
   "metadata": {},
   "outputs": [],
   "source": [
    "show_plot(0,4)"
   ]
  },
  {
   "cell_type": "code",
   "execution_count": null,
   "metadata": {},
   "outputs": [],
   "source": [
    "show_plot(1,2)"
   ]
  },
  {
   "cell_type": "code",
   "execution_count": null,
   "metadata": {},
   "outputs": [],
   "source": [
    "show_plot(1,3)"
   ]
  },
  {
   "cell_type": "code",
   "execution_count": null,
   "metadata": {},
   "outputs": [],
   "source": [
    "show_plot(1,4)"
   ]
  },
  {
   "cell_type": "code",
   "execution_count": null,
   "metadata": {},
   "outputs": [],
   "source": [
    "show_plot(2,3)"
   ]
  },
  {
   "cell_type": "code",
   "execution_count": null,
   "metadata": {},
   "outputs": [],
   "source": [
    "show_plot(2,4)"
   ]
  },
  {
   "cell_type": "code",
   "execution_count": null,
   "metadata": {},
   "outputs": [],
   "source": [
    "show_plot(3,4)"
   ]
  },
  {
   "cell_type": "code",
   "execution_count": null,
   "metadata": {},
   "outputs": [],
   "source": [
    "target = model.labels_\n",
    "target.shape"
   ]
  },
  {
   "cell_type": "code",
   "execution_count": null,
   "metadata": {
    "collapsed": true
   },
   "outputs": [],
   "source": [
    "to_frame['target'] = target"
   ]
  },
  {
   "cell_type": "code",
   "execution_count": null,
   "metadata": {},
   "outputs": [],
   "source": [
    "to_frame.groupby('target', axis = 0).mean()"
   ]
  },
  {
   "cell_type": "code",
   "execution_count": null,
   "metadata": {
    "collapsed": true
   },
   "outputs": [],
   "source": []
  }
 ],
 "metadata": {
  "kernelspec": {
   "display_name": "Python 3",
   "language": "python",
   "name": "python3"
  },
  "language_info": {
   "codemirror_mode": {
    "name": "ipython",
    "version": 3
   },
   "file_extension": ".py",
   "mimetype": "text/x-python",
   "name": "python",
   "nbconvert_exporter": "python",
   "pygments_lexer": "ipython3",
   "version": "3.6.1"
  }
 },
 "nbformat": 4,
 "nbformat_minor": 2
}
