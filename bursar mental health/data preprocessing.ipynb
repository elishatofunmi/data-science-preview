{
 "cells": [
  {
   "cell_type": "code",
   "execution_count": 42,
   "metadata": {},
   "outputs": [
    {
     "data": {
      "text/plain": [
       "['train.csv',\n",
       " 'Variable_explanations.csv',\n",
       " '.ipynb_checkpoints',\n",
       " 'sample_submission.csv',\n",
       " 'data preprocessing.ipynb',\n",
       " 'explain_data.txt',\n",
       " '__pycache__',\n",
       " 'apply_my_module.py',\n",
       " 'test.csv']"
      ]
     },
     "execution_count": 42,
     "metadata": {},
     "output_type": "execute_result"
    }
   ],
   "source": [
    "import os, sys\n",
    "os.listdir()"
   ]
  },
  {
   "cell_type": "code",
   "execution_count": 43,
   "metadata": {
    "collapsed": true
   },
   "outputs": [],
   "source": [
    "import pandas as pd\n",
    "read_data = pd.read_csv('train.csv')"
   ]
  },
  {
   "cell_type": "code",
   "execution_count": 44,
   "metadata": {},
   "outputs": [
    {
     "data": {
      "text/html": [
       "<div>\n",
       "<style>\n",
       "    .dataframe thead tr:only-child th {\n",
       "        text-align: right;\n",
       "    }\n",
       "\n",
       "    .dataframe thead th {\n",
       "        text-align: left;\n",
       "    }\n",
       "\n",
       "    .dataframe tbody tr th {\n",
       "        vertical-align: top;\n",
       "    }\n",
       "</style>\n",
       "<table border=\"1\" class=\"dataframe\">\n",
       "  <thead>\n",
       "    <tr style=\"text-align: right;\">\n",
       "      <th></th>\n",
       "      <th>surveyid</th>\n",
       "      <th>village</th>\n",
       "      <th>survey_date</th>\n",
       "      <th>femaleres</th>\n",
       "      <th>age</th>\n",
       "      <th>married</th>\n",
       "      <th>children</th>\n",
       "      <th>hhsize</th>\n",
       "      <th>edu</th>\n",
       "      <th>hh_children</th>\n",
       "      <th>...</th>\n",
       "      <th>given_mpesa</th>\n",
       "      <th>amount_given_mpesa</th>\n",
       "      <th>received_mpesa</th>\n",
       "      <th>amount_received_mpesa</th>\n",
       "      <th>net_mpesa</th>\n",
       "      <th>saved_mpesa</th>\n",
       "      <th>amount_saved_mpesa</th>\n",
       "      <th>early_survey</th>\n",
       "      <th>depressed</th>\n",
       "      <th>day_of_week</th>\n",
       "    </tr>\n",
       "  </thead>\n",
       "  <tbody>\n",
       "    <tr>\n",
       "      <th>0</th>\n",
       "      <td>926</td>\n",
       "      <td>91</td>\n",
       "      <td>23-Nov-61</td>\n",
       "      <td>1</td>\n",
       "      <td>28.0</td>\n",
       "      <td>1</td>\n",
       "      <td>4</td>\n",
       "      <td>6</td>\n",
       "      <td>10</td>\n",
       "      <td>0</td>\n",
       "      <td>...</td>\n",
       "      <td>0</td>\n",
       "      <td>0.0</td>\n",
       "      <td>0</td>\n",
       "      <td>0.000000</td>\n",
       "      <td>0.000000</td>\n",
       "      <td>1</td>\n",
       "      <td>0.000000</td>\n",
       "      <td>0</td>\n",
       "      <td>0</td>\n",
       "      <td>5</td>\n",
       "    </tr>\n",
       "    <tr>\n",
       "      <th>1</th>\n",
       "      <td>747</td>\n",
       "      <td>57</td>\n",
       "      <td>24-Oct-61</td>\n",
       "      <td>1</td>\n",
       "      <td>23.0</td>\n",
       "      <td>1</td>\n",
       "      <td>3</td>\n",
       "      <td>5</td>\n",
       "      <td>8</td>\n",
       "      <td>0</td>\n",
       "      <td>...</td>\n",
       "      <td>0</td>\n",
       "      <td>0.0</td>\n",
       "      <td>1</td>\n",
       "      <td>4.804611</td>\n",
       "      <td>4.804611</td>\n",
       "      <td>0</td>\n",
       "      <td>0.000000</td>\n",
       "      <td>0</td>\n",
       "      <td>1</td>\n",
       "      <td>3</td>\n",
       "    </tr>\n",
       "    <tr>\n",
       "      <th>2</th>\n",
       "      <td>1190</td>\n",
       "      <td>115</td>\n",
       "      <td>05-Oct-61</td>\n",
       "      <td>1</td>\n",
       "      <td>22.0</td>\n",
       "      <td>1</td>\n",
       "      <td>3</td>\n",
       "      <td>5</td>\n",
       "      <td>9</td>\n",
       "      <td>0</td>\n",
       "      <td>...</td>\n",
       "      <td>0</td>\n",
       "      <td>0.0</td>\n",
       "      <td>0</td>\n",
       "      <td>8.007685</td>\n",
       "      <td>8.007685</td>\n",
       "      <td>1</td>\n",
       "      <td>0.000000</td>\n",
       "      <td>0</td>\n",
       "      <td>0</td>\n",
       "      <td>5</td>\n",
       "    </tr>\n",
       "    <tr>\n",
       "      <th>3</th>\n",
       "      <td>1065</td>\n",
       "      <td>97</td>\n",
       "      <td>23-Sep-61</td>\n",
       "      <td>1</td>\n",
       "      <td>27.0</td>\n",
       "      <td>1</td>\n",
       "      <td>2</td>\n",
       "      <td>4</td>\n",
       "      <td>10</td>\n",
       "      <td>2</td>\n",
       "      <td>...</td>\n",
       "      <td>0</td>\n",
       "      <td>0.0</td>\n",
       "      <td>0</td>\n",
       "      <td>0.000000</td>\n",
       "      <td>0.000000</td>\n",
       "      <td>1</td>\n",
       "      <td>1.249199</td>\n",
       "      <td>0</td>\n",
       "      <td>0</td>\n",
       "      <td>0</td>\n",
       "    </tr>\n",
       "    <tr>\n",
       "      <th>4</th>\n",
       "      <td>806</td>\n",
       "      <td>42</td>\n",
       "      <td>12-Sep-61</td>\n",
       "      <td>0</td>\n",
       "      <td>59.0</td>\n",
       "      <td>0</td>\n",
       "      <td>4</td>\n",
       "      <td>6</td>\n",
       "      <td>10</td>\n",
       "      <td>4</td>\n",
       "      <td>...</td>\n",
       "      <td>0</td>\n",
       "      <td>0.0</td>\n",
       "      <td>0</td>\n",
       "      <td>0.000000</td>\n",
       "      <td>0.000000</td>\n",
       "      <td>0</td>\n",
       "      <td>0.000000</td>\n",
       "      <td>0</td>\n",
       "      <td>0</td>\n",
       "      <td>3</td>\n",
       "    </tr>\n",
       "  </tbody>\n",
       "</table>\n",
       "<p>5 rows × 75 columns</p>\n",
       "</div>"
      ],
      "text/plain": [
       "   surveyid  village survey_date  femaleres   age  married  children  hhsize  \\\n",
       "0       926       91   23-Nov-61          1  28.0        1         4       6   \n",
       "1       747       57   24-Oct-61          1  23.0        1         3       5   \n",
       "2      1190      115   05-Oct-61          1  22.0        1         3       5   \n",
       "3      1065       97   23-Sep-61          1  27.0        1         2       4   \n",
       "4       806       42   12-Sep-61          0  59.0        0         4       6   \n",
       "\n",
       "   edu  hh_children     ...       given_mpesa  amount_given_mpesa  \\\n",
       "0   10            0     ...                 0                 0.0   \n",
       "1    8            0     ...                 0                 0.0   \n",
       "2    9            0     ...                 0                 0.0   \n",
       "3   10            2     ...                 0                 0.0   \n",
       "4   10            4     ...                 0                 0.0   \n",
       "\n",
       "   received_mpesa  amount_received_mpesa  net_mpesa  saved_mpesa  \\\n",
       "0               0               0.000000   0.000000            1   \n",
       "1               1               4.804611   4.804611            0   \n",
       "2               0               8.007685   8.007685            1   \n",
       "3               0               0.000000   0.000000            1   \n",
       "4               0               0.000000   0.000000            0   \n",
       "\n",
       "   amount_saved_mpesa  early_survey  depressed  day_of_week  \n",
       "0            0.000000             0          0            5  \n",
       "1            0.000000             0          1            3  \n",
       "2            0.000000             0          0            5  \n",
       "3            1.249199             0          0            0  \n",
       "4            0.000000             0          0            3  \n",
       "\n",
       "[5 rows x 75 columns]"
      ]
     },
     "execution_count": 44,
     "metadata": {},
     "output_type": "execute_result"
    }
   ],
   "source": [
    "read_data.head()"
   ]
  },
  {
   "cell_type": "code",
   "execution_count": 45,
   "metadata": {
    "scrolled": true
   },
   "outputs": [
    {
     "name": "stdout",
     "output_type": "stream",
     "text": [
      "<class 'pandas.core.frame.DataFrame'>\n",
      "RangeIndex: 1143 entries, 0 to 1142\n",
      "Data columns (total 75 columns):\n",
      "surveyid                   1143 non-null int64\n",
      "village                    1143 non-null int64\n",
      "survey_date                1143 non-null object\n",
      "femaleres                  1143 non-null int64\n",
      "age                        1143 non-null float64\n",
      "married                    1143 non-null int64\n",
      "children                   1143 non-null int64\n",
      "hhsize                     1143 non-null int64\n",
      "edu                        1143 non-null int64\n",
      "hh_children                1143 non-null int64\n",
      "hh_totalmembers            809 non-null float64\n",
      "cons_nondurable            1143 non-null float64\n",
      "asset_livestock            1143 non-null float64\n",
      "asset_durable              1143 non-null float64\n",
      "asset_phone                1143 non-null float64\n",
      "asset_savings              1143 non-null float64\n",
      "asset_land_owned_total     1143 non-null float64\n",
      "asset_niceroof             1143 non-null int64\n",
      "cons_allfood               1143 non-null float64\n",
      "cons_ownfood               1143 non-null float64\n",
      "cons_alcohol               1100 non-null float64\n",
      "cons_tobacco               1123 non-null float64\n",
      "cons_med_total             1143 non-null float64\n",
      "cons_med_children          724 non-null float64\n",
      "cons_ed                    1143 non-null float64\n",
      "cons_social                1143 non-null float64\n",
      "cons_other                 1143 non-null float64\n",
      "ent_wagelabor              1143 non-null int64\n",
      "ent_ownfarm                1143 non-null int64\n",
      "ent_business               1143 non-null int64\n",
      "ent_nonagbusiness          1143 non-null int64\n",
      "ent_employees              1143 non-null int64\n",
      "ent_nonag_revenue          1143 non-null float64\n",
      "ent_nonag_flowcost         1143 non-null float64\n",
      "ent_farmrevenue            1143 non-null float64\n",
      "ent_farmexpenses           1143 non-null float64\n",
      "ent_animalstockrev         1143 non-null float64\n",
      "ent_total_cost             1143 non-null float64\n",
      "fs_adskipm_often           1143 non-null float64\n",
      "fs_adwholed_often          1143 non-null float64\n",
      "fs_chskipm_often           727 non-null float64\n",
      "fs_chwholed_often          727 non-null float64\n",
      "fs_meat                    809 non-null float64\n",
      "fs_enoughtom               809 non-null float64\n",
      "fs_sleephun                809 non-null float64\n",
      "med_expenses_hh_ep         450 non-null float64\n",
      "med_expenses_sp_ep         265 non-null float64\n",
      "med_expenses_child_ep      543 non-null float64\n",
      "med_portion_sickinjured    809 non-null float64\n",
      "med_port_sick_child        727 non-null float64\n",
      "med_afford_port            720 non-null float64\n",
      "med_sickdays_hhave         809 non-null float64\n",
      "med_healthconsult          720 non-null float64\n",
      "med_vacc_newborns          1143 non-null int64\n",
      "med_child_check            1143 non-null int64\n",
      "med_u5_deaths              59 non-null float64\n",
      "ed_expenses                680 non-null float64\n",
      "ed_expenses_perkid         680 non-null float64\n",
      "ed_schoolattend            680 non-null float64\n",
      "ed_sch_missedpc            676 non-null float64\n",
      "ed_work_act_pc             572 non-null float64\n",
      "labor_primary              1143 non-null int64\n",
      "wage_expenditures          1143 non-null int64\n",
      "durable_investment         1143 non-null float64\n",
      "nondurable_investment      1143 non-null float64\n",
      "given_mpesa                1143 non-null int64\n",
      "amount_given_mpesa         1143 non-null float64\n",
      "received_mpesa             1143 non-null int64\n",
      "amount_received_mpesa      1143 non-null float64\n",
      "net_mpesa                  1143 non-null float64\n",
      "saved_mpesa                1143 non-null int64\n",
      "amount_saved_mpesa         1143 non-null float64\n",
      "early_survey               1143 non-null int64\n",
      "depressed                  1143 non-null int64\n",
      "day_of_week                1143 non-null int64\n",
      "dtypes: float64(50), int64(24), object(1)\n",
      "memory usage: 669.8+ KB\n"
     ]
    }
   ],
   "source": [
    "read_data.info()"
   ]
  },
  {
   "cell_type": "code",
   "execution_count": 46,
   "metadata": {},
   "outputs": [
    {
     "data": {
      "text/plain": [
       "0"
      ]
     },
     "execution_count": 46,
     "metadata": {},
     "output_type": "execute_result"
    }
   ],
   "source": [
    "sum(read_data['surveyid'].isnull())"
   ]
  },
  {
   "cell_type": "code",
   "execution_count": 47,
   "metadata": {
    "collapsed": true
   },
   "outputs": [],
   "source": [
    "weak_data = []\n",
    "for data in read_data.keys():\n",
    "    if sum(read_data[data].isnull()) == 0:\n",
    "        pass\n",
    "    else:\n",
    "        weak_data.append(data)\n",
    "        read_data = read_data.drop(data, axis = 1)"
   ]
  },
  {
   "cell_type": "code",
   "execution_count": 48,
   "metadata": {},
   "outputs": [
    {
     "data": {
      "text/plain": [
       "(1143, 52)"
      ]
     },
     "execution_count": 48,
     "metadata": {},
     "output_type": "execute_result"
    }
   ],
   "source": [
    "read_data.shape"
   ]
  },
  {
   "cell_type": "code",
   "execution_count": 8,
   "metadata": {},
   "outputs": [
    {
     "name": "stdout",
     "output_type": "stream",
     "text": [
      "<class 'pandas.core.frame.DataFrame'>\n",
      "RangeIndex: 1143 entries, 0 to 1142\n",
      "Data columns (total 52 columns):\n",
      "surveyid                  1143 non-null int64\n",
      "village                   1143 non-null int64\n",
      "survey_date               1143 non-null object\n",
      "femaleres                 1143 non-null int64\n",
      "age                       1143 non-null float64\n",
      "married                   1143 non-null int64\n",
      "children                  1143 non-null int64\n",
      "hhsize                    1143 non-null int64\n",
      "edu                       1143 non-null int64\n",
      "hh_children               1143 non-null int64\n",
      "cons_nondurable           1143 non-null float64\n",
      "asset_livestock           1143 non-null float64\n",
      "asset_durable             1143 non-null float64\n",
      "asset_phone               1143 non-null float64\n",
      "asset_savings             1143 non-null float64\n",
      "asset_land_owned_total    1143 non-null float64\n",
      "asset_niceroof            1143 non-null int64\n",
      "cons_allfood              1143 non-null float64\n",
      "cons_ownfood              1143 non-null float64\n",
      "cons_med_total            1143 non-null float64\n",
      "cons_ed                   1143 non-null float64\n",
      "cons_social               1143 non-null float64\n",
      "cons_other                1143 non-null float64\n",
      "ent_wagelabor             1143 non-null int64\n",
      "ent_ownfarm               1143 non-null int64\n",
      "ent_business              1143 non-null int64\n",
      "ent_nonagbusiness         1143 non-null int64\n",
      "ent_employees             1143 non-null int64\n",
      "ent_nonag_revenue         1143 non-null float64\n",
      "ent_nonag_flowcost        1143 non-null float64\n",
      "ent_farmrevenue           1143 non-null float64\n",
      "ent_farmexpenses          1143 non-null float64\n",
      "ent_animalstockrev        1143 non-null float64\n",
      "ent_total_cost            1143 non-null float64\n",
      "fs_adskipm_often          1143 non-null float64\n",
      "fs_adwholed_often         1143 non-null float64\n",
      "med_vacc_newborns         1143 non-null int64\n",
      "med_child_check           1143 non-null int64\n",
      "labor_primary             1143 non-null int64\n",
      "wage_expenditures         1143 non-null int64\n",
      "durable_investment        1143 non-null float64\n",
      "nondurable_investment     1143 non-null float64\n",
      "given_mpesa               1143 non-null int64\n",
      "amount_given_mpesa        1143 non-null float64\n",
      "received_mpesa            1143 non-null int64\n",
      "amount_received_mpesa     1143 non-null float64\n",
      "net_mpesa                 1143 non-null float64\n",
      "saved_mpesa               1143 non-null int64\n",
      "amount_saved_mpesa        1143 non-null float64\n",
      "early_survey              1143 non-null int64\n",
      "depressed                 1143 non-null int64\n",
      "day_of_week               1143 non-null int64\n",
      "dtypes: float64(27), int64(24), object(1)\n",
      "memory usage: 464.4+ KB\n"
     ]
    }
   ],
   "source": [
    "read_data.info()"
   ]
  },
  {
   "cell_type": "code",
   "execution_count": 9,
   "metadata": {
    "scrolled": true
   },
   "outputs": [
    {
     "name": "stdout",
     "output_type": "stream",
     "text": [
      "['surveyid', 'village', 'survey_date', 'femaleres', 'age', 'married', 'children', 'hhsize', 'edu', 'hh_children', 'cons_nondurable', 'asset_livestock', 'asset_durable', 'asset_phone', 'asset_savings', 'asset_land_owned_total', 'asset_niceroof', 'cons_allfood', 'cons_ownfood', 'cons_med_total', 'cons_ed', 'cons_social', 'cons_other', 'ent_wagelabor', 'ent_ownfarm', 'ent_business', 'ent_nonagbusiness', 'ent_employees', 'ent_nonag_revenue', 'ent_nonag_flowcost', 'ent_farmrevenue', 'ent_farmexpenses', 'ent_animalstockrev', 'ent_total_cost', 'fs_adskipm_often', 'fs_adwholed_often', 'med_vacc_newborns', 'med_child_check', 'labor_primary', 'wage_expenditures', 'durable_investment', 'nondurable_investment', 'given_mpesa', 'amount_given_mpesa', 'received_mpesa', 'amount_received_mpesa', 'net_mpesa', 'saved_mpesa', 'amount_saved_mpesa', 'early_survey', 'depressed', 'day_of_week']\n"
     ]
    }
   ],
   "source": [
    "from apply_my_module import apply_module\n",
    "categorical_data = []\n",
    "none_categorical_data = []\n",
    "for key in read_data.columns:\n",
    "    if apply_module.check_if_categorical(read_data[key])  == True:\n",
    "        categorical_data.append(key)\n",
    "    else:\n",
    "        none_categorical_data.append(key)\n",
    "print(categorical_data)"
   ]
  },
  {
   "cell_type": "code",
   "execution_count": 16,
   "metadata": {},
   "outputs": [
    {
     "name": "stdout",
     "output_type": "stream",
     "text": [
      "survey_date False\n",
      "(1143, 52)\n"
     ]
    }
   ],
   "source": [
    "# print the none float columns for encoding\n",
    "from importlib import reload\n",
    "import apply_my_module\n",
    "from apply_my_module import apply_module\n",
    "reload(apply_my_module)\n",
    "for key in read_data.columns:\n",
    "    value = apply_module.check_if_float_or_int(read_data[key])\n",
    "    if value == True:\n",
    "        pass\n",
    "    else:\n",
    "        print(key, value)\n",
    "print(read_data.shape)"
   ]
  },
  {
   "cell_type": "code",
   "execution_count": 23,
   "metadata": {},
   "outputs": [
    {
     "data": {
      "text/plain": [
       "(False, 180)"
      ]
     },
     "execution_count": 23,
     "metadata": {},
     "output_type": "execute_result"
    }
   ],
   "source": [
    "# check if categorical or ordinal\n",
    "from importlib import reload\n",
    "import apply_my_module\n",
    "from apply_my_module import apply_module\n",
    "reload(apply_my_module)\n",
    "\n",
    "apply_module._is_cat_ordinal(read_data['survey_date'])\n"
   ]
  },
  {
   "cell_type": "code",
   "execution_count": 24,
   "metadata": {
    "collapsed": true
   },
   "outputs": [],
   "source": [
    "read_data = read_data.drop('survey_date', axis = 1)"
   ]
  },
  {
   "cell_type": "code",
   "execution_count": 25,
   "metadata": {},
   "outputs": [
    {
     "data": {
      "text/html": [
       "<div>\n",
       "<style>\n",
       "    .dataframe thead tr:only-child th {\n",
       "        text-align: right;\n",
       "    }\n",
       "\n",
       "    .dataframe thead th {\n",
       "        text-align: left;\n",
       "    }\n",
       "\n",
       "    .dataframe tbody tr th {\n",
       "        vertical-align: top;\n",
       "    }\n",
       "</style>\n",
       "<table border=\"1\" class=\"dataframe\">\n",
       "  <thead>\n",
       "    <tr style=\"text-align: right;\">\n",
       "      <th></th>\n",
       "      <th>surveyid</th>\n",
       "      <th>village</th>\n",
       "      <th>femaleres</th>\n",
       "      <th>age</th>\n",
       "      <th>married</th>\n",
       "      <th>children</th>\n",
       "      <th>hhsize</th>\n",
       "      <th>edu</th>\n",
       "      <th>hh_children</th>\n",
       "      <th>cons_nondurable</th>\n",
       "      <th>...</th>\n",
       "      <th>given_mpesa</th>\n",
       "      <th>amount_given_mpesa</th>\n",
       "      <th>received_mpesa</th>\n",
       "      <th>amount_received_mpesa</th>\n",
       "      <th>net_mpesa</th>\n",
       "      <th>saved_mpesa</th>\n",
       "      <th>amount_saved_mpesa</th>\n",
       "      <th>early_survey</th>\n",
       "      <th>depressed</th>\n",
       "      <th>day_of_week</th>\n",
       "    </tr>\n",
       "  </thead>\n",
       "  <tbody>\n",
       "    <tr>\n",
       "      <th>0</th>\n",
       "      <td>926</td>\n",
       "      <td>91</td>\n",
       "      <td>1</td>\n",
       "      <td>28.0</td>\n",
       "      <td>1</td>\n",
       "      <td>4</td>\n",
       "      <td>6</td>\n",
       "      <td>10</td>\n",
       "      <td>0</td>\n",
       "      <td>0.00000</td>\n",
       "      <td>...</td>\n",
       "      <td>0</td>\n",
       "      <td>0.0</td>\n",
       "      <td>0</td>\n",
       "      <td>0.000000</td>\n",
       "      <td>0.000000</td>\n",
       "      <td>1</td>\n",
       "      <td>0.000000</td>\n",
       "      <td>0</td>\n",
       "      <td>0</td>\n",
       "      <td>5</td>\n",
       "    </tr>\n",
       "    <tr>\n",
       "      <th>1</th>\n",
       "      <td>747</td>\n",
       "      <td>57</td>\n",
       "      <td>1</td>\n",
       "      <td>23.0</td>\n",
       "      <td>1</td>\n",
       "      <td>3</td>\n",
       "      <td>5</td>\n",
       "      <td>8</td>\n",
       "      <td>0</td>\n",
       "      <td>0.00000</td>\n",
       "      <td>...</td>\n",
       "      <td>0</td>\n",
       "      <td>0.0</td>\n",
       "      <td>1</td>\n",
       "      <td>4.804611</td>\n",
       "      <td>4.804611</td>\n",
       "      <td>0</td>\n",
       "      <td>0.000000</td>\n",
       "      <td>0</td>\n",
       "      <td>1</td>\n",
       "      <td>3</td>\n",
       "    </tr>\n",
       "    <tr>\n",
       "      <th>2</th>\n",
       "      <td>1190</td>\n",
       "      <td>115</td>\n",
       "      <td>1</td>\n",
       "      <td>22.0</td>\n",
       "      <td>1</td>\n",
       "      <td>3</td>\n",
       "      <td>5</td>\n",
       "      <td>9</td>\n",
       "      <td>0</td>\n",
       "      <td>0.00000</td>\n",
       "      <td>...</td>\n",
       "      <td>0</td>\n",
       "      <td>0.0</td>\n",
       "      <td>0</td>\n",
       "      <td>8.007685</td>\n",
       "      <td>8.007685</td>\n",
       "      <td>1</td>\n",
       "      <td>0.000000</td>\n",
       "      <td>0</td>\n",
       "      <td>0</td>\n",
       "      <td>5</td>\n",
       "    </tr>\n",
       "    <tr>\n",
       "      <th>3</th>\n",
       "      <td>1065</td>\n",
       "      <td>97</td>\n",
       "      <td>1</td>\n",
       "      <td>27.0</td>\n",
       "      <td>1</td>\n",
       "      <td>2</td>\n",
       "      <td>4</td>\n",
       "      <td>10</td>\n",
       "      <td>2</td>\n",
       "      <td>378.83292</td>\n",
       "      <td>...</td>\n",
       "      <td>0</td>\n",
       "      <td>0.0</td>\n",
       "      <td>0</td>\n",
       "      <td>0.000000</td>\n",
       "      <td>0.000000</td>\n",
       "      <td>1</td>\n",
       "      <td>1.249199</td>\n",
       "      <td>0</td>\n",
       "      <td>0</td>\n",
       "      <td>0</td>\n",
       "    </tr>\n",
       "    <tr>\n",
       "      <th>4</th>\n",
       "      <td>806</td>\n",
       "      <td>42</td>\n",
       "      <td>0</td>\n",
       "      <td>59.0</td>\n",
       "      <td>0</td>\n",
       "      <td>4</td>\n",
       "      <td>6</td>\n",
       "      <td>10</td>\n",
       "      <td>4</td>\n",
       "      <td>258.67188</td>\n",
       "      <td>...</td>\n",
       "      <td>0</td>\n",
       "      <td>0.0</td>\n",
       "      <td>0</td>\n",
       "      <td>0.000000</td>\n",
       "      <td>0.000000</td>\n",
       "      <td>0</td>\n",
       "      <td>0.000000</td>\n",
       "      <td>0</td>\n",
       "      <td>0</td>\n",
       "      <td>3</td>\n",
       "    </tr>\n",
       "  </tbody>\n",
       "</table>\n",
       "<p>5 rows × 51 columns</p>\n",
       "</div>"
      ],
      "text/plain": [
       "   surveyid  village  femaleres   age  married  children  hhsize  edu  \\\n",
       "0       926       91          1  28.0        1         4       6   10   \n",
       "1       747       57          1  23.0        1         3       5    8   \n",
       "2      1190      115          1  22.0        1         3       5    9   \n",
       "3      1065       97          1  27.0        1         2       4   10   \n",
       "4       806       42          0  59.0        0         4       6   10   \n",
       "\n",
       "   hh_children  cons_nondurable     ...       given_mpesa  amount_given_mpesa  \\\n",
       "0            0          0.00000     ...                 0                 0.0   \n",
       "1            0          0.00000     ...                 0                 0.0   \n",
       "2            0          0.00000     ...                 0                 0.0   \n",
       "3            2        378.83292     ...                 0                 0.0   \n",
       "4            4        258.67188     ...                 0                 0.0   \n",
       "\n",
       "   received_mpesa  amount_received_mpesa  net_mpesa  saved_mpesa  \\\n",
       "0               0               0.000000   0.000000            1   \n",
       "1               1               4.804611   4.804611            0   \n",
       "2               0               8.007685   8.007685            1   \n",
       "3               0               0.000000   0.000000            1   \n",
       "4               0               0.000000   0.000000            0   \n",
       "\n",
       "   amount_saved_mpesa  early_survey  depressed  day_of_week  \n",
       "0            0.000000             0          0            5  \n",
       "1            0.000000             0          1            3  \n",
       "2            0.000000             0          0            5  \n",
       "3            1.249199             0          0            0  \n",
       "4            0.000000             0          0            3  \n",
       "\n",
       "[5 rows x 51 columns]"
      ]
     },
     "execution_count": 25,
     "metadata": {},
     "output_type": "execute_result"
    }
   ],
   "source": [
    "read_data.head()"
   ]
  },
  {
   "cell_type": "code",
   "execution_count": 26,
   "metadata": {},
   "outputs": [
    {
     "data": {
      "text/plain": [
       "False"
      ]
     },
     "execution_count": 26,
     "metadata": {},
     "output_type": "execute_result"
    }
   ],
   "source": [
    "'depression' in read_data.keys()"
   ]
  },
  {
   "cell_type": "code",
   "execution_count": 27,
   "metadata": {},
   "outputs": [
    {
     "data": {
      "text/plain": [
       "0    950\n",
       "1    193\n",
       "Name: depressed, dtype: int64"
      ]
     },
     "execution_count": 27,
     "metadata": {},
     "output_type": "execute_result"
    }
   ],
   "source": [
    "read_data['depressed'].value_counts()"
   ]
  },
  {
   "cell_type": "code",
   "execution_count": 28,
   "metadata": {
    "collapsed": true
   },
   "outputs": [],
   "source": [
    "y = read_data['depressed']\n",
    "X = read_data.drop('depressed', axis = 1)"
   ]
  },
  {
   "cell_type": "code",
   "execution_count": 29,
   "metadata": {},
   "outputs": [
    {
     "data": {
      "text/plain": [
       "((1143, 50), (1143,))"
      ]
     },
     "execution_count": 29,
     "metadata": {},
     "output_type": "execute_result"
    }
   ],
   "source": [
    "X.shape, y.shape"
   ]
  },
  {
   "cell_type": "code",
   "execution_count": 32,
   "metadata": {},
   "outputs": [
    {
     "name": "stderr",
     "output_type": "stream",
     "text": [
      "/home/odemakinde/cd/lib/python3.6/site-packages/sklearn/model_selection/_split.py:2010: FutureWarning: From version 0.21, test_size will always complement train_size unless both are specified.\n",
      "  FutureWarning)\n"
     ]
    }
   ],
   "source": [
    "from importlib import reload\n",
    "import apply_my_module\n",
    "reload(apply_my_module)\n",
    "from apply_my_module import preprocessor\n",
    "\n",
    "x_train, x_test, y_train, y_test = preprocessor.apply_validation(X,y, train_size = 0.70, random_state = 42)"
   ]
  },
  {
   "cell_type": "code",
   "execution_count": 33,
   "metadata": {
    "collapsed": true
   },
   "outputs": [],
   "source": [
    "# scale my data\n",
    "\n",
    "x_train = preprocessor.apply_scale(x_train)\n",
    "x_test = preprocessor.apply_scale(x_test)"
   ]
  },
  {
   "cell_type": "code",
   "execution_count": 127,
   "metadata": {},
   "outputs": [
    {
     "data": {
      "text/plain": [
       "(800, 50)"
      ]
     },
     "execution_count": 127,
     "metadata": {},
     "output_type": "execute_result"
    }
   ],
   "source": [
    "x_train.shape"
   ]
  },
  {
   "cell_type": "code",
   "execution_count": 131,
   "metadata": {},
   "outputs": [
    {
     "name": "stdout",
     "output_type": "stream",
     "text": [
      "0.84375 0.8017492711370262\n"
     ]
    }
   ],
   "source": [
    "from sklearn.svm import SVC\n",
    "\n",
    "svc = SVC(C = 1.0, kernel = 'sigmoid')\n",
    "svc.fit(x_train, y_train)\n",
    "train_score = svc.score(x_train, y_train)\n",
    "test_predict = svc.predict(x_test)\n",
    "test_score = accuracy_score(test_predict, y_test)\n",
    "print(train_score, test_score)"
   ]
  },
  {
   "cell_type": "code",
   "execution_count": 132,
   "metadata": {},
   "outputs": [
    {
     "name": "stdout",
     "output_type": "stream",
     "text": [
      "0.84375 0.8017492711370262\n",
      "0.84375 0.8017492711370262\n",
      "0.84375 0.8017492711370262\n",
      "0.84375 0.8017492711370262\n",
      "0.84375 0.8017492711370262\n",
      "0.84375 0.8017492711370262\n",
      "0.84375 0.8017492711370262\n"
     ]
    }
   ],
   "source": [
    "for c in [0.0001, 0.001,0.01,0.1,1, 10, 100]:\n",
    "    svc = SVC(C = c, kernel = 'sigmoid')\n",
    "    svc.fit(x_train, y_train)\n",
    "    train_score = svc.score(x_train, y_train)\n",
    "    test_predict = svc.predict(x_test)\n",
    "    test_score = accuracy_score(test_predict, y_test)\n",
    "    print(train_score, test_score)"
   ]
  },
  {
   "cell_type": "code",
   "execution_count": 34,
   "metadata": {},
   "outputs": [
    {
     "data": {
      "text/plain": [
       "0.85"
      ]
     },
     "execution_count": 34,
     "metadata": {},
     "output_type": "execute_result"
    }
   ],
   "source": [
    "from sklearn.neighbors import KNeighborsClassifier\n",
    "\n",
    "knn = KNeighborsClassifier(n_neighbors = 4)\n",
    "knn.fit(x_train, y_train)\n",
    "knn.score(x_train, y_train)"
   ]
  },
  {
   "cell_type": "code",
   "execution_count": 35,
   "metadata": {},
   "outputs": [
    {
     "data": {
      "text/plain": [
       "0.7959183673469388"
      ]
     },
     "execution_count": 35,
     "metadata": {},
     "output_type": "execute_result"
    }
   ],
   "source": [
    "test_predict = knn.predict(x_test)\n",
    "from sklearn.metrics import accuracy_score\n",
    "accuracy_score(test_predict, y_test)"
   ]
  },
  {
   "cell_type": "code",
   "execution_count": 36,
   "metadata": {
    "collapsed": true
   },
   "outputs": [],
   "source": [
    "test_data = pd.read_csv('test.csv')"
   ]
  },
  {
   "cell_type": "code",
   "execution_count": 38,
   "metadata": {},
   "outputs": [
    {
     "data": {
      "text/plain": [
       "(286, 75)"
      ]
     },
     "execution_count": 38,
     "metadata": {},
     "output_type": "execute_result"
    }
   ],
   "source": [
    "test_data.shape"
   ]
  },
  {
   "cell_type": "code",
   "execution_count": 49,
   "metadata": {
    "collapsed": true
   },
   "outputs": [],
   "source": [
    "test_data = test_data.drop(weak_data, axis = 1)"
   ]
  },
  {
   "cell_type": "code",
   "execution_count": 50,
   "metadata": {},
   "outputs": [
    {
     "data": {
      "text/plain": [
       "(286, 52)"
      ]
     },
     "execution_count": 50,
     "metadata": {},
     "output_type": "execute_result"
    }
   ],
   "source": [
    "test_data.shape"
   ]
  },
  {
   "cell_type": "code",
   "execution_count": 51,
   "metadata": {
    "collapsed": true
   },
   "outputs": [],
   "source": [
    "test_data = test_data.drop('survey_date', axis = 1)"
   ]
  },
  {
   "cell_type": "code",
   "execution_count": 52,
   "metadata": {},
   "outputs": [
    {
     "data": {
      "text/plain": [
       "True"
      ]
     },
     "execution_count": 52,
     "metadata": {},
     "output_type": "execute_result"
    }
   ],
   "source": [
    "'depressed' in test_data.keys()"
   ]
  },
  {
   "cell_type": "code",
   "execution_count": 53,
   "metadata": {
    "collapsed": true
   },
   "outputs": [],
   "source": [
    "predict_data = test_data.drop('depressed', axis = 1)"
   ]
  },
  {
   "cell_type": "code",
   "execution_count": 54,
   "metadata": {},
   "outputs": [
    {
     "data": {
      "text/plain": [
       "(286, 50)"
      ]
     },
     "execution_count": 54,
     "metadata": {},
     "output_type": "execute_result"
    }
   ],
   "source": [
    "predict_data.shape"
   ]
  },
  {
   "cell_type": "code",
   "execution_count": 56,
   "metadata": {},
   "outputs": [
    {
     "name": "stdout",
     "output_type": "stream",
     "text": [
      "<class 'pandas.core.frame.DataFrame'>\n",
      "RangeIndex: 286 entries, 0 to 285\n",
      "Data columns (total 50 columns):\n",
      "surveyid                  286 non-null int64\n",
      "village                   286 non-null int64\n",
      "femaleres                 286 non-null int64\n",
      "age                       285 non-null object\n",
      "married                   286 non-null int64\n",
      "children                  286 non-null int64\n",
      "hhsize                    286 non-null int64\n",
      "edu                       286 non-null int64\n",
      "hh_children               286 non-null int64\n",
      "cons_nondurable           286 non-null float64\n",
      "asset_livestock           286 non-null float64\n",
      "asset_durable             286 non-null float64\n",
      "asset_phone               286 non-null float64\n",
      "asset_savings             286 non-null float64\n",
      "asset_land_owned_total    286 non-null float64\n",
      "asset_niceroof            286 non-null int64\n",
      "cons_allfood              286 non-null float64\n",
      "cons_ownfood              286 non-null float64\n",
      "cons_med_total            286 non-null float64\n",
      "cons_ed                   286 non-null float64\n",
      "cons_social               286 non-null float64\n",
      "cons_other                286 non-null float64\n",
      "ent_wagelabor             286 non-null int64\n",
      "ent_ownfarm               286 non-null int64\n",
      "ent_business              286 non-null int64\n",
      "ent_nonagbusiness         286 non-null int64\n",
      "ent_employees             286 non-null int64\n",
      "ent_nonag_revenue         286 non-null float64\n",
      "ent_nonag_flowcost        286 non-null float64\n",
      "ent_farmrevenue           286 non-null float64\n",
      "ent_farmexpenses          286 non-null float64\n",
      "ent_animalstockrev        286 non-null float64\n",
      "ent_total_cost            286 non-null float64\n",
      "fs_adskipm_often          286 non-null float64\n",
      "fs_adwholed_often         286 non-null float64\n",
      "med_vacc_newborns         286 non-null int64\n",
      "med_child_check           286 non-null int64\n",
      "labor_primary             286 non-null int64\n",
      "wage_expenditures         286 non-null int64\n",
      "durable_investment        286 non-null float64\n",
      "nondurable_investment     286 non-null float64\n",
      "given_mpesa               286 non-null int64\n",
      "amount_given_mpesa        286 non-null float64\n",
      "received_mpesa            286 non-null int64\n",
      "amount_received_mpesa     286 non-null float64\n",
      "net_mpesa                 286 non-null float64\n",
      "saved_mpesa               286 non-null int64\n",
      "amount_saved_mpesa        286 non-null float64\n",
      "early_survey              286 non-null int64\n",
      "day_of_week               286 non-null int64\n",
      "dtypes: float64(26), int64(23), object(1)\n",
      "memory usage: 111.8+ KB\n"
     ]
    }
   ],
   "source": [
    "predict_data.info()"
   ]
  },
  {
   "cell_type": "code",
   "execution_count": 68,
   "metadata": {
    "scrolled": true
   },
   "outputs": [
    {
     "name": "stderr",
     "output_type": "stream",
     "text": [
      "/home/odemakinde/cd/lib/python3.6/site-packages/ipykernel_launcher.py:6: SettingWithCopyWarning: \n",
      "A value is trying to be set on a copy of a slice from a DataFrame\n",
      "\n",
      "See the caveats in the documentation: http://pandas.pydata.org/pandas-docs/stable/indexing.html#indexing-view-versus-copy\n",
      "  \n",
      "/home/odemakinde/cd/lib/python3.6/site-packages/ipykernel_launcher.py:9: SettingWithCopyWarning: \n",
      "A value is trying to be set on a copy of a slice from a DataFrame\n",
      "\n",
      "See the caveats in the documentation: http://pandas.pydata.org/pandas-docs/stable/indexing.html#indexing-view-versus-copy\n",
      "  if __name__ == '__main__':\n"
     ]
    }
   ],
   "source": [
    "import numpy as np\n",
    "data = predict_data['age']\n",
    "try:\n",
    "    count = 0\n",
    "    for key in data:\n",
    "        data[count] = int(key)\n",
    "        count += 1\n",
    "except:\n",
    "    data[count] = 54\n",
    "    count += 1"
   ]
  },
  {
   "cell_type": "code",
   "execution_count": 69,
   "metadata": {
    "collapsed": true
   },
   "outputs": [],
   "source": [
    "find_data = predict_data\n",
    "find_data['age'] = data"
   ]
  },
  {
   "cell_type": "code",
   "execution_count": 70,
   "metadata": {
    "scrolled": true
   },
   "outputs": [
    {
     "name": "stdout",
     "output_type": "stream",
     "text": [
      "<class 'pandas.core.frame.DataFrame'>\n",
      "RangeIndex: 286 entries, 0 to 285\n",
      "Data columns (total 50 columns):\n",
      "surveyid                  286 non-null int64\n",
      "village                   286 non-null int64\n",
      "femaleres                 286 non-null int64\n",
      "age                       285 non-null object\n",
      "married                   286 non-null int64\n",
      "children                  286 non-null int64\n",
      "hhsize                    286 non-null int64\n",
      "edu                       286 non-null int64\n",
      "hh_children               286 non-null int64\n",
      "cons_nondurable           286 non-null float64\n",
      "asset_livestock           286 non-null float64\n",
      "asset_durable             286 non-null float64\n",
      "asset_phone               286 non-null float64\n",
      "asset_savings             286 non-null float64\n",
      "asset_land_owned_total    286 non-null float64\n",
      "asset_niceroof            286 non-null int64\n",
      "cons_allfood              286 non-null float64\n",
      "cons_ownfood              286 non-null float64\n",
      "cons_med_total            286 non-null float64\n",
      "cons_ed                   286 non-null float64\n",
      "cons_social               286 non-null float64\n",
      "cons_other                286 non-null float64\n",
      "ent_wagelabor             286 non-null int64\n",
      "ent_ownfarm               286 non-null int64\n",
      "ent_business              286 non-null int64\n",
      "ent_nonagbusiness         286 non-null int64\n",
      "ent_employees             286 non-null int64\n",
      "ent_nonag_revenue         286 non-null float64\n",
      "ent_nonag_flowcost        286 non-null float64\n",
      "ent_farmrevenue           286 non-null float64\n",
      "ent_farmexpenses          286 non-null float64\n",
      "ent_animalstockrev        286 non-null float64\n",
      "ent_total_cost            286 non-null float64\n",
      "fs_adskipm_often          286 non-null float64\n",
      "fs_adwholed_often         286 non-null float64\n",
      "med_vacc_newborns         286 non-null int64\n",
      "med_child_check           286 non-null int64\n",
      "labor_primary             286 non-null int64\n",
      "wage_expenditures         286 non-null int64\n",
      "durable_investment        286 non-null float64\n",
      "nondurable_investment     286 non-null float64\n",
      "given_mpesa               286 non-null int64\n",
      "amount_given_mpesa        286 non-null float64\n",
      "received_mpesa            286 non-null int64\n",
      "amount_received_mpesa     286 non-null float64\n",
      "net_mpesa                 286 non-null float64\n",
      "saved_mpesa               286 non-null int64\n",
      "amount_saved_mpesa        286 non-null float64\n",
      "early_survey              286 non-null int64\n",
      "day_of_week               286 non-null int64\n",
      "dtypes: float64(26), int64(23), object(1)\n",
      "memory usage: 111.8+ KB\n"
     ]
    }
   ],
   "source": [
    "find_data.info()"
   ]
  },
  {
   "cell_type": "code",
   "execution_count": 99,
   "metadata": {},
   "outputs": [
    {
     "name": "stdout",
     "output_type": "stream",
     "text": [
      "81\n"
     ]
    }
   ],
   "source": [
    "count = 0\n",
    "for key in predict_data['age']:\n",
    "    if key == '.d':\n",
    "        print(count)\n",
    "        count += 1\n",
    "    else:\n",
    "        pass\n",
    "        count+= 1"
   ]
  },
  {
   "cell_type": "code",
   "execution_count": 102,
   "metadata": {},
   "outputs": [
    {
     "data": {
      "text/plain": [
       "0    25\n",
       "dtype: object"
      ]
     },
     "execution_count": 102,
     "metadata": {},
     "output_type": "execute_result"
    }
   ],
   "source": [
    "predict_data['age'].mode()"
   ]
  },
  {
   "cell_type": "code",
   "execution_count": 103,
   "metadata": {},
   "outputs": [
    {
     "name": "stderr",
     "output_type": "stream",
     "text": [
      "/home/odemakinde/cd/lib/python3.6/site-packages/ipykernel_launcher.py:1: SettingWithCopyWarning: \n",
      "A value is trying to be set on a copy of a slice from a DataFrame\n",
      "\n",
      "See the caveats in the documentation: http://pandas.pydata.org/pandas-docs/stable/indexing.html#indexing-view-versus-copy\n",
      "  \"\"\"Entry point for launching an IPython kernel.\n"
     ]
    }
   ],
   "source": [
    "predict_data['age'][81] = 25"
   ]
  },
  {
   "cell_type": "code",
   "execution_count": 114,
   "metadata": {},
   "outputs": [
    {
     "name": "stdout",
     "output_type": "stream",
     "text": [
      "True 35\n"
     ]
    }
   ],
   "source": [
    "count = 0\n",
    "for key in predict_data['age'].isnull():\n",
    "    if key == True:\n",
    "        print(key, count)\n",
    "        count += 1\n",
    "        \n",
    "    else:\n",
    "        pass\n",
    "        count += 1"
   ]
  },
  {
   "cell_type": "code",
   "execution_count": 116,
   "metadata": {},
   "outputs": [
    {
     "name": "stderr",
     "output_type": "stream",
     "text": [
      "/home/odemakinde/cd/lib/python3.6/site-packages/ipykernel_launcher.py:1: SettingWithCopyWarning: \n",
      "A value is trying to be set on a copy of a slice from a DataFrame\n",
      "\n",
      "See the caveats in the documentation: http://pandas.pydata.org/pandas-docs/stable/indexing.html#indexing-view-versus-copy\n",
      "  \"\"\"Entry point for launching an IPython kernel.\n"
     ]
    }
   ],
   "source": [
    "predict_data['age'][35] = 25"
   ]
  },
  {
   "cell_type": "code",
   "execution_count": 119,
   "metadata": {},
   "outputs": [],
   "source": [
    "predict_data['age'] = predict_data['age'].astype('float32')"
   ]
  },
  {
   "cell_type": "code",
   "execution_count": 120,
   "metadata": {},
   "outputs": [],
   "source": [
    "mean_train = preprocessor.apply_scale(predict_data)\n"
   ]
  },
  {
   "cell_type": "code",
   "execution_count": 134,
   "metadata": {},
   "outputs": [],
   "source": [
    "predicted_data = knn.predict(mean_train)\n",
    "svc_predicted_data = svc.predict(mean_train)"
   ]
  },
  {
   "cell_type": "code",
   "execution_count": 122,
   "metadata": {},
   "outputs": [
    {
     "data": {
      "text/plain": [
       "array([0, 0, 0, 0, 0, 0, 0, 0, 0, 0, 0, 0, 0, 0, 0, 0, 0, 0, 0, 0, 0, 0,\n",
       "       0, 0, 0, 0, 0, 0, 0, 0, 0, 0, 0, 0, 0, 1, 0, 0, 0, 0, 0, 0, 0, 0,\n",
       "       0, 0, 0, 0, 0, 0, 0, 0, 0, 0, 0, 0, 0, 0, 0, 0, 0, 0, 0, 0, 0, 0,\n",
       "       0, 0, 0, 0, 0, 0, 0, 0, 0, 0, 0, 0, 0, 0, 0, 0, 0, 0, 0, 0, 0, 0,\n",
       "       0, 0, 0, 0, 0, 0, 0, 0, 0, 0, 0, 0, 0, 0, 0, 0, 0, 0, 0, 1, 0, 0,\n",
       "       0, 0, 0, 0, 0, 0, 0, 0, 1, 0, 0, 0, 0, 0, 0, 0, 0, 0, 0, 0, 0, 0,\n",
       "       1, 0, 0, 0, 0, 0, 0, 0, 0, 0, 0, 0, 0, 0, 0, 0, 0, 0, 0, 0, 0, 0,\n",
       "       0, 0, 0, 0, 0, 0, 0, 0, 0, 0, 0, 0, 0, 0, 0, 0, 0, 0, 1, 0, 0, 0,\n",
       "       0, 0, 0, 0, 0, 0, 0, 0, 0, 0, 0, 0, 0, 0, 0, 0, 0, 0, 0, 0, 0, 0,\n",
       "       0, 0, 0, 0, 0, 0, 0, 0, 0, 0, 0, 0, 0, 0, 0, 0, 0, 0, 0, 0, 0, 0,\n",
       "       0, 1, 0, 0, 0, 0, 0, 0, 0, 0, 0, 0, 0, 0, 0, 0, 0, 0, 0, 0, 0, 0,\n",
       "       0, 0, 0, 0, 0, 0, 0, 0, 0, 0, 0, 0, 0, 0, 0, 0, 0, 0, 0, 0, 0, 0,\n",
       "       0, 0, 0, 0, 0, 0, 0, 0, 0, 0, 0, 0, 0, 0, 0, 0, 0, 0, 0, 0, 0, 0])"
      ]
     },
     "execution_count": 122,
     "metadata": {},
     "output_type": "execute_result"
    }
   ],
   "source": [
    "predicted_data"
   ]
  },
  {
   "cell_type": "code",
   "execution_count": 123,
   "metadata": {},
   "outputs": [],
   "source": [
    "surveyid = find_data['surveyid']"
   ]
  },
  {
   "cell_type": "code",
   "execution_count": 124,
   "metadata": {},
   "outputs": [
    {
     "data": {
      "text/plain": [
       "(286, 286)"
      ]
     },
     "execution_count": 124,
     "metadata": {},
     "output_type": "execute_result"
    }
   ],
   "source": [
    "len(surveyid), len(predicted_data)"
   ]
  },
  {
   "cell_type": "code",
   "execution_count": 126,
   "metadata": {},
   "outputs": [],
   "source": [
    "dict_knn = {'depressed':predicted_data,'surveyid': surveyid}\n",
    "sub_knn = pd.DataFrame(dict_knn)\n",
    "sub_knn.to_csv('knn_solution.csv')"
   ]
  },
  {
   "cell_type": "code",
   "execution_count": 135,
   "metadata": {
    "collapsed": true
   },
   "outputs": [],
   "source": [
    "dict_svc = {'depressed':svc_predicted_data,'surveyid': surveyid}\n",
    "sub_svc = pd.DataFrame(dict_svc)\n",
    "sub_svc.to_csv('svc_solution.csv')"
   ]
  },
  {
   "cell_type": "code",
   "execution_count": null,
   "metadata": {
    "collapsed": true
   },
   "outputs": [],
   "source": []
  }
 ],
 "metadata": {
  "kernelspec": {
   "display_name": "Python 3",
   "language": "python",
   "name": "python3"
  },
  "language_info": {
   "codemirror_mode": {
    "name": "ipython",
    "version": 3
   },
   "file_extension": ".py",
   "mimetype": "text/x-python",
   "name": "python",
   "nbconvert_exporter": "python",
   "pygments_lexer": "ipython3",
   "version": "3.6.2"
  }
 },
 "nbformat": 4,
 "nbformat_minor": 2
}
