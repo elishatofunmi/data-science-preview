{
 "cells": [
  {
   "cell_type": "code",
   "execution_count": 1,
   "metadata": {},
   "outputs": [
    {
     "data": {
      "text/plain": [
       "'C:\\\\SPB_Data'"
      ]
     },
     "execution_count": 1,
     "metadata": {},
     "output_type": "execute_result"
    }
   ],
   "source": [
    "import os\n",
    "os.getcwd()"
   ]
  },
  {
   "cell_type": "code",
   "execution_count": 7,
   "metadata": {},
   "outputs": [],
   "source": [
    "# create a file called swep200.txt, write, read, overwrite\n",
    "\n",
    "fob = open('swep200.txt', 'w')"
   ]
  },
  {
   "cell_type": "code",
   "execution_count": 8,
   "metadata": {},
   "outputs": [],
   "source": [
    "fob.write('This is our first class on file handling, exceptions/errors and classes')\n",
    "fob.close()"
   ]
  },
  {
   "cell_type": "code",
   "execution_count": 9,
   "metadata": {},
   "outputs": [
    {
     "data": {
      "text/plain": [
       "71"
      ]
     },
     "execution_count": 9,
     "metadata": {},
     "output_type": "execute_result"
    }
   ],
   "source": [
    "len('This is our first class on file handling, exceptions/errors and classes')"
   ]
  },
  {
   "cell_type": "code",
   "execution_count": 10,
   "metadata": {},
   "outputs": [
    {
     "data": {
      "text/plain": [
       "'This is our first class on file handling, exceptions/errors and classes'"
      ]
     },
     "execution_count": 10,
     "metadata": {},
     "output_type": "execute_result"
    }
   ],
   "source": [
    "fob_read = open('swep200.txt', 'r')\n",
    "read_data = fob_read.read()\n",
    "fob_read.close()\n",
    "read_data"
   ]
  },
  {
   "cell_type": "code",
   "execution_count": 11,
   "metadata": {},
   "outputs": [],
   "source": [
    "fob_write = open('swep200.txt', 'w')\n",
    "fob_write.write('This is the second time am writing to my file')\n",
    "fob_write.close()"
   ]
  },
  {
   "cell_type": "code",
   "execution_count": 12,
   "metadata": {},
   "outputs": [],
   "source": [
    "fob_reWrite = open('swep200.txt', 'w')\n",
    "new_data = read_data + ' ' + 'This is the second time am writing to my file'\n",
    "fob_reWrite.write(new_data)\n",
    "fob_reWrite.close()"
   ]
  },
  {
   "cell_type": "code",
   "execution_count": 13,
   "metadata": {},
   "outputs": [],
   "source": [
    "fob_reWrite = open('swep200.txt', 'a')\n",
    "fob_reWrite.write('This is the third line')\n",
    "fob_reWrite.close()"
   ]
  },
  {
   "cell_type": "code",
   "execution_count": 19,
   "metadata": {},
   "outputs": [
    {
     "name": "stdout",
     "output_type": "stream",
     "text": [
      "I am in class pls do not disturb me\n",
      "This is over\n"
     ]
    }
   ],
   "source": [
    "try:\n",
    "    print(\"I am in class pls do not disturb me\")\n",
    "except AttributeError as err:\n",
    "    print('I am in error')\n",
    "finally:\n",
    "    print(\"This is over\")"
   ]
  },
  {
   "cell_type": "code",
   "execution_count": 22,
   "metadata": {},
   "outputs": [
    {
     "name": "stdout",
     "output_type": "stream",
     "text": [
      "exceptions must derive from BaseException\n",
      "This is over\n"
     ]
    }
   ],
   "source": [
    "def myError():\n",
    "    raise('This is an error')\n",
    "\n",
    "try:\n",
    "    myError()\n",
    "except Exception as err:\n",
    "    print(err)\n",
    "finally:\n",
    "    print(\"This is over\")"
   ]
  },
  {
   "cell_type": "code",
   "execution_count": 24,
   "metadata": {},
   "outputs": [
    {
     "name": "stdout",
     "output_type": "stream",
     "text": [
      "This will always run\n",
      "Am still in the init block\n"
     ]
    }
   ],
   "source": [
    "class my_name:\n",
    "    def __init__(self):\n",
    "        print('This will always run')\n",
    "        print('Am still in the init block')\n",
    "    def get_my_name(self, name):\n",
    "        print('my name is', name)\n",
    "    \n",
    "    \n",
    "my_name = my_name()\n"
   ]
  },
  {
   "cell_type": "code",
   "execution_count": 25,
   "metadata": {},
   "outputs": [
    {
     "name": "stdout",
     "output_type": "stream",
     "text": [
      "my name is biodun\n"
     ]
    }
   ],
   "source": [
    "my_name.get_my_name('biodun')"
   ]
  },
  {
   "cell_type": "code",
   "execution_count": null,
   "metadata": {},
   "outputs": [],
   "source": []
  }
 ],
 "metadata": {
  "kernelspec": {
   "display_name": "Python 3",
   "language": "python",
   "name": "python3"
  },
  "language_info": {
   "codemirror_mode": {
    "name": "ipython",
    "version": 3
   },
   "file_extension": ".py",
   "mimetype": "text/x-python",
   "name": "python",
   "nbconvert_exporter": "python",
   "pygments_lexer": "ipython3",
   "version": "3.5.6"
  }
 },
 "nbformat": 4,
 "nbformat_minor": 2
}
