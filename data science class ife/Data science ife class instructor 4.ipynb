{
 "cells": [
  {
   "cell_type": "code",
   "execution_count": 1,
   "metadata": {},
   "outputs": [
    {
     "name": "stdout",
     "output_type": "stream",
     "text": [
      "house  A costs:  40000\n",
      "house  B costs:  50000\n",
      "house  C costs:  60000\n",
      "house  D costs:  80000\n"
     ]
    }
   ],
   "source": [
    "# iterates through a list that contains prices of a couple of houses\n",
    "\n",
    "house_prices = [40000, 50000, 60000, 80000]\n",
    "house_name = ['A', 'B', 'C','D']\n",
    "\n",
    "def housing_price(name, prices):\n",
    "    # name is a list of house names\n",
    "    # prices is a list of house prices\n",
    "    if isinstance(name, list) and isinstance(prices, list):\n",
    "        if len(name) == len(prices):\n",
    "            for i, j in zip(name, prices):\n",
    "                print('house ',i, 'costs: ', j)\n",
    "        else:\n",
    "            pass\n",
    "    else:\n",
    "        pass\n",
    "    return \n",
    "\n",
    "\n",
    "housing_price(house_name, house_prices)"
   ]
  },
  {
   "cell_type": "code",
   "execution_count": 3,
   "metadata": {},
   "outputs": [
    {
     "name": "stdout",
     "output_type": "stream",
     "text": [
      "house  A costs:  40000\n",
      "house  B costs:  50000\n",
      "house  C costs:  60000\n",
      "house  D costs:  80000\n"
     ]
    }
   ],
   "source": [
    "def apply_price(name, price):\n",
    "    print('house ', name, 'costs: ', price)\n",
    "    return\n",
    "\n",
    "def super_man(name,prices):\n",
    "    for i,j in zip(name,prices):\n",
    "        apply_price(i,j)\n",
    "    return\n",
    "\n",
    "super_man(house_name, house_prices)\n",
    "            "
   ]
  },
  {
   "cell_type": "code",
   "execution_count": 34,
   "metadata": {},
   "outputs": [
    {
     "data": {
      "text/plain": [
       "'C:\\\\SPB_Data\\\\data science bootcamp'"
      ]
     },
     "execution_count": 34,
     "metadata": {},
     "output_type": "execute_result"
    }
   ],
   "source": [
    "import os\n",
    "os.getcwd()"
   ]
  },
  {
   "cell_type": "code",
   "execution_count": 36,
   "metadata": {},
   "outputs": [
    {
     "data": {
      "text/plain": [
       "['.ipynb_checkpoints',\n",
       " '.~preprocessor.ipynb',\n",
       " 'coding challenge.ipynb',\n",
       " 'data science bootcamp.rar',\n",
       " 'Data science ife class instructor 4.ipynb',\n",
       " 'draft.txt',\n",
       " 'preprocessor.ipynb',\n",
       " 'READ_ME.txt',\n",
       " 'SWEP 200 MACHINE LEARNING CLASS.ipynb']"
      ]
     },
     "execution_count": 36,
     "metadata": {},
     "output_type": "execute_result"
    }
   ],
   "source": [
    "os.listdir()"
   ]
  },
  {
   "cell_type": "code",
   "execution_count": 37,
   "metadata": {},
   "outputs": [],
   "source": [
    "open_draft = open('draft.txt', 'r')"
   ]
  },
  {
   "cell_type": "code",
   "execution_count": 38,
   "metadata": {},
   "outputs": [],
   "source": [
    "read_draft = open_draft.read()\n",
    "open_draft.close()"
   ]
  },
  {
   "cell_type": "code",
   "execution_count": 39,
   "metadata": {},
   "outputs": [
    {
     "data": {
      "text/plain": [
       "'this is the final warning am giving you\\npayback company 122330 before 3454020\\nyou need to deliver the goods to the company at sunset for day 50.\\n'"
      ]
     },
     "execution_count": 39,
     "metadata": {},
     "output_type": "execute_result"
    }
   ],
   "source": [
    "read_draft"
   ]
  },
  {
   "cell_type": "code",
   "execution_count": 40,
   "metadata": {},
   "outputs": [],
   "source": [
    "open_draft = open('draft.txt', 'w')\n",
    "open_draft.write('This is funny, absolutel funny')\n",
    "open_draft.close()"
   ]
  },
  {
   "cell_type": "code",
   "execution_count": 41,
   "metadata": {},
   "outputs": [
    {
     "data": {
      "text/plain": [
       "'This is funny, absolutel funny'"
      ]
     },
     "execution_count": 41,
     "metadata": {},
     "output_type": "execute_result"
    }
   ],
   "source": [
    "written_draft = open('draft.txt', 'r')\n",
    "read_written_draft = written_draft.read()\n",
    "written_draft.close()\n",
    "read_written_draft"
   ]
  },
  {
   "cell_type": "code",
   "execution_count": 15,
   "metadata": {},
   "outputs": [
    {
     "data": {
      "text/plain": [
       "\"SLA;EQA;LEDLDLEOSLOWPSPWLD;T'Y'G;EOSDLSLW\\n3ldaleiealeeollwldl\\nwldlwowldlwlxo\\ndlwlsowlslwo\""
      ]
     },
     "execution_count": 15,
     "metadata": {},
     "output_type": "execute_result"
    }
   ],
   "source": [
    "sola = open('READ_ME.txt','r')\n",
    "bade = sola.read()\n",
    "sola.close()\n",
    "bade"
   ]
  },
  {
   "cell_type": "code",
   "execution_count": 14,
   "metadata": {},
   "outputs": [
    {
     "name": "stdout",
     "output_type": "stream",
     "text": [
      "[\"SLA;EQA;LEDLDLEOSLOWPSPWLD;T'Y'G;EOSDLSLW\\n\", '3ldaleiealeeollwldl\\n', 'wldlwowldlwlxo\\n', 'dlwlsowlslwo']\n"
     ]
    }
   ],
   "source": [
    "with open('READ_ME.txt', 'r') as fob:\n",
    "    data = fob.readlines()\n",
    "    print(data)\n",
    "    "
   ]
  },
  {
   "cell_type": "code",
   "execution_count": 23,
   "metadata": {},
   "outputs": [
    {
     "name": "stdout",
     "output_type": "stream",
     "text": [
      "i am a super man\n"
     ]
    },
    {
     "ename": "TypeError",
     "evalue": "exceptions must derive from BaseException",
     "output_type": "error",
     "traceback": [
      "\u001b[1;31m---------------------------------------------------------------------------\u001b[0m",
      "\u001b[1;31mNameError\u001b[0m                                 Traceback (most recent call last)",
      "\u001b[1;32m<ipython-input-23-d5a0b039c695>\u001b[0m in \u001b[0;36m<module>\u001b[1;34m()\u001b[0m\n\u001b[0;32m      1\u001b[0m \u001b[1;32mtry\u001b[0m\u001b[1;33m:\u001b[0m\u001b[1;33m\u001b[0m\u001b[0m\n\u001b[1;32m----> 2\u001b[1;33m     \u001b[0mname\u001b[0m\u001b[1;33m\u001b[0m\u001b[0m\n\u001b[0m\u001b[0;32m      3\u001b[0m \u001b[1;33m\u001b[0m\u001b[0m\n",
      "\u001b[1;31mNameError\u001b[0m: name 'name' is not defined",
      "\nDuring handling of the above exception, another exception occurred:\n",
      "\u001b[1;31mTypeError\u001b[0m                                 Traceback (most recent call last)",
      "\u001b[1;32m<ipython-input-23-d5a0b039c695>\u001b[0m in \u001b[0;36m<module>\u001b[1;34m()\u001b[0m\n\u001b[0;32m      3\u001b[0m \u001b[1;33m\u001b[0m\u001b[0m\n\u001b[0;32m      4\u001b[0m \u001b[1;32mexcept\u001b[0m \u001b[0mNameError\u001b[0m \u001b[1;32mas\u001b[0m \u001b[0merr\u001b[0m\u001b[1;33m:\u001b[0m\u001b[1;33m\u001b[0m\u001b[0m\n\u001b[1;32m----> 5\u001b[1;33m     \u001b[1;32mraise\u001b[0m\u001b[1;33m(\u001b[0m\u001b[1;34m'this is an attribute error'\u001b[0m\u001b[1;33m)\u001b[0m\u001b[1;33m\u001b[0m\u001b[0m\n\u001b[0m\u001b[0;32m      6\u001b[0m \u001b[1;32mfinally\u001b[0m\u001b[1;33m:\u001b[0m\u001b[1;33m\u001b[0m\u001b[0m\n\u001b[0;32m      7\u001b[0m     \u001b[0mprint\u001b[0m\u001b[1;33m(\u001b[0m\u001b[1;34m'i am a super man'\u001b[0m\u001b[1;33m)\u001b[0m\u001b[1;33m\u001b[0m\u001b[0m\n",
      "\u001b[1;31mTypeError\u001b[0m: exceptions must derive from BaseException"
     ]
    }
   ],
   "source": [
    "try:\n",
    "    name\n",
    "    \n",
    "except NameError as err:\n",
    "    raise('this is an attribute error')\n",
    "finally:\n",
    "    print('i am a super man')"
   ]
  },
  {
   "cell_type": "code",
   "execution_count": 30,
   "metadata": {},
   "outputs": [
    {
     "name": "stdout",
     "output_type": "stream",
     "text": [
      "a\n",
      "b\n"
     ]
    },
    {
     "data": {
      "text/plain": [
       "<__main__.register at 0x4d8ef98>"
      ]
     },
     "execution_count": 30,
     "metadata": {},
     "output_type": "execute_result"
    }
   ],
   "source": [
    "class register:\n",
    "    def __init__(self):\n",
    "        self.list_of_names = []\n",
    "        print('a')\n",
    "        print('b')\n",
    "    def get_name(self,name):\n",
    "        self.list_of_names.append(name)\n",
    "        return\n",
    "    def print_name(self):\n",
    "        for i in self.list_of_names:\n",
    "            print(i)\n",
    "        return\n",
    "    \n",
    "    \n",
    "var_register = register()\n",
    "var_register"
   ]
  },
  {
   "cell_type": "code",
   "execution_count": 31,
   "metadata": {},
   "outputs": [],
   "source": [
    "var_register.get_name('elisha')"
   ]
  },
  {
   "cell_type": "code",
   "execution_count": 33,
   "metadata": {},
   "outputs": [
    {
     "name": "stdout",
     "output_type": "stream",
     "text": [
      "elisha\n"
     ]
    }
   ],
   "source": [
    "var_register.print_name()"
   ]
  },
  {
   "cell_type": "code",
   "execution_count": null,
   "metadata": {},
   "outputs": [],
   "source": []
  }
 ],
 "metadata": {
  "kernelspec": {
   "display_name": "Python 3",
   "language": "python",
   "name": "python3"
  },
  "language_info": {
   "codemirror_mode": {
    "name": "ipython",
    "version": 3
   },
   "file_extension": ".py",
   "mimetype": "text/x-python",
   "name": "python",
   "nbconvert_exporter": "python",
   "pygments_lexer": "ipython3",
   "version": "3.5.6"
  }
 },
 "nbformat": 4,
 "nbformat_minor": 2
}
