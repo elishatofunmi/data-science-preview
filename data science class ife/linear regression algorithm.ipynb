{
 "cells": [
  {
   "cell_type": "code",
   "execution_count": 3,
   "metadata": {
    "collapsed": true
   },
   "outputs": [],
   "source": [
    "import numpy as np\n",
    "import pandas as pd"
   ]
  },
  {
   "cell_type": "markdown",
   "metadata": {},
   "source": [
    "# This simple challenge is aimed at using the basic understanding of python in working through a linear regressor using Numpy and pandas"
   ]
  },
  {
   "cell_type": "code",
   "execution_count": null,
   "metadata": {
    "collapsed": true
   },
   "outputs": [],
   "source": [
    "# validate the argument\n",
    "\n",
    "def argument_validation(x, y):\n",
    "    x.shape, y.shape = shape_x, shape_y\n",
    "    if shape_x[0] != shape_y[0]:\n",
    "        raise exception(\"number of column of x and y must be equal\")\n",
    "        try:\n",
    "            if isinstance(name.shape[1], int):\n",
    "                raise exeception('The column y must be a one dimensional column')\n",
    "            else:\n",
    "                pass\n",
    "        except (IndexError)\n",
    "        "
   ]
  },
  {
   "cell_type": "code",
   "execution_count": null,
   "metadata": {},
   "outputs": [],
   "source": []
  },
  {
   "cell_type": "code",
   "execution_count": null,
   "metadata": {
    "collapsed": true
   },
   "outputs": [],
   "source": []
  }
 ],
 "metadata": {
  "kernelspec": {
   "display_name": "Python 3",
   "language": "python",
   "name": "python3"
  },
  "language_info": {
   "codemirror_mode": {
    "name": "ipython",
    "version": 3
   },
   "file_extension": ".py",
   "mimetype": "text/x-python",
   "name": "python",
   "nbconvert_exporter": "python",
   "pygments_lexer": "ipython3",
   "version": "3.6.1"
  }
 },
 "nbformat": 4,
 "nbformat_minor": 2
}
