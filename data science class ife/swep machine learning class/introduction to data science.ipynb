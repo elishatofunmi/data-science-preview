{
 "cells": [
  {
   "cell_type": "markdown",
   "metadata": {},
   "source": [
    "# what is Data Science?"
   ]
  },
  {
   "cell_type": "raw",
   "metadata": {},
   "source": [
    "Data science can be defined as the scientific understanding of data using predictive modelling.\n",
    "When we mean predictive modelling that is building models to make predictions.\n",
    "\n",
    "How then do we build models?\n",
    "We build models by making our machines learn from a huge source of information through the use of \n",
    "machine algorithms.\n",
    "\n",
    "Our machines get access to information through the use basic file handling processes.\n",
    "\n",
    "Machine algorithms will be explained in a bit."
   ]
  },
  {
   "cell_type": "raw",
   "metadata": {
    "collapsed": true
   },
   "source": [
    "tools needed are Pandas, numpy, scipy e.t.c."
   ]
  },
  {
   "cell_type": "code",
   "execution_count": null,
   "metadata": {
    "collapsed": true
   },
   "outputs": [],
   "source": []
  }
 ],
 "metadata": {
  "kernelspec": {
   "display_name": "Python 3",
   "language": "python",
   "name": "python3"
  },
  "language_info": {
   "codemirror_mode": {
    "name": "ipython",
    "version": 3
   },
   "file_extension": ".py",
   "mimetype": "text/x-python",
   "name": "python",
   "nbconvert_exporter": "python",
   "pygments_lexer": "ipython3",
   "version": "3.6.2"
  }
 },
 "nbformat": 4,
 "nbformat_minor": 2
}
