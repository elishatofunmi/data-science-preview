{
 "cells": [
  {
   "cell_type": "markdown",
   "metadata": {},
   "source": [
    "# What are files?"
   ]
  },
  {
   "cell_type": "raw",
   "metadata": {},
   "source": [
    "Files can be defined as anything that stores or saves information\n",
    "\n",
    "There is need to be able to keep tracks of the variables or data's generated from every code we run.\n",
    "We keep such records by writing to files and we gain access to such record by reading from files."
   ]
  },
  {
   "cell_type": "markdown",
   "metadata": {},
   "source": [
    "## How do we read from files?"
   ]
  },
  {
   "cell_type": "raw",
   "metadata": {},
   "source": [
    "We read from files by using an inbuilt function in python called open(), it takes in two important arguments:\n",
    "open(file_directory, mode)\n",
    "1.File_directory: the file you want to open, may be of format xlx(excel), csv(comma separate variables), txt(text file)\n",
    "2. mode: this could be 'r' for read mode, 'w' for write mode or 'a' for append mode.\n",
    "    The 'r' mode helps to read informations from files\n",
    "    The 'w' mode helps to write informations to files\n",
    "    The 'a' mode helps you to add information to an existing file\n",
    "    \n",
    "    \n",
    "For example,"
   ]
  },
  {
   "cell_type": "code",
   "execution_count": 5,
   "metadata": {
    "collapsed": true
   },
   "outputs": [],
   "source": [
    "# writing to files\n",
    "file_open = open('my_file.txt', 'w') #This creates/open a file called my_file.txt so that we can write to the file\n",
    "file_open.write(\"This is my first line this is a huge manuscript\")\n",
    "file_open.close() # every file open must be closed"
   ]
  },
  {
   "cell_type": "code",
   "execution_count": 6,
   "metadata": {},
   "outputs": [
    {
     "name": "stdout",
     "output_type": "stream",
     "text": [
      "This is my first line this is a huge manuscript\n"
     ]
    }
   ],
   "source": [
    "# open file\n",
    "\n",
    "file_open = open('my_file.txt', 'r') # this opens an existing file calle dmy_file.txt\n",
    "file_content = file_open.read()\n",
    "file_open.close()\n",
    "print(file_content)"
   ]
  },
  {
   "cell_type": "code",
   "execution_count": 7,
   "metadata": {},
   "outputs": [
    {
     "data": {
      "text/plain": [
       "'This is my first line this is a huge manuscriptI am appending this new info to my existing file to take records'"
      ]
     },
     "execution_count": 7,
     "metadata": {},
     "output_type": "execute_result"
    }
   ],
   "source": [
    "# we can append to a file by changing our mode to 'a'\n",
    "file_append = open('my_file.txt', 'a')\n",
    "file_append.write('I am appending this new info to my existing file to take records')\n",
    "file_append.close()\n",
    "\n",
    "\n",
    "file_check = open(\"my_file.txt\",'r')\n",
    "file_update = file_check.read()\n",
    "file_check.close()\n",
    "file_update"
   ]
  },
  {
   "cell_type": "markdown",
   "metadata": {},
   "source": [
    "### Using the with function"
   ]
  },
  {
   "cell_type": "code",
   "execution_count": 8,
   "metadata": {},
   "outputs": [
    {
     "name": "stdout",
     "output_type": "stream",
     "text": [
      "This is my first line this is a huge manuscriptI am appending this new info to my existing file to take records\n"
     ]
    }
   ],
   "source": [
    "# the with function helps us to open the file and close without us using the close attribute of a file\n",
    "# once the information within the with block is executed the file closes and we are cool\n",
    "with open(\"my_file.txt\", 'r') as file_info:\n",
    "    read_data = file_info.read()\n",
    "    print(read_data)"
   ]
  },
  {
   "cell_type": "markdown",
   "metadata": {},
   "source": [
    "### Attributes of a file"
   ]
  },
  {
   "cell_type": "raw",
   "metadata": {},
   "source": [
    "We have the read, readline, readlines, write, writelines, readable, mode as attributes of a file"
   ]
  },
  {
   "cell_type": "code",
   "execution_count": 5,
   "metadata": {},
   "outputs": [],
   "source": [
    "# for example\n",
    "with open('my_file.txt', 'a') as test_file:\n",
    "    test_file.writelines(['I am new here', 'I am also a new line', \"I am the third line\"])"
   ]
  },
  {
   "cell_type": "code",
   "execution_count": 8,
   "metadata": {},
   "outputs": [
    {
     "name": "stdout",
     "output_type": "stream",
     "text": [
      "Thi\n",
      "s is my first line this is a huge manuscriptI am appending this new info to my existing file to take recordsI am new hereI am also a new lineI am the third lineI am new hereI am also a new lineI am the third lineI am new hereI am also a new lineI am the third lineI am new hereI am also a new lineI am the third lineI am new hereI am also a new lineI am the third line\n"
     ]
    }
   ],
   "source": [
    "# if you want to print in bytes (for example print the first 3 bytes)\n",
    "with open('my_file.txt','r') as tx:\n",
    "    read_byte = tx.read(3) # prints the first 3 byte\n",
    "    read_others = tx.read() # prints others in the file\n",
    "    print(read_byte)\n",
    "    print(read_others)"
   ]
  },
  {
   "cell_type": "code",
   "execution_count": 10,
   "metadata": {},
   "outputs": [
    {
     "name": "stdout",
     "output_type": "stream",
     "text": [
      "['This is my first line this is a huge manuscriptI am appending this new info to my existing file to take recordsI am new hereI am also a new lineI am the third lineI am new hereI am also a new lineI am the third lineI am new hereI am also a new lineI am the third lineI am new hereI am also a new lineI am the third lineI am new hereI am also a new lineI am the third line']\n"
     ]
    }
   ],
   "source": [
    "# using the readlines attribute\n",
    "with open('my_file.txt','r') as tx:\n",
    "    read_byte = tx.readlines()\n",
    "    print(read_byte)"
   ]
  },
  {
   "cell_type": "markdown",
   "metadata": {},
   "source": [
    "## Exceptions"
   ]
  },
  {
   "cell_type": "raw",
   "metadata": {},
   "source": [
    "one of the best way to handle errors/exceptions is to use the try/else/except block\n",
    "this block is of this format\n",
    "\n",
    "try:\n",
    "    # run this block\n",
    "except:\n",
    "    # run this block if there is an error in the try block\n",
    "    \n",
    "else:\n",
    "    # run this block if the try fails to execute and there is no error/Exception\n",
    "    \n",
    "finally:\n",
    "    # always run this block irrespective of any error in previous blocks\n",
    "    \n",
    "    \n",
    " # to raise an exception we use the raise()"
   ]
  },
  {
   "cell_type": "code",
   "execution_count": 27,
   "metadata": {},
   "outputs": [
    {
     "name": "stdout",
     "output_type": "stream",
     "text": [
      "you have a value error caught from the try block, am only notifying you\n",
      "I will always run irrepective of what we have in the other blocks\n"
     ]
    }
   ],
   "source": [
    "def raise_error():\n",
    "    raise ValueError('This is a value error') # we are trying to raise a value error\n",
    "    return\n",
    "\n",
    "\n",
    "try:\n",
    "    raise_error() # we are trying to call function that raises a valueError\n",
    "except ValueError as err:\n",
    "    print('you have a value error caught from the try block, am only notifying you')\n",
    "finally:\n",
    "    print('I will always run irrepective of what we have in the other blocks')"
   ]
  },
  {
   "cell_type": "raw",
   "metadata": {},
   "source": [
    "This implies that you can manage and trace down bugs in your code via exception/error handling"
   ]
  },
  {
   "cell_type": "code",
   "execution_count": null,
   "metadata": {
    "collapsed": true
   },
   "outputs": [],
   "source": []
  }
 ],
 "metadata": {
  "kernelspec": {
   "display_name": "Python 3",
   "language": "python",
   "name": "python3"
  },
  "language_info": {
   "codemirror_mode": {
    "name": "ipython",
    "version": 3
   },
   "file_extension": ".py",
   "mimetype": "text/x-python",
   "name": "python",
   "nbconvert_exporter": "python",
   "pygments_lexer": "ipython3",
   "version": "3.6.2"
  }
 },
 "nbformat": 4,
 "nbformat_minor": 2
}
