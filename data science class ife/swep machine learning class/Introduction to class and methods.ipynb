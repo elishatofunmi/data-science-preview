{
 "cells": [
  {
   "cell_type": "markdown",
   "metadata": {},
   "source": [
    "# What are classes and what are methods?"
   ]
  },
  {
   "cell_type": "raw",
   "metadata": {},
   "source": [
    "Classes are inbuilt objects in python or A Class is like an object constructor, or a \"blueprint\" for creating objects.\n",
    "Methods are known as functions defined in a class.\n",
    "A class can be created by using 'class', just as we have 'def' for functions"
   ]
  },
  {
   "cell_type": "markdown",
   "metadata": {},
   "source": [
    "## Abstraction and Inheritance"
   ]
  },
  {
   "cell_type": "raw",
   "metadata": {},
   "source": [
    "The term abstraction is strongly used in Object oriented programming to denote hidden operations taking place \n",
    "behind the scene of what we are actually seeing. While inheritance is more or less like attribute assignment \n",
    "to an object or variable that doesn't possess such attribute initially.\n",
    "\n",
    "Lets have loads of examples"
   ]
  },
  {
   "cell_type": "code",
   "execution_count": 21,
   "metadata": {},
   "outputs": [
    {
     "name": "stdout",
     "output_type": "stream",
     "text": [
      "==========================================================================================\n",
      "I am class A\n",
      "This init method in class A gets to run as long as you instantiate this class A\n",
      "Variables can be declared here, that are local to this class\n",
      "Only methods defined in this class have access to this variables using self\n",
      "self is an attribute call of oneself\n",
      "==========================================================================================\n",
      "\n",
      "\n"
     ]
    }
   ],
   "source": [
    "class A:\n",
    "    def __init__(self, name): #this class takes in a parameter called name\n",
    "        self.name = name # we are therefore making name global to the functions in this class but local to this class.\n",
    "        self.list_names = [] # creating a list where all names gets saved to.\n",
    "        \n",
    "        \n",
    "        \n",
    "        \"\"\"\n",
    "        self.list_names, the self present before the list_names makes the list \n",
    "        called list_name accessible by other methods in the class.\n",
    "        \n",
    "        nevertheless, self.list_names also means A.list_names, that is list_names is an attribute of class\n",
    "        A and it can be used outside this class as long as the class is instantiated as an object.\n",
    "        \"\"\"\n",
    "        \n",
    "        print('==='*30)\n",
    "        print(\"I am class A\")\n",
    "        print(\"This init method in class A gets to run as long as you instantiate this class A\")\n",
    "        print('Variables can be declared here, that are local to this class')\n",
    "        print(\"Only methods defined in this class have access to this variables using self\")\n",
    "        print('self is an attribute call of oneself')\n",
    "        print('==='*30)\n",
    "        print('')\n",
    "        print('')\n",
    "        \n",
    "    \n",
    "    def show_name(self):\n",
    "        return 'Your name is: ', self.name\n",
    "    \n",
    "    def save_name(self):\n",
    "        self.list_names.append(self.name)\n",
    "        return \n",
    "    \n",
    "    def add_to_name(self, val): \n",
    "        \"\"\"\n",
    "        val is a variable that is local to the function add_to_name but not global\n",
    "        to the class A, it can be made global by defining it as self.val, then you can access it as self.val\n",
    "        \"\"\"\n",
    "        if type(val) == str: # checks if argument being passed to function add_to_name is a string\n",
    "            self.list_names.append(val)\n",
    "        elif type(val) == list: # checks is argument being passed to add_to_name is a list\n",
    "            self.list_names.extend(val)\n",
    "        elif (isinstance(val,dict)): # checks if argument being passed to add_to_name has an attribute of a dictionary\n",
    "            self.list_names.extend(val.values)\n",
    "        else:\n",
    "            pass\n",
    "        return\n",
    "    \n",
    "    def get_saved_names(self):\n",
    "        return self.list_names\n",
    "    \n",
    "    \n",
    "test_A = A('busayo') # this is how we instantiate a class"
   ]
  },
  {
   "cell_type": "code",
   "execution_count": 22,
   "metadata": {},
   "outputs": [
    {
     "data": {
      "text/plain": [
       "('Your name is: ', 'busayo')"
      ]
     },
     "execution_count": 22,
     "metadata": {},
     "output_type": "execute_result"
    }
   ],
   "source": [
    "test_A.show_name()"
   ]
  },
  {
   "cell_type": "code",
   "execution_count": 23,
   "metadata": {
    "collapsed": true
   },
   "outputs": [],
   "source": [
    "test_A.save_name() # saving the name being passed as an argument initially to the list of names"
   ]
  },
  {
   "cell_type": "code",
   "execution_count": 24,
   "metadata": {
    "collapsed": true
   },
   "outputs": [],
   "source": [
    "test_A.add_to_name(['sade', 'kehinde', 'bolaji', 'tarzan']) # adding a bunch of name as a list"
   ]
  },
  {
   "cell_type": "code",
   "execution_count": 25,
   "metadata": {},
   "outputs": [
    {
     "data": {
      "text/plain": [
       "['busayo', 'sade', 'kehinde', 'bolaji', 'tarzan']"
      ]
     },
     "execution_count": 25,
     "metadata": {},
     "output_type": "execute_result"
    }
   ],
   "source": [
    "test_A.get_saved_names() # prints out all names being saved"
   ]
  },
  {
   "cell_type": "markdown",
   "metadata": {},
   "source": [
    "## Class Attributes"
   ]
  },
  {
   "cell_type": "raw",
   "metadata": {},
   "source": [
    "To check if a class has a particular attribute/method/list/dict/str/int\n",
    "\n",
    "use hasattr(name_of_class,attribute_you_want_to_find)"
   ]
  },
  {
   "cell_type": "code",
   "execution_count": 28,
   "metadata": {},
   "outputs": [
    {
     "data": {
      "text/plain": [
       "True"
      ]
     },
     "execution_count": 28,
     "metadata": {},
     "output_type": "execute_result"
    }
   ],
   "source": [
    "# for example\n",
    "\n",
    "hasattr(test_A,'get_saved_names') # this is to test if test_A which is a class has a method/attribute called 'get_saved_names'"
   ]
  },
  {
   "cell_type": "markdown",
   "metadata": {},
   "source": [
    "## Inheritance"
   ]
  },
  {
   "cell_type": "raw",
   "metadata": {},
   "source": [
    "This is when we have a class inheriting the attributes of another class, such classes are called super classes.\n",
    "for example class B is a super class"
   ]
  },
  {
   "cell_type": "code",
   "execution_count": 32,
   "metadata": {},
   "outputs": [
    {
     "name": "stdout",
     "output_type": "stream",
     "text": [
      "==========================================================================================\n",
      "I am class A\n",
      "This init method in class A gets to run as long as you instantiate this class A\n",
      "Variables can be declared here, that are local to this class\n",
      "Only methods defined in this class have access to this variables using self\n",
      "self is an attribute call of oneself\n",
      "==========================================================================================\n",
      "\n",
      "\n",
      "I am a super class\n"
     ]
    }
   ],
   "source": [
    "class B(A):\n",
    "    def __init__(self):\n",
    "        super().__init__(self)\n",
    "        print(\"I am a super class\")\n",
    "        \n",
    "    def extra_method(self):\n",
    "        print(\" I am method extra, class A does not have this method, you can only access me through class B\")\n",
    "    \n",
    "test_B = B()"
   ]
  },
  {
   "cell_type": "code",
   "execution_count": 33,
   "metadata": {},
   "outputs": [
    {
     "name": "stdout",
     "output_type": "stream",
     "text": [
      " I am method extra, class A does not have this method, you can only access me through class B\n"
     ]
    }
   ],
   "source": [
    "test_B.extra_method()"
   ]
  },
  {
   "cell_type": "raw",
   "metadata": {},
   "source": [
    "Note:when we instantiate class B, the init method of class A got called so also the init method of class B\n",
    "test_B now has all attributes of class A. That is test_B can be called as if we are calling class A.\n",
    "For example"
   ]
  },
  {
   "cell_type": "code",
   "execution_count": 34,
   "metadata": {},
   "outputs": [
    {
     "data": {
      "text/plain": [
       "('Your name is: ', 'Gbolahan')"
      ]
     },
     "execution_count": 34,
     "metadata": {},
     "output_type": "execute_result"
    }
   ],
   "source": [
    "test_B.name = 'Gbolahan'\n",
    "test_B.show_name()"
   ]
  },
  {
   "cell_type": "code",
   "execution_count": 35,
   "metadata": {
    "collapsed": true
   },
   "outputs": [],
   "source": [
    "test_B.save_name()"
   ]
  },
  {
   "cell_type": "code",
   "execution_count": 36,
   "metadata": {
    "collapsed": true
   },
   "outputs": [],
   "source": [
    "test_B.add_to_name(['jibola', 'taiwo', 'olajide', 'kaduna'])"
   ]
  },
  {
   "cell_type": "code",
   "execution_count": 37,
   "metadata": {},
   "outputs": [
    {
     "data": {
      "text/plain": [
       "['Gbolahan', 'jibola', 'taiwo', 'olajide', 'kaduna']"
      ]
     },
     "execution_count": 37,
     "metadata": {},
     "output_type": "execute_result"
    }
   ],
   "source": [
    "test_B.get_saved_names()"
   ]
  },
  {
   "cell_type": "raw",
   "metadata": {},
   "source": [
    "Therefore we can say Class B inherited the attributes of Class A.\n",
    "Also, how each method of a class works is called abstraction"
   ]
  },
  {
   "cell_type": "markdown",
   "metadata": {},
   "source": [
    "## Modules and packages"
   ]
  },
  {
   "cell_type": "raw",
   "metadata": {},
   "source": [
    "Modules comprises of classes and packages makes up what we call modules"
   ]
  },
  {
   "cell_type": "code",
   "execution_count": null,
   "metadata": {
    "collapsed": true
   },
   "outputs": [],
   "source": []
  }
 ],
 "metadata": {
  "kernelspec": {
   "display_name": "Python 3",
   "language": "python",
   "name": "python3"
  },
  "language_info": {
   "codemirror_mode": {
    "name": "ipython",
    "version": 3
   },
   "file_extension": ".py",
   "mimetype": "text/x-python",
   "name": "python",
   "nbconvert_exporter": "python",
   "pygments_lexer": "ipython3",
   "version": "3.6.2"
  }
 },
 "nbformat": 4,
 "nbformat_minor": 2
}
