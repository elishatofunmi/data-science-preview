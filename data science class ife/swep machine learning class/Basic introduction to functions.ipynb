{
 "cells": [
  {
   "cell_type": "markdown",
   "metadata": {},
   "source": [
    "# functions"
   ]
  },
  {
   "cell_type": "markdown",
   "metadata": {},
   "source": [
    "## what are functions?"
   ]
  },
  {
   "cell_type": "raw",
   "metadata": {
    "collapsed": true
   },
   "source": [
    "A function can be defined as a block of reusable codes to perform specific tasks"
   ]
  },
  {
   "cell_type": "raw",
   "metadata": {},
   "source": [
    "functions are simply denoted in python as 'def'\n",
    "\n",
    "QUESTION: What is 'def'\n",
    "\n",
    "ANSWER: def is an in-built function in python. Once you start with the 'def' then python knows whatever comes after is the function name. That is, python knows that you want to create a function.\n",
    "\n",
    "Note: After defining the function name the next is to end with a parentheses.\n",
    "for example def Name(), this Name is a function because it ends with a parentheses, that makes it a \n",
    "valid function."
   ]
  },
  {
   "cell_type": "markdown",
   "metadata": {},
   "source": [
    "# Types of functions"
   ]
  },
  {
   "cell_type": "raw",
   "metadata": {},
   "source": [
    "functions that returns an output are called Non-Null functions\n",
    "functions that doesn't return an output are called null functions\n",
    "functions that call another function are called super functions"
   ]
  },
  {
   "cell_type": "code",
   "execution_count": 1,
   "metadata": {
    "collapsed": true
   },
   "outputs": [],
   "source": [
    "\n",
    "\n",
    "def test_one(): # this is a non-null function because it returns 'welcome home'\n",
    "    return 'Welcome home'\n",
    "\n",
    "def test_two(): # this is a null function because it doesn't return all it does is to print out 'welcome home\n",
    "    print('Welcome home')\n",
    "    return\n",
    "\n",
    "def test_three(): # This is a super function, this function makes use of a function called test_one.\n",
    "    return test_one()"
   ]
  },
  {
   "cell_type": "markdown",
   "metadata": {},
   "source": [
    "# How do you call a function"
   ]
  },
  {
   "cell_type": "raw",
   "metadata": {},
   "source": [
    "you call a function by calling the function name alongside the parentheses for example to call test_one\n",
    "we run 'test_one()'\n",
    "\n",
    "def test_one():\n",
    "    return 'welcome home'\n",
    "    \n",
    "test_one() # This is how to call a function"
   ]
  },
  {
   "cell_type": "markdown",
   "metadata": {},
   "source": [
    "# parametric functions and non-parametric functions"
   ]
  },
  {
   "cell_type": "code",
   "execution_count": 2,
   "metadata": {
    "collapsed": true
   },
   "outputs": [],
   "source": [
    "#A function that takes in parameters are called parametric functions while those functions that don't take\n",
    "#in parameters are called non_parametric function\n",
    "\n",
    "def my_name_one(name = 'my name'): # this is a parametric function because it takes in an argument called name\n",
    "    return 'This is ', name # when this function is called by default it prints out 'This is my name'\n",
    "\n",
    "\n",
    "def my_name_two(name):\n",
    "    return 'This is ', name\n",
    "\n",
    "\n",
    "# Both function my_name_one and my_name_two are both called parametric function because they require you\n",
    "# to pass in a parameter for it to do what you want them to do. "
   ]
  },
  {
   "cell_type": "code",
   "execution_count": 3,
   "metadata": {},
   "outputs": [
    {
     "data": {
      "text/plain": [
       "('This is ', 'my name')"
      ]
     },
     "execution_count": 3,
     "metadata": {},
     "output_type": "execute_result"
    }
   ],
   "source": [
    "my_name_two('my name') # this won't run without you passing in a parameter"
   ]
  },
  {
   "cell_type": "code",
   "execution_count": 4,
   "metadata": {},
   "outputs": [
    {
     "data": {
      "text/plain": [
       "('This is ', 'my name')"
      ]
     },
     "execution_count": 4,
     "metadata": {},
     "output_type": "execute_result"
    }
   ],
   "source": [
    "my_name_one() # this will run irrespective of their passing in a parameter (default mode)"
   ]
  },
  {
   "cell_type": "code",
   "execution_count": 5,
   "metadata": {},
   "outputs": [
    {
     "data": {
      "text/plain": [
       "('This is ', 'yes')"
      ]
     },
     "execution_count": 5,
     "metadata": {},
     "output_type": "execute_result"
    }
   ],
   "source": [
    "my_name_one(name = 'yes') # This will give you an output then replace name with 'yes'"
   ]
  },
  {
   "cell_type": "markdown",
   "metadata": {},
   "source": [
    "# parametric order"
   ]
  },
  {
   "cell_type": "code",
   "execution_count": 7,
   "metadata": {},
   "outputs": [
    {
     "data": {
      "text/plain": [
       "('this is a ', tuple)"
      ]
     },
     "execution_count": 7,
     "metadata": {},
     "output_type": "execute_result"
    }
   ],
   "source": [
    "# for every form of functions we have, we have functions that takes in multiple arguments\n",
    "# arguments like tuples, dictionaries, list e.t.c.\n",
    "\n",
    "def func_tuples(*name): # this is a function that takes in an argument called name which happens to be a tuple\n",
    "    return 'this is a ',type(name) # this function returns the type (tuple)\n",
    "\n",
    "def func_dict(**arg):# this function takes in dictionaries as its argument\n",
    "    return 'this is of type ',type(arg) # this function returns the type (dict)\n",
    "\n",
    "# this implies that for every argument in a function with an asterik in front of an variable name, that implies\n",
    "# that the name is actually a tuple being passed as an argument to the function.\n",
    "\n",
    "# So also if we have two asteriks in front of a variable name, that implies that the name is actually a dictionary\n",
    "# being passed as an argument.\n",
    "\n",
    "# for example\n",
    "this_tuple = (3,4,5) # this is a tuple of 3 inputs\n",
    "this_dictionary = {'a':3, 'b':4,'c':5} # this is a dictionary\n",
    "func_tuples(this_tuple)"
   ]
  },
  {
   "cell_type": "code",
   "execution_count": 8,
   "metadata": {},
   "outputs": [
    {
     "data": {
      "text/plain": [
       "('this is of type ', dict)"
      ]
     },
     "execution_count": 8,
     "metadata": {},
     "output_type": "execute_result"
    }
   ],
   "source": [
    "func_dict(**this_dictionary)"
   ]
  },
  {
   "cell_type": "code",
   "execution_count": 18,
   "metadata": {},
   "outputs": [
    {
     "name": "stdout",
     "output_type": "stream",
     "text": [
      "We are in operating mode D\n"
     ]
    },
    {
     "data": {
      "text/plain": [
       "{'a': 5, 'b': 6}"
      ]
     },
     "execution_count": 18,
     "metadata": {},
     "output_type": "execute_result"
    }
   ],
   "source": [
    "# what if we have multiple parameters\n",
    "\n",
    "def multiple_param_func(x,y,*name,val, operating_mode = 'A'):\n",
    "    \n",
    "    \"\"\"# this helps us to define all parameters in the function\n",
    "    x: is of type int\n",
    "    y: is of type int\n",
    "    name: is of type tuple\n",
    "    val: is of type dictionary\n",
    "    operating_mode: is of type str\n",
    "    \"\"\"\n",
    "    \n",
    "    \n",
    "    if operating_mode.upper() == 'A':\n",
    "        print('We are in operating mode A')\n",
    "        return_val = x+y\n",
    "    elif operating_mode.upper() == 'B':\n",
    "        print('We are in operating mode B')\n",
    "        return_val = x -y\n",
    "    elif operating_mode.upper() == 'C':\n",
    "        print('We are in operating mode C')\n",
    "        return_val = name[0] + name[1]\n",
    "    elif operating_mode.upper() == 'D':\n",
    "        print('We are in operating mode D')\n",
    "        return_val = val\n",
    "    else:\n",
    "        print('Define your mode of operation')\n",
    "    return return_val\n",
    "\n",
    "\n",
    "data_dict =  {'a':5, 'b':6}\n",
    "multiple_param_func(2,3,(3,4),val = data_dict,operating_mode = 'd')\n",
    "        "
   ]
  },
  {
   "cell_type": "code",
   "execution_count": 20,
   "metadata": {},
   "outputs": [
    {
     "data": {
      "text/plain": [
       "({'a': 5, 'b': 6}, ('a', 'b'))"
      ]
     },
     "execution_count": 20,
     "metadata": {},
     "output_type": "execute_result"
    }
   ],
   "source": [
    "data_dict,tuple(data_dict)"
   ]
  },
  {
   "cell_type": "code",
   "execution_count": 23,
   "metadata": {},
   "outputs": [
    {
     "name": "stdout",
     "output_type": "stream",
     "text": [
      "House  A  Costs  10000\n",
      "House  B  Costs  40000\n",
      "House  C  Costs  25000\n",
      "House  D  Costs  13000\n",
      "House  E  Costs  29000\n"
     ]
    }
   ],
   "source": [
    "# lets write a function that takes in a dictionary of house names and their prices\n",
    "\n",
    "dict_houses = {'A':10000,'B':40000,'C':25000,'D':13000,'E':29000}\n",
    "\n",
    "\n",
    "def display_houses(houses):\n",
    "    # this implies that houses have to be a dict\n",
    "    for i in houses.keys():\n",
    "        print('House ',i, ' Costs ', houses[i])\n",
    "    return\n",
    "\n",
    "# this function is a null function because it does not return\n",
    "# anything all it does is to print\n",
    "display_houses(dict_houses) \n"
   ]
  },
  {
   "cell_type": "code",
   "execution_count": 24,
   "metadata": {},
   "outputs": [
    {
     "name": "stdout",
     "output_type": "stream",
     "text": [
      "What is your name: Einstein\n"
     ]
    },
    {
     "data": {
      "text/plain": [
       "('your name is', 'Einstein')"
      ]
     },
     "execution_count": 24,
     "metadata": {},
     "output_type": "execute_result"
    }
   ],
   "source": [
    "# let's write a function that gets your name and then prints it\n",
    "\n",
    "def get_my_name():\n",
    "    x = input('What is your name: ')\n",
    "    return 'your name is', x\n",
    "\n",
    "get_my_name()"
   ]
  },
  {
   "cell_type": "code",
   "execution_count": null,
   "metadata": {
    "collapsed": true
   },
   "outputs": [],
   "source": []
  }
 ],
 "metadata": {
  "kernelspec": {
   "display_name": "Python 3",
   "language": "python",
   "name": "python3"
  },
  "language_info": {
   "codemirror_mode": {
    "name": "ipython",
    "version": 3
   },
   "file_extension": ".py",
   "mimetype": "text/x-python",
   "name": "python",
   "nbconvert_exporter": "python",
   "pygments_lexer": "ipython3",
   "version": "3.6.2"
  }
 },
 "nbformat": 4,
 "nbformat_minor": 2
}
