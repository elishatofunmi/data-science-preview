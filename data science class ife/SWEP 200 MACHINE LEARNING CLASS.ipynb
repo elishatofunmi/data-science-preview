{
 "cells": [
  {
   "cell_type": "code",
   "execution_count": 2,
   "metadata": {},
   "outputs": [],
   "source": [
    "# myCourse is a tuple that contains my part 2 courses\n",
    "\n",
    "myCourses = ('EEE 203', 'MEE 203', 'MEE 206', 'CHE 201', 'MSC 201')"
   ]
  },
  {
   "cell_type": "code",
   "execution_count": 3,
   "metadata": {},
   "outputs": [
    {
     "data": {
      "text/plain": [
       "tuple"
      ]
     },
     "execution_count": 3,
     "metadata": {},
     "output_type": "execute_result"
    }
   ],
   "source": [
    "type(myCourses)"
   ]
  },
  {
   "cell_type": "code",
   "execution_count": 4,
   "metadata": {},
   "outputs": [
    {
     "data": {
      "text/plain": [
       "int"
      ]
     },
     "execution_count": 4,
     "metadata": {},
     "output_type": "execute_result"
    }
   ],
   "source": [
    "Name = 25\n",
    "type(Name)"
   ]
  },
  {
   "cell_type": "code",
   "execution_count": 5,
   "metadata": {},
   "outputs": [
    {
     "data": {
      "text/plain": [
       "list"
      ]
     },
     "execution_count": 5,
     "metadata": {},
     "output_type": "execute_result"
    }
   ],
   "source": [
    "myCourses_list = list(myCourses)\n",
    "type(myCourses_list)"
   ]
  },
  {
   "cell_type": "code",
   "execution_count": 6,
   "metadata": {},
   "outputs": [
    {
     "data": {
      "text/plain": [
       "tuple"
      ]
     },
     "execution_count": 6,
     "metadata": {},
     "output_type": "execute_result"
    }
   ],
   "source": [
    "my_List = ['EEE 203', 'MEE 203', 'MEE 206', 'CHE 201', 'MSC 201']\n",
    "my_List_tuple = tuple(my_List)\n",
    "type(my_List_tuple)"
   ]
  },
  {
   "cell_type": "code",
   "execution_count": 7,
   "metadata": {},
   "outputs": [
    {
     "data": {
      "text/plain": [
       "list"
      ]
     },
     "execution_count": 7,
     "metadata": {},
     "output_type": "execute_result"
    }
   ],
   "source": [
    "type(my_List)"
   ]
  },
  {
   "cell_type": "code",
   "execution_count": 8,
   "metadata": {},
   "outputs": [],
   "source": [
    "# two different lists one and two\n",
    "list_one = ['EEE 403','CHE 506', 'MEE 201']\n",
    "list_two = ['BSC 301', 'EEE 419', 'PHE 608']\n",
    "\n",
    "\n",
    "# to append\n",
    "list_one.append('wee')\n",
    "\n"
   ]
  },
  {
   "cell_type": "code",
   "execution_count": 9,
   "metadata": {},
   "outputs": [
    {
     "data": {
      "text/plain": [
       "['EEE 403', 'CHE 506', 'MEE 201', 'wee']"
      ]
     },
     "execution_count": 9,
     "metadata": {},
     "output_type": "execute_result"
    }
   ],
   "source": [
    "list_one"
   ]
  },
  {
   "cell_type": "code",
   "execution_count": 12,
   "metadata": {},
   "outputs": [],
   "source": [
    "# to copy\n",
    "list_one_copy = list_one.copy()"
   ]
  },
  {
   "cell_type": "code",
   "execution_count": 13,
   "metadata": {},
   "outputs": [
    {
     "data": {
      "text/plain": [
       "['EEE 403', 'CHE 506', 'MEE 201', 'wee']"
      ]
     },
     "execution_count": 13,
     "metadata": {},
     "output_type": "execute_result"
    }
   ],
   "source": [
    "list_one_copy"
   ]
  },
  {
   "cell_type": "code",
   "execution_count": 14,
   "metadata": {},
   "outputs": [
    {
     "data": {
      "text/plain": [
       "[]"
      ]
     },
     "execution_count": 14,
     "metadata": {},
     "output_type": "execute_result"
    }
   ],
   "source": [
    "# clear attribute of a list\n",
    "list_one_copy.clear()\n",
    "list_one_copy"
   ]
  },
  {
   "cell_type": "code",
   "execution_count": null,
   "metadata": {},
   "outputs": [],
   "source": []
  },
  {
   "cell_type": "code",
   "execution_count": 15,
   "metadata": {},
   "outputs": [
    {
     "name": "stdout",
     "output_type": "stream",
     "text": [
      "Help on list object:\n",
      "\n",
      "class list(object)\n",
      " |  list() -> new empty list\n",
      " |  list(iterable) -> new list initialized from iterable's items\n",
      " |  \n",
      " |  Methods defined here:\n",
      " |  \n",
      " |  __add__(self, value, /)\n",
      " |      Return self+value.\n",
      " |  \n",
      " |  __contains__(self, key, /)\n",
      " |      Return key in self.\n",
      " |  \n",
      " |  __delitem__(self, key, /)\n",
      " |      Delete self[key].\n",
      " |  \n",
      " |  __eq__(self, value, /)\n",
      " |      Return self==value.\n",
      " |  \n",
      " |  __ge__(self, value, /)\n",
      " |      Return self>=value.\n",
      " |  \n",
      " |  __getattribute__(self, name, /)\n",
      " |      Return getattr(self, name).\n",
      " |  \n",
      " |  __getitem__(...)\n",
      " |      x.__getitem__(y) <==> x[y]\n",
      " |  \n",
      " |  __gt__(self, value, /)\n",
      " |      Return self>value.\n",
      " |  \n",
      " |  __iadd__(self, value, /)\n",
      " |      Implement self+=value.\n",
      " |  \n",
      " |  __imul__(self, value, /)\n",
      " |      Implement self*=value.\n",
      " |  \n",
      " |  __init__(self, /, *args, **kwargs)\n",
      " |      Initialize self.  See help(type(self)) for accurate signature.\n",
      " |  \n",
      " |  __iter__(self, /)\n",
      " |      Implement iter(self).\n",
      " |  \n",
      " |  __le__(self, value, /)\n",
      " |      Return self<=value.\n",
      " |  \n",
      " |  __len__(self, /)\n",
      " |      Return len(self).\n",
      " |  \n",
      " |  __lt__(self, value, /)\n",
      " |      Return self<value.\n",
      " |  \n",
      " |  __mul__(self, value, /)\n",
      " |      Return self*value.n\n",
      " |  \n",
      " |  __ne__(self, value, /)\n",
      " |      Return self!=value.\n",
      " |  \n",
      " |  __new__(*args, **kwargs) from builtins.type\n",
      " |      Create and return a new object.  See help(type) for accurate signature.\n",
      " |  \n",
      " |  __repr__(self, /)\n",
      " |      Return repr(self).\n",
      " |  \n",
      " |  __reversed__(...)\n",
      " |      L.__reversed__() -- return a reverse iterator over the list\n",
      " |  \n",
      " |  __rmul__(self, value, /)\n",
      " |      Return self*value.\n",
      " |  \n",
      " |  __setitem__(self, key, value, /)\n",
      " |      Set self[key] to value.\n",
      " |  \n",
      " |  __sizeof__(...)\n",
      " |      L.__sizeof__() -- size of L in memory, in bytes\n",
      " |  \n",
      " |  append(...)\n",
      " |      L.append(object) -> None -- append object to end\n",
      " |  \n",
      " |  clear(...)\n",
      " |      L.clear() -> None -- remove all items from L\n",
      " |  \n",
      " |  copy(...)\n",
      " |      L.copy() -> list -- a shallow copy of L\n",
      " |  \n",
      " |  count(...)\n",
      " |      L.count(value) -> integer -- return number of occurrences of value\n",
      " |  \n",
      " |  extend(...)\n",
      " |      L.extend(iterable) -> None -- extend list by appending elements from the iterable\n",
      " |  \n",
      " |  index(...)\n",
      " |      L.index(value, [start, [stop]]) -> integer -- return first index of value.\n",
      " |      Raises ValueError if the value is not present.\n",
      " |  \n",
      " |  insert(...)\n",
      " |      L.insert(index, object) -- insert object before index\n",
      " |  \n",
      " |  pop(...)\n",
      " |      L.pop([index]) -> item -- remove and return item at index (default last).\n",
      " |      Raises IndexError if list is empty or index is out of range.\n",
      " |  \n",
      " |  remove(...)\n",
      " |      L.remove(value) -> None -- remove first occurrence of value.\n",
      " |      Raises ValueError if the value is not present.\n",
      " |  \n",
      " |  reverse(...)\n",
      " |      L.reverse() -- reverse *IN PLACE*\n",
      " |  \n",
      " |  sort(...)\n",
      " |      L.sort(key=None, reverse=False) -> None -- stable sort *IN PLACE*\n",
      " |  \n",
      " |  ----------------------------------------------------------------------\n",
      " |  Data and other attributes defined here:\n",
      " |  \n",
      " |  __hash__ = None\n",
      "\n"
     ]
    }
   ],
   "source": [
    "help(list_one_copy)"
   ]
  },
  {
   "cell_type": "code",
   "execution_count": null,
   "metadata": {},
   "outputs": [],
   "source": [
    "# count attribute of a list\n",
    "list_one.count('EEE 403')"
   ]
  },
  {
   "cell_type": "code",
   "execution_count": null,
   "metadata": {},
   "outputs": [],
   "source": [
    "# Extend attribute of a list\n",
    "list_one.extend(list_two)\n",
    "list_one"
   ]
  },
  {
   "cell_type": "code",
   "execution_count": null,
   "metadata": {},
   "outputs": [],
   "source": [
    "# Index attribute of a list\n",
    "list_one.index()"
   ]
  },
  {
   "cell_type": "code",
   "execution_count": 16,
   "metadata": {},
   "outputs": [
    {
     "data": {
      "text/plain": [
       "'KACHI'"
      ]
     },
     "execution_count": 16,
     "metadata": {},
     "output_type": "execute_result"
    }
   ],
   "source": [
    "name = 'kachi'\n",
    "name.upper()"
   ]
  },
  {
   "cell_type": "markdown",
   "metadata": {},
   "source": [
    "# Dictionaries"
   ]
  },
  {
   "cell_type": "code",
   "execution_count": 18,
   "metadata": {},
   "outputs": [],
   "source": [
    "# format eee 201,eee 403, che 303, msc 670\n",
    "student_one = ['A','F','D','C']\n",
    "student_two = ['B', 'A', 'B','C']\n",
    "student_three = ['F','F','F','E']\n",
    "student_four = ['E','E','E','A']\n",
    "student_five = ['E','D','E','F']\n",
    "\n",
    "dictionary_of_students = {'student_one': student_one,'student_two': student_two,\n",
    "                          'student_three':  student_three,'student_four':student_four,\n",
    "                         'student_five': student_five}"
   ]
  },
  {
   "cell_type": "code",
   "execution_count": 19,
   "metadata": {},
   "outputs": [
    {
     "data": {
      "text/plain": [
       "{'student_five': ['E', 'D', 'E', 'F'],\n",
       " 'student_four': ['E', 'E', 'E', 'A'],\n",
       " 'student_one': ['A', 'F', 'D', 'C'],\n",
       " 'student_three': ['F', 'F', 'F', 'E'],\n",
       " 'student_two': ['B', 'A', 'B', 'C']}"
      ]
     },
     "execution_count": 19,
     "metadata": {},
     "output_type": "execute_result"
    }
   ],
   "source": [
    "dictionary_of_students"
   ]
  },
  {
   "cell_type": "code",
   "execution_count": 20,
   "metadata": {},
   "outputs": [
    {
     "data": {
      "text/plain": [
       "['E', 'E', 'E', 'A']"
      ]
     },
     "execution_count": 20,
     "metadata": {},
     "output_type": "execute_result"
    }
   ],
   "source": [
    "dictionary_of_students['student_four']"
   ]
  },
  {
   "cell_type": "code",
   "execution_count": 21,
   "metadata": {},
   "outputs": [
    {
     "data": {
      "text/plain": [
       "'A'"
      ]
     },
     "execution_count": 21,
     "metadata": {},
     "output_type": "execute_result"
    }
   ],
   "source": [
    "dictionary_of_students['student_two'][1]"
   ]
  },
  {
   "cell_type": "code",
   "execution_count": 23,
   "metadata": {},
   "outputs": [
    {
     "data": {
      "text/plain": [
       "{'student_five': ['E', 'D', 'E', 'F'],\n",
       " 'student_four': ['E', 'E', 'E', 'A'],\n",
       " 'student_one': ['A', 'F', 'D', 'C'],\n",
       " 'student_three': ['F', 'F', 'F', 'E'],\n",
       " 'student_two': ['B', 'A', 'B', 'C']}"
      ]
     },
     "execution_count": 23,
     "metadata": {},
     "output_type": "execute_result"
    }
   ],
   "source": [
    "empty_dictionary = {}\n",
    "empty_dictionary['student_one'] = student_one\n",
    "empty_dictionary['student_two'] = student_two\n",
    "empty_dictionary['student_three'] = student_three\n",
    "empty_dictionary['student_four'] = student_four\n",
    "empty_dictionary['student_five'] = student_five\n",
    "\n",
    "empty_dictionary\n",
    "www.github.com/elishatofunmi/datascienceclass\n"
   ]
  },
  {
   "cell_type": "code",
   "execution_count": null,
   "metadata": {},
   "outputs": [],
   "source": [
    "# assuming no_of_students and no_of_lecturers are integers\n",
    "# being monitored from various sensors\n",
    "\n",
    "if no_of_lecturers == 5 and no_of_students == 0:\n",
    "    blow_white_house()\n",
    "else:\n",
    "    pass"
   ]
  },
  {
   "cell_type": "code",
   "execution_count": null,
   "metadata": {},
   "outputs": [],
   "source": [
    "# assuming no_of_students and no_of_lecturers are integers\n",
    "# being monitored from various sensors\n",
    "\n",
    "\n",
    "if no_of_lecturers == 5 and no_of_students == 0:\n",
    "    blow_white_house()\n",
    "elif no_of_lecturers == 4 and no_of_students == 1:\n",
    "    pass\n",
    "elif no_of_lecturers == 3 and no_of_students == 2:\n",
    "    continue\n",
    "elif no_of_lecturers == 2 and no_of_students == 3:\n",
    "    break\n",
    "elif no_of_lectureres == 1 and no_of_students == 4:\n",
    "    blow_yellow_house()\n",
    "else:\n",
    "    blow_spyder()"
   ]
  },
  {
   "cell_type": "code",
   "execution_count": 24,
   "metadata": {},
   "outputs": [
    {
     "name": "stdout",
     "output_type": "stream",
     "text": [
      "A\n",
      "F\n",
      "D\n",
      "C\n"
     ]
    }
   ],
   "source": [
    "for i in student_one:\n",
    "    print(i)"
   ]
  },
  {
   "cell_type": "code",
   "execution_count": 26,
   "metadata": {},
   "outputs": [
    {
     "name": "stdout",
     "output_type": "stream",
     "text": [
      "you are unserious\n",
      "you are unserious\n",
      "you are unserious\n",
      "you are unserious\n",
      "you are unserious\n",
      "you are unserious\n"
     ]
    }
   ],
   "source": [
    "value = 10\n",
    "while value >4:\n",
    "    print('you are unserious')\n",
    "    value = value - 1"
   ]
  },
  {
   "cell_type": "code",
   "execution_count": 2,
   "metadata": {},
   "outputs": [
    {
     "name": "stdout",
     "output_type": "stream",
     "text": [
      "welcome  Kehinde\n"
     ]
    }
   ],
   "source": [
    "def MyName(name = 'Kehinde'):\n",
    "    print('welcome ', name)\n",
    "    return\n",
    "MyName()"
   ]
  },
  {
   "cell_type": "code",
   "execution_count": 3,
   "metadata": {},
   "outputs": [
    {
     "name": "stdout",
     "output_type": "stream",
     "text": [
      "welcome  Elisha\n"
     ]
    }
   ],
   "source": [
    "MyName(name = 'Elisha')"
   ]
  },
  {
   "cell_type": "code",
   "execution_count": 9,
   "metadata": {},
   "outputs": [],
   "source": [
    "# create a calculator to do addition, subtraction, multiplication, division\n",
    "# square_root, power\n",
    "import math\n",
    "def calculator(x, y, mode = 'addition'):\n",
    "    variable = int()\n",
    "    if mode.lower() == 'addition':\n",
    "        variable = x + y\n",
    "    elif mode.lower() == 'subtraction':\n",
    "        variable = x - y\n",
    "    elif mode.lower() == 'multiplication':\n",
    "        variable = x * y\n",
    "    elif mode.lower() == 'division':\n",
    "        variable = x /y\n",
    "    elif mode.lower() == 'square_root':\n",
    "        user_input = input('Which of x or y:')\n",
    "        if user_input.lower() == 'x':\n",
    "            variable = math.sqrt(x)\n",
    "        else:\n",
    "            variable = math.sqrt(y)\n",
    "    elif mode.lower() == 'power':\n",
    "        user_input = input('Which of X or y: ')\n",
    "        user_power =input('to what power: ')\n",
    "        if user_input.lower() == 'x':\n",
    "            variable = pow(x, int(user_power))\n",
    "        else:\n",
    "            variable = pow(y, int(user_power))\n",
    "    else:\n",
    "        print('invalid mode, please use a valid mode')\n",
    "        print('They are: addition, subtraction, division, power, square root and multiplication')\n",
    "    return variable"
   ]
  },
  {
   "cell_type": "code",
   "execution_count": 10,
   "metadata": {},
   "outputs": [
    {
     "data": {
      "text/plain": [
       "5"
      ]
     },
     "execution_count": 10,
     "metadata": {},
     "output_type": "execute_result"
    }
   ],
   "source": [
    "calculator(2,3, mode = 'addition')"
   ]
  },
  {
   "cell_type": "code",
   "execution_count": 5,
   "metadata": {},
   "outputs": [
    {
     "data": {
      "text/plain": [
       "23"
      ]
     },
     "execution_count": 5,
     "metadata": {},
     "output_type": "execute_result"
    }
   ],
   "source": [
    "# project Euler question 1\n",
    "# www.projecteuler.net\n",
    "#problem1: multiple of 3 and 5\n",
    "    \n",
    "#    if we list the natural numbers below 10 that are multiples of 3\n",
    "#    and 5, we get 3,5,6,9. The sum of these multiples is 23.\n",
    "#    find the sum of the multiples of 3 and 5 below 1000.\n",
    "    \n",
    "\n",
    "# solution\n",
    "\n",
    "\n",
    "\n",
    "def multiples_of3or5_belowN(n):\n",
    "    variable = 0\n",
    "    for i in range(1,n):\n",
    "        if i % 3 == 0 or i % 5== 0:\n",
    "            variable += i\n",
    "        else:\n",
    "            pass\n",
    "    return variable\n",
    "\n",
    "multiples_of3or5_belowN(10)\n",
    "    \n"
   ]
  },
  {
   "cell_type": "code",
   "execution_count": 6,
   "metadata": {},
   "outputs": [
    {
     "data": {
      "text/plain": [
       "23"
      ]
     },
     "execution_count": 6,
     "metadata": {},
     "output_type": "execute_result"
    }
   ],
   "source": [
    "\n",
    "def multiples_of3or5_belowN(n):\n",
    "    append_list = []\n",
    "    for i in range(1,n):\n",
    "        if i % 3 == 0 or i % 5== 0:\n",
    "            append_list.append(i)\n",
    "        else:\n",
    "            pass\n",
    "    return sum(append_list)\n",
    "multiples_of3or5_belowN(10)"
   ]
  },
  {
   "cell_type": "code",
   "execution_count": 7,
   "metadata": {},
   "outputs": [
    {
     "data": {
      "text/plain": [
       "233168"
      ]
     },
     "execution_count": 7,
     "metadata": {},
     "output_type": "execute_result"
    }
   ],
   "source": [
    "multiples_of3or5_belowN(1000)"
   ]
  },
  {
   "cell_type": "code",
   "execution_count": null,
   "metadata": {},
   "outputs": [],
   "source": [
    "# problem 2\n",
    "\n",
    "Each new term in the fibonacci sequence is generated by adding the previous two terms. \n",
    "By starting with 1 and 2 the first 10 terms will be:\n",
    "    1,2,3,5,8,13,21,34,55,89,.....\n",
    "    by  considering the term in the fibonacci sequence whose values do not\n",
    "    exceed 4 million, find the sum of the even-valued term.\n",
    "    Answer == 4613732"
   ]
  }
 ],
 "metadata": {
  "kernelspec": {
   "display_name": "Python 3",
   "language": "python",
   "name": "python3"
  },
  "language_info": {
   "codemirror_mode": {
    "name": "ipython",
    "version": 3
   },
   "file_extension": ".py",
   "mimetype": "text/x-python",
   "name": "python",
   "nbconvert_exporter": "python",
   "pygments_lexer": "ipython3",
   "version": "3.5.6"
  }
 },
 "nbformat": 4,
 "nbformat_minor": 2
}
