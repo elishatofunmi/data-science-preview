{
 "cells": [
  {
   "cell_type": "code",
   "execution_count": 4,
   "metadata": {},
   "outputs": [
    {
     "data": {
      "text/plain": [
       "<tf.Variable 'var_theta_2:0' shape=(3, 1) dtype=float32_ref>"
      ]
     },
     "execution_count": 4,
     "metadata": {},
     "output_type": "execute_result"
    }
   ],
   "source": [
    "import tensorflow as tf\n",
    "\n",
    "import os\n",
    "# disables all tensorflow logs/errors\n",
    "os.environ['TF_CPP_MIN_LOG_LEVEL'] = '3' \n",
    "\n",
    "\n",
    "tf.Variable(tf.random_uniform([3,1], -1.0,1.0), name = 'var_theta')"
   ]
  },
  {
   "cell_type": "code",
   "execution_count": 7,
   "metadata": {},
   "outputs": [
    {
     "data": {
      "text/plain": [
       "<tf.Variable 'var_1:0' shape=(4,) dtype=float32_ref>"
      ]
     },
     "execution_count": 7,
     "metadata": {},
     "output_type": "execute_result"
    }
   ],
   "source": [
    "import numpy as np\n",
    "val_x = np.array([1,2,3,4])\n",
    "tf.Variable(val_x,dtype = tf.float32, name = 'var')"
   ]
  },
  {
   "cell_type": "code",
   "execution_count": null,
   "metadata": {},
   "outputs": [],
   "source": [
    "# to assign a variable to a value using tensorlfow use\n",
    "# w.assign(w+1.0)\n",
    "# w.assign_add(1.0)"
   ]
  },
  {
   "cell_type": "code",
   "execution_count": null,
   "metadata": {},
   "outputs": [],
   "source": [
    "x = tf.placeholder(tf.float32, shape=(1024, 1024))\n",
    "y = tf.matmul(x, x)\n",
    "\n",
    "with tf.Session() as sess:\n",
    "  print(sess.run(y))  # ERROR: will fail because x was not fed.\n",
    "\n",
    "  rand_array = np.random.rand(1024, 1024)\n",
    "  print(sess.run(y, feed_dict={x: rand_array}))  # Will succeed.\n",
    "\n",
    "\n",
    "Important: This tensor will produce an error if evaluated. Its value\n",
    "must be fed using the feed_dict optional argument to Session.run(), \n",
    "Tensor.eval(), or Operation.run()."
   ]
  },
  {
   "cell_type": "code",
   "execution_count": 10,
   "metadata": {},
   "outputs": [
    {
     "name": "stdout",
     "output_type": "stream",
     "text": [
      "[[6. 7. 8.]]\n"
     ]
    }
   ],
   "source": [
    "A = tf.placeholder(tf.float32, shape = (None, 3))\n",
    "B = A + 5\n",
    "\n",
    "with tf.Session() as sess:\n",
    "    b_val_1 = B.eval(feed_dict = {A: [[1,2,3]]})\n",
    "    b_val_2 = B.eval(feed_dict = {A:[[4,5,6],[7,8,9]]})\n",
    "print(b_val_1)"
   ]
  },
  {
   "cell_type": "code",
   "execution_count": 11,
   "metadata": {},
   "outputs": [
    {
     "name": "stdout",
     "output_type": "stream",
     "text": [
      "[[ 9. 10. 11.]\n",
      " [12. 13. 14.]]\n"
     ]
    }
   ],
   "source": [
    "print(b_val_2)"
   ]
  },
  {
   "cell_type": "code",
   "execution_count": 16,
   "metadata": {},
   "outputs": [],
   "source": [
    "\n",
    "n = 10\n",
    "m = 400\n",
    "x = tf.placeholder(tf.float32, shape = (None, n+1) , name = 'X')\n",
    "y = tf.placeholder(tf.float32, shape = (None, 1), name = 'y')\n",
    "batch_size = 100\n",
    "n_batches = int(np.ceil(m/batch_size))"
   ]
  },
  {
   "cell_type": "code",
   "execution_count": 17,
   "metadata": {},
   "outputs": [
    {
     "data": {
      "text/plain": [
       "4"
      ]
     },
     "execution_count": 17,
     "metadata": {},
     "output_type": "execute_result"
    }
   ],
   "source": [
    "n_batches"
   ]
  },
  {
   "cell_type": "code",
   "execution_count": 25,
   "metadata": {},
   "outputs": [],
   "source": [
    "init = tf.global_variables_initializer()\n",
    "n_epochs = 10\n",
    "learning_rate = 0.01\n",
    "\n",
    "theta = tf.Variable(tf.random_uniform([n+1, 1], -1,0, 1.0), name = 'theta')\n",
    "y_pred = tf.matmul(x, theta, name = 'predictions')\n",
    "error = y_pred - y\n",
    "mse = tf.reduce_mean(tf.square(error), name = 'mse')\n",
    "gradients = 2/m * tf.matmul(tf.transpose(x), error)\n",
    "\n",
    "training_op = tf.assign(theta, theta - learning_rate * gradients)\n",
    "\n",
    "\n",
    "def fetch_batch(epoch, batch_index, batch_size):\n",
    "    # no of epoch\n",
    "    n_epoch = epoch\n",
    "    \n",
    "    # load data from disk\n",
    "    return x_batch, y_batch\n",
    "\n",
    "\n",
    "with tf.Session() as sess:\n",
    "    sess.run(init)\n",
    "    \n",
    "    #for epoch in range(n_epochs):\n",
    "    #    for batch_index in range(n_batches):\n",
    "            #x_batch,y_batch = fetch_batch(epoch, batch_index, batch_size)\n",
    "            #sess.run(training_op, feed_dict = {X:x_batch, y: y_batch})\n",
    "            #best_theta = theta.eval()\n",
    "            \n",
    "            \n",
    "    saver = tf.train.Saver()\n",
    "    #save_path = saver.save(sess, '/desktop/new_model.ckpt')\n",
    "    \n",
    "    \n",
    "    # to restore model\n",
    "    #saver.restore(sess, '/desktop/new_model.ckpt')\n",
    "    \n",
    "    # to be specific on what you want to save as your model\n",
    "    # saver = tf.train.Saver({'weights': theta})\n",
    "    \n",
    "            \n",
    "            \n",
    "            "
   ]
  },
  {
   "cell_type": "code",
   "execution_count": 27,
   "metadata": {},
   "outputs": [],
   "source": [
    "# logging models with dates at the very beginning of our code\n",
    "# keeping records with time\n",
    "\n",
    "\n",
    "from datetime import datetime\n",
    "\n",
    "now = datetime.utcnow().strftime('%Y%m%d%H%M%S')\n",
    "root_logdir = 'tf_logs'\n",
    "logdir = '{}/run-{}'.format(root_logdir, now)\n",
    "\n",
    "\n",
    "# at the construction phase of the code\n",
    "mse_summary = tf.summary.scalar('MSE', mse)\n",
    "file_writer = tf.summary.FileWriter(logdir, tf.get_default_graph())"
   ]
  },
  {
   "cell_type": "code",
   "execution_count": 28,
   "metadata": {},
   "outputs": [
    {
     "name": "stdout",
     "output_type": "stream",
     "text": [
      "loss/sub loss/mse\n"
     ]
    }
   ],
   "source": [
    "# to group a graph with a particular node to a name we have\n",
    "\n",
    "with tf.name_scope('loss') as scope:\n",
    "    error = y_pred - y\n",
    "    mse = tf.reduce_mean(tf.square(error), name = 'mse')\n",
    "    \n",
    "print(error.op.name, mse.op.name)\n",
    "# the name of each operation in the scope is then prefixed with 'loss'"
   ]
  },
  {
   "cell_type": "code",
   "execution_count": 29,
   "metadata": {},
   "outputs": [],
   "source": [
    "def relu(x,w, b):\n",
    "    # returns the maximum value between the computed hypothesis and 0\n",
    "    # so we can't have a negative number as our output\n",
    "    return max(np.dot(x,w) + b, 0)"
   ]
  },
  {
   "cell_type": "code",
   "execution_count": 31,
   "metadata": {},
   "outputs": [],
   "source": [
    "#suppose we want to create a graph that adds the output of two rectified\n",
    "# linear units(RelU)\n",
    "# here is the implmentation\n",
    "\n",
    "\n",
    "n_features = 3\n",
    "X = tf.placeholder(tf.float32 , shape = (None, n_features), name = 'X')\n",
    "\n",
    "w1 = tf.Variable(tf.random_normal((n_features, 1)), name = 'weights1')\n",
    "w2 = tf.Variable(tf.random_normal((n_features,1)), name = 'weights2')\n",
    "b1 = tf.Variable(0.0, name = 'bias1')\n",
    "b2 = tf.Variable(0.0, name = 'bias2')\n",
    "\n",
    "z1 = tf.add(tf.matmul(X, w1), b1, name = 'z1')\n",
    "z2 = tf.add(tf.matmul(X, w2), b2, name= 'z2')\n",
    "\n",
    "relu1 = tf.maximum(z1, 0., name = 'relu1')\n",
    "relu2 = tf.maximum(z1, 0., name = 'relu2')\n",
    "output = tf.add(relu1, relu2, name= 'ouput')\n",
    "\n",
    "# to add multiple values in place of sum use tf.add_n"
   ]
  },
  {
   "cell_type": "code",
   "execution_count": null,
   "metadata": {},
   "outputs": [],
   "source": []
  },
  {
   "cell_type": "code",
   "execution_count": null,
   "metadata": {},
   "outputs": [],
   "source": []
  }
 ],
 "metadata": {
  "kernelspec": {
   "display_name": "Python 3",
   "language": "python",
   "name": "python3"
  },
  "language_info": {
   "codemirror_mode": {
    "name": "ipython",
    "version": 3
   },
   "file_extension": ".py",
   "mimetype": "text/x-python",
   "name": "python",
   "nbconvert_exporter": "python",
   "pygments_lexer": "ipython3",
   "version": "3.6.8"
  }
 },
 "nbformat": 4,
 "nbformat_minor": 2
}
