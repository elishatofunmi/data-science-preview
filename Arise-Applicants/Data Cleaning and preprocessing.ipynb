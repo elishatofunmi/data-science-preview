{
 "cells": [
  {
   "cell_type": "code",
   "execution_count": 1,
   "metadata": {
    "collapsed": true
   },
   "outputs": [],
   "source": [
    "import os, sys\n",
    "import pandas as pd\n",
    "import numpy as np\n",
    "import sklearn as sk\n",
    "import matplotlib.pyplot as plt\n",
    "import warnings\n",
    "warnings.filterwarnings('ignore')\n",
    "\n"
   ]
  },
  {
   "cell_type": "code",
   "execution_count": 2,
   "metadata": {
    "collapsed": true
   },
   "outputs": [],
   "source": [
    "read_data = pd.read_csv('2019_4_2_02379003-6369-43bf-b444-842420685d06.csv')\n"
   ]
  },
  {
   "cell_type": "code",
   "execution_count": 3,
   "metadata": {},
   "outputs": [
    {
     "data": {
      "text/plain": [
       "Index(['clientId', 'clientIncome', 'incomeVerified', 'clientAge',\n",
       "       'clientGender', 'clientMaritalStatus', 'clientLoanPurpose',\n",
       "       'clientResidentialStauts', 'clientState', 'clientTimeAtEmployer',\n",
       "       'clientNumberPhoneContacts', 'clientAvgCallsPerDay', 'loanType',\n",
       "       'loanNumber', 'applicationDate', 'approvalDate', 'declinedDate',\n",
       "       'disbursementDate', 'payout_status', 'dueDate', 'paidAt', 'loanAmount',\n",
       "       'interestRate', 'loanTerm', 'max_amount_taken', 'max_tenor_taken',\n",
       "       'paymentRatio', 'FirstPaymentDefault', 'loanDefault'],\n",
       "      dtype='object')"
      ]
     },
     "execution_count": 3,
     "metadata": {},
     "output_type": "execute_result"
    }
   ],
   "source": [
    "read_data.columns"
   ]
  },
  {
   "cell_type": "code",
   "execution_count": 4,
   "metadata": {
    "collapsed": true
   },
   "outputs": [],
   "source": [
    "read_data['incomeVerified'][read_data['incomeVerified'] == 'true'] = 1\n",
    "read_data['incomeVerified'][read_data['incomeVerified'] == 'false'] = 0"
   ]
  },
  {
   "cell_type": "code",
   "execution_count": 5,
   "metadata": {
    "collapsed": true
   },
   "outputs": [],
   "source": [
    "read_data = read_data.drop('loanType', axis = 1)"
   ]
  },
  {
   "cell_type": "code",
   "execution_count": 6,
   "metadata": {
    "collapsed": true
   },
   "outputs": [],
   "source": [
    "read_data['clientResidentialStauts'][read_data['clientResidentialStauts']== 'Null'] = 'Rented'"
   ]
  },
  {
   "cell_type": "code",
   "execution_count": 7,
   "metadata": {
    "scrolled": true
   },
   "outputs": [
    {
     "data": {
      "text/plain": [
       "LAGOS          60667\n",
       "OGUN           14798\n",
       "ABUJA          13999\n",
       "OYO            12731\n",
       "RIVERS          7829\n",
       "DELTA           5081\n",
       "KWARA           3969\n",
       "OSUN            3816\n",
       "ONDO            3571\n",
       "KADUNA          3496\n",
       "EDO             2663\n",
       "NIGER           2462\n",
       "BENUE           2043\n",
       "EKITI           2023\n",
       "AKWA IBOM       1960\n",
       "KOGI            1896\n",
       "PLATEAU         1715\n",
       "CROSS RIVER     1608\n",
       "NASARAWA        1589\n",
       "ENUGU           1566\n",
       "ANAMBRA         1496\n",
       "ABIA            1426\n",
       "IMO             1287\n",
       "KANO            1233\n",
       "BAYELSA         1179\n",
       "ADAMAWA          569\n",
       "BAUCHI           418\n",
       "SOKOTO           398\n",
       "EBONYI           392\n",
       "TARABA           336\n",
       "KEBBI            279\n",
       "GOMBE            265\n",
       "KATSINA          248\n",
       "ZAMFARA          221\n",
       "BORNO            210\n",
       "YOBE              83\n",
       "JIGAWA            72\n",
       "OJO                1\n",
       "LAGOS              1\n",
       "Name: clientState, dtype: int64"
      ]
     },
     "execution_count": 7,
     "metadata": {},
     "output_type": "execute_result"
    }
   ],
   "source": [
    "read_data['clientState'][read_data['clientState'] == 'Null'] = 'LAGOS'\n",
    "read_data['clientState'].value_counts()"
   ]
  },
  {
   "cell_type": "code",
   "execution_count": 8,
   "metadata": {},
   "outputs": [
    {
     "data": {
      "text/plain": [
       "Married      85492\n",
       "Single       71361\n",
       "Separated     1795\n",
       "Widowed        939\n",
       "Null             6\n",
       "Divorced         3\n",
       "Name: clientMaritalStatus, dtype: int64"
      ]
     },
     "execution_count": 8,
     "metadata": {},
     "output_type": "execute_result"
    }
   ],
   "source": [
    "read_data['clientMaritalStatus'].value_counts()"
   ]
  },
  {
   "cell_type": "code",
   "execution_count": 9,
   "metadata": {
    "collapsed": true
   },
   "outputs": [],
   "source": [
    "read_data['clientMaritalStatus'][read_data['clientMaritalStatus']== 'Null'] = 'Married'"
   ]
  },
  {
   "cell_type": "code",
   "execution_count": 10,
   "metadata": {},
   "outputs": [
    {
     "data": {
      "text/plain": [
       "business     78976\n",
       "other        31554\n",
       "house        22240\n",
       "education    15737\n",
       "medical      11089\n",
       "Name: clientLoanPurpose, dtype: int64"
      ]
     },
     "execution_count": 10,
     "metadata": {},
     "output_type": "execute_result"
    }
   ],
   "source": [
    "read_data['clientLoanPurpose'].value_counts()"
   ]
  },
  {
   "cell_type": "code",
   "execution_count": 11,
   "metadata": {},
   "outputs": [
    {
     "data": {
      "text/plain": [
       "Rented               101670\n",
       "Own Residence         26406\n",
       "Family Owned          25668\n",
       "Employer Provided      5589\n",
       "Temp. Residence         263\n",
       "Name: clientResidentialStauts, dtype: int64"
      ]
     },
     "execution_count": 11,
     "metadata": {},
     "output_type": "execute_result"
    }
   ],
   "source": [
    "read_data['clientResidentialStauts'].value_counts()"
   ]
  },
  {
   "cell_type": "code",
   "execution_count": 12,
   "metadata": {
    "collapsed": true
   },
   "outputs": [],
   "source": [
    "data = pd.get_dummies(read_data,prefix_sep = '_', columns = ['clientGender', 'clientState', 'clientMaritalStatus',\n",
    "                                         'clientLoanPurpose', 'clientResidentialStauts'])"
   ]
  },
  {
   "cell_type": "code",
   "execution_count": 13,
   "metadata": {},
   "outputs": [
    {
     "data": {
      "text/html": [
       "<div>\n",
       "<style>\n",
       "    .dataframe thead tr:only-child th {\n",
       "        text-align: right;\n",
       "    }\n",
       "\n",
       "    .dataframe thead th {\n",
       "        text-align: left;\n",
       "    }\n",
       "\n",
       "    .dataframe tbody tr th {\n",
       "        vertical-align: top;\n",
       "    }\n",
       "</style>\n",
       "<table border=\"1\" class=\"dataframe\">\n",
       "  <thead>\n",
       "    <tr style=\"text-align: right;\">\n",
       "      <th></th>\n",
       "      <th>clientId</th>\n",
       "      <th>clientIncome</th>\n",
       "      <th>incomeVerified</th>\n",
       "      <th>clientAge</th>\n",
       "      <th>clientTimeAtEmployer</th>\n",
       "      <th>clientNumberPhoneContacts</th>\n",
       "      <th>clientAvgCallsPerDay</th>\n",
       "      <th>loanNumber</th>\n",
       "      <th>applicationDate</th>\n",
       "      <th>approvalDate</th>\n",
       "      <th>...</th>\n",
       "      <th>clientLoanPurpose_business</th>\n",
       "      <th>clientLoanPurpose_education</th>\n",
       "      <th>clientLoanPurpose_house</th>\n",
       "      <th>clientLoanPurpose_medical</th>\n",
       "      <th>clientLoanPurpose_other</th>\n",
       "      <th>clientResidentialStauts_Employer Provided</th>\n",
       "      <th>clientResidentialStauts_Family Owned</th>\n",
       "      <th>clientResidentialStauts_Own Residence</th>\n",
       "      <th>clientResidentialStauts_Rented</th>\n",
       "      <th>clientResidentialStauts_Temp. Residence</th>\n",
       "    </tr>\n",
       "  </thead>\n",
       "  <tbody>\n",
       "    <tr>\n",
       "      <th>0</th>\n",
       "      <td>719046128</td>\n",
       "      <td>25000.00</td>\n",
       "      <td>1</td>\n",
       "      <td>38</td>\n",
       "      <td>36+</td>\n",
       "      <td>2976</td>\n",
       "      <td>51.40909090909091</td>\n",
       "      <td>4</td>\n",
       "      <td>2018-03-18</td>\n",
       "      <td>2018-03-18</td>\n",
       "      <td>...</td>\n",
       "      <td>1</td>\n",
       "      <td>0</td>\n",
       "      <td>0</td>\n",
       "      <td>0</td>\n",
       "      <td>0</td>\n",
       "      <td>0</td>\n",
       "      <td>0</td>\n",
       "      <td>0</td>\n",
       "      <td>1</td>\n",
       "      <td>0</td>\n",
       "    </tr>\n",
       "    <tr>\n",
       "      <th>1</th>\n",
       "      <td>821565030</td>\n",
       "      <td>105000.00</td>\n",
       "      <td>0</td>\n",
       "      <td>31</td>\n",
       "      <td>36+</td>\n",
       "      <td>1159</td>\n",
       "      <td>121.03645833333333</td>\n",
       "      <td>4</td>\n",
       "      <td>2018-01-06</td>\n",
       "      <td>2018-01-06</td>\n",
       "      <td>...</td>\n",
       "      <td>0</td>\n",
       "      <td>0</td>\n",
       "      <td>1</td>\n",
       "      <td>0</td>\n",
       "      <td>0</td>\n",
       "      <td>0</td>\n",
       "      <td>0</td>\n",
       "      <td>0</td>\n",
       "      <td>1</td>\n",
       "      <td>0</td>\n",
       "    </tr>\n",
       "    <tr>\n",
       "      <th>2</th>\n",
       "      <td>703822576</td>\n",
       "      <td>78029.19</td>\n",
       "      <td>1</td>\n",
       "      <td>38</td>\n",
       "      <td>36+</td>\n",
       "      <td>1375</td>\n",
       "      <td>13.402912621359222</td>\n",
       "      <td>4</td>\n",
       "      <td>2018-04-27</td>\n",
       "      <td>2018-04-27</td>\n",
       "      <td>...</td>\n",
       "      <td>0</td>\n",
       "      <td>1</td>\n",
       "      <td>0</td>\n",
       "      <td>0</td>\n",
       "      <td>0</td>\n",
       "      <td>0</td>\n",
       "      <td>1</td>\n",
       "      <td>0</td>\n",
       "      <td>0</td>\n",
       "      <td>0</td>\n",
       "    </tr>\n",
       "  </tbody>\n",
       "</table>\n",
       "<p>3 rows × 79 columns</p>\n",
       "</div>"
      ],
      "text/plain": [
       "    clientId  clientIncome incomeVerified  clientAge clientTimeAtEmployer  \\\n",
       "0  719046128      25000.00              1         38                  36+   \n",
       "1  821565030     105000.00              0         31                  36+   \n",
       "2  703822576      78029.19              1         38                  36+   \n",
       "\n",
       "  clientNumberPhoneContacts clientAvgCallsPerDay  loanNumber applicationDate  \\\n",
       "0                      2976    51.40909090909091           4      2018-03-18   \n",
       "1                      1159   121.03645833333333           4      2018-01-06   \n",
       "2                      1375   13.402912621359222           4      2018-04-27   \n",
       "\n",
       "  approvalDate                   ...                     \\\n",
       "0   2018-03-18                   ...                      \n",
       "1   2018-01-06                   ...                      \n",
       "2   2018-04-27                   ...                      \n",
       "\n",
       "  clientLoanPurpose_business clientLoanPurpose_education  \\\n",
       "0                          1                           0   \n",
       "1                          0                           0   \n",
       "2                          0                           1   \n",
       "\n",
       "  clientLoanPurpose_house clientLoanPurpose_medical clientLoanPurpose_other  \\\n",
       "0                       0                         0                       0   \n",
       "1                       1                         0                       0   \n",
       "2                       0                         0                       0   \n",
       "\n",
       "   clientResidentialStauts_Employer Provided  \\\n",
       "0                                          0   \n",
       "1                                          0   \n",
       "2                                          0   \n",
       "\n",
       "   clientResidentialStauts_Family Owned  \\\n",
       "0                                     0   \n",
       "1                                     0   \n",
       "2                                     1   \n",
       "\n",
       "   clientResidentialStauts_Own Residence  clientResidentialStauts_Rented  \\\n",
       "0                                      0                               1   \n",
       "1                                      0                               1   \n",
       "2                                      0                               0   \n",
       "\n",
       "   clientResidentialStauts_Temp. Residence  \n",
       "0                                        0  \n",
       "1                                        0  \n",
       "2                                        0  \n",
       "\n",
       "[3 rows x 79 columns]"
      ]
     },
     "execution_count": 13,
     "metadata": {},
     "output_type": "execute_result"
    }
   ],
   "source": [
    "data.head(3)"
   ]
  },
  {
   "cell_type": "code",
   "execution_count": 14,
   "metadata": {
    "collapsed": true
   },
   "outputs": [],
   "source": [
    "data = data.drop(['applicationDate', 'approvalDate', 'declinedDate',\n",
    "       'disbursementDate', 'payout_status', 'dueDate', 'paidAt'], axis = 1)"
   ]
  },
  {
   "cell_type": "code",
   "execution_count": 15,
   "metadata": {
    "collapsed": true
   },
   "outputs": [],
   "source": [
    "x = data.drop(['clientId', 'clientNumberPhoneContacts'], axis = 1)"
   ]
  },
  {
   "cell_type": "code",
   "execution_count": 16,
   "metadata": {},
   "outputs": [
    {
     "name": "stdout",
     "output_type": "stream",
     "text": [
      "incomeVerified 103\n",
      "clientTimeAtEmployer 159596\n",
      "clientAvgCallsPerDay 159596\n"
     ]
    }
   ],
   "source": [
    "for k in x.columns:\n",
    "    value = sum([isinstance(i, str) for i in x[k]])\n",
    "    if value > 1:\n",
    "        print(k, value)\n",
    "    else:\n",
    "        pass"
   ]
  },
  {
   "cell_type": "code",
   "execution_count": 17,
   "metadata": {},
   "outputs": [
    {
     "data": {
      "text/plain": [
       "0       133286\n",
       "1        26207\n",
       "Null       103\n",
       "Name: incomeVerified, dtype: int64"
      ]
     },
     "execution_count": 17,
     "metadata": {},
     "output_type": "execute_result"
    }
   ],
   "source": [
    "x['incomeVerified'].value_counts()"
   ]
  },
  {
   "cell_type": "code",
   "execution_count": 18,
   "metadata": {
    "collapsed": true
   },
   "outputs": [],
   "source": [
    "x['incomeVerified'][x['incomeVerified']== 'Null'] = 0"
   ]
  },
  {
   "cell_type": "code",
   "execution_count": 19,
   "metadata": {
    "collapsed": true
   },
   "outputs": [],
   "source": [
    "x['clientTimeAtEmployer'][x['clientTimeAtEmployer']== 'Null'] = 36"
   ]
  },
  {
   "cell_type": "code",
   "execution_count": 20,
   "metadata": {
    "collapsed": true
   },
   "outputs": [],
   "source": [
    "x = x.drop(['clientTimeAtEmployer', 'clientAvgCallsPerDay'], axis = 1)"
   ]
  },
  {
   "cell_type": "code",
   "execution_count": 21,
   "metadata": {},
   "outputs": [
    {
     "data": {
      "text/plain": [
       "True"
      ]
     },
     "execution_count": 21,
     "metadata": {},
     "output_type": "execute_result"
    }
   ],
   "source": [
    "'loanDefault' in x.columns"
   ]
  },
  {
   "cell_type": "code",
   "execution_count": 24,
   "metadata": {},
   "outputs": [
    {
     "data": {
      "text/plain": [
       "(159596,)"
      ]
     },
     "execution_count": 24,
     "metadata": {},
     "output_type": "execute_result"
    }
   ],
   "source": [
    "target = x['loanDefault']\n",
    "x = x.drop('loanDefault', axis = 1)\n",
    "target.shape"
   ]
  },
  {
   "cell_type": "code",
   "execution_count": 32,
   "metadata": {
    "collapsed": true
   },
   "outputs": [],
   "source": [
    "from sklearn.preprocessing import MinMaxScaler\n",
    "from sklearn.preprocessing import StandardScaler\n",
    "from sklearn.preprocessing import Normalizer\n",
    "\n",
    "min_max = MinMaxScaler()\n",
    "std = StandardScaler()\n",
    "norm = Normalizer()\n",
    "\n",
    "x_new = min_max.fit_transform(x)\n",
    "x_std = std.fit_transform(x_new)\n",
    "x_norm = std.fit_transform(x_std)"
   ]
  },
  {
   "cell_type": "code",
   "execution_count": 33,
   "metadata": {
    "collapsed": true
   },
   "outputs": [],
   "source": [
    "from sklearn.model_selection import train_test_split\n",
    "x_train, x_test, y_train, y_test = train_test_split(x_norm, target, test_size = 0.4, random_state = 42)\n",
    "\n",
    "x_train_dataframe = pd.DataFrame(x_train)\n",
    "x_test_dataframe = pd.DataFrame(x_test)\n",
    "y_train_dataframe = pd.DataFrame(y_train)\n",
    "y_test_dataframe = pd.DataFrame(y_test)\n",
    "\n",
    "\n",
    "x_train_dataframe.to_csv('x_train_nn.csv')\n",
    "x_test_dataframe.to_csv('x_test_nn.csv')\n",
    "y_train_dataframe.to_csv('y_train_nn.csv')\n",
    "y_test_dataframe.to_csv('y_test_nn.csv')"
   ]
  },
  {
   "cell_type": "markdown",
   "metadata": {},
   "source": [
    "# feature selection"
   ]
  },
  {
   "cell_type": "code",
   "execution_count": 25,
   "metadata": {},
   "outputs": [
    {
     "name": "stdout",
     "output_type": "stream",
     "text": [
      "Num Features: 3\n",
      "Selected Features: [False False False False False False False False False  True  True  True\n",
      " False False False False False False False False False False False False\n",
      " False False False False False False False False False False False False\n",
      " False False False False False False False False False False False False\n",
      " False False False False False False False False False False False False\n",
      " False False False False False False False]\n",
      "Feature Ranking: [51  4 50 39 53 45 48 38  3  1  1  1  2 19 28 29 24 59 16 18 57 20 23 31 60\n",
      " 26 43 37 36 54 56 30 22 62  5 41 49 27 64 34 17 33 63 40 46 42 25 32 58 44\n",
      " 61 55 65 47 35 21 52 14 13 12 15 11  6 10  9  8  7]\n"
     ]
    }
   ],
   "source": [
    "from sklearn.feature_selection import RFE\n",
    "\n",
    "from sklearn.linear_model import LogisticRegression\n",
    "# feature extraction\n",
    "model = LogisticRegression()\n",
    "rfe = RFE(model, 3)\n",
    "fit = rfe.fit(x, target)\n",
    "print('Num Features: %d' % fit.n_features_)\n",
    "print('Selected Features: %s' % fit.support_)\n",
    "print('Feature Ranking: %s' % fit.ranking_)"
   ]
  },
  {
   "cell_type": "code",
   "execution_count": 26,
   "metadata": {},
   "outputs": [
    {
     "name": "stdout",
     "output_type": "stream",
     "text": [
      "paymentRatio\n",
      "FirstPaymentDefault\n",
      "clientGender_FEMALE\n"
     ]
    }
   ],
   "source": [
    "for i, j in zip(fit.support_, x.columns):\n",
    "    if i == True:\n",
    "        print(j)\n",
    "    else:\n",
    "        pass"
   ]
  },
  {
   "cell_type": "code",
   "execution_count": 27,
   "metadata": {
    "collapsed": true
   },
   "outputs": [],
   "source": [
    "new_feature = x[['paymentRatio', 'FirstPaymentDefault','clientGender_FEMALE']]"
   ]
  },
  {
   "cell_type": "code",
   "execution_count": 28,
   "metadata": {
    "collapsed": true
   },
   "outputs": [],
   "source": [
    "from sklearn.model_selection import train_test_split\n",
    "x_train, x_test, y_train, y_test = train_test_split(new_feature, target, test_size = 0.4, random_state = 42)\n"
   ]
  },
  {
   "cell_type": "code",
   "execution_count": 29,
   "metadata": {
    "collapsed": true
   },
   "outputs": [],
   "source": [
    "x_train_dataframe = pd.DataFrame(x_train)\n",
    "x_test_dataframe = pd.DataFrame(x_test)\n",
    "y_train_dataframe = pd.DataFrame(y_train)\n",
    "y_test_dataframe = pd.DataFrame(y_test)\n",
    "\n",
    "\n",
    "x_train_dataframe.to_csv('x_train.csv')\n",
    "x_test_dataframe.to_csv('x_test.csv')\n",
    "y_train_dataframe.to_csv('y_train.csv')\n",
    "y_test_dataframe.to_csv('y_test.csv')"
   ]
  },
  {
   "cell_type": "code",
   "execution_count": null,
   "metadata": {
    "collapsed": true
   },
   "outputs": [],
   "source": []
  }
 ],
 "metadata": {
  "kernelspec": {
   "display_name": "Python 3",
   "language": "python",
   "name": "python3"
  },
  "language_info": {
   "codemirror_mode": {
    "name": "ipython",
    "version": 3
   },
   "file_extension": ".py",
   "mimetype": "text/x-python",
   "name": "python",
   "nbconvert_exporter": "python",
   "pygments_lexer": "ipython3",
   "version": "3.6.7"
  }
 },
 "nbformat": 4,
 "nbformat_minor": 2
}
