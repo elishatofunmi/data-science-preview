{
 "cells": [
  {
   "cell_type": "code",
   "execution_count": 47,
   "metadata": {
    "collapsed": true
   },
   "outputs": [],
   "source": [
    "import os, sys\n",
    "import pandas as pd\n",
    "import numpy as np\n",
    "import sklearn as sk\n",
    "import matplotlib.pyplot as plt\n",
    "import warnings\n",
    "warnings.filterwarnings('ignore')\n",
    "\n"
   ]
  },
  {
   "cell_type": "code",
   "execution_count": 48,
   "metadata": {
    "collapsed": true
   },
   "outputs": [],
   "source": [
    "read_data = pd.read_csv('2019_4_2_02379003-6369-43bf-b444-842420685d06.csv')\n"
   ]
  },
  {
   "cell_type": "code",
   "execution_count": 49,
   "metadata": {},
   "outputs": [
    {
     "data": {
      "text/plain": [
       "Index(['clientId', 'clientIncome', 'incomeVerified', 'clientAge',\n",
       "       'clientGender', 'clientMaritalStatus', 'clientLoanPurpose',\n",
       "       'clientResidentialStauts', 'clientState', 'clientTimeAtEmployer',\n",
       "       'clientNumberPhoneContacts', 'clientAvgCallsPerDay', 'loanType',\n",
       "       'loanNumber', 'applicationDate', 'approvalDate', 'declinedDate',\n",
       "       'disbursementDate', 'payout_status', 'dueDate', 'paidAt', 'loanAmount',\n",
       "       'interestRate', 'loanTerm', 'max_amount_taken', 'max_tenor_taken',\n",
       "       'paymentRatio', 'FirstPaymentDefault', 'loanDefault'],\n",
       "      dtype='object')"
      ]
     },
     "execution_count": 49,
     "metadata": {},
     "output_type": "execute_result"
    }
   ],
   "source": [
    "read_data.columns"
   ]
  },
  {
   "cell_type": "code",
   "execution_count": 50,
   "metadata": {
    "collapsed": true
   },
   "outputs": [],
   "source": [
    "read_data['incomeVerified'][read_data['incomeVerified'] == 'true'] = 1\n",
    "read_data['incomeVerified'][read_data['incomeVerified'] == 'false'] = 0"
   ]
  },
  {
   "cell_type": "code",
   "execution_count": 51,
   "metadata": {
    "collapsed": true
   },
   "outputs": [],
   "source": [
    "read_data = read_data.drop('loanType', axis = 1)"
   ]
  },
  {
   "cell_type": "code",
   "execution_count": 52,
   "metadata": {
    "collapsed": true
   },
   "outputs": [],
   "source": [
    "read_data['clientResidentialStauts'][read_data['clientResidentialStauts']== 'Null'] = 'Rented'"
   ]
  },
  {
   "cell_type": "code",
   "execution_count": 53,
   "metadata": {
    "scrolled": true
   },
   "outputs": [
    {
     "data": {
      "text/plain": [
       "LAGOS          60667\n",
       "OGUN           14798\n",
       "ABUJA          13999\n",
       "OYO            12731\n",
       "RIVERS          7829\n",
       "DELTA           5081\n",
       "KWARA           3969\n",
       "OSUN            3816\n",
       "ONDO            3571\n",
       "KADUNA          3496\n",
       "EDO             2663\n",
       "NIGER           2462\n",
       "BENUE           2043\n",
       "EKITI           2023\n",
       "AKWA IBOM       1960\n",
       "KOGI            1896\n",
       "PLATEAU         1715\n",
       "CROSS RIVER     1608\n",
       "NASARAWA        1589\n",
       "ENUGU           1566\n",
       "ANAMBRA         1496\n",
       "ABIA            1426\n",
       "IMO             1287\n",
       "KANO            1233\n",
       "BAYELSA         1179\n",
       "ADAMAWA          569\n",
       "BAUCHI           418\n",
       "SOKOTO           398\n",
       "EBONYI           392\n",
       "TARABA           336\n",
       "KEBBI            279\n",
       "GOMBE            265\n",
       "KATSINA          248\n",
       "ZAMFARA          221\n",
       "BORNO            210\n",
       "YOBE              83\n",
       "JIGAWA            72\n",
       "OJO                1\n",
       "LAGOS              1\n",
       "Name: clientState, dtype: int64"
      ]
     },
     "execution_count": 53,
     "metadata": {},
     "output_type": "execute_result"
    }
   ],
   "source": [
    "read_data['clientState'][read_data['clientState'] == 'Null'] = 'LAGOS'\n",
    "read_data['clientState'].value_counts()"
   ]
  },
  {
   "cell_type": "code",
   "execution_count": 54,
   "metadata": {},
   "outputs": [
    {
     "data": {
      "text/plain": [
       "Married      85492\n",
       "Single       71361\n",
       "Separated     1795\n",
       "Widowed        939\n",
       "Null             6\n",
       "Divorced         3\n",
       "Name: clientMaritalStatus, dtype: int64"
      ]
     },
     "execution_count": 54,
     "metadata": {},
     "output_type": "execute_result"
    }
   ],
   "source": [
    "read_data['clientMaritalStatus'].value_counts()"
   ]
  },
  {
   "cell_type": "code",
   "execution_count": 55,
   "metadata": {
    "collapsed": true
   },
   "outputs": [],
   "source": [
    "read_data['clientMaritalStatus'][read_data['clientMaritalStatus']== 'Null'] = 'Married'"
   ]
  },
  {
   "cell_type": "code",
   "execution_count": 56,
   "metadata": {},
   "outputs": [
    {
     "data": {
      "text/plain": [
       "business     78976\n",
       "other        31554\n",
       "house        22240\n",
       "education    15737\n",
       "medical      11089\n",
       "Name: clientLoanPurpose, dtype: int64"
      ]
     },
     "execution_count": 56,
     "metadata": {},
     "output_type": "execute_result"
    }
   ],
   "source": [
    "read_data['clientLoanPurpose'].value_counts()"
   ]
  },
  {
   "cell_type": "code",
   "execution_count": 57,
   "metadata": {},
   "outputs": [
    {
     "data": {
      "text/plain": [
       "Rented               101670\n",
       "Own Residence         26406\n",
       "Family Owned          25668\n",
       "Employer Provided      5589\n",
       "Temp. Residence         263\n",
       "Name: clientResidentialStauts, dtype: int64"
      ]
     },
     "execution_count": 57,
     "metadata": {},
     "output_type": "execute_result"
    }
   ],
   "source": [
    "read_data['clientResidentialStauts'].value_counts()"
   ]
  },
  {
   "cell_type": "code",
   "execution_count": 58,
   "metadata": {
    "collapsed": true
   },
   "outputs": [],
   "source": [
    "data = pd.get_dummies(read_data,prefix_sep = '_', columns = ['clientGender', 'clientState', 'clientMaritalStatus',\n",
    "                                         'clientLoanPurpose', 'clientResidentialStauts'])"
   ]
  },
  {
   "cell_type": "code",
   "execution_count": 59,
   "metadata": {
    "scrolled": true
   },
   "outputs": [
    {
     "data": {
      "text/html": [
       "<div>\n",
       "<style>\n",
       "    .dataframe thead tr:only-child th {\n",
       "        text-align: right;\n",
       "    }\n",
       "\n",
       "    .dataframe thead th {\n",
       "        text-align: left;\n",
       "    }\n",
       "\n",
       "    .dataframe tbody tr th {\n",
       "        vertical-align: top;\n",
       "    }\n",
       "</style>\n",
       "<table border=\"1\" class=\"dataframe\">\n",
       "  <thead>\n",
       "    <tr style=\"text-align: right;\">\n",
       "      <th></th>\n",
       "      <th>clientId</th>\n",
       "      <th>clientIncome</th>\n",
       "      <th>incomeVerified</th>\n",
       "      <th>clientAge</th>\n",
       "      <th>clientTimeAtEmployer</th>\n",
       "      <th>clientNumberPhoneContacts</th>\n",
       "      <th>clientAvgCallsPerDay</th>\n",
       "      <th>loanNumber</th>\n",
       "      <th>applicationDate</th>\n",
       "      <th>approvalDate</th>\n",
       "      <th>...</th>\n",
       "      <th>clientLoanPurpose_business</th>\n",
       "      <th>clientLoanPurpose_education</th>\n",
       "      <th>clientLoanPurpose_house</th>\n",
       "      <th>clientLoanPurpose_medical</th>\n",
       "      <th>clientLoanPurpose_other</th>\n",
       "      <th>clientResidentialStauts_Employer Provided</th>\n",
       "      <th>clientResidentialStauts_Family Owned</th>\n",
       "      <th>clientResidentialStauts_Own Residence</th>\n",
       "      <th>clientResidentialStauts_Rented</th>\n",
       "      <th>clientResidentialStauts_Temp. Residence</th>\n",
       "    </tr>\n",
       "  </thead>\n",
       "  <tbody>\n",
       "    <tr>\n",
       "      <th>0</th>\n",
       "      <td>719046128</td>\n",
       "      <td>25000.00</td>\n",
       "      <td>1</td>\n",
       "      <td>38</td>\n",
       "      <td>36+</td>\n",
       "      <td>2976</td>\n",
       "      <td>51.40909090909091</td>\n",
       "      <td>4</td>\n",
       "      <td>2018-03-18</td>\n",
       "      <td>2018-03-18</td>\n",
       "      <td>...</td>\n",
       "      <td>1</td>\n",
       "      <td>0</td>\n",
       "      <td>0</td>\n",
       "      <td>0</td>\n",
       "      <td>0</td>\n",
       "      <td>0</td>\n",
       "      <td>0</td>\n",
       "      <td>0</td>\n",
       "      <td>1</td>\n",
       "      <td>0</td>\n",
       "    </tr>\n",
       "    <tr>\n",
       "      <th>1</th>\n",
       "      <td>821565030</td>\n",
       "      <td>105000.00</td>\n",
       "      <td>0</td>\n",
       "      <td>31</td>\n",
       "      <td>36+</td>\n",
       "      <td>1159</td>\n",
       "      <td>121.03645833333333</td>\n",
       "      <td>4</td>\n",
       "      <td>2018-01-06</td>\n",
       "      <td>2018-01-06</td>\n",
       "      <td>...</td>\n",
       "      <td>0</td>\n",
       "      <td>0</td>\n",
       "      <td>1</td>\n",
       "      <td>0</td>\n",
       "      <td>0</td>\n",
       "      <td>0</td>\n",
       "      <td>0</td>\n",
       "      <td>0</td>\n",
       "      <td>1</td>\n",
       "      <td>0</td>\n",
       "    </tr>\n",
       "    <tr>\n",
       "      <th>2</th>\n",
       "      <td>703822576</td>\n",
       "      <td>78029.19</td>\n",
       "      <td>1</td>\n",
       "      <td>38</td>\n",
       "      <td>36+</td>\n",
       "      <td>1375</td>\n",
       "      <td>13.402912621359222</td>\n",
       "      <td>4</td>\n",
       "      <td>2018-04-27</td>\n",
       "      <td>2018-04-27</td>\n",
       "      <td>...</td>\n",
       "      <td>0</td>\n",
       "      <td>1</td>\n",
       "      <td>0</td>\n",
       "      <td>0</td>\n",
       "      <td>0</td>\n",
       "      <td>0</td>\n",
       "      <td>1</td>\n",
       "      <td>0</td>\n",
       "      <td>0</td>\n",
       "      <td>0</td>\n",
       "    </tr>\n",
       "  </tbody>\n",
       "</table>\n",
       "<p>3 rows × 79 columns</p>\n",
       "</div>"
      ],
      "text/plain": [
       "    clientId  clientIncome incomeVerified  clientAge clientTimeAtEmployer  \\\n",
       "0  719046128      25000.00              1         38                  36+   \n",
       "1  821565030     105000.00              0         31                  36+   \n",
       "2  703822576      78029.19              1         38                  36+   \n",
       "\n",
       "  clientNumberPhoneContacts clientAvgCallsPerDay  loanNumber applicationDate  \\\n",
       "0                      2976    51.40909090909091           4      2018-03-18   \n",
       "1                      1159   121.03645833333333           4      2018-01-06   \n",
       "2                      1375   13.402912621359222           4      2018-04-27   \n",
       "\n",
       "  approvalDate                   ...                     \\\n",
       "0   2018-03-18                   ...                      \n",
       "1   2018-01-06                   ...                      \n",
       "2   2018-04-27                   ...                      \n",
       "\n",
       "  clientLoanPurpose_business clientLoanPurpose_education  \\\n",
       "0                          1                           0   \n",
       "1                          0                           0   \n",
       "2                          0                           1   \n",
       "\n",
       "  clientLoanPurpose_house clientLoanPurpose_medical clientLoanPurpose_other  \\\n",
       "0                       0                         0                       0   \n",
       "1                       1                         0                       0   \n",
       "2                       0                         0                       0   \n",
       "\n",
       "   clientResidentialStauts_Employer Provided  \\\n",
       "0                                          0   \n",
       "1                                          0   \n",
       "2                                          0   \n",
       "\n",
       "   clientResidentialStauts_Family Owned  \\\n",
       "0                                     0   \n",
       "1                                     0   \n",
       "2                                     1   \n",
       "\n",
       "   clientResidentialStauts_Own Residence  clientResidentialStauts_Rented  \\\n",
       "0                                      0                               1   \n",
       "1                                      0                               1   \n",
       "2                                      0                               0   \n",
       "\n",
       "   clientResidentialStauts_Temp. Residence  \n",
       "0                                        0  \n",
       "1                                        0  \n",
       "2                                        0  \n",
       "\n",
       "[3 rows x 79 columns]"
      ]
     },
     "execution_count": 59,
     "metadata": {},
     "output_type": "execute_result"
    }
   ],
   "source": [
    "data.head(3)"
   ]
  },
  {
   "cell_type": "code",
   "execution_count": 60,
   "metadata": {
    "collapsed": true
   },
   "outputs": [],
   "source": [
    "data = data.drop(['applicationDate', 'approvalDate', 'declinedDate',\n",
    "       'disbursementDate', 'payout_status', 'dueDate', 'paidAt'], axis = 1)"
   ]
  },
  {
   "cell_type": "code",
   "execution_count": 61,
   "metadata": {
    "collapsed": true
   },
   "outputs": [],
   "source": [
    "x = data.drop(['clientId', 'clientNumberPhoneContacts'], axis = 1)"
   ]
  },
  {
   "cell_type": "code",
   "execution_count": 62,
   "metadata": {},
   "outputs": [
    {
     "name": "stdout",
     "output_type": "stream",
     "text": [
      "incomeVerified 103\n",
      "clientTimeAtEmployer 159596\n",
      "clientAvgCallsPerDay 159596\n"
     ]
    }
   ],
   "source": [
    "for k in x.columns:\n",
    "    value = sum([isinstance(i, str) for i in x[k]])\n",
    "    if value > 1:\n",
    "        print(k, value)\n",
    "    else:\n",
    "        pass"
   ]
  },
  {
   "cell_type": "code",
   "execution_count": 63,
   "metadata": {},
   "outputs": [
    {
     "data": {
      "text/plain": [
       "0       133286\n",
       "1        26207\n",
       "Null       103\n",
       "Name: incomeVerified, dtype: int64"
      ]
     },
     "execution_count": 63,
     "metadata": {},
     "output_type": "execute_result"
    }
   ],
   "source": [
    "x['incomeVerified'].value_counts()"
   ]
  },
  {
   "cell_type": "code",
   "execution_count": 64,
   "metadata": {
    "collapsed": true
   },
   "outputs": [],
   "source": [
    "x['incomeVerified'][x['incomeVerified']== 'Null'] = 0"
   ]
  },
  {
   "cell_type": "code",
   "execution_count": 65,
   "metadata": {
    "collapsed": true
   },
   "outputs": [],
   "source": [
    "x['clientTimeAtEmployer'][x['clientTimeAtEmployer']== 'Null'] = 36"
   ]
  },
  {
   "cell_type": "code",
   "execution_count": 66,
   "metadata": {
    "collapsed": true
   },
   "outputs": [],
   "source": [
    "x = x.drop(['clientTimeAtEmployer', 'clientAvgCallsPerDay'], axis = 1)"
   ]
  },
  {
   "cell_type": "code",
   "execution_count": 67,
   "metadata": {},
   "outputs": [
    {
     "data": {
      "text/plain": [
       "True"
      ]
     },
     "execution_count": 67,
     "metadata": {},
     "output_type": "execute_result"
    }
   ],
   "source": [
    "'loanDefault' in x.columns"
   ]
  },
  {
   "cell_type": "code",
   "execution_count": 68,
   "metadata": {},
   "outputs": [
    {
     "data": {
      "text/plain": [
       "(159596,)"
      ]
     },
     "execution_count": 68,
     "metadata": {},
     "output_type": "execute_result"
    }
   ],
   "source": [
    "target = x['loanDefault']\n",
    "x = x.drop('loanDefault', axis = 1)\n",
    "target.shape"
   ]
  },
  {
   "cell_type": "markdown",
   "metadata": {},
   "source": [
    "# feature selection"
   ]
  },
  {
   "cell_type": "code",
   "execution_count": 71,
   "metadata": {
    "collapsed": true
   },
   "outputs": [],
   "source": [
    "from sklearn.feature_selection import SelectKBest\n",
    "from sklearn.feature_selection import chi2\n",
    "\n",
    "test = SelectKBest(score_func =chi2, k = 10)\n",
    "fit = test.fit(x,target)"
   ]
  },
  {
   "cell_type": "code",
   "execution_count": 72,
   "metadata": {},
   "outputs": [
    {
     "name": "stdout",
     "output_type": "stream",
     "text": [
      "[  2.060e+07   3.275e+02   5.687e+02   1.774e+03   1.050e+06   1.497e+03\n",
      "   2.434e+02   4.778e+02   1.465e+02   4.024e+04   4.386e+04   7.575e+01\n",
      "   3.449e+01   1.218e-02   8.140e+01   1.773e+00   1.658e+00   5.117e+00\n",
      "   2.669e+00   9.298e+00   9.388e+00   2.259e+00   2.538e-01   2.758e+00\n",
      "   4.705e+00   4.986e-01   5.502e+01   1.777e+00   5.008e-01   3.192e+00\n",
      "   1.829e+00   9.236e-01   1.051e+01   1.838e+00   8.678e+00   6.232e+01\n",
      "   6.619e+01   1.533e+02   3.887e-01   8.600e-02   1.393e+02   1.625e+01\n",
      "   2.573e+00   2.665e+01   6.814e+01   1.203e+02   3.348e+00   1.188e+00\n",
      "   3.912e-01   1.611e-02   2.976e-01   7.739e-02   4.251e-02   3.736e+01\n",
      "   3.664e+00   5.172e+01   2.998e+00   4.299e+02   4.079e+01   2.212e+02\n",
      "   1.163e+01   3.178e+02   6.109e+01   1.793e+00   1.464e+01   2.981e-01\n",
      "   3.633e-02]\n"
     ]
    }
   ],
   "source": [
    "# summarize scores\n",
    "np.set_printoptions(precision = 3)\n",
    "print(fit.scores_)"
   ]
  },
  {
   "cell_type": "code",
   "execution_count": 73,
   "metadata": {},
   "outputs": [
    {
     "name": "stdout",
     "output_type": "stream",
     "text": [
      "[[  2.500e+04   1.000e+00   3.800e+01   4.000e+00   4.800e+04   7.500e+00\n",
      "    1.000e+00   0.000e+00   1.000e+00   1.000e+00]\n",
      " [  1.050e+05   0.000e+00   3.100e+01   4.000e+00   3.150e+04   1.250e+01\n",
      "    1.000e+00   0.000e+00   0.000e+00   0.000e+00]\n",
      " [  7.803e+04   1.000e+00   3.800e+01   4.000e+00   1.295e+05   5.000e+00\n",
      "    1.000e+00   0.000e+00   0.000e+00   0.000e+00]\n",
      " [  3.500e+04   1.000e+00   4.100e+01   3.000e+00   1.750e+04   1.250e+01\n",
      "    1.000e+00   0.000e+00   0.000e+00   0.000e+00]\n",
      " [  3.500e+05   1.000e+00   4.000e+01   2.000e+00   1.325e+05   1.250e+01\n",
      "    1.000e+00   0.000e+00   1.000e+00   1.000e+00]]\n"
     ]
    }
   ],
   "source": [
    "features = fit.transform(x)\n",
    "# summarize selected features\n",
    "print(features[0:5,:])"
   ]
  },
  {
   "cell_type": "code",
   "execution_count": 74,
   "metadata": {},
   "outputs": [
    {
     "data": {
      "text/plain": [
       "((159596, 67), (159596, 10))"
      ]
     },
     "execution_count": 74,
     "metadata": {},
     "output_type": "execute_result"
    }
   ],
   "source": [
    "x.shape, features.shape"
   ]
  },
  {
   "cell_type": "code",
   "execution_count": 75,
   "metadata": {
    "collapsed": true
   },
   "outputs": [],
   "source": [
    "from sklearn.decomposition import PCA"
   ]
  },
  {
   "cell_type": "code",
   "execution_count": 76,
   "metadata": {
    "collapsed": true
   },
   "outputs": [],
   "source": [
    "pca = PCA(n_components = 2)\n",
    "pmodel = pca.fit_transform(x)"
   ]
  },
  {
   "cell_type": "code",
   "execution_count": 77,
   "metadata": {},
   "outputs": [
    {
     "data": {
      "text/plain": [
       "0.99999991353114015"
      ]
     },
     "execution_count": 77,
     "metadata": {},
     "output_type": "execute_result"
    }
   ],
   "source": [
    "pca.explained_variance_ratio_.sum()"
   ]
  },
  {
   "cell_type": "code",
   "execution_count": 78,
   "metadata": {
    "collapsed": true
   },
   "outputs": [],
   "source": [
    "principalDf = pd.DataFrame(data = pmodel, columns = ['principal component 1', 'principal component 2'])"
   ]
  },
  {
   "cell_type": "code",
   "execution_count": 79,
   "metadata": {},
   "outputs": [
    {
     "data": {
      "text/html": [
       "<div>\n",
       "<style>\n",
       "    .dataframe thead tr:only-child th {\n",
       "        text-align: right;\n",
       "    }\n",
       "\n",
       "    .dataframe thead th {\n",
       "        text-align: left;\n",
       "    }\n",
       "\n",
       "    .dataframe tbody tr th {\n",
       "        vertical-align: top;\n",
       "    }\n",
       "</style>\n",
       "<table border=\"1\" class=\"dataframe\">\n",
       "  <thead>\n",
       "    <tr style=\"text-align: right;\">\n",
       "      <th></th>\n",
       "      <th>principal component 1</th>\n",
       "      <th>principal component 2</th>\n",
       "    </tr>\n",
       "  </thead>\n",
       "  <tbody>\n",
       "    <tr>\n",
       "      <th>0</th>\n",
       "      <td>-64458.453741</td>\n",
       "      <td>18454.488372</td>\n",
       "    </tr>\n",
       "    <tr>\n",
       "      <th>1</th>\n",
       "      <td>13766.816133</td>\n",
       "      <td>-5062.749725</td>\n",
       "    </tr>\n",
       "    <tr>\n",
       "      <th>2</th>\n",
       "      <td>-4422.734353</td>\n",
       "      <td>94940.114792</td>\n",
       "    </tr>\n",
       "    <tr>\n",
       "      <th>3</th>\n",
       "      <td>-57197.704160</td>\n",
       "      <td>-12811.086747</td>\n",
       "    </tr>\n",
       "    <tr>\n",
       "      <th>4</th>\n",
       "      <td>266745.894982</td>\n",
       "      <td>73852.253484</td>\n",
       "    </tr>\n",
       "  </tbody>\n",
       "</table>\n",
       "</div>"
      ],
      "text/plain": [
       "   principal component 1  principal component 2\n",
       "0          -64458.453741           18454.488372\n",
       "1           13766.816133           -5062.749725\n",
       "2           -4422.734353           94940.114792\n",
       "3          -57197.704160          -12811.086747\n",
       "4          266745.894982           73852.253484"
      ]
     },
     "execution_count": 79,
     "metadata": {},
     "output_type": "execute_result"
    }
   ],
   "source": [
    "# display principal components\n",
    "principalDf.head()"
   ]
  },
  {
   "cell_type": "code",
   "execution_count": 80,
   "metadata": {},
   "outputs": [
    {
     "data": {
      "text/plain": [
       "(159596,)"
      ]
     },
     "execution_count": 80,
     "metadata": {},
     "output_type": "execute_result"
    }
   ],
   "source": [
    "target.shape"
   ]
  },
  {
   "cell_type": "code",
   "execution_count": 81,
   "metadata": {
    "collapsed": true
   },
   "outputs": [],
   "source": [
    "principalDf['target'] = target"
   ]
  },
  {
   "cell_type": "raw",
   "metadata": {},
   "source": [
    "fig = plt.figure(figsize = (8,8))\n",
    "ax = fig.add_subplot(1,1,1) \n",
    "ax.set_xlabel('Principal Component 1', fontsize = 15)\n",
    "ax.set_ylabel('Principal Component 2', fontsize = 15)\n",
    "ax.set_title('2 Component PCA', fontsize = 20)\n",
    "\n",
    "\n",
    "targets = [0, 1]\n",
    "colors = ['r', 'g']\n",
    "for target, color in zip(targets,colors):\n",
    "    ax.scatter(principalDf['principal component 1']\n",
    "               , principalDf['principal component 2']\n",
    "               , c = color\n",
    "               , s = 50)\n",
    "ax.legend(targets)\n",
    "ax.grid()\n",
    "plt.show()"
   ]
  },
  {
   "cell_type": "code",
   "execution_count": 82,
   "metadata": {
    "collapsed": true
   },
   "outputs": [],
   "source": [
    "from sklearn.preprocessing import MinMaxScaler\n",
    "from sklearn.preprocessing import StandardScaler\n",
    "from sklearn.preprocessing import Normalizer"
   ]
  },
  {
   "cell_type": "code",
   "execution_count": 83,
   "metadata": {
    "collapsed": true
   },
   "outputs": [],
   "source": [
    "min_max = MinMaxScaler()\n",
    "std = StandardScaler()\n",
    "norm = Normalizer()\n",
    "\n",
    "x_new = min_max.fit_transform(features)\n",
    "x_std = std.fit_transform(x_new)\n",
    "x_norm = std.fit_transform(x_std)"
   ]
  },
  {
   "cell_type": "code",
   "execution_count": 84,
   "metadata": {},
   "outputs": [
    {
     "data": {
      "text/plain": [
       "(159596,)"
      ]
     },
     "execution_count": 84,
     "metadata": {},
     "output_type": "execute_result"
    }
   ],
   "source": [
    "target.shape"
   ]
  },
  {
   "cell_type": "code",
   "execution_count": 85,
   "metadata": {},
   "outputs": [],
   "source": [
    "from sklearn.model_selection import train_test_split\n",
    "x_train, x_test, y_train, y_test = train_test_split(x, target, test_size = 0.4, random_state = 42)"
   ]
  },
  {
   "cell_type": "code",
   "execution_count": 86,
   "metadata": {
    "collapsed": true
   },
   "outputs": [],
   "source": [
    "x_train_dataframe = pd.DataFrame(x_train)\n",
    "x_test_dataframe = pd.DataFrame(x_test)\n",
    "y_train_dataframe = pd.DataFrame(y_train)\n",
    "y_test_dataframe = pd.DataFrame(y_test)\n",
    "\n",
    "\n",
    "x_train_dataframe.to_csv('x_train.csv')\n",
    "x_test_dataframe.to_csv('x_test.csv')\n",
    "y_train_dataframe.to_csv('y_train.csv')\n",
    "y_test_dataframe.to_csv('y_test.csv')"
   ]
  },
  {
   "cell_type": "code",
   "execution_count": 87,
   "metadata": {
    "collapsed": true
   },
   "outputs": [],
   "source": [
    "from sklearn.linear_model import LogisticRegression\n",
    "log = LogisticRegression()"
   ]
  },
  {
   "cell_type": "code",
   "execution_count": 88,
   "metadata": {},
   "outputs": [
    {
     "data": {
      "text/plain": [
       "0.72023977359357538"
      ]
     },
     "execution_count": 88,
     "metadata": {},
     "output_type": "execute_result"
    }
   ],
   "source": [
    "log.fit(x_train, y_train)\n",
    "log.score(x_train, y_train)"
   ]
  },
  {
   "cell_type": "code",
   "execution_count": 89,
   "metadata": {
    "collapsed": true
   },
   "outputs": [],
   "source": [
    "prediction = log.predict(x_test)"
   ]
  },
  {
   "cell_type": "code",
   "execution_count": 90,
   "metadata": {},
   "outputs": [
    {
     "data": {
      "text/plain": [
       "(63839,)"
      ]
     },
     "execution_count": 90,
     "metadata": {},
     "output_type": "execute_result"
    }
   ],
   "source": [
    "prediction.shape"
   ]
  },
  {
   "cell_type": "code",
   "execution_count": 91,
   "metadata": {},
   "outputs": [
    {
     "data": {
      "text/plain": [
       "DecisionTreeClassifier(class_weight=None, criterion='gini', max_depth=None,\n",
       "            max_features=None, max_leaf_nodes=None,\n",
       "            min_impurity_split=1e-07, min_samples_leaf=1,\n",
       "            min_samples_split=2, min_weight_fraction_leaf=0.0,\n",
       "            presort=False, random_state=0, splitter='best')"
      ]
     },
     "execution_count": 91,
     "metadata": {},
     "output_type": "execute_result"
    }
   ],
   "source": [
    "from sklearn.tree import DecisionTreeClassifier\n",
    "\n",
    "tree = DecisionTreeClassifier(random_state = 0)\n",
    "tree.fit(x_train, y_train)"
   ]
  },
  {
   "cell_type": "code",
   "execution_count": 92,
   "metadata": {},
   "outputs": [
    {
     "data": {
      "text/plain": [
       "(0.99679396806499787, 0.71990476041291374)"
      ]
     },
     "execution_count": 92,
     "metadata": {},
     "output_type": "execute_result"
    }
   ],
   "source": [
    "train_score = tree.score(x_train, y_train)\n",
    "prediction = log.predict(x_test)\n",
    "from sklearn.metrics import accuracy_score\n",
    "test_score = accuracy_score(prediction, y_test)\n",
    "train_score, test_score"
   ]
  },
  {
   "cell_type": "code",
   "execution_count": 93,
   "metadata": {},
   "outputs": [
    {
     "name": "stdout",
     "output_type": "stream",
     "text": [
      "0.847666489134 0.719904760413\n",
      "0.849138966342 0.719904760413\n",
      "0.849149409443 0.719904760413\n",
      "0.850486126341 0.719904760413\n",
      "0.850966508976 0.719904760413\n",
      "0.853243104943 0.719904760413\n",
      "0.854893114864 0.719904760413\n"
     ]
    }
   ],
   "source": [
    "for i in range(3,10):\n",
    "    tree = DecisionTreeClassifier(random_state = 0, max_depth = i)\n",
    "    tree.fit(x_train, y_train)\n",
    "    train_score = tree.score(x_train, y_train)\n",
    "    prediction = log.predict(x_test)\n",
    "    from sklearn.metrics import accuracy_score\n",
    "    test_score = accuracy_score(prediction, y_test)\n",
    "    print(train_score, test_score)"
   ]
  },
  {
   "cell_type": "code",
   "execution_count": 94,
   "metadata": {},
   "outputs": [
    {
     "data": {
      "text/plain": [
       "array([  5.508e-03,   0.000e+00,   3.791e-03,   5.851e-03,   4.153e-03,\n",
       "         6.104e-03,   1.104e-02,   1.922e-04,   1.307e-03,   1.708e-01,\n",
       "         7.795e-01,   2.423e-04,   6.501e-04,   3.234e-04,   4.447e-04,\n",
       "         0.000e+00,   1.192e-04,   1.115e-04,   8.175e-05,   2.656e-04,\n",
       "         0.000e+00,   2.967e-04,   0.000e+00,   1.033e-04,   8.176e-05,\n",
       "         2.514e-04,   1.181e-04,   8.397e-05,   4.056e-05,   1.027e-04,\n",
       "         0.000e+00,   1.052e-04,   1.436e-04,   1.466e-04,   5.304e-05,\n",
       "         9.671e-05,   1.299e-04,   0.000e+00,   0.000e+00,   4.631e-05,\n",
       "         1.923e-04,   7.456e-04,   0.000e+00,   4.781e-04,   4.213e-04,\n",
       "         2.775e-04,   3.249e-04,   8.740e-05,   9.937e-05,   1.071e-04,\n",
       "         9.077e-05,   0.000e+00,   0.000e+00,   6.028e-04,   2.328e-04,\n",
       "         2.648e-04,   0.000e+00,   8.129e-04,   8.628e-04,   3.534e-04,\n",
       "         1.807e-04,   6.095e-04,   1.632e-04,   2.478e-04,   3.345e-04,\n",
       "         2.709e-04,   4.930e-05])"
      ]
     },
     "execution_count": 94,
     "metadata": {},
     "output_type": "execute_result"
    }
   ],
   "source": [
    "tree.feature_importances_"
   ]
  },
  {
   "cell_type": "markdown",
   "metadata": {},
   "source": [
    "# Random Forest Classifier"
   ]
  },
  {
   "cell_type": "code",
   "execution_count": 95,
   "metadata": {},
   "outputs": [
    {
     "data": {
      "text/plain": [
       "RandomForestClassifier(bootstrap=True, class_weight=None, criterion='gini',\n",
       "            max_depth=None, max_features='auto', max_leaf_nodes=None,\n",
       "            min_impurity_split=1e-07, min_samples_leaf=1,\n",
       "            min_samples_split=2, min_weight_fraction_leaf=0.0,\n",
       "            n_estimators=5, n_jobs=1, oob_score=False, random_state=2,\n",
       "            verbose=0, warm_start=False)"
      ]
     },
     "execution_count": 95,
     "metadata": {},
     "output_type": "execute_result"
    }
   ],
   "source": [
    "from sklearn.ensemble import RandomForestClassifier\n",
    "forest = RandomForestClassifier(n_estimators = 5, random_state = 2)\n",
    "forest.fit(x_train, y_train)"
   ]
  },
  {
   "cell_type": "code",
   "execution_count": 96,
   "metadata": {},
   "outputs": [
    {
     "data": {
      "text/plain": [
       "0.97373560157481964"
      ]
     },
     "execution_count": 96,
     "metadata": {},
     "output_type": "execute_result"
    }
   ],
   "source": [
    "forest.score(x_train, y_train)"
   ]
  },
  {
   "cell_type": "code",
   "execution_count": 97,
   "metadata": {},
   "outputs": [
    {
     "data": {
      "text/plain": [
       "0.83151365152962919"
      ]
     },
     "execution_count": 97,
     "metadata": {},
     "output_type": "execute_result"
    }
   ],
   "source": [
    "prediction = forest.predict(x_test)\n",
    "from sklearn.metrics import accuracy_score\n",
    "test_score = accuracy_score(prediction, y_test)\n",
    "test_score"
   ]
  },
  {
   "cell_type": "code",
   "execution_count": 98,
   "metadata": {
    "scrolled": true
   },
   "outputs": [
    {
     "name": "stdout",
     "output_type": "stream",
     "text": [
      "0.996752195662 0.719904760413\n",
      "0.996793968065 0.719904760413\n",
      "0.996793968065 0.719904760413\n",
      "0.996793968065 0.719904760413\n"
     ]
    }
   ],
   "source": [
    "for i in [100,150,200,250]:\n",
    "    tree = RandomForestClassifier(random_state = 0, n_estimators = i)\n",
    "    tree.fit(x_train, y_train)\n",
    "    train_score = tree.score(x_train, y_train)\n",
    "    prediction = log.predict(x_test)\n",
    "    from sklearn.metrics import accuracy_score\n",
    "    test_score = accuracy_score(prediction, y_test)\n",
    "    print(train_score, test_score)"
   ]
  },
  {
   "cell_type": "raw",
   "metadata": {},
   "source": [
    "from sklearn.model_selection import StratifiedKFold\n",
    "from sklearn.base import clone\n",
    "\n",
    "skfolds = StratifiedKFold(n_splits = 3, random_state = 42)\n",
    "\n",
    "for train_index, test_index in skfolds.split(x_train, y_train):\n",
    "    clone_clf = clone(forest)\n",
    "    x_train_folds = x_train[train_index]\n",
    "    y_train_folds = y_train[train_index]\n",
    "    x_test_fold = x_train[test_index]\n",
    "    y_test_fold = y_train[test_index]\n",
    "    \n",
    "    clone_clf.fit(x_train_folds, y_train_folds)\n",
    "    y_pred = clone_clf.predict(x_test_fold)\n",
    "    n_correct = sum(y_pred == y_test_fold)"
   ]
  },
  {
   "cell_type": "code",
   "execution_count": 215,
   "metadata": {},
   "outputs": [
    {
     "data": {
      "text/plain": [
       "array([ 0.837,  0.837,  0.841,  0.836])"
      ]
     },
     "execution_count": 215,
     "metadata": {},
     "output_type": "execute_result"
    }
   ],
   "source": [
    "from sklearn.model_selection import cross_val_score\n",
    "cross_val_score(forest, x_train, y_train, cv = 4, scoring = 'accuracy')"
   ]
  },
  {
   "cell_type": "code",
   "execution_count": 218,
   "metadata": {},
   "outputs": [
    {
     "data": {
      "text/plain": [
       "((63839,), (63839,))"
      ]
     },
     "execution_count": 218,
     "metadata": {},
     "output_type": "execute_result"
    }
   ],
   "source": [
    "y_test.shape, prediction.shape"
   ]
  },
  {
   "cell_type": "code",
   "execution_count": 220,
   "metadata": {},
   "outputs": [
    {
     "data": {
      "image/png": "[encoded data removed]",
      "text/plain": [
       "<matplotlib.figure.Figure at 0x21ec634f7f0>"
      ]
     },
     "metadata": {},
     "output_type": "display_data"
    }
   ],
   "source": [
    "from sklearn.metrics import precision_recall_curve\n",
    "\n",
    "precisions, recalls, thresholds = precision_recall_curve(y_test, prediction)\n",
    "\n",
    "def plot_precision_recall_vs_threshold(precisions, recalls, thresholds):\n",
    "    plt.plot(thresholds, precisions[:-1], 'b--', label = 'precision')\n",
    "    plt.plot(thresholds, recalls[:-1], 'g--', label = 'recall')\n",
    "    plt.xlabel('Threshold')\n",
    "    plt.legend(loc = 'center left')\n",
    "    plt.ylim([0,1])\n",
    "    plt.show()\n",
    "    \n",
    "plot_precision_recall_vs_threshold(precisions, recalls, thresholds)"
   ]
  },
  {
   "cell_type": "code",
   "execution_count": 222,
   "metadata": {},
   "outputs": [
    {
     "data": {
      "image/png": "[encoded data removed]",
      "text/plain": [
       "<matplotlib.figure.Figure at 0x21ec6910c88>"
      ]
     },
     "metadata": {},
     "output_type": "display_data"
    }
   ],
   "source": [
    "from sklearn.metrics import roc_curve\n",
    "fpr, tpr, thresholds = roc_curve(y_test, prediction)\n",
    "\n",
    "def plot_roc_curve(fpr, tpr, label = None):\n",
    "    plt.plot(fpr, tpr, linewidth= 2, label = label)\n",
    "    plt.plot([0,1], [0,1], 'k--')\n",
    "    plt.axis([0,1,0,1])\n",
    "    plt.xlabel('false positive rate')\n",
    "    plt.ylabel('true positive rate')\n",
    "plot_roc_curve(fpr, tpr, thresholds)\n",
    "plt.show()"
   ]
  },
  {
   "cell_type": "code",
   "execution_count": 223,
   "metadata": {},
   "outputs": [
    {
     "data": {
      "text/plain": [
       "0.79428446970103606"
      ]
     },
     "execution_count": 223,
     "metadata": {},
     "output_type": "execute_result"
    }
   ],
   "source": [
    "from sklearn.metrics import roc_auc_score\n",
    "roc_auc_score(y_test, prediction)"
   ]
  },
  {
   "cell_type": "code",
   "execution_count": null,
   "metadata": {
    "collapsed": true
   },
   "outputs": [],
   "source": [
    "from sk.metrics.con"
   ]
  },
  {
   "cell_type": "raw",
   "metadata": {},
   "source": [
    "forest = RandomForestClassifier(random_state = 42)\n",
    "from sklearn.cross_validation import cross_val_predict, cross_val_score\n",
    "y_proba_forest = cross_val_predict(forest, x_train, y_train, cv = 3)\n",
    "y_scores_forest = y_proba_forest[:,1]\n",
    "fpr_forest, tpr_forest, thresholds_forest = roc_curve(y_train, y_scores_forest)"
   ]
  },
  {
   "cell_type": "code",
   "execution_count": 234,
   "metadata": {},
   "outputs": [
    {
     "data": {
      "text/plain": [
       "array([[63425,  5543],\n",
       "       [ 9908, 16881]])"
      ]
     },
     "execution_count": 234,
     "metadata": {},
     "output_type": "execute_result"
    }
   ],
   "source": [
    "from sklearn.cross_validation import cross_val_predict, cross_val_score\n",
    "from sklearn.metrics import confusion_matrix\n",
    "cross_val_score(forest, x_train, y_train, cv = 3, scoring = 'accuracy')\n",
    "y_train_pred = cross_val_predict(forest, x_train, y_train, cv =3)\n",
    "conf_mx = confusion_matrix(y_train, y_train_pred)\n",
    "conf_mx"
   ]
  },
  {
   "cell_type": "code",
   "execution_count": 235,
   "metadata": {},
   "outputs": [
    {
     "data": {
      "image/png": "[encoded data removed]",
      "text/plain": [
       "<matplotlib.figure.Figure at 0x21ec696a780>"
      ]
     },
     "metadata": {},
     "output_type": "display_data"
    }
   ],
   "source": [
    "plt.matshow(conf_mx, cmap = plt.cm.gray)\n",
    "plt.show()"
   ]
  },
  {
   "cell_type": "markdown",
   "metadata": {},
   "source": [
    "# GradientBoosting classifier"
   ]
  },
  {
   "cell_type": "code",
   "execution_count": 201,
   "metadata": {},
   "outputs": [
    {
     "name": "stdout",
     "output_type": "stream",
     "text": [
      "0.849065864637 0.85021695202\n",
      "0.850308593628 0.850545904541\n",
      "0.851248472697 0.849887999499\n",
      "0.852574746494 0.850295274049\n",
      "0.855853880134 0.849527718166\n",
      "0.857744081373 0.848948135152\n",
      "0.860271311758 0.848572189414\n",
      "0.86316405067 0.848023935212\n"
     ]
    }
   ],
   "source": [
    "from sklearn.ensemble import GradientBoostingClassifier\n",
    "for i in range(2,10):\n",
    "    gbrt = GradientBoostingClassifier(random_state = 0, max_depth = i)\n",
    "    gbrt.fit(x_train, y_train)\n",
    "    print(gbrt.score(x_train, y_train),gbrt.score(x_test, y_test))"
   ]
  },
  {
   "cell_type": "markdown",
   "metadata": {},
   "source": [
    "# Neural Network with scikit learn"
   ]
  },
  {
   "cell_type": "code",
   "execution_count": 202,
   "metadata": {
    "collapsed": true
   },
   "outputs": [],
   "source": [
    "from sklearn.neural_network import MLPClassifier\n",
    "mlp = MLPClassifier(solver = 'lbfgs', activation = 'relu', random_state = 0).fit(x_train, y_train)\n"
   ]
  },
  {
   "cell_type": "code",
   "execution_count": 203,
   "metadata": {},
   "outputs": [
    {
     "data": {
      "text/plain": [
       "0.84854370959825387"
      ]
     },
     "execution_count": 203,
     "metadata": {},
     "output_type": "execute_result"
    }
   ],
   "source": [
    "mlp.score(x_train, y_train)"
   ]
  },
  {
   "cell_type": "code",
   "execution_count": 204,
   "metadata": {},
   "outputs": [
    {
     "data": {
      "text/plain": [
       "(0.84725920820409995, 0.8493710741083037)"
      ]
     },
     "execution_count": 204,
     "metadata": {},
     "output_type": "execute_result"
    }
   ],
   "source": [
    "mlp = MLPClassifier(solver = 'lbfgs', activation = 'logistic', random_state = 0, hidden_layer_sizes = [10]).fit(x_train, y_train)\n",
    "mlp.score(x_train, y_train), mlp.score(x_test, y_test)"
   ]
  },
  {
   "cell_type": "code",
   "execution_count": 205,
   "metadata": {},
   "outputs": [
    {
     "data": {
      "text/plain": [
       "(0.84738452541328568, 0.84940240291984526)"
      ]
     },
     "execution_count": 205,
     "metadata": {},
     "output_type": "execute_result"
    }
   ],
   "source": [
    "mlp = MLPClassifier(solver = 'lbfgs', max_iter = 1000, alpha = 1, activation = 'logistic', random_state = 0, hidden_layer_sizes = [10]).fit(x_train, y_train)\n",
    "mlp.score(x_train, y_train), mlp.score(x_test, y_test)"
   ]
  },
  {
   "cell_type": "code",
   "execution_count": 384,
   "metadata": {},
   "outputs": [],
   "source": [
    "import tensorflow as tf\n",
    "import keras"
   ]
  },
  {
   "cell_type": "code",
   "execution_count": 38,
   "metadata": {},
   "outputs": [
    {
     "data": {
      "text/plain": [
       "(0.84050252200883491, 0.84214978304798005)"
      ]
     },
     "execution_count": 38,
     "metadata": {},
     "output_type": "execute_result"
    }
   ],
   "source": [
    "# precetrons\n",
    "from sklearn.linear_model import Perceptron\n",
    "per_clf = Perceptron(random_state = 42)\n",
    "per_clf.fit(x_train, y_train)\n",
    "y_pred = per_clf.predict(x_test)\n",
    "from sklearn.metrics import accuracy_score\n",
    "test_score = accuracy_score(y_pred, y_test)\n",
    "per_clf.score(x_train, y_train),test_score"
   ]
  },
  {
   "cell_type": "markdown",
   "metadata": {},
   "source": [
    "# Tensorlfow higher level API"
   ]
  },
  {
   "cell_type": "code",
   "execution_count": 239,
   "metadata": {
    "scrolled": true
   },
   "outputs": [
    {
     "name": "stdout",
     "output_type": "stream",
     "text": [
      "WARNING:tensorflow:float64 is not supported by many models, consider casting to float32.\n",
      "INFO:tensorflow:Using default config.\n",
      "WARNING:tensorflow:Using temporary folder as model directory: C:\\Users\\INVENTAR\\AppData\\Local\\Temp\\tmp5tlx89ug\n",
      "INFO:tensorflow:Using config: {'_task_type': None, '_task_id': 0, '_cluster_spec': <tensorflow.python.training.server_lib.ClusterSpec object at 0x0000021EC8840B38>, '_master': '', '_num_ps_replicas': 0, '_num_worker_replicas': 0, '_environment': 'local', '_is_chief': True, '_evaluation_master': '', '_tf_config': gpu_options {\n",
      "  per_process_gpu_memory_fraction: 1\n",
      "}\n",
      ", '_tf_random_seed': None, '_save_summary_steps': 100, '_save_checkpoints_secs': 600, '_session_config': None, '_save_checkpoints_steps': None, '_keep_checkpoint_max': 5, '_keep_checkpoint_every_n_hours': 10000, '_model_dir': 'C:\\\\Users\\\\INVENTAR\\\\AppData\\\\Local\\\\Temp\\\\tmp5tlx89ug'}\n",
      "WARNING:tensorflow:float64 is not supported by many models, consider casting to float32.\n",
      "WARNING:tensorflow:From C:\\Users\\INVENTAR\\Anaconda3\\lib\\site-packages\\tensorflow\\contrib\\learn\\python\\learn\\estimators\\head.py:625: scalar_summary (from tensorflow.python.ops.logging_ops) is deprecated and will be removed after 2016-11-30.\n",
      "Instructions for updating:\n",
      "Please switch to tf.summary.scalar. Note that tf.summary.scalar uses the node name instead of the tag. This means that TensorFlow will automatically de-duplicate summary names based on the scope they are created in. Also, passing a tensor or list of tags to a scalar summary op is no longer supported.\n",
      "WARNING:tensorflow:Casting <dtype: 'int64'> labels to bool.\n",
      "WARNING:tensorflow:Casting <dtype: 'int64'> labels to bool.\n",
      "INFO:tensorflow:Create CheckpointSaverHook.\n",
      "INFO:tensorflow:Saving checkpoints for 1 into C:\\Users\\INVENTAR\\AppData\\Local\\Temp\\tmp5tlx89ug\\model.ckpt.\n",
      "INFO:tensorflow:loss = 0.680682, step = 1\n",
      "INFO:tensorflow:global_step/sec: 206.137\n",
      "INFO:tensorflow:loss = 0.407919, step = 101 (0.493 sec)\n",
      "INFO:tensorflow:global_step/sec: 213.327\n",
      "INFO:tensorflow:loss = 0.334438, step = 201 (0.476 sec)\n",
      "INFO:tensorflow:global_step/sec: 210.416\n",
      "INFO:tensorflow:loss = 0.271743, step = 301 (0.468 sec)\n",
      "INFO:tensorflow:global_step/sec: 211.011\n",
      "INFO:tensorflow:loss = 0.361544, step = 401 (0.474 sec)\n",
      "INFO:tensorflow:global_step/sec: 213.381\n",
      "INFO:tensorflow:loss = 0.401049, step = 501 (0.461 sec)\n",
      "INFO:tensorflow:global_step/sec: 211.408\n",
      "INFO:tensorflow:loss = 0.326332, step = 601 (0.481 sec)\n",
      "INFO:tensorflow:global_step/sec: 214.136\n",
      "INFO:tensorflow:loss = 0.341803, step = 701 (0.459 sec)\n",
      "INFO:tensorflow:global_step/sec: 211.138\n",
      "INFO:tensorflow:loss = 0.355674, step = 801 (0.478 sec)\n",
      "INFO:tensorflow:global_step/sec: 208.637\n",
      "INFO:tensorflow:loss = 0.351962, step = 901 (0.479 sec)\n",
      "INFO:tensorflow:global_step/sec: 210.188\n",
      "INFO:tensorflow:loss = 0.363271, step = 1001 (0.476 sec)\n",
      "INFO:tensorflow:global_step/sec: 216.582\n",
      "INFO:tensorflow:loss = 0.367145, step = 1101 (0.475 sec)\n",
      "INFO:tensorflow:global_step/sec: 209.174\n",
      "INFO:tensorflow:loss = 0.364283, step = 1201 (0.477 sec)\n",
      "INFO:tensorflow:global_step/sec: 185.487\n",
      "INFO:tensorflow:loss = 0.445843, step = 1301 (0.531 sec)\n",
      "INFO:tensorflow:global_step/sec: 158.455\n",
      "INFO:tensorflow:loss = 0.316225, step = 1401 (0.623 sec)\n",
      "INFO:tensorflow:global_step/sec: 211.826\n",
      "INFO:tensorflow:loss = 0.38922, step = 1501 (0.472 sec)\n",
      "INFO:tensorflow:global_step/sec: 192.771\n",
      "INFO:tensorflow:loss = 0.344475, step = 1601 (0.527 sec)\n",
      "INFO:tensorflow:global_step/sec: 193.541\n",
      "INFO:tensorflow:loss = 0.295004, step = 1701 (0.517 sec)\n",
      "INFO:tensorflow:global_step/sec: 197.614\n",
      "INFO:tensorflow:loss = 0.401626, step = 1801 (0.502 sec)\n",
      "INFO:tensorflow:global_step/sec: 218.495\n",
      "INFO:tensorflow:loss = 0.281009, step = 1901 (0.469 sec)\n",
      "INFO:tensorflow:global_step/sec: 208.187\n",
      "INFO:tensorflow:loss = 0.263319, step = 2001 (0.465 sec)\n",
      "INFO:tensorflow:global_step/sec: 220.686\n",
      "INFO:tensorflow:loss = 0.310772, step = 2101 (0.469 sec)\n",
      "INFO:tensorflow:global_step/sec: 214.495\n",
      "INFO:tensorflow:loss = 0.353159, step = 2201 (0.466 sec)\n",
      "INFO:tensorflow:global_step/sec: 210.141\n",
      "INFO:tensorflow:loss = 0.289763, step = 2301 (0.469 sec)\n",
      "INFO:tensorflow:global_step/sec: 201.741\n",
      "INFO:tensorflow:loss = 0.367555, step = 2401 (0.491 sec)\n",
      "INFO:tensorflow:global_step/sec: 194.356\n",
      "INFO:tensorflow:loss = 0.447073, step = 2501 (0.515 sec)\n",
      "INFO:tensorflow:global_step/sec: 209.164\n",
      "INFO:tensorflow:loss = 0.409175, step = 2601 (0.474 sec)\n",
      "INFO:tensorflow:global_step/sec: 207.783\n",
      "INFO:tensorflow:loss = 0.370954, step = 2701 (0.489 sec)\n",
      "INFO:tensorflow:global_step/sec: 196.303\n",
      "INFO:tensorflow:loss = 0.338782, step = 2801 (0.509 sec)\n",
      "INFO:tensorflow:global_step/sec: 205.049\n",
      "INFO:tensorflow:loss = 0.473819, step = 2901 (0.488 sec)\n",
      "INFO:tensorflow:global_step/sec: 206.624\n",
      "INFO:tensorflow:loss = 0.316661, step = 3001 (0.476 sec)\n",
      "INFO:tensorflow:global_step/sec: 206.522\n",
      "INFO:tensorflow:loss = 0.344282, step = 3101 (0.488 sec)\n",
      "INFO:tensorflow:global_step/sec: 194.281\n",
      "INFO:tensorflow:loss = 0.35505, step = 3201 (0.519 sec)\n",
      "INFO:tensorflow:global_step/sec: 212.772\n",
      "INFO:tensorflow:loss = 0.293067, step = 3301 (0.466 sec)\n",
      "INFO:tensorflow:global_step/sec: 196.371\n",
      "INFO:tensorflow:loss = 0.447342, step = 3401 (0.505 sec)\n",
      "INFO:tensorflow:global_step/sec: 194.365\n",
      "INFO:tensorflow:loss = 0.343572, step = 3501 (0.518 sec)\n",
      "INFO:tensorflow:global_step/sec: 205.669\n",
      "INFO:tensorflow:loss = 0.295509, step = 3601 (0.498 sec)\n",
      "INFO:tensorflow:global_step/sec: 190.948\n",
      "INFO:tensorflow:loss = 0.327507, step = 3701 (0.513 sec)\n",
      "INFO:tensorflow:global_step/sec: 201.853\n",
      "INFO:tensorflow:loss = 0.293329, step = 3801 (0.490 sec)\n",
      "INFO:tensorflow:global_step/sec: 202.454\n",
      "INFO:tensorflow:loss = 0.405681, step = 3901 (0.494 sec)\n",
      "INFO:tensorflow:global_step/sec: 213.448\n",
      "INFO:tensorflow:loss = 0.397802, step = 4001 (0.476 sec)\n",
      "INFO:tensorflow:global_step/sec: 206.607\n",
      "INFO:tensorflow:loss = 0.302636, step = 4101 (0.476 sec)\n",
      "INFO:tensorflow:global_step/sec: 202.975\n",
      "INFO:tensorflow:loss = 0.253013, step = 4201 (0.493 sec)\n",
      "INFO:tensorflow:global_step/sec: 201.967\n",
      "INFO:tensorflow:loss = 0.375581, step = 4301 (0.495 sec)\n",
      "INFO:tensorflow:global_step/sec: 207.218\n",
      "INFO:tensorflow:loss = 0.304067, step = 4401 (0.498 sec)\n",
      "INFO:tensorflow:global_step/sec: 199.25\n",
      "INFO:tensorflow:loss = 0.267473, step = 4501 (0.486 sec)\n",
      "INFO:tensorflow:global_step/sec: 196.677\n",
      "INFO:tensorflow:loss = 0.404513, step = 4601 (0.512 sec)\n",
      "INFO:tensorflow:global_step/sec: 205.588\n",
      "INFO:tensorflow:loss = 0.374918, step = 4701 (0.482 sec)\n",
      "INFO:tensorflow:global_step/sec: 214.538\n",
      "INFO:tensorflow:loss = 0.325809, step = 4801 (0.474 sec)\n",
      "INFO:tensorflow:global_step/sec: 215.567\n",
      "INFO:tensorflow:loss = 0.281437, step = 4901 (0.456 sec)\n",
      "INFO:tensorflow:global_step/sec: 217.701\n",
      "INFO:tensorflow:loss = 0.306849, step = 5001 (0.459 sec)\n",
      "INFO:tensorflow:global_step/sec: 217.751\n",
      "INFO:tensorflow:loss = 0.345483, step = 5101 (0.475 sec)\n",
      "INFO:tensorflow:global_step/sec: 214.616\n",
      "INFO:tensorflow:loss = 0.35221, step = 5201 (0.450 sec)\n",
      "INFO:tensorflow:global_step/sec: 219.801\n",
      "INFO:tensorflow:loss = 0.364564, step = 5301 (0.471 sec)\n",
      "INFO:tensorflow:global_step/sec: 198.156\n",
      "INFO:tensorflow:loss = 0.507392, step = 5401 (0.493 sec)\n",
      "INFO:tensorflow:global_step/sec: 206.801\n",
      "INFO:tensorflow:loss = 0.349892, step = 5501 (0.495 sec)\n",
      "INFO:tensorflow:global_step/sec: 199.356\n",
      "INFO:tensorflow:loss = 0.379291, step = 5601 (0.486 sec)\n",
      "INFO:tensorflow:global_step/sec: 207.524\n",
      "INFO:tensorflow:loss = 0.346776, step = 5701 (0.497 sec)\n",
      "INFO:tensorflow:global_step/sec: 208.409\n",
      "INFO:tensorflow:loss = 0.462961, step = 5801 (0.480 sec)\n",
      "INFO:tensorflow:global_step/sec: 213.7\n",
      "INFO:tensorflow:loss = 0.291862, step = 5901 (0.468 sec)\n",
      "INFO:tensorflow:global_step/sec: 203.258\n",
      "INFO:tensorflow:loss = 0.399172, step = 6001 (0.480 sec)\n",
      "INFO:tensorflow:global_step/sec: 201.613\n",
      "INFO:tensorflow:loss = 0.341946, step = 6101 (0.496 sec)\n",
      "INFO:tensorflow:global_step/sec: 203.182\n",
      "INFO:tensorflow:loss = 0.328986, step = 6201 (0.496 sec)\n",
      "INFO:tensorflow:global_step/sec: 206.627\n",
      "INFO:tensorflow:loss = 0.371105, step = 6301 (0.476 sec)\n",
      "INFO:tensorflow:global_step/sec: 202.153\n",
      "INFO:tensorflow:loss = 0.357912, step = 6401 (0.495 sec)\n",
      "INFO:tensorflow:global_step/sec: 199.803\n",
      "INFO:tensorflow:loss = 0.304766, step = 6501 (0.504 sec)\n"
     ]
    },
    {
     "name": "stdout",
     "output_type": "stream",
     "text": [
      "INFO:tensorflow:global_step/sec: 204.52\n",
      "INFO:tensorflow:loss = 0.2782, step = 6601 (0.485 sec)\n",
      "INFO:tensorflow:global_step/sec: 206.093\n",
      "INFO:tensorflow:loss = 0.338286, step = 6701 (0.489 sec)\n",
      "INFO:tensorflow:global_step/sec: 205.983\n",
      "INFO:tensorflow:loss = 0.276604, step = 6801 (0.481 sec)\n",
      "INFO:tensorflow:global_step/sec: 207.305\n",
      "INFO:tensorflow:loss = 0.288703, step = 6901 (0.482 sec)\n",
      "INFO:tensorflow:global_step/sec: 206.809\n",
      "INFO:tensorflow:loss = 0.481335, step = 7001 (0.499 sec)\n",
      "INFO:tensorflow:global_step/sec: 199.227\n",
      "INFO:tensorflow:loss = 0.460785, step = 7101 (0.494 sec)\n",
      "INFO:tensorflow:global_step/sec: 203.276\n",
      "INFO:tensorflow:loss = 0.324349, step = 7201 (0.488 sec)\n",
      "INFO:tensorflow:global_step/sec: 205.698\n",
      "INFO:tensorflow:loss = 0.221085, step = 7301 (0.490 sec)\n",
      "INFO:tensorflow:global_step/sec: 217.105\n",
      "INFO:tensorflow:loss = 0.369403, step = 7401 (0.453 sec)\n",
      "INFO:tensorflow:global_step/sec: 220.776\n",
      "INFO:tensorflow:loss = 0.262691, step = 7501 (0.469 sec)\n",
      "INFO:tensorflow:global_step/sec: 213.888\n",
      "INFO:tensorflow:loss = 0.354269, step = 7601 (0.452 sec)\n",
      "INFO:tensorflow:global_step/sec: 218.036\n",
      "INFO:tensorflow:loss = 0.332688, step = 7701 (0.459 sec)\n",
      "INFO:tensorflow:global_step/sec: 216.001\n",
      "INFO:tensorflow:loss = 0.316996, step = 7801 (0.463 sec)\n",
      "INFO:tensorflow:global_step/sec: 217.728\n",
      "INFO:tensorflow:loss = 0.409981, step = 7901 (0.475 sec)\n",
      "INFO:tensorflow:global_step/sec: 207.159\n",
      "INFO:tensorflow:loss = 0.395285, step = 8001 (0.467 sec)\n",
      "INFO:tensorflow:global_step/sec: 216.108\n",
      "INFO:tensorflow:loss = 0.409065, step = 8101 (0.463 sec)\n",
      "INFO:tensorflow:global_step/sec: 210.758\n",
      "INFO:tensorflow:loss = 0.309986, step = 8201 (0.482 sec)\n",
      "INFO:tensorflow:global_step/sec: 210.456\n",
      "INFO:tensorflow:loss = 0.36392, step = 8301 (0.471 sec)\n",
      "INFO:tensorflow:global_step/sec: 215.261\n",
      "INFO:tensorflow:loss = 0.347837, step = 8401 (0.461 sec)\n",
      "INFO:tensorflow:global_step/sec: 213.189\n",
      "INFO:tensorflow:loss = 0.414186, step = 8501 (0.469 sec)\n",
      "INFO:tensorflow:global_step/sec: 207.665\n",
      "INFO:tensorflow:loss = 0.339273, step = 8601 (0.482 sec)\n",
      "INFO:tensorflow:global_step/sec: 208.197\n",
      "INFO:tensorflow:loss = 0.271268, step = 8701 (0.480 sec)\n",
      "INFO:tensorflow:global_step/sec: 219.258\n",
      "INFO:tensorflow:loss = 0.312436, step = 8801 (0.472 sec)\n",
      "INFO:tensorflow:global_step/sec: 209.612\n",
      "INFO:tensorflow:loss = 0.25211, step = 8901 (0.461 sec)\n",
      "INFO:tensorflow:global_step/sec: 221.809\n",
      "INFO:tensorflow:loss = 0.340979, step = 9001 (0.466 sec)\n",
      "INFO:tensorflow:global_step/sec: 214.148\n",
      "INFO:tensorflow:loss = 0.348646, step = 9101 (0.467 sec)\n",
      "INFO:tensorflow:global_step/sec: 214.054\n",
      "INFO:tensorflow:loss = 0.378816, step = 9201 (0.467 sec)\n",
      "INFO:tensorflow:global_step/sec: 206.723\n",
      "INFO:tensorflow:loss = 0.384061, step = 9301 (0.468 sec)\n",
      "INFO:tensorflow:global_step/sec: 220.058\n",
      "INFO:tensorflow:loss = 0.420725, step = 9401 (0.454 sec)\n",
      "INFO:tensorflow:global_step/sec: 213.629\n",
      "INFO:tensorflow:loss = 0.317457, step = 9501 (0.484 sec)\n",
      "INFO:tensorflow:global_step/sec: 215.125\n",
      "INFO:tensorflow:loss = 0.417595, step = 9601 (0.465 sec)\n",
      "INFO:tensorflow:global_step/sec: 213.076\n",
      "INFO:tensorflow:loss = 0.354066, step = 9701 (0.454 sec)\n",
      "INFO:tensorflow:global_step/sec: 214.051\n",
      "INFO:tensorflow:loss = 0.287353, step = 9801 (0.483 sec)\n",
      "INFO:tensorflow:global_step/sec: 213.557\n",
      "INFO:tensorflow:loss = 0.366556, step = 9901 (0.453 sec)\n",
      "INFO:tensorflow:global_step/sec: 213.466\n",
      "INFO:tensorflow:loss = 0.305494, step = 10001 (0.468 sec)\n",
      "INFO:tensorflow:global_step/sec: 221.343\n",
      "INFO:tensorflow:loss = 0.348318, step = 10101 (0.467 sec)\n",
      "INFO:tensorflow:global_step/sec: 207.919\n",
      "INFO:tensorflow:loss = 0.372622, step = 10201 (0.465 sec)\n",
      "INFO:tensorflow:global_step/sec: 220.765\n",
      "INFO:tensorflow:loss = 0.266307, step = 10301 (0.469 sec)\n",
      "INFO:tensorflow:global_step/sec: 213.603\n",
      "INFO:tensorflow:loss = 0.348109, step = 10401 (0.468 sec)\n",
      "INFO:tensorflow:global_step/sec: 214.057\n",
      "INFO:tensorflow:loss = 0.530116, step = 10501 (0.467 sec)\n",
      "INFO:tensorflow:global_step/sec: 212.125\n",
      "INFO:tensorflow:loss = 0.407626, step = 10601 (0.456 sec)\n",
      "INFO:tensorflow:global_step/sec: 215.061\n",
      "INFO:tensorflow:loss = 0.319306, step = 10701 (0.465 sec)\n",
      "INFO:tensorflow:global_step/sec: 215.037\n",
      "INFO:tensorflow:loss = 0.291126, step = 10801 (0.465 sec)\n",
      "INFO:tensorflow:global_step/sec: 212.125\n",
      "INFO:tensorflow:loss = 0.33501, step = 10901 (0.471 sec)\n",
      "INFO:tensorflow:global_step/sec: 212.528\n",
      "INFO:tensorflow:loss = 0.306994, step = 11001 (0.471 sec)\n",
      "INFO:tensorflow:global_step/sec: 215.413\n",
      "INFO:tensorflow:loss = 0.353218, step = 11101 (0.464 sec)\n",
      "INFO:tensorflow:global_step/sec: 207.004\n",
      "INFO:tensorflow:loss = 0.352588, step = 11201 (0.491 sec)\n",
      "INFO:tensorflow:global_step/sec: 203.124\n",
      "INFO:tensorflow:loss = 0.422094, step = 11301 (0.484 sec)\n",
      "INFO:tensorflow:global_step/sec: 197.542\n",
      "INFO:tensorflow:loss = 0.217375, step = 11401 (0.510 sec)\n",
      "INFO:tensorflow:global_step/sec: 194.88\n",
      "INFO:tensorflow:loss = 0.38889, step = 11501 (0.517 sec)\n",
      "INFO:tensorflow:global_step/sec: 201.216\n",
      "INFO:tensorflow:loss = 0.366403, step = 11601 (0.493 sec)\n",
      "INFO:tensorflow:global_step/sec: 210.584\n",
      "INFO:tensorflow:loss = 0.351003, step = 11701 (0.486 sec)\n",
      "INFO:tensorflow:global_step/sec: 208.746\n",
      "INFO:tensorflow:loss = 0.452124, step = 11801 (0.471 sec)\n",
      "INFO:tensorflow:global_step/sec: 212.435\n",
      "INFO:tensorflow:loss = 0.437939, step = 11901 (0.463 sec)\n",
      "INFO:tensorflow:global_step/sec: 216.392\n",
      "INFO:tensorflow:loss = 0.297685, step = 12001 (0.478 sec)\n",
      "INFO:tensorflow:global_step/sec: 213.751\n",
      "INFO:tensorflow:loss = 0.408383, step = 12101 (0.468 sec)\n",
      "INFO:tensorflow:global_step/sec: 213.906\n",
      "INFO:tensorflow:loss = 0.304284, step = 12201 (0.452 sec)\n",
      "INFO:tensorflow:global_step/sec: 213.587\n",
      "INFO:tensorflow:loss = 0.253718, step = 12301 (0.476 sec)\n",
      "INFO:tensorflow:global_step/sec: 212.241\n",
      "INFO:tensorflow:loss = 0.254567, step = 12401 (0.467 sec)\n",
      "INFO:tensorflow:global_step/sec: 209.433\n",
      "INFO:tensorflow:loss = 0.39535, step = 12501 (0.473 sec)\n",
      "INFO:tensorflow:global_step/sec: 216.824\n",
      "INFO:tensorflow:loss = 0.363775, step = 12601 (0.477 sec)\n",
      "INFO:tensorflow:global_step/sec: 205.206\n",
      "INFO:tensorflow:loss = 0.3374, step = 12701 (0.480 sec)\n",
      "INFO:tensorflow:global_step/sec: 210.392\n",
      "INFO:tensorflow:loss = 0.380659, step = 12801 (0.467 sec)\n",
      "INFO:tensorflow:global_step/sec: 209.849\n",
      "INFO:tensorflow:loss = 0.32889, step = 12901 (0.481 sec)\n",
      "INFO:tensorflow:global_step/sec: 218.697\n",
      "INFO:tensorflow:loss = 0.359333, step = 13001 (0.453 sec)\n",
      "INFO:tensorflow:global_step/sec: 208.878\n",
      "INFO:tensorflow:loss = 0.352186, step = 13101 (0.483 sec)\n",
      "INFO:tensorflow:global_step/sec: 212.368\n",
      "INFO:tensorflow:loss = 0.279858, step = 13201 (0.467 sec)\n",
      "INFO:tensorflow:global_step/sec: 212.988\n",
      "INFO:tensorflow:loss = 0.380663, step = 13301 (0.485 sec)\n",
      "INFO:tensorflow:global_step/sec: 209.88\n",
      "INFO:tensorflow:loss = 0.382859, step = 13401 (0.469 sec)\n",
      "INFO:tensorflow:global_step/sec: 209.877\n",
      "INFO:tensorflow:loss = 0.472759, step = 13501 (0.476 sec)\n",
      "INFO:tensorflow:global_step/sec: 213.02\n",
      "INFO:tensorflow:loss = 0.36269, step = 13601 (0.461 sec)\n",
      "INFO:tensorflow:global_step/sec: 210.385\n",
      "INFO:tensorflow:loss = 0.268966, step = 13701 (0.479 sec)\n",
      "INFO:tensorflow:global_step/sec: 218.241\n",
      "INFO:tensorflow:loss = 0.415408, step = 13801 (0.470 sec)\n",
      "INFO:tensorflow:global_step/sec: 205.262\n",
      "INFO:tensorflow:loss = 0.428197, step = 13901 (0.475 sec)\n",
      "INFO:tensorflow:global_step/sec: 218.656\n",
      "INFO:tensorflow:loss = 0.3867, step = 14001 (0.453 sec)\n",
      "INFO:tensorflow:global_step/sec: 210.986\n",
      "INFO:tensorflow:loss = 0.277092, step = 14101 (0.482 sec)\n",
      "INFO:tensorflow:global_step/sec: 214.287\n",
      "INFO:tensorflow:loss = 0.366966, step = 14201 (0.459 sec)\n",
      "INFO:tensorflow:global_step/sec: 217.784\n",
      "INFO:tensorflow:loss = 0.357502, step = 14301 (0.475 sec)\n",
      "INFO:tensorflow:global_step/sec: 199.672\n",
      "INFO:tensorflow:loss = 0.260411, step = 14401 (0.493 sec)\n",
      "INFO:tensorflow:global_step/sec: 212.756\n",
      "INFO:tensorflow:loss = 0.299273, step = 14501 (0.462 sec)\n",
      "INFO:tensorflow:global_step/sec: 212.597\n",
      "INFO:tensorflow:loss = 0.313859, step = 14601 (0.470 sec)\n",
      "INFO:tensorflow:global_step/sec: 215.098\n",
      "INFO:tensorflow:loss = 0.26709, step = 14701 (0.465 sec)\n",
      "INFO:tensorflow:global_step/sec: 211.437\n",
      "INFO:tensorflow:loss = 0.313459, step = 14801 (0.473 sec)\n",
      "INFO:tensorflow:global_step/sec: 218.697\n"
     ]
    },
    {
     "name": "stdout",
     "output_type": "stream",
     "text": [
      "INFO:tensorflow:loss = 0.374142, step = 14901 (0.457 sec)\n",
      "INFO:tensorflow:global_step/sec: 213.041\n",
      "INFO:tensorflow:loss = 0.461166, step = 15001 (0.469 sec)\n",
      "INFO:tensorflow:global_step/sec: 219.572\n",
      "INFO:tensorflow:loss = 0.50199, step = 15101 (0.455 sec)\n",
      "INFO:tensorflow:global_step/sec: 211.476\n",
      "INFO:tensorflow:loss = 0.304045, step = 15201 (0.481 sec)\n",
      "INFO:tensorflow:global_step/sec: 215.401\n",
      "INFO:tensorflow:loss = 0.318741, step = 15301 (0.456 sec)\n",
      "INFO:tensorflow:global_step/sec: 214.863\n",
      "INFO:tensorflow:loss = 0.329337, step = 15401 (0.465 sec)\n",
      "INFO:tensorflow:global_step/sec: 212.014\n",
      "INFO:tensorflow:loss = 0.339571, step = 15501 (0.476 sec)\n",
      "INFO:tensorflow:global_step/sec: 216.063\n",
      "INFO:tensorflow:loss = 0.363548, step = 15601 (0.459 sec)\n",
      "INFO:tensorflow:global_step/sec: 219.206\n",
      "INFO:tensorflow:loss = 0.337681, step = 15701 (0.456 sec)\n",
      "INFO:tensorflow:global_step/sec: 213.786\n",
      "INFO:tensorflow:loss = 0.330242, step = 15801 (0.468 sec)\n",
      "INFO:tensorflow:global_step/sec: 217.932\n",
      "INFO:tensorflow:loss = 0.370908, step = 15901 (0.474 sec)\n",
      "INFO:tensorflow:global_step/sec: 212.965\n",
      "INFO:tensorflow:loss = 0.362477, step = 16001 (0.470 sec)\n",
      "INFO:tensorflow:global_step/sec: 212.502\n",
      "INFO:tensorflow:loss = 0.32253, step = 16101 (0.455 sec)\n",
      "INFO:tensorflow:global_step/sec: 214.712\n",
      "INFO:tensorflow:loss = 0.314644, step = 16201 (0.466 sec)\n",
      "INFO:tensorflow:global_step/sec: 218.05\n",
      "INFO:tensorflow:loss = 0.377392, step = 16301 (0.474 sec)\n",
      "INFO:tensorflow:global_step/sec: 211.699\n",
      "INFO:tensorflow:loss = 0.385944, step = 16401 (0.465 sec)\n",
      "INFO:tensorflow:global_step/sec: 211.737\n",
      "INFO:tensorflow:loss = 0.256793, step = 16501 (0.468 sec)\n",
      "INFO:tensorflow:global_step/sec: 210.605\n",
      "INFO:tensorflow:loss = 0.287504, step = 16601 (0.475 sec)\n",
      "INFO:tensorflow:global_step/sec: 215.938\n",
      "INFO:tensorflow:loss = 0.312659, step = 16701 (0.467 sec)\n",
      "INFO:tensorflow:global_step/sec: 212.42\n",
      "INFO:tensorflow:loss = 0.46239, step = 16801 (0.471 sec)\n",
      "INFO:tensorflow:global_step/sec: 216.737\n",
      "INFO:tensorflow:loss = 0.258965, step = 16901 (0.469 sec)\n",
      "INFO:tensorflow:global_step/sec: 204.955\n",
      "INFO:tensorflow:loss = 0.386437, step = 17001 (0.476 sec)\n",
      "INFO:tensorflow:global_step/sec: 210.744\n",
      "INFO:tensorflow:loss = 0.34637, step = 17101 (0.479 sec)\n",
      "INFO:tensorflow:global_step/sec: 219.656\n",
      "INFO:tensorflow:loss = 0.34972, step = 17201 (0.463 sec)\n",
      "INFO:tensorflow:global_step/sec: 205.17\n",
      "INFO:tensorflow:loss = 0.238941, step = 17301 (0.480 sec)\n",
      "INFO:tensorflow:global_step/sec: 219.838\n",
      "INFO:tensorflow:loss = 0.415274, step = 17401 (0.462 sec)\n",
      "INFO:tensorflow:global_step/sec: 210.025\n",
      "INFO:tensorflow:loss = 0.395431, step = 17501 (0.465 sec)\n",
      "INFO:tensorflow:global_step/sec: 215.987\n",
      "INFO:tensorflow:loss = 0.297236, step = 17601 (0.475 sec)\n",
      "INFO:tensorflow:global_step/sec: 204.677\n",
      "INFO:tensorflow:loss = 0.390261, step = 17701 (0.477 sec)\n",
      "INFO:tensorflow:global_step/sec: 210.292\n",
      "INFO:tensorflow:loss = 0.267313, step = 17801 (0.476 sec)\n",
      "INFO:tensorflow:global_step/sec: 208.077\n",
      "INFO:tensorflow:loss = 0.344792, step = 17901 (0.480 sec)\n",
      "INFO:tensorflow:global_step/sec: 213.204\n",
      "INFO:tensorflow:loss = 0.239833, step = 18001 (0.469 sec)\n",
      "INFO:tensorflow:global_step/sec: 198.92\n",
      "INFO:tensorflow:loss = 0.421076, step = 18101 (0.503 sec)\n",
      "INFO:tensorflow:global_step/sec: 204.431\n",
      "INFO:tensorflow:loss = 0.456185, step = 18201 (0.493 sec)\n",
      "INFO:tensorflow:global_step/sec: 195.858\n",
      "INFO:tensorflow:loss = 0.300569, step = 18301 (0.507 sec)\n",
      "INFO:tensorflow:global_step/sec: 200.176\n",
      "INFO:tensorflow:loss = 0.424405, step = 18401 (0.504 sec)\n",
      "INFO:tensorflow:global_step/sec: 198.273\n",
      "INFO:tensorflow:loss = 0.194092, step = 18501 (0.504 sec)\n",
      "INFO:tensorflow:global_step/sec: 205.297\n",
      "INFO:tensorflow:loss = 0.424446, step = 18601 (0.479 sec)\n",
      "INFO:tensorflow:global_step/sec: 209.674\n",
      "INFO:tensorflow:loss = 0.303847, step = 18701 (0.481 sec)\n",
      "INFO:tensorflow:global_step/sec: 202.349\n",
      "INFO:tensorflow:loss = 0.291338, step = 18801 (0.490 sec)\n",
      "INFO:tensorflow:global_step/sec: 209.031\n",
      "INFO:tensorflow:loss = 0.449388, step = 18901 (0.486 sec)\n",
      "INFO:tensorflow:global_step/sec: 215.476\n",
      "INFO:tensorflow:loss = 0.387421, step = 19001 (0.456 sec)\n",
      "INFO:tensorflow:global_step/sec: 219.492\n",
      "INFO:tensorflow:loss = 0.43187, step = 19101 (0.471 sec)\n",
      "INFO:tensorflow:global_step/sec: 214.047\n",
      "INFO:tensorflow:loss = 0.271959, step = 19201 (0.467 sec)\n",
      "INFO:tensorflow:global_step/sec: 214.231\n",
      "INFO:tensorflow:loss = 0.326155, step = 19301 (0.467 sec)\n",
      "INFO:tensorflow:global_step/sec: 214.215\n",
      "INFO:tensorflow:loss = 0.382327, step = 19401 (0.451 sec)\n",
      "INFO:tensorflow:global_step/sec: 213.964\n",
      "INFO:tensorflow:loss = 0.345732, step = 19501 (0.467 sec)\n",
      "INFO:tensorflow:global_step/sec: 221.036\n",
      "INFO:tensorflow:loss = 0.374675, step = 19601 (0.468 sec)\n",
      "INFO:tensorflow:global_step/sec: 214.262\n",
      "INFO:tensorflow:loss = 0.238862, step = 19701 (0.451 sec)\n",
      "INFO:tensorflow:global_step/sec: 212.684\n",
      "INFO:tensorflow:loss = 0.321282, step = 19801 (0.470 sec)\n",
      "INFO:tensorflow:global_step/sec: 214.838\n",
      "INFO:tensorflow:loss = 0.333655, step = 19901 (0.465 sec)\n",
      "INFO:tensorflow:Saving checkpoints for 20000 into C:\\Users\\INVENTAR\\AppData\\Local\\Temp\\tmp5tlx89ug\\model.ckpt.\n",
      "INFO:tensorflow:Loss for final step: 0.35866.\n"
     ]
    },
    {
     "data": {
      "text/plain": [
       "SKCompat()"
      ]
     },
     "execution_count": 239,
     "metadata": {},
     "output_type": "execute_result"
    }
   ],
   "source": [
    "feature_cols = tf.contrib.learn.infer_real_valued_columns_from_input(x_norm)\n",
    "dnn_clf = tf.contrib.learn.DNNClassifier(hidden_units = [300,100], n_classes = 2,\n",
    "                                  feature_columns = feature_cols)\n",
    "dnn_clf = tf.contrib.learn.SKCompat(dnn_clf)\n",
    "dnn_clf.fit(x_norm, target,batch_size = 100, steps = 20000)"
   ]
  },
  {
   "cell_type": "code",
   "execution_count": 245,
   "metadata": {},
   "outputs": [
    {
     "name": "stdout",
     "output_type": "stream",
     "text": [
      "WARNING:tensorflow:float64 is not supported by many models, consider casting to float32.\n",
      "INFO:tensorflow:Restoring parameters from C:\\Users\\INVENTAR\\AppData\\Local\\Temp\\tmp5tlx89ug\\model.ckpt-20000\n"
     ]
    },
    {
     "data": {
      "text/plain": [
       "0.85081219943921427"
      ]
     },
     "execution_count": 245,
     "metadata": {},
     "output_type": "execute_result"
    }
   ],
   "source": [
    "y_pred = dnn_clf.predict(x_test)\n",
    "accuracy_score(y_test, y_pred['classes'])"
   ]
  },
  {
   "cell_type": "code",
   "execution_count": 373,
   "metadata": {},
   "outputs": [
    {
     "data": {
      "text/plain": [
       "(95757, 4)"
      ]
     },
     "execution_count": 373,
     "metadata": {},
     "output_type": "execute_result"
    }
   ],
   "source": [
    "x_train.shape"
   ]
  },
  {
   "cell_type": "code",
   "execution_count": 56,
   "metadata": {
    "collapsed": true
   },
   "outputs": [],
   "source": [
    "nn_architecture = [\n",
    "    {\"input_dim\": 4, \"output_dim\": 8, \"activation\": \"relu\"},\n",
    "    {\"input_dim\": 8, \"output_dim\": 12, \"activation\": \"relu\"},\n",
    "    {\"input_dim\": 12, \"output_dim\": 8, \"activation\": \"relu\"},\n",
    "    {\"input_dim\": 8, \"output_dim\": 4, \"activation\": \"relu\"},\n",
    "    {\"input_dim\": 4, \"output_dim\": 1, \"activation\": \"sigmoid\"},\n",
    "]"
   ]
  },
  {
   "cell_type": "code",
   "execution_count": 69,
   "metadata": {
    "collapsed": true
   },
   "outputs": [],
   "source": [
    "def init_layers(nn_architecture, seed = 99):\n",
    "    np.random.seed(seed)\n",
    "    number_of_layers = len(nn_architecture)\n",
    "    params_values = {}\n",
    "    \n",
    "    for ids, layer in enumerate(nn_architecture):\n",
    "        layer_idx = ids + 1\n",
    "        layer_input_size = layer['input_dim']\n",
    "        layer_output_size = layer['output_dim']\n",
    "        \n",
    "        \n",
    "        params_values['W' + str(layer_idx)] = np.random.randn(layer_output_size, layer_input_size) * 0.1\n",
    "        params_values['b' + str(layer_idx)] = np.random.randn(layer_output_size, 1) * 0.1\n",
    "        \n",
    "    return params_values"
   ]
  },
  {
   "cell_type": "markdown",
   "metadata": {},
   "source": [
    "# Keras implementation of Neural networks"
   ]
  },
  {
   "cell_type": "code",
   "execution_count": 38,
   "metadata": {},
   "outputs": [
    {
     "name": "stderr",
     "output_type": "stream",
     "text": [
      "Using TensorFlow backend.\n"
     ]
    }
   ],
   "source": [
    "# model\n",
    "\n",
    "import keras, tensorflow\n",
    "\n",
    "from keras import Sequential\n",
    "from keras.layers import Dense\n",
    "\n",
    "model = Sequential()\n",
    "model.add(Dense(8, input_dim = 4, activation = 'relu'))\n",
    "model.add(Dense(4, activation = 'relu'))\n",
    "model.add(Dense(1, activation = 'sigmoid'))"
   ]
  },
  {
   "cell_type": "code",
   "execution_count": 42,
   "metadata": {},
   "outputs": [
    {
     "name": "stdout",
     "output_type": "stream",
     "text": [
      "Epoch 1/100\n",
      "10/10 [==============================] - 1s 120ms/step - loss: 0.6985 - acc: 0.4310\n",
      "Epoch 2/100\n",
      "10/10 [==============================] - 0s 14ms/step - loss: 0.6792 - acc: 0.5594\n",
      "Epoch 3/100\n",
      "10/10 [==============================] - 0s 15ms/step - loss: 0.6650 - acc: 0.6404\n",
      "Epoch 4/100\n",
      "10/10 [==============================] - 0s 14ms/step - loss: 0.6528 - acc: 0.7247\n",
      "Epoch 5/100\n",
      "10/10 [==============================] - 0s 14ms/step - loss: 0.6412 - acc: 0.7976\n",
      "Epoch 6/100\n",
      "10/10 [==============================] - 0s 15ms/step - loss: 0.6304 - acc: 0.8270\n",
      "Epoch 7/100\n",
      "10/10 [==============================] - 0s 15ms/step - loss: 0.6197 - acc: 0.8408\n",
      "Epoch 8/100\n",
      "10/10 [==============================] - 0s 14ms/step - loss: 0.6084 - acc: 0.8439\n",
      "Epoch 9/100\n",
      "10/10 [==============================] - 0s 15ms/step - loss: 0.5967 - acc: 0.8447\n",
      "Epoch 10/100\n",
      "10/10 [==============================] - 0s 14ms/step - loss: 0.5851 - acc: 0.8448\n",
      "Epoch 11/100\n",
      "10/10 [==============================] - 0s 14ms/step - loss: 0.5735 - acc: 0.8449\n",
      "Epoch 12/100\n",
      "10/10 [==============================] - 0s 15ms/step - loss: 0.5621 - acc: 0.8449\n",
      "Epoch 13/100\n",
      "10/10 [==============================] - 0s 15ms/step - loss: 0.5508 - acc: 0.8449\n",
      "Epoch 14/100\n",
      "10/10 [==============================] - 0s 15ms/step - loss: 0.5397 - acc: 0.8449\n",
      "Epoch 15/100\n",
      "10/10 [==============================] - 0s 16ms/step - loss: 0.5286 - acc: 0.8450\n",
      "Epoch 16/100\n",
      "10/10 [==============================] - 0s 15ms/step - loss: 0.5176 - acc: 0.8449\n",
      "Epoch 17/100\n",
      "10/10 [==============================] - 0s 16ms/step - loss: 0.5068 - acc: 0.8448\n",
      "Epoch 18/100\n",
      "10/10 [==============================] - 0s 15ms/step - loss: 0.4960 - acc: 0.8449\n",
      "Epoch 19/100\n",
      "10/10 [==============================] - 0s 15ms/step - loss: 0.4853 - acc: 0.8450\n",
      "Epoch 20/100\n",
      "10/10 [==============================] - 0s 15ms/step - loss: 0.4747 - acc: 0.8449\n",
      "Epoch 21/100\n",
      "10/10 [==============================] - 0s 15ms/step - loss: 0.4641 - acc: 0.8449\n",
      "Epoch 22/100\n",
      "10/10 [==============================] - 0s 14ms/step - loss: 0.4538 - acc: 0.8450\n",
      "Epoch 23/100\n",
      "10/10 [==============================] - 0s 15ms/step - loss: 0.4436 - acc: 0.8450\n",
      "Epoch 24/100\n",
      "10/10 [==============================] - 0s 15ms/step - loss: 0.4337 - acc: 0.8450\n",
      "Epoch 25/100\n",
      "10/10 [==============================] - 0s 16ms/step - loss: 0.4243 - acc: 0.8451\n",
      "Epoch 26/100\n",
      "10/10 [==============================] - 0s 15ms/step - loss: 0.4154 - acc: 0.8448\n",
      "Epoch 27/100\n",
      "10/10 [==============================] - 0s 16ms/step - loss: 0.4073 - acc: 0.8447\n",
      "Epoch 28/100\n",
      "10/10 [==============================] - 0s 15ms/step - loss: 0.3998 - acc: 0.8446\n",
      "Epoch 29/100\n",
      "10/10 [==============================] - 0s 14ms/step - loss: 0.3931 - acc: 0.8442\n",
      "Epoch 30/100\n",
      "10/10 [==============================] - 0s 14ms/step - loss: 0.3872 - acc: 0.8437\n",
      "Epoch 31/100\n",
      "10/10 [==============================] - 0s 14ms/step - loss: 0.3820 - acc: 0.8436\n",
      "Epoch 32/100\n",
      "10/10 [==============================] - 0s 14ms/step - loss: 0.3774 - acc: 0.8434\n",
      "Epoch 33/100\n",
      "10/10 [==============================] - 0s 15ms/step - loss: 0.3736 - acc: 0.8432\n",
      "Epoch 34/100\n",
      "10/10 [==============================] - 0s 14ms/step - loss: 0.3703 - acc: 0.8431\n",
      "Epoch 35/100\n",
      "10/10 [==============================] - 0s 15ms/step - loss: 0.3675 - acc: 0.8430\n",
      "Epoch 36/100\n",
      "10/10 [==============================] - 0s 14ms/step - loss: 0.3652 - acc: 0.8429\n",
      "Epoch 37/100\n",
      "10/10 [==============================] - 0s 15ms/step - loss: 0.3633 - acc: 0.8428\n",
      "Epoch 38/100\n",
      "10/10 [==============================] - 0s 14ms/step - loss: 0.3617 - acc: 0.8429\n",
      "Epoch 39/100\n",
      "10/10 [==============================] - 0s 14ms/step - loss: 0.3603 - acc: 0.8428\n",
      "Epoch 40/100\n",
      "10/10 [==============================] - 0s 14ms/step - loss: 0.3592 - acc: 0.8427\n",
      "Epoch 41/100\n",
      "10/10 [==============================] - 0s 14ms/step - loss: 0.3583 - acc: 0.8428\n",
      "Epoch 42/100\n",
      "10/10 [==============================] - 0s 14ms/step - loss: 0.3575 - acc: 0.8428\n",
      "Epoch 43/100\n",
      "10/10 [==============================] - 0s 14ms/step - loss: 0.3569 - acc: 0.8428\n",
      "Epoch 44/100\n",
      "10/10 [==============================] - 0s 15ms/step - loss: 0.3564 - acc: 0.8429\n",
      "Epoch 45/100\n",
      "10/10 [==============================] - 0s 15ms/step - loss: 0.3560 - acc: 0.8428\n",
      "Epoch 46/100\n",
      "10/10 [==============================] - 0s 14ms/step - loss: 0.3556 - acc: 0.8428\n",
      "Epoch 47/100\n",
      "10/10 [==============================] - 0s 14ms/step - loss: 0.3552 - acc: 0.8429\n",
      "Epoch 48/100\n",
      "10/10 [==============================] - 0s 14ms/step - loss: 0.3549 - acc: 0.8430\n",
      "Epoch 49/100\n",
      "10/10 [==============================] - 0s 16ms/step - loss: 0.3546 - acc: 0.8431\n",
      "Epoch 50/100\n",
      "10/10 [==============================] - 0s 15ms/step - loss: 0.3544 - acc: 0.8432\n",
      "Epoch 51/100\n",
      "10/10 [==============================] - 0s 14ms/step - loss: 0.3541 - acc: 0.8431\n",
      "Epoch 52/100\n",
      "10/10 [==============================] - 0s 14ms/step - loss: 0.3539 - acc: 0.8432\n",
      "Epoch 53/100\n",
      "10/10 [==============================] - 0s 14ms/step - loss: 0.3537 - acc: 0.8434\n",
      "Epoch 54/100\n",
      "10/10 [==============================] - 0s 14ms/step - loss: 0.3535 - acc: 0.8435\n",
      "Epoch 55/100\n",
      "10/10 [==============================] - 0s 14ms/step - loss: 0.3533 - acc: 0.8436\n",
      "Epoch 56/100\n",
      "10/10 [==============================] - 0s 14ms/step - loss: 0.3531 - acc: 0.8435\n",
      "Epoch 57/100\n",
      "10/10 [==============================] - 0s 14ms/step - loss: 0.3530 - acc: 0.8435\n",
      "Epoch 58/100\n",
      "10/10 [==============================] - 0s 14ms/step - loss: 0.3528 - acc: 0.8436\n",
      "Epoch 59/100\n",
      "10/10 [==============================] - 0s 14ms/step - loss: 0.3527 - acc: 0.8436\n",
      "Epoch 60/100\n",
      "10/10 [==============================] - 0s 14ms/step - loss: 0.3526 - acc: 0.8438\n",
      "Epoch 61/100\n",
      "10/10 [==============================] - 0s 14ms/step - loss: 0.3524 - acc: 0.8441\n",
      "Epoch 62/100\n",
      "10/10 [==============================] - 0s 14ms/step - loss: 0.3523 - acc: 0.8442\n",
      "Epoch 63/100\n",
      "10/10 [==============================] - 0s 14ms/step - loss: 0.3522 - acc: 0.8442\n",
      "Epoch 64/100\n",
      "10/10 [==============================] - 0s 14ms/step - loss: 0.3521 - acc: 0.8442\n",
      "Epoch 65/100\n",
      "10/10 [==============================] - 0s 14ms/step - loss: 0.3520 - acc: 0.8443\n",
      "Epoch 66/100\n",
      "10/10 [==============================] - 0s 14ms/step - loss: 0.3519 - acc: 0.8443\n",
      "Epoch 67/100\n",
      "10/10 [==============================] - 0s 14ms/step - loss: 0.3518 - acc: 0.8443\n",
      "Epoch 68/100\n",
      "10/10 [==============================] - 0s 14ms/step - loss: 0.3517 - acc: 0.8442\n",
      "Epoch 69/100\n",
      "10/10 [==============================] - 0s 14ms/step - loss: 0.3516 - acc: 0.8443\n",
      "Epoch 70/100\n",
      "10/10 [==============================] - 0s 14ms/step - loss: 0.3515 - acc: 0.8443\n",
      "Epoch 71/100\n",
      "10/10 [==============================] - 0s 14ms/step - loss: 0.3514 - acc: 0.8443\n",
      "Epoch 72/100\n",
      "10/10 [==============================] - 0s 14ms/step - loss: 0.3513 - acc: 0.8443\n",
      "Epoch 73/100\n",
      "10/10 [==============================] - 0s 14ms/step - loss: 0.3512 - acc: 0.8443\n",
      "Epoch 74/100\n",
      "10/10 [==============================] - 0s 14ms/step - loss: 0.3511 - acc: 0.8443\n",
      "Epoch 75/100\n",
      "10/10 [==============================] - 0s 14ms/step - loss: 0.3510 - acc: 0.8443\n",
      "Epoch 76/100\n",
      "10/10 [==============================] - 0s 14ms/step - loss: 0.3510 - acc: 0.8443\n",
      "Epoch 77/100\n",
      "10/10 [==============================] - 0s 14ms/step - loss: 0.3509 - acc: 0.8442\n",
      "Epoch 78/100\n",
      "10/10 [==============================] - 0s 14ms/step - loss: 0.3508 - acc: 0.8442\n",
      "Epoch 79/100\n",
      "10/10 [==============================] - 0s 14ms/step - loss: 0.3507 - acc: 0.8442\n",
      "Epoch 80/100\n",
      "10/10 [==============================] - 0s 14ms/step - loss: 0.3506 - acc: 0.8442\n",
      "Epoch 81/100\n",
      "10/10 [==============================] - 0s 14ms/step - loss: 0.3505 - acc: 0.8442\n",
      "Epoch 82/100\n",
      "10/10 [==============================] - 0s 14ms/step - loss: 0.3504 - acc: 0.8442\n",
      "Epoch 83/100\n",
      "10/10 [==============================] - 0s 14ms/step - loss: 0.3503 - acc: 0.8443\n",
      "Epoch 84/100\n",
      "10/10 [==============================] - 0s 14ms/step - loss: 0.3503 - acc: 0.8445\n",
      "Epoch 85/100\n",
      "10/10 [==============================] - 0s 14ms/step - loss: 0.3502 - acc: 0.8446\n",
      "Epoch 86/100\n"
     ]
    },
    {
     "name": "stdout",
     "output_type": "stream",
     "text": [
      "10/10 [==============================] - 0s 14ms/step - loss: 0.3501 - acc: 0.8447\n",
      "Epoch 87/100\n",
      "10/10 [==============================] - 0s 14ms/step - loss: 0.3500 - acc: 0.8447\n",
      "Epoch 88/100\n",
      "10/10 [==============================] - 0s 15ms/step - loss: 0.3499 - acc: 0.8448\n",
      "Epoch 89/100\n",
      "10/10 [==============================] - 0s 13ms/step - loss: 0.3499 - acc: 0.8448\n",
      "Epoch 90/100\n",
      "10/10 [==============================] - 0s 14ms/step - loss: 0.3498 - acc: 0.8448\n",
      "Epoch 91/100\n",
      "10/10 [==============================] - 0s 13ms/step - loss: 0.3497 - acc: 0.8449\n",
      "Epoch 92/100\n",
      "10/10 [==============================] - 0s 13ms/step - loss: 0.3496 - acc: 0.8449\n",
      "Epoch 93/100\n",
      "10/10 [==============================] - 0s 14ms/step - loss: 0.3496 - acc: 0.8449\n",
      "Epoch 94/100\n",
      "10/10 [==============================] - 0s 14ms/step - loss: 0.3495 - acc: 0.8449\n",
      "Epoch 95/100\n",
      "10/10 [==============================] - 0s 13ms/step - loss: 0.3494 - acc: 0.8449\n",
      "Epoch 96/100\n",
      "10/10 [==============================] - 0s 14ms/step - loss: 0.3493 - acc: 0.8449\n",
      "Epoch 97/100\n",
      "10/10 [==============================] - 0s 13ms/step - loss: 0.3493 - acc: 0.8449\n",
      "Epoch 98/100\n",
      "10/10 [==============================] - 0s 13ms/step - loss: 0.3492 - acc: 0.8449\n",
      "Epoch 99/100\n",
      "10/10 [==============================] - 0s 16ms/step - loss: 0.3492 - acc: 0.8449\n",
      "Epoch 100/100\n",
      "10/10 [==============================] - 0s 14ms/step - loss: 0.3491 - acc: 0.8450\n"
     ]
    },
    {
     "data": {
      "text/plain": [
       "<keras.callbacks.History at 0x1dfa3c9e898>"
      ]
     },
     "execution_count": 42,
     "metadata": {},
     "output_type": "execute_result"
    }
   ],
   "source": [
    "# compile model\n",
    "model.compile(loss = 'binary_crossentropy', optimizer = 'adam', metrics = ['accuracy'])\n",
    "\n",
    "model.fit(x_train, y_train, epochs = 100, steps_per_epoch = 10)"
   ]
  },
  {
   "cell_type": "code",
   "execution_count": 45,
   "metadata": {},
   "outputs": [
    {
     "name": "stdout",
     "output_type": "stream",
     "text": [
      "95757/95757 [==============================] - 2s 17us/step\n",
      "\n",
      "acc: 84.50%\n"
     ]
    }
   ],
   "source": [
    "# evaluate the model\n",
    "scores = model.evaluate(x_train, y_train)\n",
    "print('\\n%s: %.2f%%' % (model.metrics_names[1], scores[1]*100))"
   ]
  },
  {
   "cell_type": "code",
   "execution_count": 46,
   "metadata": {
    "collapsed": true
   },
   "outputs": [],
   "source": [
    "prediction = model.predict(x_test)"
   ]
  },
  {
   "cell_type": "code",
   "execution_count": 57,
   "metadata": {},
   "outputs": [
    {
     "data": {
      "text/plain": [
       "(84.497216913894974, 84.705274205423024)"
      ]
     },
     "execution_count": 57,
     "metadata": {},
     "output_type": "execute_result"
    }
   ],
   "source": [
    "from sklearn.metrics import accuracy_score\n",
    "test_score = accuracy_score(prediction.round(), y_test)\n",
    "scores[1]*100, test_score*100"
   ]
  },
  {
   "cell_type": "code",
   "execution_count": 245,
   "metadata": {
    "collapsed": true
   },
   "outputs": [],
   "source": [
    "\n",
    "model = Sequential()\n",
    "model.add(Dense(300, input_dim = 4, activation = 'relu')) # layer 1\n",
    "model.add(Dense(800, activation = 'relu')) # layer 2\n",
    "model.add(Dense(500, activation = 'relu')) # layer 3\n",
    "model.add(Dense(200, activation = 'relu')) # layer 5\n",
    "model.add(Dense(10, activation = 'relu')) # layer 6\n",
    "model.add(Dense(1, activation = 'sigmoid'))"
   ]
  },
  {
   "cell_type": "code",
   "execution_count": 246,
   "metadata": {
    "scrolled": true
   },
   "outputs": [
    {
     "name": "stdout",
     "output_type": "stream",
     "text": [
      "Epoch 1/20\n",
      "10/10 [==============================] - 140s 14s/step - loss: 0.6931 - acc: 0.5121\n",
      "Epoch 2/20\n",
      "10/10 [==============================] - 72s 7s/step - loss: 0.6796 - acc: 0.7619\n",
      "Epoch 3/20\n",
      "10/10 [==============================] - 72s 7s/step - loss: 0.6686 - acc: 0.7966\n",
      "Epoch 4/20\n",
      "10/10 [==============================] - 72s 7s/step - loss: 0.6582 - acc: 0.8153\n",
      "Epoch 5/20\n",
      "10/10 [==============================] - 72s 7s/step - loss: 0.6484 - acc: 0.8208\n",
      "Epoch 6/20\n",
      "10/10 [==============================] - 72s 7s/step - loss: 0.6389 - acc: 0.8234\n",
      "Epoch 7/20\n",
      "10/10 [==============================] - 72s 7s/step - loss: 0.6298 - acc: 0.8253\n",
      "Epoch 8/20\n",
      "10/10 [==============================] - 72s 7s/step - loss: 0.6209 - acc: 0.8272\n",
      "Epoch 9/20\n",
      "10/10 [==============================] - 72s 7s/step - loss: 0.6123 - acc: 0.8284\n",
      "Epoch 10/20\n",
      "10/10 [==============================] - 72s 7s/step - loss: 0.6038 - acc: 0.8288\n",
      "Epoch 11/20\n",
      "10/10 [==============================] - 72s 7s/step - loss: 0.5954 - acc: 0.8293\n",
      "Epoch 12/20\n",
      "10/10 [==============================] - 72s 7s/step - loss: 0.5871 - acc: 0.8297\n",
      "Epoch 13/20\n",
      "10/10 [==============================] - 72s 7s/step - loss: 0.5788 - acc: 0.8302\n",
      "Epoch 14/20\n",
      "10/10 [==============================] - 72s 7s/step - loss: 0.5705 - acc: 0.8306\n",
      "Epoch 15/20\n",
      "10/10 [==============================] - 72s 7s/step - loss: 0.5622 - acc: 0.8311\n",
      "Epoch 16/20\n",
      "10/10 [==============================] - 72s 7s/step - loss: 0.5540 - acc: 0.8317\n",
      "Epoch 17/20\n",
      "10/10 [==============================] - 72s 7s/step - loss: 0.5457 - acc: 0.8324\n",
      "Epoch 18/20\n",
      "10/10 [==============================] - 72s 7s/step - loss: 0.5374 - acc: 0.8331\n",
      "Epoch 19/20\n",
      "10/10 [==============================] - 72s 7s/step - loss: 0.5290 - acc: 0.8337\n",
      "Epoch 20/20\n",
      "10/10 [==============================] - 60s 6s/step - loss: 0.5207 - acc: 0.8342\n"
     ]
    },
    {
     "data": {
      "text/plain": [
       "<keras.callbacks.History at 0x1e02f7f9f28>"
      ]
     },
     "execution_count": 246,
     "metadata": {},
     "output_type": "execute_result"
    }
   ],
   "source": [
    "# compile model\n",
    "import tensorflow as tf\n",
    "learning_rate = 0.0001\n",
    "optimizer = tf.train.GradientDescentOptimizer(learning_rate)\n",
    "model.compile(loss = 'binary_crossentropy', optimizer = 'sgd', metrics = ['accuracy'])\n",
    "\n",
    "model.fit(x_train, y_train, epochs = 20, steps_per_epoch = 10)"
   ]
  },
  {
   "cell_type": "code",
   "execution_count": 247,
   "metadata": {},
   "outputs": [
    {
     "name": "stdout",
     "output_type": "stream",
     "text": [
      "95757/95757 [==============================] - 17s 178us/step\n",
      "\n",
      "acc: 83.45%\n"
     ]
    }
   ],
   "source": [
    "# evaluate the model\n",
    "scores = model.evaluate(x_train, y_train)\n",
    "print('\\n%s: %.2f%%' % (model.metrics_names[1], scores[1]*100))"
   ]
  },
  {
   "cell_type": "code",
   "execution_count": 248,
   "metadata": {
    "collapsed": true
   },
   "outputs": [],
   "source": [
    "prediction = model.predict(x_test)"
   ]
  },
  {
   "cell_type": "code",
   "execution_count": 249,
   "metadata": {},
   "outputs": [
    {
     "data": {
      "text/plain": [
       "(83.446640976763277, 83.599367158006871)"
      ]
     },
     "execution_count": 249,
     "metadata": {},
     "output_type": "execute_result"
    }
   ],
   "source": [
    "from sklearn.metrics import accuracy_score\n",
    "test_score = accuracy_score(prediction.round(), y_test)\n",
    "scores[1]*100, test_score*100"
   ]
  },
  {
   "cell_type": "code",
   "execution_count": 252,
   "metadata": {
    "collapsed": true
   },
   "outputs": [],
   "source": [
    "\n",
    "model = Sequential()\n",
    "model.add(Dense(300, input_dim = 4, activation = 'relu')) \n",
    "model.add(Dense(1000, activation = 'relu')) \n",
    "model.add(Dense(400, activation = 'relu')) \n",
    "model.add(Dense(10, activation = 'relu')) \n",
    "model.add(Dense(1, activation = 'sigmoid'))"
   ]
  },
  {
   "cell_type": "code",
   "execution_count": 253,
   "metadata": {
    "scrolled": true
   },
   "outputs": [
    {
     "name": "stdout",
     "output_type": "stream",
     "text": [
      "Epoch 1/20\n",
      "10/10 [==============================] - 62s 6s/step - loss: 0.6829 - acc: 0.7769\n",
      "Epoch 2/20\n",
      "10/10 [==============================] - 55s 5s/step - loss: 0.6698 - acc: 0.8331\n",
      "Epoch 3/20\n",
      "10/10 [==============================] - 55s 5s/step - loss: 0.6552 - acc: 0.8327\n",
      "Epoch 4/20\n",
      "10/10 [==============================] - 55s 6s/step - loss: 0.6383 - acc: 0.8313\n",
      "Epoch 5/20\n",
      "10/10 [==============================] - 55s 6s/step - loss: 0.6184 - acc: 0.8293\n",
      "Epoch 6/20\n",
      "10/10 [==============================] - 56s 6s/step - loss: 0.5964 - acc: 0.8273\n",
      "Epoch 7/20\n",
      "10/10 [==============================] - 56s 6s/step - loss: 0.5757 - acc: 0.8267\n",
      "Epoch 8/20\n",
      "10/10 [==============================] - 56s 6s/step - loss: 0.5569 - acc: 0.8267\n",
      "Epoch 9/20\n",
      "10/10 [==============================] - 57s 6s/step - loss: 0.5401 - acc: 0.8273\n",
      "Epoch 10/20\n",
      "10/10 [==============================] - 60s 6s/step - loss: 0.5249 - acc: 0.8281\n",
      "Epoch 11/20\n",
      "10/10 [==============================] - 59s 6s/step - loss: 0.5111 - acc: 0.8288\n",
      "Epoch 12/20\n",
      "10/10 [==============================] - 56s 6s/step - loss: 0.4985 - acc: 0.8298\n",
      "Epoch 13/20\n",
      "10/10 [==============================] - 56s 6s/step - loss: 0.4869 - acc: 0.8305\n",
      "Epoch 14/20\n",
      "10/10 [==============================] - 56s 6s/step - loss: 0.4762 - acc: 0.8313\n",
      "Epoch 15/20\n",
      "10/10 [==============================] - 57s 6s/step - loss: 0.4662 - acc: 0.8324\n",
      "Epoch 16/20\n",
      "10/10 [==============================] - 56s 6s/step - loss: 0.4570 - acc: 0.8333\n",
      "Epoch 17/20\n",
      "10/10 [==============================] - 56s 6s/step - loss: 0.4484 - acc: 0.8341\n",
      "Epoch 18/20\n",
      "10/10 [==============================] - 56s 6s/step - loss: 0.4404 - acc: 0.8350\n",
      "Epoch 19/20\n",
      "10/10 [==============================] - 56s 6s/step - loss: 0.4330 - acc: 0.8359\n",
      "Epoch 20/20\n",
      "10/10 [==============================] - 56s 6s/step - loss: 0.4262 - acc: 0.8367\n"
     ]
    },
    {
     "data": {
      "text/plain": [
       "<keras.callbacks.History at 0x1e03a7db240>"
      ]
     },
     "execution_count": 253,
     "metadata": {},
     "output_type": "execute_result"
    }
   ],
   "source": [
    "model.compile(loss = 'binary_crossentropy', optimizer = 'sgd', metrics = ['accuracy'])\n",
    "\n",
    "model.fit(x_train, y_train, epochs = 20, steps_per_epoch = 10)"
   ]
  },
  {
   "cell_type": "code",
   "execution_count": 280,
   "metadata": {},
   "outputs": [],
   "source": [
    "\n",
    "model = Sequential()\n",
    "model.add(Dense(300, input_dim = 4, activation = 'relu')) \n",
    "model.add(Dense(800, activation = 'relu')) \n",
    "model.add(Dense(100, activation = 'relu')) \n",
    "model.add(Dense(1, activation = 'sigmoid'))"
   ]
  },
  {
   "cell_type": "code",
   "execution_count": 281,
   "metadata": {
    "scrolled": true
   },
   "outputs": [
    {
     "name": "stdout",
     "output_type": "stream",
     "text": [
      "Epoch 1/10\n",
      "10/10 [==============================] - 45s 4s/step - loss: 0.5007 - acc: 0.7909\n",
      "Epoch 2/10\n",
      "10/10 [==============================] - 34s 3s/step - loss: 0.3558 - acc: 0.8427\n",
      "Epoch 3/10\n",
      "10/10 [==============================] - 35s 3s/step - loss: 0.3502 - acc: 0.8460\n",
      "Epoch 4/10\n",
      "10/10 [==============================] - 35s 3s/step - loss: 0.3476 - acc: 0.8463\n",
      "Epoch 5/10\n",
      "10/10 [==============================] - 35s 3s/step - loss: 0.3469 - acc: 0.8465\n",
      "Epoch 6/10\n",
      "10/10 [==============================] - 35s 4s/step - loss: 0.3465 - acc: 0.8465\n",
      "Epoch 7/10\n",
      "10/10 [==============================] - 35s 3s/step - loss: 0.3462 - acc: 0.8472\n",
      "Epoch 8/10\n",
      "10/10 [==============================] - 35s 4s/step - loss: 0.3460 - acc: 0.8472\n",
      "Epoch 9/10\n",
      "10/10 [==============================] - 37s 4s/step - loss: 0.3458 - acc: 0.8474\n",
      "Epoch 10/10\n",
      "10/10 [==============================] - 35s 4s/step - loss: 0.3457 - acc: 0.8479\n"
     ]
    },
    {
     "data": {
      "text/plain": [
       "<keras.callbacks.History at 0x1e0638974a8>"
      ]
     },
     "execution_count": 281,
     "metadata": {},
     "output_type": "execute_result"
    }
   ],
   "source": [
    "model.compile(loss = 'binary_crossentropy', optimizer = 'adam', metrics = ['accuracy'])\n",
    "\n",
    "model.fit(x_train, y_train, epochs = 10, steps_per_epoch = 10)"
   ]
  },
  {
   "cell_type": "code",
   "execution_count": 284,
   "metadata": {},
   "outputs": [],
   "source": [
    "\n",
    "model = Sequential()\n",
    "model.add(Dense(500, input_dim = 4, activation = 'relu')) \n",
    "model.add(Dense(800, activation = 'relu')) \n",
    "model.add(Dense(300, activation = 'relu')) \n",
    "model.add(Dense(1, activation = 'sigmoid'))"
   ]
  },
  {
   "cell_type": "code",
   "execution_count": 285,
   "metadata": {
    "scrolled": true
   },
   "outputs": [
    {
     "name": "stdout",
     "output_type": "stream",
     "text": [
      "Epoch 1/10\n",
      "10/10 [==============================] - 71s 7s/step - loss: 0.4578 - acc: 0.7867\n",
      "Epoch 2/10\n",
      "10/10 [==============================] - 63s 6s/step - loss: 0.3575 - acc: 0.8437\n",
      "Epoch 3/10\n",
      "10/10 [==============================] - 63s 6s/step - loss: 0.3494 - acc: 0.8462\n",
      "Epoch 4/10\n",
      "10/10 [==============================] - 63s 6s/step - loss: 0.3478 - acc: 0.8466\n",
      "Epoch 5/10\n",
      "10/10 [==============================] - 63s 6s/step - loss: 0.3469 - acc: 0.8469\n",
      "Epoch 6/10\n",
      "10/10 [==============================] - 6209s 621s/step - loss: 0.3464 - acc: 0.8471\n",
      "Epoch 7/10\n",
      "10/10 [==============================] - 50s 5s/step - loss: 0.3461 - acc: 0.8473\n",
      "Epoch 8/10\n",
      "10/10 [==============================] - 50s 5s/step - loss: 0.3459 - acc: 0.8477\n",
      "Epoch 9/10\n",
      "10/10 [==============================] - 49s 5s/step - loss: 0.3457 - acc: 0.8478\n",
      "Epoch 10/10\n",
      "10/10 [==============================] - 49s 5s/step - loss: 0.3456 - acc: 0.8482\n"
     ]
    },
    {
     "data": {
      "text/plain": [
       "<keras.callbacks.History at 0x1e0634dc8d0>"
      ]
     },
     "execution_count": 285,
     "metadata": {},
     "output_type": "execute_result"
    }
   ],
   "source": [
    "model.compile(loss = 'binary_crossentropy', optimizer = 'adam', metrics = ['accuracy'])\n",
    "\n",
    "model.fit(x_train, y_train, epochs = 10, steps_per_epoch = 10)"
   ]
  },
  {
   "cell_type": "code",
   "execution_count": null,
   "metadata": {
    "scrolled": true
   },
   "outputs": [],
   "source": [
    "# Neural nets\n",
    "n_input = 4\n",
    "n_hidden1 = 300\n",
    "n_hidden2 = 500\n",
    "n_hidden3 = 20\n",
    "n_output = 1\n",
    "\n",
    "\n",
    "#he_init = tf.contrib.layers.variance_scaling_initializer()\n",
    "#hidden1 = tf.layers.dense(x_train, n_hidden1, activation = tf.nn.relu,\n",
    "#                         kernel_initializer =he_init, name = 'hidden1')\n",
    "import tensorflow as tf\n",
    "\n",
    "\n",
    "X = tf.placeholder(tf.float32, shape = (None, n_input), name = 'X')\n",
    "y = tf.placeholder(tf.int32, shape = (None), name = 'y')\n",
    "\n",
    "\n",
    "training = tf.placeholder_with_default(False, shape = (), name = 'training')\n",
    "with tf.var_scope('dnn', reuse = True):\n",
    "    hidden1 = tf.layers.dense(X, n_hidden1, name = 'hidden1',\n",
    "                             activation = tf.nn.relu)\n",
    "    hidden2 = tf.layers.dense(hidden1, n_hidden2, name = 'hidden2',\n",
    "                              activation = tf.nn.relu)\n",
    "    hidden3 = tf.layers.dense(hidden2, n_hidden3, name = 'hidden3',\n",
    "                             activation = tf.nn.relu)\n",
    "    logits = tf.layers.dense(hidden3, n_outputs, name = 'outputs')\n",
    "    \n"
   ]
  },
  {
   "cell_type": "code",
   "execution_count": null,
   "metadata": {
    "collapsed": true
   },
   "outputs": [],
   "source": [
    "training = tf.placeholder_with_default(False, shape = (), name = 'training')\n",
    "\n",
    "hidden1 = tf.layers.dense(X, n_hidden1, name = 'hidden1')\n",
    "bn1 = tf.layers.batch_normalization(hidden1, training = training, momentum = 0.9)\n",
    "bn1_act = tf.nn.elu(bn1)\n",
    "hidden2 = tf.layers.dense(bn1_act, n_hidden2, name = 'hidden2')\n",
    "bn2 = tf.layers.batch_normalization(hidden2, training = training, momentum = 0.9)\n",
    "bn2_act = tf.nn.elu(bn2)\n",
    "logits_before_bn = tf.layers.dense(bn2_act, n_outputs, name = 'outputs')\n",
    "logits = tf.layers.batch_normalization(logits_before_bn, training = training,\n",
    "                                      momentum = 0.9)"
   ]
  },
  {
   "cell_type": "code",
   "execution_count": 221,
   "metadata": {
    "collapsed": true
   },
   "outputs": [],
   "source": [
    "from sklearn.model_selection import train_test_split\n",
    "val_x_train, val_x_test, val_y_train, val_y_test = train_test_split(x_test, y_test, test_size = 0.3, random_state = 42)"
   ]
  },
  {
   "cell_type": "code",
   "execution_count": 226,
   "metadata": {
    "collapsed": true
   },
   "outputs": [],
   "source": [
    "with tf.name_scope('eval'):\n",
    "    correct = tf.nn.in_top_k(logits, y, 1)\n",
    "    accuracy = tf.reduce_mean(tf.cast(correct, tf.float32))"
   ]
  },
  {
   "cell_type": "raw",
   "metadata": {},
   "source": [
    "n_epochs = 40\n",
    "batch_size = 200\n",
    "\n",
    "with tf.Session() as sess:\n",
    "    start, stop = 0,0\n",
    "    for epoch in range(n_epochs):\n",
    "        for iteration in range(x_train.shape[0]//batch_size):\n",
    "            stop = start + batch_size\n",
    "            x_batch, y_batch = x_train[start:stop], y_train[start:stop]\n",
    "            sess.run(training_op, feed_dict = {X:x_batch, y:y_batch})\n",
    "            start = stop+ 1\n",
    "        acc_train = accuracy.eval(feed_dict = {X: x_batch, y: y_batch})\n",
    "        acc_val = accuracy.eval(feed_dict = {X: x_val, y: y_val})\n",
    "        print(epoch, 'Train accuracy: ', acc_train, 'val_accuracy: ', acc_val)\n",
    "    import os\n",
    "    cwd = os.getcwd() + '/my_model_final.ckpt'\n",
    "    save_path = saver.save(sess, cwd)\n",
    "    "
   ]
  },
  {
   "cell_type": "code",
   "execution_count": 235,
   "metadata": {},
   "outputs": [],
   "source": [
    "extra_update_ops = tf.get_collection(tf.GraphKeys.UPDATE_OPS)\n",
    "\n",
    "n_epochs = 20 \n",
    "batch_size = 300\n",
    "\n",
    "init = tf.global_variables_initializer()\n",
    "saver = tf.train.Saver()\n",
    "\n",
    "with tf.Session() as sess:\n",
    "    init.run()\n",
    "    start, stop = 0,0\n",
    "    for epoch in range(n_epochs):\n",
    "        train = []\n",
    "        for iteration in range(x_train.shape[1]//batch_size):\n",
    "            stop = start + batch_size\n",
    "            x_batch, y_batch = x_train[start:stop], y_train[start:stop]\n",
    "            sess.run([training_op, extra_update_ops],\n",
    "                     feed_dict = {training:True, X: x_batch, y: y_batch})\n",
    "            start = stop\n",
    "            acc_train = accuracy.eval(feed_dict = {X: x_batch, y: y_batch})\n",
    "            print(acc_train)\n",
    "            train.append(acc_train)\n",
    "        #accuracy_val = accuracy.eval(feed_dict = {X:val_x_train, y:val_y_train})\n",
    "        #acc_train = accuracy.eval(feed_dict = {X: x_batch, y: y_batch})\n",
    "        #acc_val = accuracy.eval(feed_dict = {X: x_val, y: y_val})\n",
    "        #print(epoch, 'Train accuracy: ', acc_train, 'val_accuracy: ', acc_val)\n",
    "        #print(epoch, \"Train accuracy: \", sum(train)/len(train))\n",
    "    save_path = saver.save(sess, './my_model_final_k.ckpt')\n",
    "            "
   ]
  },
  {
   "cell_type": "code",
   "execution_count": 200,
   "metadata": {
    "collapsed": true
   },
   "outputs": [],
   "source": [
    "# training DNN using pure Tensorflow\n",
    "\n",
    "n_inputs =4\n",
    "n_hidden1 = 20\n",
    "n_hidden2 = 15\n",
    "n_outputs = 1\n",
    "\n",
    "\n",
    "X = tf.placeholder(tf.float32, shape = (200, n_inputs), name = 'X')\n",
    "y = tf.placeholder(tf.int64, shape = (200), name = 'y')"
   ]
  },
  {
   "cell_type": "raw",
   "metadata": {},
   "source": [
    "def neuron_layer(x, n_neurons, name, activation = None):\n",
    "    with tf.name_scope(name):\n",
    "        n_inputs = int(x.shape[1])\n",
    "        stddev = 2/np.sqrt(n_inputs + n_neurons)\n",
    "        init = tf.truncated_normal((n_inputs, n_neurons), stddev = stddev)\n",
    "        w =tf.Variable(init, name = 'kernel')\n",
    "        b = tf.Variable(tf.zeros([n_neurons]), name = 'bias')\n",
    "        z = tf.matmul(x, w) + b\n",
    "        if activation is not None:\n",
    "            return activation(z)\n",
    "        else:\n",
    "            return z\n",
    "        \n",
    "with tf.name_scope('dnn'):\n",
    "    hidden1 = neuron_layer(x, n_hidden1, name = 'hidden1', \n",
    "                          activation = tf.nn.relu)\n",
    "    hidden2 = neuron_layer(hidden1, n_hidden2, name = 'hidden2', \n",
    "                           activation = tf.nn.relu)\n",
    "    logits = neuron_layer(hidden2, n_outputs, name = 'outputs')"
   ]
  },
  {
   "cell_type": "raw",
   "metadata": {},
   "source": [
    "with tf.name_scope('dnn'):\n",
    "    hidden1 = tf.layers.dense(x, n_hidden1, name = 'hidden1',\n",
    "                             activation = tf.nn.relu)\n",
    "    hidden2 = tf.layers.dense(hidden1, hidden2, name = hidden2, \n",
    "                             activation = tf.nn.relu)\n",
    "    logits = tf.layers.dense(hidden2, n_outputs, name = 'outputs')"
   ]
  },
  {
   "cell_type": "raw",
   "metadata": {},
   "source": [
    "with tf.name_scope('loss'):\n",
    "    xentropy = tf.nn.sparse_softmax_cross_entropy_with_logits(labels = y,\n",
    "                                                             logits = logits)\n",
    "    loss = tf.reduce_mean(xentropy, name = 'loss')"
   ]
  },
  {
   "cell_type": "code",
   "execution_count": 377,
   "metadata": {
    "collapsed": true
   },
   "outputs": [],
   "source": [
    "learning_rate = 0.01\n",
    "\n",
    "with tf.name_scope('train'):\n",
    "    optimizer = tf.train.GradientDescentOptimizer(learning_rate)\n",
    "    training_op = optimizer.minimize(loss)"
   ]
  },
  {
   "cell_type": "code",
   "execution_count": 378,
   "metadata": {
    "collapsed": true
   },
   "outputs": [],
   "source": [
    "with tf.name_scope('eval'):\n",
    "    correct = tf.nn.in_top_k(logits, y, 1)\n",
    "    accuracy = tf.reduce_mean(tf.cast(correct, tf.float32))"
   ]
  },
  {
   "cell_type": "code",
   "execution_count": 379,
   "metadata": {},
   "outputs": [],
   "source": [
    "inint = tf.global_variables_initializer()\n",
    "saver = tf.train.Saver()"
   ]
  },
  {
   "cell_type": "code",
   "execution_count": 42,
   "metadata": {
    "collapsed": true
   },
   "outputs": [],
   "source": [
    "x_val, test_x, y_val, test_y = train_test_split(x_test, y_test, test_size = 0.4, random_state = 42)"
   ]
  },
  {
   "cell_type": "raw",
   "metadata": {},
   "source": [
    "summary_op = tf.summary.merge_all()\n",
    "\n",
    "    sess = tf.InteractiveSession()\n",
    "    writer = tf.summary.FileWriter(\"./data\", sess.graph)\n",
    "    tf.global_variables_initializer().run()\n",
    "\n",
    "    # Train\n",
    "    for i in range(epochs):\n",
    "        batch_xs, batch_ys = mnist.train.next_batch(batch_size)\n",
    "         _, summary = sess.run([train_step,summary_op], feed_dict={input_data: batch_xs, y_: batch_ys})\n",
    "     writer.add_summary(summary)\n",
    "\n",
    "     if i % 10 ==0:\n",
    "          test_xs, test_ys = mnist.train.next_batch(batch_size)\n",
    "          test_accuracy = sess.run(accuracy, feed_dict = {input_data : test_xs, y_ : test_ys})\n",
    "    writer.close()\n",
    "    return test_accuracy"
   ]
  },
  {
   "cell_type": "raw",
   "metadata": {
    "collapsed": true
   },
   "source": [
    "n_epochs = 40\n",
    "batch_size = 200\n",
    "\n",
    "with tf.Session() as sess:\n",
    "    start, stop = 0,0\n",
    "    for epoch in range(n_epochs):\n",
    "        for iteration in range(x_train.shape[0]//batch_size):\n",
    "            stop = start + batch_size\n",
    "            x_batch, y_batch = x_train[start:stop], y_train[start:stop]\n",
    "            sess.run(training_op, feed_dict = {X:x_batch, y:y_batch})\n",
    "            start = stop+ 1\n",
    "        acc_train = accuracy.eval(feed_dict = {X: x_batch, y: y_batch})\n",
    "        acc_val = accuracy.eval(feed_dict = {X: x_val, y: y_val})\n",
    "        print(epoch, 'Train accuracy: ', acc_train, 'val_accuracy: ', acc_val)\n",
    "    import os\n",
    "    cwd = os.getcwd() + '/my_model_final.ckpt'\n",
    "    save_path = saver.save(sess, cwd)\n",
    "    "
   ]
  },
  {
   "cell_type": "raw",
   "metadata": {},
   "source": [
    "with tf.Session() as sess:\n",
    "    cwd = os.getcwd() + '/my_model_final.ckpt'\n",
    "    saver.restore(sess, cwd)\n",
    "    z = logits.eval(feed_dict = {X:test_x})\n",
    "    y_pred = np.argmax(z, axis = 1)"
   ]
  },
  {
   "cell_type": "code",
   "execution_count": 323,
   "metadata": {},
   "outputs": [
    {
     "data": {
      "text/plain": [
       "(95757, 4)"
      ]
     },
     "execution_count": 323,
     "metadata": {},
     "output_type": "execute_result"
    }
   ],
   "source": [
    "x_train.shape"
   ]
  },
  {
   "cell_type": "markdown",
   "metadata": {},
   "source": [
    "# SPECIAL"
   ]
  },
  {
   "cell_type": "code",
   "execution_count": 364,
   "metadata": {},
   "outputs": [
    {
     "name": "stdout",
     "output_type": "stream",
     "text": [
      "The keras module is not an IPython extension.\n"
     ]
    }
   ],
   "source": [
    "import keras\n",
    "%load_ext keras\n"
   ]
  },
  {
   "cell_type": "raw",
   "metadata": {},
   "source": [
    "%load_ext autoreload\n",
    "%reload_ext autoreload\n",
    "\n",
    "\n",
    "import keras.Flatten as flatten\n",
    "import tensorflow as tf\n",
    "\n",
    "from keras import models\n",
    "from keras import layers\n",
    "\n",
    "#x_val, test_x, y_val, test_y\n",
    "y_train = keras.utils.np_utils.to_categorical(y_train)\n",
    "model = models.Sequential()\n",
    "# input layer\n",
    "model.add(layers.Dense(20, activation = 'relu', input_shape = (4,)))\n",
    "# hidden layers\n",
    "model.add(layers.Dropout(0.3, noise_shape = None, seed = None))\n",
    "model.add(layers.Dense(20, activation = 'relu'))\n",
    "model.add(layers.Dropout(0.2, noise_shape = None, seed = None))\n",
    "model.add(layers.Dense(30, activation = tf.nn.softmax))\n",
    "\n",
    "# output layer \n",
    "model.add(flatten())\n",
    "model.add(layers.Dense(1, activation = tf.nn.softmax))\n",
    "model.compile(optimizer = 'sgd', loss = 'sparse_categorical_crossentropy', metrics = ['accuracy'])\n",
    "\n",
    "\n",
    "model.summary()\n",
    "history = model.fit(x_train, y_train, epochs = 20, batch_size = 8000, validation_data = (x_val, test_x))\n"
   ]
  },
  {
   "cell_type": "code",
   "execution_count": 45,
   "metadata": {},
   "outputs": [
    {
     "name": "stdout",
     "output_type": "stream",
     "text": [
      "3 0.84502438464 0.847209386112\n",
      "4 0.843739883246 0.846050220085\n",
      "5 0.848094656265 0.849825341876\n",
      "6 0.847582944328 0.849559046978\n",
      "7 0.84761427363 0.849042121587\n",
      "8 0.847645602932 0.848854148718\n",
      "9 0.847113004793 0.849433731731\n",
      "10 0.847676932235 0.849183101239\n",
      "11 0.847927566653 0.84910477921\n",
      "12 0.848627254404 0.853381161986\n",
      "13 0.848481050994 0.853443819609\n",
      "14 0.848366176885 0.852989551841\n"
     ]
    }
   ],
   "source": [
    "def best_feature_number(x, y, n_default):\n",
    "    for i in range(3,n_default):\n",
    "        test = SelectKBest(score_func =chi2, k = i)\n",
    "        fit = test.fit(x,y)\n",
    "        # summarize scores\n",
    "        np.set_printoptions(precision = 3)\n",
    "        features = fit.transform(x)\n",
    "        \n",
    "        from sklearn.preprocessing import MinMaxScaler\n",
    "        from sklearn.preprocessing import StandardScaler\n",
    "        from sklearn.preprocessing import Normalizer\n",
    "        min_max = MinMaxScaler()\n",
    "        std = StandardScaler()\n",
    "        norm = Normalizer()\n",
    "\n",
    "        x_new = min_max.fit_transform(features)\n",
    "        x_std = std.fit_transform(x_new)\n",
    "        x_norm = std.fit_transform(x_std)\n",
    "        \n",
    "        from sklearn.model_selection import train_test_split\n",
    "        x_train, x_test, y_train, y_test = train_test_split(x_norm, y, test_size = 0.4, random_state = 42)\n",
    "\n",
    "        from sklearn.linear_model import LogisticRegression\n",
    "        log = LogisticRegression()\n",
    "        \n",
    "        log.fit(x_train, y_train)\n",
    "        value = log.score(x_train, y_train)\n",
    "\n",
    "        prediction = log.predict(x_test)\n",
    "        from sklearn.metrics import accuracy_score\n",
    "        solution = accuracy_score(prediction, y_test)\n",
    "        print(i, value,solution)\n",
    "        \n",
    "    return \n",
    "best_feature_number(x, target, n_default = 15)\n"
   ]
  },
  {
   "cell_type": "markdown",
   "metadata": {},
   "source": [
    "# recursive feature elimination"
   ]
  },
  {
   "cell_type": "code",
   "execution_count": 100,
   "metadata": {},
   "outputs": [
    {
     "name": "stdout",
     "output_type": "stream",
     "text": [
      "Num Features: 3\n",
      "Selected Features: [False False False False False False False False False  True  True  True\n",
      " False False False False False False False False False False False False\n",
      " False False False False False False False False False False False False\n",
      " False False False False False False False False False False False False\n",
      " False False False False False False False False False False False False\n",
      " False False False False False False False]\n",
      "Feature Ranking: [51  4 50 39 53 45 48 38  3  1  1  1  2 19 28 29 24 59 16 18 57 20 23 31 60\n",
      " 26 43 37 36 54 56 30 22 62  5 41 49 27 64 34 17 33 63 40 46 42 25 32 58 44\n",
      " 61 55 65 47 35 21 52 14 13 12 15 11  6 10  9  8  7]\n"
     ]
    }
   ],
   "source": [
    "from sklearn.feature_selection import RFE\n",
    "# feature extraction\n",
    "model = LogisticRegression()\n",
    "rfe = RFE(model, 3)\n",
    "fit = rfe.fit(x, target)\n",
    "print('Num Features: %d' % fit.n_features_)\n",
    "print('Selected Features: %s' % fit.support_)\n",
    "print('Feature Ranking: %s' % fit.ranking_)"
   ]
  },
  {
   "cell_type": "code",
   "execution_count": 101,
   "metadata": {},
   "outputs": [
    {
     "name": "stdout",
     "output_type": "stream",
     "text": [
      "paymentRatio\n",
      "FirstPaymentDefault\n",
      "clientGender_FEMALE\n"
     ]
    }
   ],
   "source": [
    "for i, j in zip(fit.support_, x.columns):\n",
    "    if i == True:\n",
    "        print(j)\n",
    "    else:\n",
    "        pass"
   ]
  },
  {
   "cell_type": "code",
   "execution_count": 102,
   "metadata": {
    "collapsed": true
   },
   "outputs": [],
   "source": [
    "new_feature = x[['paymentRatio', 'FirstPaymentDefault','clientGender_FEMALE']]"
   ]
  },
  {
   "cell_type": "code",
   "execution_count": 103,
   "metadata": {},
   "outputs": [
    {
     "data": {
      "text/plain": [
       "0.84589839344344475"
      ]
     },
     "execution_count": 103,
     "metadata": {},
     "output_type": "execute_result"
    }
   ],
   "source": [
    "model.fit(new_feature, target)\n",
    "model.score(new_feature, target)"
   ]
  },
  {
   "cell_type": "code",
   "execution_count": 104,
   "metadata": {},
   "outputs": [],
   "source": [
    "forest.fit(new_feature, target)\n",
    "train = forest.score(new_feature, target)\n"
   ]
  },
  {
   "cell_type": "code",
   "execution_count": 107,
   "metadata": {},
   "outputs": [
    {
     "name": "stdout",
     "output_type": "stream",
     "text": [
      "0.845898393443 0.847209386112\n"
     ]
    }
   ],
   "source": [
    "from sklearn.model_selection import train_test_split\n",
    "x_train, x_test, y_train, y_test = train_test_split(new_feature, target, test_size = 0.4, random_state = 42)\n",
    "\n",
    "\n",
    "prediction = forest.predict(x_test)\n",
    "from sklearn.metrics import accuracy_score\n",
    "solution = accuracy_score(prediction, y_test)\n",
    "print(train, solution)"
   ]
  },
  {
   "cell_type": "code",
   "execution_count": 50,
   "metadata": {},
   "outputs": [
    {
     "name": "stdout",
     "output_type": "stream",
     "text": [
      "0.84502438464 0.847209386112\n"
     ]
    }
   ],
   "source": [
    "from sklearn.model_selection import train_test_split\n",
    "x_train, x_test, y_train, y_test = train_test_split(new_feature, target, test_size = 0.4, random_state = 42)\n",
    "\n",
    "from sklearn.linear_model import LogisticRegression\n",
    "log = LogisticRegression()\n",
    "        \n",
    "log.fit(x_train, y_train)\n",
    "value = log.score(x_train, y_train)\n",
    "\n",
    "prediction = log.predict(x_test)\n",
    "from sklearn.metrics import accuracy_score\n",
    "solution = accuracy_score(prediction, y_test)\n",
    "print(value, solution)"
   ]
  },
  {
   "cell_type": "markdown",
   "metadata": {},
   "source": [
    "# pca"
   ]
  },
  {
   "cell_type": "code",
   "execution_count": 51,
   "metadata": {
    "scrolled": true
   },
   "outputs": [
    {
     "name": "stdout",
     "output_type": "stream",
     "text": [
      "Explained Variance sum: 0.999999998299\n",
      "[[  9.961e-01   4.229e-07   1.301e-05   4.636e-08   8.852e-02  -6.524e-06\n",
      "    3.634e-05   1.618e-07  -1.899e-07  -4.987e-08  -2.082e-07  -3.738e-07\n",
      "    3.738e-07  -2.603e-09   1.280e-07  -7.223e-09  -1.208e-08  -7.107e-09\n",
      "   -1.228e-09  -5.389e-09  -2.191e-08   1.123e-09  -8.402e-09  -4.913e-09\n",
      "   -5.113e-09  -1.553e-08  -1.431e-08   4.734e-09  -3.718e-09  -3.037e-09\n",
      "   -8.295e-10  -1.794e-08   3.070e-09  -1.558e-09  -3.494e-09  -1.182e-08\n",
      "   -2.956e-08   1.947e-07  -3.320e-11  -1.867e-08  -8.286e-09  -1.107e-07\n",
      "   -2.167e-11  -3.031e-08  -1.334e-08  -3.127e-08  -1.535e-08   8.510e-08\n",
      "   -4.632e-09  -4.561e-09  -1.697e-10  -1.588e-09   2.642e-11   7.972e-07\n",
      "    1.020e-08  -8.105e-07   3.080e-09   1.865e-07  -1.003e-07  -3.599e-08\n",
      "   -4.188e-08  -8.276e-09  -6.216e-08  -3.255e-07   5.195e-07  -1.250e-07\n",
      "   -6.850e-09]\n",
      " [ -8.852e-02   5.363e-06   2.593e-05   2.227e-05   9.961e-01  -1.021e-04\n",
      "    1.010e-03   3.759e-07   2.772e-07  -5.188e-07  -1.000e-06   9.191e-08\n",
      "   -9.191e-08  -3.468e-08   3.335e-07   1.522e-09  -1.998e-08  -1.783e-08\n",
      "    4.891e-09   9.442e-09  -4.946e-08  -9.471e-09   3.616e-09  -7.356e-08\n",
      "   -5.114e-09  -2.479e-08  -5.470e-08  -1.670e-08  -1.967e-09  -3.088e-08\n",
      "   -2.973e-09   2.739e-08   9.666e-09  -3.552e-09   1.367e-08  -5.190e-08\n",
      "   -5.974e-08   5.563e-07   5.538e-10  -4.021e-09  -3.691e-08  -1.392e-07\n",
      "    6.023e-10  -6.915e-08  -1.108e-07  -1.986e-07   3.083e-08   1.972e-08\n",
      "    4.484e-09  -5.812e-09   5.074e-09   4.387e-10  -2.453e-10   1.410e-06\n",
      "    4.390e-08  -1.483e-06   2.975e-08   1.872e-07   2.091e-07   1.987e-07\n",
      "   -3.245e-07  -2.704e-07   4.236e-08  -3.286e-07  -1.178e-07   4.201e-07\n",
      "   -1.604e-08]\n",
      " [ -5.327e-05  -1.964e-03   2.717e-03  -1.052e-02   1.014e-03   6.806e-02\n",
      "   -9.976e-01   3.165e-03  -1.035e-03   3.293e-04   4.602e-04   3.636e-05\n",
      "   -3.636e-05  -7.901e-06   2.710e-05  -1.362e-06  -1.091e-05  -4.301e-06\n",
      "    4.538e-06   1.775e-05   9.706e-07  -6.671e-07   1.187e-05  -2.461e-05\n",
      "   -3.171e-06  -2.011e-05   1.897e-05  -8.887e-07   4.082e-07   1.740e-05\n",
      "    2.301e-06  -1.356e-05  -5.930e-06   4.909e-06   6.059e-06   1.558e-05\n",
      "   -3.526e-06  -1.177e-04  -2.550e-07   8.153e-06   2.995e-05   2.326e-05\n",
      "   -2.090e-07  -3.791e-07   1.742e-05   5.055e-06   3.332e-06  -1.573e-05\n",
      "    3.619e-06   6.256e-06   1.222e-06   5.067e-06   1.540e-07   1.554e-04\n",
      "    1.244e-05  -1.908e-04   2.282e-05  -3.382e-04   1.041e-04   2.564e-05\n",
      "    7.293e-06   2.012e-04   1.501e-06  -1.637e-04   4.299e-05   9.814e-05\n",
      "    2.102e-05]\n",
      " [ -1.064e-05   2.661e-03   9.962e-01  -2.605e-02  -3.156e-05  -6.265e-02\n",
      "   -1.272e-03   1.691e-03  -1.121e-04  -1.540e-03  -3.286e-03  -4.560e-03\n",
      "    4.560e-03  -1.290e-04   1.113e-04  -2.810e-05   1.163e-05  -3.858e-04\n",
      "   -3.649e-05  -3.338e-05  -4.265e-05  -6.410e-05  -2.255e-04  -5.268e-05\n",
      "   -8.875e-05  -3.836e-04  -5.633e-05  -4.116e-04  -3.040e-05  -2.595e-04\n",
      "   -1.275e-05   1.687e-04  -8.968e-05  -1.903e-05  -5.664e-05   8.016e-05\n",
      "   -2.169e-04   1.569e-04   2.055e-06   1.413e-04   6.811e-05   1.406e-03\n",
      "    1.022e-06   2.158e-05  -2.224e-04   7.354e-04  -9.976e-05   6.124e-05\n",
      "   -1.431e-05   1.398e-05  -2.202e-05   1.786e-06   4.243e-06   3.626e-02\n",
      "    1.220e-03  -3.840e-02   9.230e-04  -1.952e-03   2.930e-03   1.672e-03\n",
      "   -1.466e-03  -1.184e-03  -6.866e-04  -9.909e-03   8.825e-03   1.861e-03\n",
      "   -9.011e-05]]\n"
     ]
    }
   ],
   "source": [
    "from sklearn.decomposition import PCA\n",
    "# feature extraction\n",
    "pca = PCA(n_components = 4)\n",
    "fit = pca.fit(x)\n",
    "# summarize components\n",
    "print('Explained Variance sum: %s' % fit.explained_variance_ratio_.sum())\n",
    "print(fit.components_)"
   ]
  },
  {
   "cell_type": "code",
   "execution_count": 56,
   "metadata": {},
   "outputs": [
    {
     "data": {
      "text/plain": [
       "(4, 67)"
      ]
     },
     "execution_count": 56,
     "metadata": {},
     "output_type": "execute_result"
    }
   ],
   "source": [
    "fit.components_.shape"
   ]
  },
  {
   "cell_type": "markdown",
   "metadata": {},
   "source": [
    "# feature importance"
   ]
  },
  {
   "cell_type": "code",
   "execution_count": 57,
   "metadata": {},
   "outputs": [
    {
     "name": "stdout",
     "output_type": "stream",
     "text": [
      "[ 0.394  0.605  0.001]\n"
     ]
    }
   ],
   "source": [
    "from sklearn.ensemble import ExtraTreesClassifier\n",
    "model = ExtraTreesClassifier()\n",
    "model.fit(new_feature, target)\n",
    "print(model.feature_importances_)"
   ]
  },
  {
   "cell_type": "code",
   "execution_count": 62,
   "metadata": {},
   "outputs": [
    {
     "name": "stdout",
     "output_type": "stream",
     "text": [
      "[ 0.109  0.06   0.372  0.459]\n"
     ]
    }
   ],
   "source": [
    "from sklearn.ensemble import ExtraTreesClassifier\n",
    "model = ExtraTreesClassifier()\n",
    "model.fit(x_norm, target)\n",
    "print(model.feature_importances_)"
   ]
  },
  {
   "cell_type": "code",
   "execution_count": null,
   "metadata": {
    "collapsed": true
   },
   "outputs": [],
   "source": []
  },
  {
   "cell_type": "code",
   "execution_count": null,
   "metadata": {
    "collapsed": true
   },
   "outputs": [],
   "source": []
  },
  {
   "cell_type": "code",
   "execution_count": 38,
   "metadata": {
    "collapsed": true
   },
   "outputs": [],
   "source": [
    "from sklearn.metrics import accuracy_score"
   ]
  },
  {
   "cell_type": "code",
   "execution_count": 39,
   "metadata": {},
   "outputs": [
    {
     "data": {
      "text/plain": [
       "0.84605022008490105"
      ]
     },
     "execution_count": 39,
     "metadata": {},
     "output_type": "execute_result"
    }
   ],
   "source": [
    "accuracy_score(prediction, y_test)"
   ]
  },
  {
   "cell_type": "code",
   "execution_count": 40,
   "metadata": {},
   "outputs": [
    {
     "name": "stdout",
     "output_type": "stream",
     "text": [
      "[[41913  4045]\n",
      " [ 5783 12098]]\n"
     ]
    }
   ],
   "source": [
    "from sklearn.metrics import confusion_matrix\n",
    "confusion = confusion_matrix(y_test, prediction)\n",
    "print(confusion)"
   ]
  },
  {
   "cell_type": "code",
   "execution_count": 41,
   "metadata": {
    "collapsed": true
   },
   "outputs": [],
   "source": [
    "from sklearn.metrics import f1_score"
   ]
  },
  {
   "cell_type": "code",
   "execution_count": 42,
   "metadata": {},
   "outputs": [
    {
     "data": {
      "text/plain": [
       "0.71114507406536553"
      ]
     },
     "execution_count": 42,
     "metadata": {},
     "output_type": "execute_result"
    }
   ],
   "source": [
    "f1_score(y_test, prediction)"
   ]
  },
  {
   "cell_type": "code",
   "execution_count": 43,
   "metadata": {},
   "outputs": [
    {
     "name": "stdout",
     "output_type": "stream",
     "text": [
      "             precision    recall  f1-score   support\n",
      "\n",
      "          0       0.88      0.91      0.90     45958\n",
      "          1       0.75      0.68      0.71     17881\n",
      "\n",
      "avg / total       0.84      0.85      0.84     63839\n",
      "\n"
     ]
    }
   ],
   "source": [
    "from sklearn.metrics import classification_report\n",
    "print(classification_report(y_test, prediction))"
   ]
  },
  {
   "cell_type": "code",
   "execution_count": null,
   "metadata": {
    "collapsed": true
   },
   "outputs": [],
   "source": []
  }
 ],
 "metadata": {
  "kernelspec": {
   "display_name": "Python 3",
   "language": "python",
   "name": "python3"
  },
  "language_info": {
   "codemirror_mode": {
    "name": "ipython",
    "version": 3
   },
   "file_extension": ".py",
   "mimetype": "text/x-python",
   "name": "python",
   "nbconvert_exporter": "python",
   "pygments_lexer": "ipython3",
   "version": "3.6.7"
  }
 },
 "nbformat": 4,
 "nbformat_minor": 2
}
