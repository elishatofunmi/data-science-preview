{
 "cells": [
  {
   "cell_type": "code",
   "execution_count": 107,
   "metadata": {
    "collapsed": true
   },
   "outputs": [],
   "source": [
    "import os, sys\n",
    "import pandas as pd\n",
    "import numpy as np\n",
    "import sklearn as sk\n",
    "import matplotlib.pyplot as plt\n",
    "import warnings\n",
    "warnings.filterwarnings('ignore')\n",
    "\n"
   ]
  },
  {
   "cell_type": "code",
   "execution_count": 108,
   "metadata": {
    "collapsed": true
   },
   "outputs": [],
   "source": [
    "read_data = pd.read_csv('2019_4_2_02379003-6369-43bf-b444-842420685d06.csv')"
   ]
  },
  {
   "cell_type": "code",
   "execution_count": 109,
   "metadata": {},
   "outputs": [
    {
     "data": {
      "text/plain": [
       "Index(['clientId', 'clientIncome', 'incomeVerified', 'clientAge',\n",
       "       'clientGender', 'clientMaritalStatus', 'clientLoanPurpose',\n",
       "       'clientResidentialStauts', 'clientState', 'clientTimeAtEmployer',\n",
       "       'clientNumberPhoneContacts', 'clientAvgCallsPerDay', 'loanType',\n",
       "       'loanNumber', 'applicationDate', 'approvalDate', 'declinedDate',\n",
       "       'disbursementDate', 'payout_status', 'dueDate', 'paidAt', 'loanAmount',\n",
       "       'interestRate', 'loanTerm', 'max_amount_taken', 'max_tenor_taken',\n",
       "       'paymentRatio', 'FirstPaymentDefault', 'loanDefault'],\n",
       "      dtype='object')"
      ]
     },
     "execution_count": 109,
     "metadata": {},
     "output_type": "execute_result"
    }
   ],
   "source": [
    "read_data.columns"
   ]
  },
  {
   "cell_type": "code",
   "execution_count": 110,
   "metadata": {
    "collapsed": true
   },
   "outputs": [],
   "source": [
    "read_data['incomeVerified'][read_data['incomeVerified'] == 'true'] = 1\n",
    "read_data['incomeVerified'][read_data['incomeVerified'] == 'false'] = 0"
   ]
  },
  {
   "cell_type": "code",
   "execution_count": 111,
   "metadata": {
    "collapsed": true
   },
   "outputs": [],
   "source": [
    "read_data = read_data.drop('loanType', axis = 1)"
   ]
  },
  {
   "cell_type": "code",
   "execution_count": 112,
   "metadata": {
    "collapsed": true
   },
   "outputs": [],
   "source": [
    "read_data['clientResidentialStauts'][read_data['clientResidentialStauts']== 'Null'] = 'Rented'"
   ]
  },
  {
   "cell_type": "code",
   "execution_count": 113,
   "metadata": {
    "scrolled": true
   },
   "outputs": [
    {
     "data": {
      "text/plain": [
       "LAGOS          60667\n",
       "OGUN           14798\n",
       "ABUJA          13999\n",
       "OYO            12731\n",
       "RIVERS          7829\n",
       "DELTA           5081\n",
       "KWARA           3969\n",
       "OSUN            3816\n",
       "ONDO            3571\n",
       "KADUNA          3496\n",
       "EDO             2663\n",
       "NIGER           2462\n",
       "BENUE           2043\n",
       "EKITI           2023\n",
       "AKWA IBOM       1960\n",
       "KOGI            1896\n",
       "PLATEAU         1715\n",
       "CROSS RIVER     1608\n",
       "NASARAWA        1589\n",
       "ENUGU           1566\n",
       "ANAMBRA         1496\n",
       "ABIA            1426\n",
       "IMO             1287\n",
       "KANO            1233\n",
       "BAYELSA         1179\n",
       "ADAMAWA          569\n",
       "BAUCHI           418\n",
       "SOKOTO           398\n",
       "EBONYI           392\n",
       "TARABA           336\n",
       "KEBBI            279\n",
       "GOMBE            265\n",
       "KATSINA          248\n",
       "ZAMFARA          221\n",
       "BORNO            210\n",
       "YOBE              83\n",
       "JIGAWA            72\n",
       "LAGOS              1\n",
       "OJO                1\n",
       "Name: clientState, dtype: int64"
      ]
     },
     "execution_count": 113,
     "metadata": {},
     "output_type": "execute_result"
    }
   ],
   "source": [
    "read_data['clientState'][read_data['clientState'] == 'Null'] = 'LAGOS'\n",
    "read_data['clientState'].value_counts()"
   ]
  },
  {
   "cell_type": "code",
   "execution_count": 114,
   "metadata": {},
   "outputs": [
    {
     "data": {
      "text/plain": [
       "Married      85492\n",
       "Single       71361\n",
       "Separated     1795\n",
       "Widowed        939\n",
       "Null             6\n",
       "Divorced         3\n",
       "Name: clientMaritalStatus, dtype: int64"
      ]
     },
     "execution_count": 114,
     "metadata": {},
     "output_type": "execute_result"
    }
   ],
   "source": [
    "read_data['clientMaritalStatus'].value_counts()"
   ]
  },
  {
   "cell_type": "code",
   "execution_count": 115,
   "metadata": {
    "collapsed": true
   },
   "outputs": [],
   "source": [
    "read_data['clientMaritalStatus'][read_data['clientMaritalStatus']== 'Null'] = 'Married'"
   ]
  },
  {
   "cell_type": "code",
   "execution_count": 116,
   "metadata": {},
   "outputs": [
    {
     "data": {
      "text/plain": [
       "business     78976\n",
       "other        31554\n",
       "house        22240\n",
       "education    15737\n",
       "medical      11089\n",
       "Name: clientLoanPurpose, dtype: int64"
      ]
     },
     "execution_count": 116,
     "metadata": {},
     "output_type": "execute_result"
    }
   ],
   "source": [
    "read_data['clientLoanPurpose'].value_counts()"
   ]
  },
  {
   "cell_type": "code",
   "execution_count": 117,
   "metadata": {},
   "outputs": [
    {
     "data": {
      "text/plain": [
       "Rented               101670\n",
       "Own Residence         26406\n",
       "Family Owned          25668\n",
       "Employer Provided      5589\n",
       "Temp. Residence         263\n",
       "Name: clientResidentialStauts, dtype: int64"
      ]
     },
     "execution_count": 117,
     "metadata": {},
     "output_type": "execute_result"
    }
   ],
   "source": [
    "read_data['clientResidentialStauts'].value_counts()"
   ]
  },
  {
   "cell_type": "code",
   "execution_count": 118,
   "metadata": {
    "collapsed": true
   },
   "outputs": [],
   "source": [
    "data = pd.get_dummies(read_data,prefix_sep = '_', columns = ['clientGender', 'clientState', 'clientMaritalStatus',\n",
    "                                         'clientLoanPurpose', 'clientResidentialStauts'])"
   ]
  },
  {
   "cell_type": "code",
   "execution_count": 119,
   "metadata": {
    "scrolled": true
   },
   "outputs": [
    {
     "data": {
      "text/html": [
       "<div>\n",
       "<style>\n",
       "    .dataframe thead tr:only-child th {\n",
       "        text-align: right;\n",
       "    }\n",
       "\n",
       "    .dataframe thead th {\n",
       "        text-align: left;\n",
       "    }\n",
       "\n",
       "    .dataframe tbody tr th {\n",
       "        vertical-align: top;\n",
       "    }\n",
       "</style>\n",
       "<table border=\"1\" class=\"dataframe\">\n",
       "  <thead>\n",
       "    <tr style=\"text-align: right;\">\n",
       "      <th></th>\n",
       "      <th>clientId</th>\n",
       "      <th>clientIncome</th>\n",
       "      <th>incomeVerified</th>\n",
       "      <th>clientAge</th>\n",
       "      <th>clientTimeAtEmployer</th>\n",
       "      <th>clientNumberPhoneContacts</th>\n",
       "      <th>clientAvgCallsPerDay</th>\n",
       "      <th>loanNumber</th>\n",
       "      <th>applicationDate</th>\n",
       "      <th>approvalDate</th>\n",
       "      <th>...</th>\n",
       "      <th>clientLoanPurpose_business</th>\n",
       "      <th>clientLoanPurpose_education</th>\n",
       "      <th>clientLoanPurpose_house</th>\n",
       "      <th>clientLoanPurpose_medical</th>\n",
       "      <th>clientLoanPurpose_other</th>\n",
       "      <th>clientResidentialStauts_Employer Provided</th>\n",
       "      <th>clientResidentialStauts_Family Owned</th>\n",
       "      <th>clientResidentialStauts_Own Residence</th>\n",
       "      <th>clientResidentialStauts_Rented</th>\n",
       "      <th>clientResidentialStauts_Temp. Residence</th>\n",
       "    </tr>\n",
       "  </thead>\n",
       "  <tbody>\n",
       "    <tr>\n",
       "      <th>0</th>\n",
       "      <td>719046128</td>\n",
       "      <td>25000.00</td>\n",
       "      <td>1</td>\n",
       "      <td>38</td>\n",
       "      <td>36+</td>\n",
       "      <td>2976</td>\n",
       "      <td>51.40909090909091</td>\n",
       "      <td>4</td>\n",
       "      <td>2018-03-18</td>\n",
       "      <td>2018-03-18</td>\n",
       "      <td>...</td>\n",
       "      <td>1</td>\n",
       "      <td>0</td>\n",
       "      <td>0</td>\n",
       "      <td>0</td>\n",
       "      <td>0</td>\n",
       "      <td>0</td>\n",
       "      <td>0</td>\n",
       "      <td>0</td>\n",
       "      <td>1</td>\n",
       "      <td>0</td>\n",
       "    </tr>\n",
       "    <tr>\n",
       "      <th>1</th>\n",
       "      <td>821565030</td>\n",
       "      <td>105000.00</td>\n",
       "      <td>0</td>\n",
       "      <td>31</td>\n",
       "      <td>36+</td>\n",
       "      <td>1159</td>\n",
       "      <td>121.03645833333333</td>\n",
       "      <td>4</td>\n",
       "      <td>2018-01-06</td>\n",
       "      <td>2018-01-06</td>\n",
       "      <td>...</td>\n",
       "      <td>0</td>\n",
       "      <td>0</td>\n",
       "      <td>1</td>\n",
       "      <td>0</td>\n",
       "      <td>0</td>\n",
       "      <td>0</td>\n",
       "      <td>0</td>\n",
       "      <td>0</td>\n",
       "      <td>1</td>\n",
       "      <td>0</td>\n",
       "    </tr>\n",
       "    <tr>\n",
       "      <th>2</th>\n",
       "      <td>703822576</td>\n",
       "      <td>78029.19</td>\n",
       "      <td>1</td>\n",
       "      <td>38</td>\n",
       "      <td>36+</td>\n",
       "      <td>1375</td>\n",
       "      <td>13.402912621359222</td>\n",
       "      <td>4</td>\n",
       "      <td>2018-04-27</td>\n",
       "      <td>2018-04-27</td>\n",
       "      <td>...</td>\n",
       "      <td>0</td>\n",
       "      <td>1</td>\n",
       "      <td>0</td>\n",
       "      <td>0</td>\n",
       "      <td>0</td>\n",
       "      <td>0</td>\n",
       "      <td>1</td>\n",
       "      <td>0</td>\n",
       "      <td>0</td>\n",
       "      <td>0</td>\n",
       "    </tr>\n",
       "  </tbody>\n",
       "</table>\n",
       "<p>3 rows × 79 columns</p>\n",
       "</div>"
      ],
      "text/plain": [
       "    clientId  clientIncome incomeVerified  clientAge clientTimeAtEmployer  \\\n",
       "0  719046128      25000.00              1         38                  36+   \n",
       "1  821565030     105000.00              0         31                  36+   \n",
       "2  703822576      78029.19              1         38                  36+   \n",
       "\n",
       "  clientNumberPhoneContacts clientAvgCallsPerDay  loanNumber applicationDate  \\\n",
       "0                      2976    51.40909090909091           4      2018-03-18   \n",
       "1                      1159   121.03645833333333           4      2018-01-06   \n",
       "2                      1375   13.402912621359222           4      2018-04-27   \n",
       "\n",
       "  approvalDate                   ...                     \\\n",
       "0   2018-03-18                   ...                      \n",
       "1   2018-01-06                   ...                      \n",
       "2   2018-04-27                   ...                      \n",
       "\n",
       "  clientLoanPurpose_business clientLoanPurpose_education  \\\n",
       "0                          1                           0   \n",
       "1                          0                           0   \n",
       "2                          0                           1   \n",
       "\n",
       "  clientLoanPurpose_house clientLoanPurpose_medical clientLoanPurpose_other  \\\n",
       "0                       0                         0                       0   \n",
       "1                       1                         0                       0   \n",
       "2                       0                         0                       0   \n",
       "\n",
       "   clientResidentialStauts_Employer Provided  \\\n",
       "0                                          0   \n",
       "1                                          0   \n",
       "2                                          0   \n",
       "\n",
       "   clientResidentialStauts_Family Owned  \\\n",
       "0                                     0   \n",
       "1                                     0   \n",
       "2                                     1   \n",
       "\n",
       "   clientResidentialStauts_Own Residence  clientResidentialStauts_Rented  \\\n",
       "0                                      0                               1   \n",
       "1                                      0                               1   \n",
       "2                                      0                               0   \n",
       "\n",
       "   clientResidentialStauts_Temp. Residence  \n",
       "0                                        0  \n",
       "1                                        0  \n",
       "2                                        0  \n",
       "\n",
       "[3 rows x 79 columns]"
      ]
     },
     "execution_count": 119,
     "metadata": {},
     "output_type": "execute_result"
    }
   ],
   "source": [
    "data.head(3)"
   ]
  },
  {
   "cell_type": "code",
   "execution_count": 120,
   "metadata": {
    "collapsed": true
   },
   "outputs": [],
   "source": [
    "data = data.drop(['applicationDate', 'approvalDate', 'declinedDate',\n",
    "       'disbursementDate', 'payout_status', 'dueDate', 'paidAt'], axis = 1)"
   ]
  },
  {
   "cell_type": "code",
   "execution_count": 121,
   "metadata": {
    "scrolled": true
   },
   "outputs": [
    {
     "data": {
      "text/plain": [
       "Index(['clientIncome', 'incomeVerified', 'clientAge', 'loanNumber',\n",
       "       'loanAmount', 'interestRate', 'loanTerm', 'max_amount_taken',\n",
       "       'max_tenor_taken', 'paymentRatio', 'FirstPaymentDefault', 'loanDefault',\n",
       "       'clientGender_FEMALE', 'clientGender_MALE', 'clientState_ABIA',\n",
       "       'clientState_ABUJA', 'clientState_ADAMAWA', 'clientState_AKWA IBOM',\n",
       "       'clientState_ANAMBRA', 'clientState_BAUCHI', 'clientState_BAYELSA',\n",
       "       'clientState_BENUE', 'clientState_BORNO', 'clientState_CROSS RIVER',\n",
       "       'clientState_DELTA', 'clientState_EBONYI', 'clientState_EDO',\n",
       "       'clientState_EKITI', 'clientState_ENUGU', 'clientState_GOMBE',\n",
       "       'clientState_IMO', 'clientState_JIGAWA', 'clientState_KADUNA',\n",
       "       'clientState_KANO', 'clientState_KATSINA', 'clientState_KEBBI',\n",
       "       'clientState_KOGI', 'clientState_KWARA', 'clientState_LAGOS',\n",
       "       'clientState_LAGOS ', 'clientState_NASARAWA', 'clientState_NIGER',\n",
       "       'clientState_OGUN', 'clientState_OJO', 'clientState_ONDO',\n",
       "       'clientState_OSUN', 'clientState_OYO', 'clientState_PLATEAU',\n",
       "       'clientState_RIVERS', 'clientState_SOKOTO', 'clientState_TARABA',\n",
       "       'clientState_YOBE', 'clientState_ZAMFARA',\n",
       "       'clientMaritalStatus_Divorced', 'clientMaritalStatus_Married',\n",
       "       'clientMaritalStatus_Separated', 'clientMaritalStatus_Single',\n",
       "       'clientMaritalStatus_Widowed', 'clientLoanPurpose_business',\n",
       "       'clientLoanPurpose_education', 'clientLoanPurpose_house',\n",
       "       'clientLoanPurpose_medical', 'clientLoanPurpose_other',\n",
       "       'clientResidentialStauts_Employer Provided',\n",
       "       'clientResidentialStauts_Family Owned',\n",
       "       'clientResidentialStauts_Own Residence',\n",
       "       'clientResidentialStauts_Rented',\n",
       "       'clientResidentialStauts_Temp. Residence'],\n",
       "      dtype='object')"
      ]
     },
     "execution_count": 121,
     "metadata": {},
     "output_type": "execute_result"
    }
   ],
   "source": [
    "x.columns"
   ]
  },
  {
   "cell_type": "code",
   "execution_count": 122,
   "metadata": {
    "collapsed": true
   },
   "outputs": [],
   "source": [
    "x = data.drop(['clientId', 'clientNumberPhoneContacts'], axis = 1)"
   ]
  },
  {
   "cell_type": "code",
   "execution_count": 123,
   "metadata": {},
   "outputs": [
    {
     "name": "stdout",
     "output_type": "stream",
     "text": [
      "incomeVerified 103\n",
      "clientTimeAtEmployer 159596\n",
      "clientAvgCallsPerDay 159596\n"
     ]
    }
   ],
   "source": [
    "for k in x.columns:\n",
    "    value = sum([isinstance(i, str) for i in x[k]])\n",
    "    if value > 1:\n",
    "        print(k, value)\n",
    "    else:\n",
    "        pass"
   ]
  },
  {
   "cell_type": "code",
   "execution_count": 124,
   "metadata": {},
   "outputs": [
    {
     "data": {
      "text/plain": [
       "0       133286\n",
       "1        26207\n",
       "Null       103\n",
       "Name: incomeVerified, dtype: int64"
      ]
     },
     "execution_count": 124,
     "metadata": {},
     "output_type": "execute_result"
    }
   ],
   "source": [
    "x['incomeVerified'].value_counts()"
   ]
  },
  {
   "cell_type": "code",
   "execution_count": 125,
   "metadata": {
    "collapsed": true
   },
   "outputs": [],
   "source": [
    "x['incomeVerified'][x['incomeVerified']== 'Null'] = 0"
   ]
  },
  {
   "cell_type": "code",
   "execution_count": 126,
   "metadata": {
    "collapsed": true
   },
   "outputs": [],
   "source": [
    "x['clientTimeAtEmployer'][x['clientTimeAtEmployer']== 'Null'] = 36"
   ]
  },
  {
   "cell_type": "code",
   "execution_count": 127,
   "metadata": {
    "collapsed": true
   },
   "outputs": [],
   "source": [
    "x = x.drop(['clientTimeAtEmployer', 'clientAvgCallsPerDay'], axis = 1)"
   ]
  },
  {
   "cell_type": "code",
   "execution_count": 81,
   "metadata": {
    "collapsed": true
   },
   "outputs": [],
   "source": [
    "from sklearn.decomposition import PCA"
   ]
  },
  {
   "cell_type": "code",
   "execution_count": 90,
   "metadata": {
    "collapsed": true
   },
   "outputs": [],
   "source": [
    "pca = PCA(n_components = 2)\n",
    "pmodel = pca.fit_transform(x)"
   ]
  },
  {
   "cell_type": "code",
   "execution_count": 91,
   "metadata": {},
   "outputs": [
    {
     "data": {
      "text/plain": [
       "0.99999991351147799"
      ]
     },
     "execution_count": 91,
     "metadata": {},
     "output_type": "execute_result"
    }
   ],
   "source": [
    "pca.explained_variance_ratio_.sum()"
   ]
  },
  {
   "cell_type": "code",
   "execution_count": 92,
   "metadata": {
    "collapsed": true
   },
   "outputs": [],
   "source": [
    "principalDf = pd.DataFrame(data = pmodel, columns = ['principal component 1', 'principal component 2'])"
   ]
  },
  {
   "cell_type": "code",
   "execution_count": 93,
   "metadata": {},
   "outputs": [
    {
     "data": {
      "text/html": [
       "<div>\n",
       "<style>\n",
       "    .dataframe thead tr:only-child th {\n",
       "        text-align: right;\n",
       "    }\n",
       "\n",
       "    .dataframe thead th {\n",
       "        text-align: left;\n",
       "    }\n",
       "\n",
       "    .dataframe tbody tr th {\n",
       "        vertical-align: top;\n",
       "    }\n",
       "</style>\n",
       "<table border=\"1\" class=\"dataframe\">\n",
       "  <thead>\n",
       "    <tr style=\"text-align: right;\">\n",
       "      <th></th>\n",
       "      <th>principal component 1</th>\n",
       "      <th>principal component 2</th>\n",
       "    </tr>\n",
       "  </thead>\n",
       "  <tbody>\n",
       "    <tr>\n",
       "      <th>0</th>\n",
       "      <td>-64458.453741</td>\n",
       "      <td>18454.488372</td>\n",
       "    </tr>\n",
       "    <tr>\n",
       "      <th>1</th>\n",
       "      <td>13766.816134</td>\n",
       "      <td>-5062.749725</td>\n",
       "    </tr>\n",
       "    <tr>\n",
       "      <th>2</th>\n",
       "      <td>-4422.734353</td>\n",
       "      <td>94940.114792</td>\n",
       "    </tr>\n",
       "    <tr>\n",
       "      <th>3</th>\n",
       "      <td>-57197.704160</td>\n",
       "      <td>-12811.086747</td>\n",
       "    </tr>\n",
       "    <tr>\n",
       "      <th>4</th>\n",
       "      <td>266745.894982</td>\n",
       "      <td>73852.253484</td>\n",
       "    </tr>\n",
       "  </tbody>\n",
       "</table>\n",
       "</div>"
      ],
      "text/plain": [
       "   principal component 1  principal component 2\n",
       "0          -64458.453741           18454.488372\n",
       "1           13766.816134           -5062.749725\n",
       "2           -4422.734353           94940.114792\n",
       "3          -57197.704160          -12811.086747\n",
       "4          266745.894982           73852.253484"
      ]
     },
     "execution_count": 93,
     "metadata": {},
     "output_type": "execute_result"
    }
   ],
   "source": [
    "# display principal components\n",
    "principalDf.head()"
   ]
  },
  {
   "cell_type": "code",
   "execution_count": 94,
   "metadata": {
    "collapsed": true
   },
   "outputs": [],
   "source": [
    "principalDf['target'] = target"
   ]
  },
  {
   "cell_type": "code",
   "execution_count": 101,
   "metadata": {},
   "outputs": [
    {
     "data": {
      "image/png": "[encoded data removed]",
      "text/plain": [
       "<matplotlib.figure.Figure at 0x25105fc18d0>"
      ]
     },
     "metadata": {},
     "output_type": "display_data"
    }
   ],
   "source": [
    "fig = plt.figure(figsize = (8,8))\n",
    "ax = fig.add_subplot(1,1,1) \n",
    "ax.set_xlabel('Principal Component 1', fontsize = 15)\n",
    "ax.set_ylabel('Principal Component 2', fontsize = 15)\n",
    "ax.set_title('2 Component PCA', fontsize = 20)\n",
    "\n",
    "\n",
    "targets = [0, 1]\n",
    "colors = ['r', 'g']\n",
    "for target, color in zip(targets,colors):\n",
    "    ax.scatter(principalDf['principal component 1']\n",
    "               , principalDf['principal component 2']\n",
    "               , c = color\n",
    "               , s = 50)\n",
    "ax.legend(targets)\n",
    "ax.grid()\n",
    "plt.show()"
   ]
  },
  {
   "cell_type": "code",
   "execution_count": 50,
   "metadata": {
    "collapsed": true
   },
   "outputs": [],
   "source": [
    "from sklearn.preprocessing import MinMaxScaler\n",
    "from sklearn.preprocessing import StandardScaler\n",
    "from sklearn.preprocessing import Normalizer"
   ]
  },
  {
   "cell_type": "code",
   "execution_count": 128,
   "metadata": {
    "collapsed": true
   },
   "outputs": [],
   "source": [
    "min_max = MinMaxScaler()\n",
    "std = StandardScaler()\n",
    "norm = Normalizer()\n",
    "\n",
    "x_new = min_max.fit_transform(x)\n",
    "x_std = std.fit_transform(x_new)\n",
    "x_norm = std.fit_transform(x_std)"
   ]
  },
  {
   "cell_type": "code",
   "execution_count": 70,
   "metadata": {
    "collapsed": true
   },
   "outputs": [],
   "source": [
    "from sklearn.model_selection import train_test_split\n",
    "x_train, x_test, y_train, y_test = train_test_split(x_norm, target, test_size = 0.4, random_state = 42)"
   ]
  },
  {
   "cell_type": "code",
   "execution_count": 71,
   "metadata": {
    "collapsed": true
   },
   "outputs": [],
   "source": [
    "from sklearn.linear_model import LogisticRegression\n",
    "log = LogisticRegression()"
   ]
  },
  {
   "cell_type": "code",
   "execution_count": 72,
   "metadata": {},
   "outputs": [
    {
     "data": {
      "text/plain": [
       "1.0"
      ]
     },
     "execution_count": 72,
     "metadata": {},
     "output_type": "execute_result"
    }
   ],
   "source": [
    "log.fit(x_train, y_train)\n",
    "log.score(x_train, y_train)"
   ]
  },
  {
   "cell_type": "code",
   "execution_count": 73,
   "metadata": {
    "collapsed": true
   },
   "outputs": [],
   "source": [
    "prediction = log.predict(x_test)"
   ]
  },
  {
   "cell_type": "code",
   "execution_count": 74,
   "metadata": {},
   "outputs": [
    {
     "data": {
      "text/plain": [
       "(63839,)"
      ]
     },
     "execution_count": 74,
     "metadata": {},
     "output_type": "execute_result"
    }
   ],
   "source": [
    "prediction.shape"
   ]
  },
  {
   "cell_type": "code",
   "execution_count": 75,
   "metadata": {
    "collapsed": true
   },
   "outputs": [],
   "source": [
    "from sklearn.metrics import accuracy_score"
   ]
  },
  {
   "cell_type": "code",
   "execution_count": 76,
   "metadata": {},
   "outputs": [
    {
     "data": {
      "text/plain": [
       "1.0"
      ]
     },
     "execution_count": 76,
     "metadata": {},
     "output_type": "execute_result"
    }
   ],
   "source": [
    "accuracy_score(prediction, y_test)"
   ]
  },
  {
   "cell_type": "code",
   "execution_count": null,
   "metadata": {
    "collapsed": true
   },
   "outputs": [],
   "source": []
  },
  {
   "cell_type": "code",
   "execution_count": 77,
   "metadata": {},
   "outputs": [
    {
     "name": "stdout",
     "output_type": "stream",
     "text": [
      "[[45958     0]\n",
      " [    0 17881]]\n"
     ]
    }
   ],
   "source": [
    "from sklearn.metrics import confusion_matrix\n",
    "confusion = confusion_matrix(y_test, prediction)\n",
    "print(confusion)"
   ]
  },
  {
   "cell_type": "code",
   "execution_count": 78,
   "metadata": {
    "collapsed": true
   },
   "outputs": [],
   "source": [
    "from sklearn.metrics import f1_score"
   ]
  },
  {
   "cell_type": "code",
   "execution_count": 79,
   "metadata": {},
   "outputs": [
    {
     "data": {
      "text/plain": [
       "1.0"
      ]
     },
     "execution_count": 79,
     "metadata": {},
     "output_type": "execute_result"
    }
   ],
   "source": [
    "f1_score(y_test, prediction)"
   ]
  },
  {
   "cell_type": "code",
   "execution_count": 80,
   "metadata": {},
   "outputs": [
    {
     "name": "stdout",
     "output_type": "stream",
     "text": [
      "             precision    recall  f1-score   support\n",
      "\n",
      "          0       1.00      1.00      1.00     45958\n",
      "          1       1.00      1.00      1.00     17881\n",
      "\n",
      "avg / total       1.00      1.00      1.00     63839\n",
      "\n"
     ]
    }
   ],
   "source": [
    "from sklearn.metrics import classification_report\n",
    "print(classification_report(y_test, prediction))"
   ]
  },
  {
   "cell_type": "code",
   "execution_count": 103,
   "metadata": {},
   "outputs": [],
   "source": [
    "import seaborn as sns"
   ]
  },
  {
   "cell_type": "code",
   "execution_count": 104,
   "metadata": {
    "scrolled": true
   },
   "outputs": [
    {
     "name": "stdout",
     "output_type": "stream",
     "text": [
      "Help on function heatmap in module seaborn.matrix:\n",
      "\n",
      "heatmap(data, vmin=None, vmax=None, cmap=None, center=None, robust=False, annot=None, fmt='.2g', annot_kws=None, linewidths=0, linecolor='white', cbar=True, cbar_kws=None, cbar_ax=None, square=False, ax=None, xticklabels=True, yticklabels=True, mask=None, **kwargs)\n",
      "    Plot rectangular data as a color-encoded matrix.\n",
      "    \n",
      "    This function tries to infer a good colormap to use from the data, but\n",
      "    this is not guaranteed to work, so take care to make sure the kind of\n",
      "    colormap (sequential or diverging) and its limits are appropriate.\n",
      "    \n",
      "    This is an Axes-level function and will draw the heatmap into the\n",
      "    currently-active Axes if none is provided to the ``ax`` argument.  Part of\n",
      "    this Axes space will be taken and used to plot a colormap, unless ``cbar``\n",
      "    is False or a separate Axes is provided to ``cbar_ax``.\n",
      "    \n",
      "    Parameters\n",
      "    ----------\n",
      "    data : rectangular dataset\n",
      "        2D dataset that can be coerced into an ndarray. If a Pandas DataFrame\n",
      "        is provided, the index/column information will be used to label the\n",
      "        columns and rows.\n",
      "    vmin, vmax : floats, optional\n",
      "        Values to anchor the colormap, otherwise they are inferred from the\n",
      "        data and other keyword arguments. When a diverging dataset is inferred,\n",
      "        one of these values may be ignored.\n",
      "    cmap : matplotlib colormap name or object, optional\n",
      "        The mapping from data values to color space. If not provided, this\n",
      "        will be either a cubehelix map (if the function infers a sequential\n",
      "        dataset) or ``RdBu_r`` (if the function infers a diverging dataset).\n",
      "    center : float, optional\n",
      "        The value at which to center the colormap. Passing this value implies\n",
      "        use of a diverging colormap.\n",
      "    robust : bool, optional\n",
      "        If True and ``vmin`` or ``vmax`` are absent, the colormap range is\n",
      "        computed with robust quantiles instead of the extreme values.\n",
      "    annot : bool or rectangular dataset, optional\n",
      "        If True, write the data value in each cell. If an array-like with the\n",
      "        same shape as ``data``, then use this to annotate the heatmap instead\n",
      "        of the raw data.\n",
      "    fmt : string, optional\n",
      "        String formatting code to use when adding annotations.\n",
      "    annot_kws : dict of key, value mappings, optional\n",
      "        Keyword arguments for ``ax.text`` when ``annot`` is True.\n",
      "    linewidths : float, optional\n",
      "        Width of the lines that will divide each cell.\n",
      "    linecolor : color, optional\n",
      "        Color of the lines that will divide each cell.\n",
      "    cbar : boolean, optional\n",
      "        Whether to draw a colorbar.\n",
      "    cbar_kws : dict of key, value mappings, optional\n",
      "        Keyword arguments for `fig.colorbar`.\n",
      "    cbar_ax : matplotlib Axes, optional\n",
      "        Axes in which to draw the colorbar, otherwise take space from the\n",
      "        main Axes.\n",
      "    square : boolean, optional\n",
      "        If True, set the Axes aspect to \"equal\" so each cell will be\n",
      "        square-shaped.\n",
      "    ax : matplotlib Axes, optional\n",
      "        Axes in which to draw the plot, otherwise use the currently-active\n",
      "        Axes.\n",
      "    xticklabels : list-like, int, or bool, optional\n",
      "        If True, plot the column names of the dataframe. If False, don't plot\n",
      "        the column names. If list-like, plot these alternate labels as the\n",
      "        xticklabels. If an integer, use the column names but plot only every\n",
      "        n label.\n",
      "    yticklabels : list-like, int, or bool, optional\n",
      "        If True, plot the row names of the dataframe. If False, don't plot\n",
      "        the row names. If list-like, plot these alternate labels as the\n",
      "        yticklabels. If an integer, use the index names but plot only every\n",
      "        n label.\n",
      "    mask : boolean array or DataFrame, optional\n",
      "        If passed, data will not be shown in cells where ``mask`` is True.\n",
      "        Cells with missing values are automatically masked.\n",
      "    kwargs : other keyword arguments\n",
      "        All other keyword arguments are passed to ``ax.pcolormesh``.\n",
      "    \n",
      "    Returns\n",
      "    -------\n",
      "    ax : matplotlib Axes\n",
      "        Axes object with the heatmap.\n",
      "    \n",
      "    Examples\n",
      "    --------\n",
      "    \n",
      "    Plot a heatmap for a numpy array:\n",
      "    \n",
      "    .. plot::\n",
      "        :context: close-figs\n",
      "    \n",
      "        >>> import numpy as np; np.random.seed(0)\n",
      "        >>> import seaborn as sns; sns.set()\n",
      "        >>> uniform_data = np.random.rand(10, 12)\n",
      "        >>> ax = sns.heatmap(uniform_data)\n",
      "    \n",
      "    Change the limits of the colormap:\n",
      "    \n",
      "    .. plot::\n",
      "        :context: close-figs\n",
      "    \n",
      "        >>> ax = sns.heatmap(uniform_data, vmin=0, vmax=1)\n",
      "    \n",
      "    Plot a heatmap for data centered on 0:\n",
      "    \n",
      "    .. plot::\n",
      "        :context: close-figs\n",
      "    \n",
      "        >>> normal_data = np.random.randn(10, 12)\n",
      "        >>> ax = sns.heatmap(normal_data)\n",
      "    \n",
      "    Plot a dataframe with meaningful row and column labels:\n",
      "    \n",
      "    .. plot::\n",
      "        :context: close-figs\n",
      "    \n",
      "        >>> flights = sns.load_dataset(\"flights\")\n",
      "        >>> flights = flights.pivot(\"month\", \"year\", \"passengers\")\n",
      "        >>> ax = sns.heatmap(flights)\n",
      "    \n",
      "    Annotate each cell with the numeric value using integer formatting:\n",
      "    \n",
      "    .. plot::\n",
      "        :context: close-figs\n",
      "    \n",
      "        >>> ax = sns.heatmap(flights, annot=True, fmt=\"d\")\n",
      "    \n",
      "    Add lines between each cell:\n",
      "    \n",
      "    .. plot::\n",
      "        :context: close-figs\n",
      "    \n",
      "        >>> ax = sns.heatmap(flights, linewidths=.5)\n",
      "    \n",
      "    Use a different colormap:\n",
      "    \n",
      "    .. plot::\n",
      "        :context: close-figs\n",
      "    \n",
      "        >>> ax = sns.heatmap(flights, cmap=\"YlGnBu\")\n",
      "    \n",
      "    Center the colormap at a specific value:\n",
      "    \n",
      "    .. plot::\n",
      "        :context: close-figs\n",
      "    \n",
      "        >>> ax = sns.heatmap(flights, center=flights.loc[\"January\", 1955])\n",
      "    \n",
      "    Plot every other column label and don't plot row labels:\n",
      "    \n",
      "    .. plot::\n",
      "        :context: close-figs\n",
      "    \n",
      "        >>> data = np.random.randn(50, 20)\n",
      "        >>> ax = sns.heatmap(data, xticklabels=2, yticklabels=False)\n",
      "    \n",
      "    Don't draw a colorbar:\n",
      "    \n",
      "    .. plot::\n",
      "        :context: close-figs\n",
      "    \n",
      "        >>> ax = sns.heatmap(flights, cbar=False)\n",
      "    \n",
      "    Use different axes for the colorbar:\n",
      "    \n",
      "    .. plot::\n",
      "        :context: close-figs\n",
      "    \n",
      "        >>> grid_kws = {\"height_ratios\": (.9, .05), \"hspace\": .3}\n",
      "        >>> f, (ax, cbar_ax) = plt.subplots(2, gridspec_kw=grid_kws)\n",
      "        >>> ax = sns.heatmap(flights, ax=ax,\n",
      "        ...                  cbar_ax=cbar_ax,\n",
      "        ...                  cbar_kws={\"orientation\": \"horizontal\"})\n",
      "    \n",
      "    Use a mask to plot only part of a matrix\n",
      "    \n",
      "    .. plot::\n",
      "        :context: close-figs\n",
      "    \n",
      "        >>> corr = np.corrcoef(np.random.randn(10, 200))\n",
      "        >>> mask = np.zeros_like(corr)\n",
      "        >>> mask[np.triu_indices_from(mask)] = True\n",
      "        >>> with sns.axes_style(\"white\"):\n",
      "        ...     ax = sns.heatmap(corr, mask=mask, vmax=.3, square=True)\n",
      "\n"
     ]
    }
   ],
   "source": [
    "help(sns.heatmap)"
   ]
  },
  {
   "cell_type": "code",
   "execution_count": 130,
   "metadata": {},
   "outputs": [
    {
     "data": {
      "text/html": [
       "<div>\n",
       "<style>\n",
       "    .dataframe thead tr:only-child th {\n",
       "        text-align: right;\n",
       "    }\n",
       "\n",
       "    .dataframe thead th {\n",
       "        text-align: left;\n",
       "    }\n",
       "\n",
       "    .dataframe tbody tr th {\n",
       "        vertical-align: top;\n",
       "    }\n",
       "</style>\n",
       "<table border=\"1\" class=\"dataframe\">\n",
       "  <thead>\n",
       "    <tr style=\"text-align: right;\">\n",
       "      <th></th>\n",
       "      <th>clientIncome</th>\n",
       "      <th>incomeVerified</th>\n",
       "      <th>clientAge</th>\n",
       "      <th>loanNumber</th>\n",
       "      <th>loanAmount</th>\n",
       "      <th>interestRate</th>\n",
       "      <th>loanTerm</th>\n",
       "      <th>max_amount_taken</th>\n",
       "      <th>max_tenor_taken</th>\n",
       "      <th>paymentRatio</th>\n",
       "      <th>...</th>\n",
       "      <th>clientLoanPurpose_business</th>\n",
       "      <th>clientLoanPurpose_education</th>\n",
       "      <th>clientLoanPurpose_house</th>\n",
       "      <th>clientLoanPurpose_medical</th>\n",
       "      <th>clientLoanPurpose_other</th>\n",
       "      <th>clientResidentialStauts_Employer Provided</th>\n",
       "      <th>clientResidentialStauts_Family Owned</th>\n",
       "      <th>clientResidentialStauts_Own Residence</th>\n",
       "      <th>clientResidentialStauts_Rented</th>\n",
       "      <th>clientResidentialStauts_Temp. Residence</th>\n",
       "    </tr>\n",
       "  </thead>\n",
       "  <tbody>\n",
       "    <tr>\n",
       "      <th>0</th>\n",
       "      <td>25000.0</td>\n",
       "      <td>1</td>\n",
       "      <td>38</td>\n",
       "      <td>4</td>\n",
       "      <td>48000</td>\n",
       "      <td>7.5</td>\n",
       "      <td>180</td>\n",
       "      <td>1</td>\n",
       "      <td>1</td>\n",
       "      <td>0.0</td>\n",
       "      <td>...</td>\n",
       "      <td>1</td>\n",
       "      <td>0</td>\n",
       "      <td>0</td>\n",
       "      <td>0</td>\n",
       "      <td>0</td>\n",
       "      <td>0</td>\n",
       "      <td>0</td>\n",
       "      <td>0</td>\n",
       "      <td>1</td>\n",
       "      <td>0</td>\n",
       "    </tr>\n",
       "    <tr>\n",
       "      <th>1</th>\n",
       "      <td>105000.0</td>\n",
       "      <td>0</td>\n",
       "      <td>31</td>\n",
       "      <td>4</td>\n",
       "      <td>31500</td>\n",
       "      <td>12.5</td>\n",
       "      <td>90</td>\n",
       "      <td>1</td>\n",
       "      <td>1</td>\n",
       "      <td>0.0</td>\n",
       "      <td>...</td>\n",
       "      <td>0</td>\n",
       "      <td>0</td>\n",
       "      <td>1</td>\n",
       "      <td>0</td>\n",
       "      <td>0</td>\n",
       "      <td>0</td>\n",
       "      <td>0</td>\n",
       "      <td>0</td>\n",
       "      <td>1</td>\n",
       "      <td>0</td>\n",
       "    </tr>\n",
       "  </tbody>\n",
       "</table>\n",
       "<p>2 rows × 68 columns</p>\n",
       "</div>"
      ],
      "text/plain": [
       "   clientIncome incomeVerified  clientAge  loanNumber  loanAmount  \\\n",
       "0       25000.0              1         38           4       48000   \n",
       "1      105000.0              0         31           4       31500   \n",
       "\n",
       "   interestRate  loanTerm  max_amount_taken  max_tenor_taken  paymentRatio  \\\n",
       "0           7.5       180                 1                1           0.0   \n",
       "1          12.5        90                 1                1           0.0   \n",
       "\n",
       "                    ...                     clientLoanPurpose_business  \\\n",
       "0                   ...                                              1   \n",
       "1                   ...                                              0   \n",
       "\n",
       "   clientLoanPurpose_education  clientLoanPurpose_house  \\\n",
       "0                            0                        0   \n",
       "1                            0                        1   \n",
       "\n",
       "   clientLoanPurpose_medical  clientLoanPurpose_other  \\\n",
       "0                          0                        0   \n",
       "1                          0                        0   \n",
       "\n",
       "   clientResidentialStauts_Employer Provided  \\\n",
       "0                                          0   \n",
       "1                                          0   \n",
       "\n",
       "   clientResidentialStauts_Family Owned  \\\n",
       "0                                     0   \n",
       "1                                     0   \n",
       "\n",
       "   clientResidentialStauts_Own Residence  clientResidentialStauts_Rented  \\\n",
       "0                                      0                               1   \n",
       "1                                      0                               1   \n",
       "\n",
       "   clientResidentialStauts_Temp. Residence  \n",
       "0                                        0  \n",
       "1                                        0  \n",
       "\n",
       "[2 rows x 68 columns]"
      ]
     },
     "execution_count": 130,
     "metadata": {},
     "output_type": "execute_result"
    }
   ],
   "source": [
    "x.head(2)"
   ]
  },
  {
   "cell_type": "code",
   "execution_count": 133,
   "metadata": {
    "collapsed": true
   },
   "outputs": [],
   "source": [
    "x['target'] = target"
   ]
  },
  {
   "cell_type": "code",
   "execution_count": 134,
   "metadata": {},
   "outputs": [
    {
     "data": {
      "text/plain": [
       "Index(['clientIncome', 'incomeVerified', 'clientAge', 'loanNumber',\n",
       "       'loanAmount', 'interestRate', 'loanTerm', 'max_amount_taken',\n",
       "       'max_tenor_taken', 'paymentRatio', 'FirstPaymentDefault', 'loanDefault',\n",
       "       'clientGender_FEMALE', 'clientGender_MALE', 'clientState_ABIA',\n",
       "       'clientState_ABUJA', 'clientState_ADAMAWA', 'clientState_AKWA IBOM',\n",
       "       'clientState_ANAMBRA', 'clientState_BAUCHI', 'clientState_BAYELSA',\n",
       "       'clientState_BENUE', 'clientState_BORNO', 'clientState_CROSS RIVER',\n",
       "       'clientState_DELTA', 'clientState_EBONYI', 'clientState_EDO',\n",
       "       'clientState_EKITI', 'clientState_ENUGU', 'clientState_GOMBE',\n",
       "       'clientState_IMO', 'clientState_JIGAWA', 'clientState_KADUNA',\n",
       "       'clientState_KANO', 'clientState_KATSINA', 'clientState_KEBBI',\n",
       "       'clientState_KOGI', 'clientState_KWARA', 'clientState_LAGOS',\n",
       "       'clientState_LAGOS ', 'clientState_NASARAWA', 'clientState_NIGER',\n",
       "       'clientState_OGUN', 'clientState_OJO', 'clientState_ONDO',\n",
       "       'clientState_OSUN', 'clientState_OYO', 'clientState_PLATEAU',\n",
       "       'clientState_RIVERS', 'clientState_SOKOTO', 'clientState_TARABA',\n",
       "       'clientState_YOBE', 'clientState_ZAMFARA',\n",
       "       'clientMaritalStatus_Divorced', 'clientMaritalStatus_Married',\n",
       "       'clientMaritalStatus_Separated', 'clientMaritalStatus_Single',\n",
       "       'clientMaritalStatus_Widowed', 'clientLoanPurpose_business',\n",
       "       'clientLoanPurpose_education', 'clientLoanPurpose_house',\n",
       "       'clientLoanPurpose_medical', 'clientLoanPurpose_other',\n",
       "       'clientResidentialStauts_Employer Provided',\n",
       "       'clientResidentialStauts_Family Owned',\n",
       "       'clientResidentialStauts_Own Residence',\n",
       "       'clientResidentialStauts_Rented',\n",
       "       'clientResidentialStauts_Temp. Residence', 'target'],\n",
       "      dtype='object')"
      ]
     },
     "execution_count": 134,
     "metadata": {},
     "output_type": "execute_result"
    }
   ],
   "source": [
    "x.columns"
   ]
  },
  {
   "cell_type": "code",
   "execution_count": 135,
   "metadata": {},
   "outputs": [
    {
     "ename": "TypeError",
     "evalue": "ufunc 'isnan' not supported for the input types, and the inputs could not be safely coerced to any supported types according to the casting rule ''safe''",
     "output_type": "error",
     "traceback": [
      "\u001b[1;31m---------------------------------------------------------------------------\u001b[0m",
      "\u001b[1;31mTypeError\u001b[0m                                 Traceback (most recent call last)",
      "\u001b[1;32m<ipython-input-135-8432834ec8b4>\u001b[0m in \u001b[0;36m<module>\u001b[1;34m()\u001b[0m\n\u001b[1;32m----> 1\u001b[1;33m \u001b[0msns\u001b[0m\u001b[1;33m.\u001b[0m\u001b[0mheatmap\u001b[0m\u001b[1;33m(\u001b[0m\u001b[0mx\u001b[0m\u001b[1;33m,\u001b[0m \u001b[0mcmap\u001b[0m \u001b[1;33m=\u001b[0m \u001b[1;34m'viridis'\u001b[0m\u001b[1;33m)\u001b[0m\u001b[1;33m\u001b[0m\u001b[0m\n\u001b[0m\u001b[0;32m      2\u001b[0m \u001b[0mplt\u001b[0m\u001b[1;33m.\u001b[0m\u001b[0mshow\u001b[0m\u001b[1;33m(\u001b[0m\u001b[1;33m)\u001b[0m\u001b[1;33m\u001b[0m\u001b[0m\n",
      "\u001b[1;32mC:\\Users\\INVENTAR\\Anaconda3\\lib\\site-packages\\seaborn\\matrix.py\u001b[0m in \u001b[0;36mheatmap\u001b[1;34m(data, vmin, vmax, cmap, center, robust, annot, fmt, annot_kws, linewidths, linecolor, cbar, cbar_kws, cbar_ax, square, ax, xticklabels, yticklabels, mask, **kwargs)\u001b[0m\n\u001b[0;32m    483\u001b[0m     plotter = _HeatMapper(data, vmin, vmax, cmap, center, robust, annot, fmt,\n\u001b[0;32m    484\u001b[0m                           \u001b[0mannot_kws\u001b[0m\u001b[1;33m,\u001b[0m \u001b[0mcbar\u001b[0m\u001b[1;33m,\u001b[0m \u001b[0mcbar_kws\u001b[0m\u001b[1;33m,\u001b[0m \u001b[0mxticklabels\u001b[0m\u001b[1;33m,\u001b[0m\u001b[1;33m\u001b[0m\u001b[0m\n\u001b[1;32m--> 485\u001b[1;33m                           yticklabels, mask)\n\u001b[0m\u001b[0;32m    486\u001b[0m \u001b[1;33m\u001b[0m\u001b[0m\n\u001b[0;32m    487\u001b[0m     \u001b[1;31m# Add the pcolormesh kwargs here\u001b[0m\u001b[1;33m\u001b[0m\u001b[1;33m\u001b[0m\u001b[0m\n",
      "\u001b[1;32mC:\\Users\\INVENTAR\\Anaconda3\\lib\\site-packages\\seaborn\\matrix.py\u001b[0m in \u001b[0;36m__init__\u001b[1;34m(self, data, vmin, vmax, cmap, center, robust, annot, fmt, annot_kws, cbar, cbar_kws, xticklabels, yticklabels, mask)\u001b[0m\n\u001b[0;32m    165\u001b[0m         \u001b[1;31m# Determine good default values for the colormapping\u001b[0m\u001b[1;33m\u001b[0m\u001b[1;33m\u001b[0m\u001b[0m\n\u001b[0;32m    166\u001b[0m         self._determine_cmap_params(plot_data, vmin, vmax,\n\u001b[1;32m--> 167\u001b[1;33m                                     cmap, center, robust)\n\u001b[0m\u001b[0;32m    168\u001b[0m \u001b[1;33m\u001b[0m\u001b[0m\n\u001b[0;32m    169\u001b[0m         \u001b[1;31m# Sort out the annotations\u001b[0m\u001b[1;33m\u001b[0m\u001b[1;33m\u001b[0m\u001b[0m\n",
      "\u001b[1;32mC:\\Users\\INVENTAR\\Anaconda3\\lib\\site-packages\\seaborn\\matrix.py\u001b[0m in \u001b[0;36m_determine_cmap_params\u001b[1;34m(self, plot_data, vmin, vmax, cmap, center, robust)\u001b[0m\n\u001b[0;32m    202\u001b[0m                                cmap, center, robust):\n\u001b[0;32m    203\u001b[0m         \u001b[1;34m\"\"\"Use some heuristics to set good defaults for colorbar and range.\"\"\"\u001b[0m\u001b[1;33m\u001b[0m\u001b[0m\n\u001b[1;32m--> 204\u001b[1;33m         \u001b[0mcalc_data\u001b[0m \u001b[1;33m=\u001b[0m \u001b[0mplot_data\u001b[0m\u001b[1;33m.\u001b[0m\u001b[0mdata\u001b[0m\u001b[1;33m[\u001b[0m\u001b[1;33m~\u001b[0m\u001b[0mnp\u001b[0m\u001b[1;33m.\u001b[0m\u001b[0misnan\u001b[0m\u001b[1;33m(\u001b[0m\u001b[0mplot_data\u001b[0m\u001b[1;33m.\u001b[0m\u001b[0mdata\u001b[0m\u001b[1;33m)\u001b[0m\u001b[1;33m]\u001b[0m\u001b[1;33m\u001b[0m\u001b[0m\n\u001b[0m\u001b[0;32m    205\u001b[0m         \u001b[1;32mif\u001b[0m \u001b[0mvmin\u001b[0m \u001b[1;32mis\u001b[0m \u001b[1;32mNone\u001b[0m\u001b[1;33m:\u001b[0m\u001b[1;33m\u001b[0m\u001b[0m\n\u001b[0;32m    206\u001b[0m             \u001b[0mvmin\u001b[0m \u001b[1;33m=\u001b[0m \u001b[0mnp\u001b[0m\u001b[1;33m.\u001b[0m\u001b[0mpercentile\u001b[0m\u001b[1;33m(\u001b[0m\u001b[0mcalc_data\u001b[0m\u001b[1;33m,\u001b[0m \u001b[1;36m2\u001b[0m\u001b[1;33m)\u001b[0m \u001b[1;32mif\u001b[0m \u001b[0mrobust\u001b[0m \u001b[1;32melse\u001b[0m \u001b[0mcalc_data\u001b[0m\u001b[1;33m.\u001b[0m\u001b[0mmin\u001b[0m\u001b[1;33m(\u001b[0m\u001b[1;33m)\u001b[0m\u001b[1;33m\u001b[0m\u001b[0m\n",
      "\u001b[1;31mTypeError\u001b[0m: ufunc 'isnan' not supported for the input types, and the inputs could not be safely coerced to any supported types according to the casting rule ''safe''"
     ]
    }
   ],
   "source": [
    "sns.heatmap(x, cmap = 'viridis')\n",
    "plt.show()"
   ]
  },
  {
   "cell_type": "code",
   "execution_count": null,
   "metadata": {
    "collapsed": true
   },
   "outputs": [],
   "source": []
  }
 ],
 "metadata": {
  "kernelspec": {
   "display_name": "Python 3",
   "language": "python",
   "name": "python3"
  },
  "language_info": {
   "codemirror_mode": {
    "name": "ipython",
    "version": 3
   },
   "file_extension": ".py",
   "mimetype": "text/x-python",
   "name": "python",
   "nbconvert_exporter": "python",
   "pygments_lexer": "ipython3",
   "version": "3.6.1"
  }
 },
 "nbformat": 4,
 "nbformat_minor": 2
}
