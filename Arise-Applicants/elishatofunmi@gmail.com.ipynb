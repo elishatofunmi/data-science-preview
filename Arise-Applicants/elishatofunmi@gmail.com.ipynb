{
 "cells": [
  {
   "cell_type": "markdown",
   "metadata": {},
   "source": [
    "# Arise Application Challenge\n",
    "---"
   ]
  },
  {
   "cell_type": "markdown",
   "metadata": {},
   "source": [
    "Please answer the questions shown below by completing the code within this notebook and filling in your final answers in the respective block of the arise Challenge Answers form. "
   ]
  },
  {
   "cell_type": "markdown",
   "metadata": {},
   "source": [
    "---"
   ]
  },
  {
   "cell_type": "markdown",
   "metadata": {},
   "source": [
    "### Step 1 (this step does not have an answer in the answer form)"
   ]
  },
  {
   "cell_type": "markdown",
   "metadata": {},
   "source": [
    "Please import the Pandas package. You will need to install the package if you do not already have them (`hint - google anaconda install pandas`)."
   ]
  },
  {
   "cell_type": "code",
   "execution_count": 1,
   "metadata": {
    "collapsed": true
   },
   "outputs": [],
   "source": [
    "# Add your code for Question 1 in this code block\n",
    "import pandas as pd"
   ]
  },
  {
   "cell_type": "markdown",
   "metadata": {},
   "source": [
    "---"
   ]
  },
  {
   "cell_type": "markdown",
   "metadata": {},
   "source": [
    "### Step 2 (this step does not have an answer in the answer form)"
   ]
  },
  {
   "cell_type": "markdown",
   "metadata": {},
   "source": [
    "Use Pandas to read in the csv titled `application_data.csv` as a Panda's dataframe. Once you have read in the data as a dataframe use Panda's `head()` function to show an overview of the data."
   ]
  },
  {
   "cell_type": "code",
   "execution_count": 2,
   "metadata": {},
   "outputs": [
    {
     "data": {
      "text/html": [
       "<div>\n",
       "<style>\n",
       "    .dataframe thead tr:only-child th {\n",
       "        text-align: right;\n",
       "    }\n",
       "\n",
       "    .dataframe thead th {\n",
       "        text-align: left;\n",
       "    }\n",
       "\n",
       "    .dataframe tbody tr th {\n",
       "        vertical-align: top;\n",
       "    }\n",
       "</style>\n",
       "<table border=\"1\" class=\"dataframe\">\n",
       "  <thead>\n",
       "    <tr style=\"text-align: right;\">\n",
       "      <th></th>\n",
       "      <th>customerID</th>\n",
       "      <th>loanId</th>\n",
       "      <th>appilcationDate</th>\n",
       "      <th>LoanNumber</th>\n",
       "      <th>LoanAmount</th>\n",
       "      <th>InterestRate</th>\n",
       "      <th>TermDays</th>\n",
       "      <th>repaymentDueDate</th>\n",
       "      <th>repaymentPaidDate</th>\n",
       "    </tr>\n",
       "  </thead>\n",
       "  <tbody>\n",
       "    <tr>\n",
       "      <th>0</th>\n",
       "      <td>839247458</td>\n",
       "      <td>302953235622</td>\n",
       "      <td>2018-12-21</td>\n",
       "      <td>1</td>\n",
       "      <td>7500.0</td>\n",
       "      <td>30.0</td>\n",
       "      <td>30</td>\n",
       "      <td>2019-01-20</td>\n",
       "      <td>2019-01-16</td>\n",
       "    </tr>\n",
       "    <tr>\n",
       "      <th>1</th>\n",
       "      <td>217540860</td>\n",
       "      <td>302960101337</td>\n",
       "      <td>2018-12-23</td>\n",
       "      <td>1</td>\n",
       "      <td>7500.0</td>\n",
       "      <td>30.0</td>\n",
       "      <td>30</td>\n",
       "      <td>2019-01-22</td>\n",
       "      <td>2018-12-29</td>\n",
       "    </tr>\n",
       "    <tr>\n",
       "      <th>2</th>\n",
       "      <td>522238092</td>\n",
       "      <td>303016988846</td>\n",
       "      <td>2019-01-08</td>\n",
       "      <td>1</td>\n",
       "      <td>7500.0</td>\n",
       "      <td>30.0</td>\n",
       "      <td>30</td>\n",
       "      <td>2019-02-07</td>\n",
       "      <td>2019-01-08</td>\n",
       "    </tr>\n",
       "    <tr>\n",
       "      <th>3</th>\n",
       "      <td>096754469</td>\n",
       "      <td>302999605504</td>\n",
       "      <td>2019-01-04</td>\n",
       "      <td>1</td>\n",
       "      <td>7500.0</td>\n",
       "      <td>30.0</td>\n",
       "      <td>30</td>\n",
       "      <td>2019-02-03</td>\n",
       "      <td>2019-01-08</td>\n",
       "    </tr>\n",
       "    <tr>\n",
       "      <th>4</th>\n",
       "      <td>410354345</td>\n",
       "      <td>302951945878</td>\n",
       "      <td>2018-12-21</td>\n",
       "      <td>1</td>\n",
       "      <td>7500.0</td>\n",
       "      <td>30.0</td>\n",
       "      <td>30</td>\n",
       "      <td>2019-01-20</td>\n",
       "      <td>2019-01-17</td>\n",
       "    </tr>\n",
       "  </tbody>\n",
       "</table>\n",
       "</div>"
      ],
      "text/plain": [
       "  customerID        loanId appilcationDate  LoanNumber  LoanAmount  \\\n",
       "0  839247458  302953235622      2018-12-21           1      7500.0   \n",
       "1  217540860  302960101337      2018-12-23           1      7500.0   \n",
       "2  522238092  303016988846      2019-01-08           1      7500.0   \n",
       "3  096754469  302999605504      2019-01-04           1      7500.0   \n",
       "4  410354345  302951945878      2018-12-21           1      7500.0   \n",
       "\n",
       "   InterestRate  TermDays repaymentDueDate repaymentPaidDate  \n",
       "0          30.0        30       2019-01-20        2019-01-16  \n",
       "1          30.0        30       2019-01-22        2018-12-29  \n",
       "2          30.0        30       2019-02-07        2019-01-08  \n",
       "3          30.0        30       2019-02-03        2019-01-08  \n",
       "4          30.0        30       2019-01-20        2019-01-17  "
      ]
     },
     "execution_count": 2,
     "metadata": {},
     "output_type": "execute_result"
    }
   ],
   "source": [
    "# Add your code for Question 2 in this code block\n",
    "arise_data = pd.read_csv('application_data.csv')\n",
    "arise_data.head()"
   ]
  },
  {
   "cell_type": "markdown",
   "metadata": {},
   "source": [
    "You should now be able to see that the dataset contains information relating to loans that have been disbursed. Each row of the data is specific to a particular loan and displays the customer's ID that took out the loan, a unique loan ID, the date when the client applied for the loan, the loan number of the specific loan (how many loans the client has now taken out), the amount, interest rate, term days, the date when the loan repayment was due and the date the loan was actually repaid."
   ]
  },
  {
   "cell_type": "markdown",
   "metadata": {},
   "source": [
    "---"
   ]
  },
  {
   "cell_type": "markdown",
   "metadata": {},
   "source": [
    "### Question 1"
   ]
  },
  {
   "cell_type": "markdown",
   "metadata": {},
   "source": [
    "Convert `appilcationDate`, `repaymentDueDate` and `repaymentPaidDate` in the dataframes to datetimes. "
   ]
  },
  {
   "cell_type": "code",
   "execution_count": 3,
   "metadata": {
    "collapsed": true
   },
   "outputs": [],
   "source": [
    "# convert to dates\n",
    "from datetime import date\n",
    "from datetime import datetime\n",
    "\n",
    "\n",
    "#function to convert to datetime and replace the column with the same column but a datatype datetime64[ns]\n",
    "def to_date_time(data):\n",
    "    data_split = data.split('-')\n",
    "    data_datetime = datetime(int(data_split[0]), int(data_split[1]), int(data_split[2]))\n",
    "    return datetime.combine(data_datetime, datetime.min.time())\n",
    "\n",
    "# applicationDate\n",
    "arise_data['appilcationDate'] = arise_data['appilcationDate'].apply(to_date_time)\n",
    "\n",
    "\n",
    "# repaymentDueDate\n",
    "arise_data['repaymentDueDate'] = arise_data['repaymentDueDate'].apply(to_date_time)\n",
    "\n",
    "# repaymentPaidDate\n",
    "arise_data['repaymentPaidDate'] = arise_data['repaymentPaidDate'].apply(to_date_time)\n"
   ]
  },
  {
   "cell_type": "markdown",
   "metadata": {},
   "source": [
    "Now that the dates have been converted, How many `unique`data types are contained within the application dataset?"
   ]
  },
  {
   "cell_type": "code",
   "execution_count": 4,
   "metadata": {},
   "outputs": [
    {
     "name": "stdout",
     "output_type": "stream",
     "text": [
      "<class 'pandas.core.frame.DataFrame'>\n",
      "RangeIndex: 1000 entries, 0 to 999\n",
      "Data columns (total 9 columns):\n",
      "customerID           1000 non-null object\n",
      "loanId               1000 non-null object\n",
      "appilcationDate      1000 non-null datetime64[ns]\n",
      "LoanNumber           1000 non-null int64\n",
      "LoanAmount           1000 non-null float64\n",
      "InterestRate         1000 non-null float64\n",
      "TermDays             1000 non-null int64\n",
      "repaymentDueDate     1000 non-null datetime64[ns]\n",
      "repaymentPaidDate    1000 non-null datetime64[ns]\n",
      "dtypes: datetime64[ns](3), float64(2), int64(2), object(2)\n",
      "memory usage: 70.4+ KB\n"
     ]
    }
   ],
   "source": [
    "# arise_data.info() will give us a summarized information of each column and their datatypes\n",
    "arise_data.info()"
   ]
  },
  {
   "cell_type": "code",
   "execution_count": 5,
   "metadata": {},
   "outputs": [
    {
     "name": "stdout",
     "output_type": "stream",
     "text": [
      "we have 4 unique data types contained within the application dataset\n"
     ]
    }
   ],
   "source": [
    "# data types\n",
    "# 3 datetime datatypes, 2 floats, 2 int, and 2 strings = 4 unique data types\n",
    "print('we have 4 unique data types contained within the application dataset')"
   ]
  },
  {
   "cell_type": "markdown",
   "metadata": {},
   "source": [
    "### Question 2"
   ]
  },
  {
   "cell_type": "markdown",
   "metadata": {},
   "source": [
    "Please calculate the `average` loan amount, interest rate and termdays for all the loans in the dataset? `Round` all number to two decimal places."
   ]
  },
  {
   "cell_type": "code",
   "execution_count": 6,
   "metadata": {},
   "outputs": [
    {
     "name": "stdout",
     "output_type": "stream",
     "text": [
      "Average loan amount: 13828.08\n"
     ]
    }
   ],
   "source": [
    "# 2a avg loan amount\n",
    "import numpy as np # import numpy for numeric math\n",
    "average_loan_amount = np.sum(arise_data['LoanAmount'])/1000 # finding the average of loan amount\n",
    "print('Average loan amount: %.2f'%(average_loan_amount))"
   ]
  },
  {
   "cell_type": "code",
   "execution_count": 7,
   "metadata": {},
   "outputs": [
    {
     "name": "stdout",
     "output_type": "stream",
     "text": [
      "Average interest rate: 23.06\n"
     ]
    }
   ],
   "source": [
    "# 2b avg interest rate\n",
    "average_interest_rate = np.sum(arise_data['InterestRate'])/1000 # finding the average of interest rate\n",
    "print('Average interest rate: %.2f' %(average_interest_rate))"
   ]
  },
  {
   "cell_type": "code",
   "execution_count": 8,
   "metadata": {},
   "outputs": [
    {
     "name": "stdout",
     "output_type": "stream",
     "text": [
      "Average term days: 42.08\n"
     ]
    }
   ],
   "source": [
    "# 2c avg term days \n",
    "average_term_days = np.sum(arise_data['TermDays'])/1000 # finding the average of termdays\n",
    "print('Average term days: %.2f'%(average_term_days))"
   ]
  },
  {
   "cell_type": "markdown",
   "metadata": {},
   "source": [
    "---"
   ]
  },
  {
   "cell_type": "markdown",
   "metadata": {},
   "source": [
    "### Question 3"
   ]
  },
  {
   "cell_type": "markdown",
   "metadata": {},
   "source": [
    "Please create a new column called `dateDifference` which needs to contains the number of days between when the loan was repaid and when it was due to be repaid. \n",
    "\n",
    "Count the number of loans that were paid more than 3 days late. This can be done by first creating a dataframe only containing the loans that were paid more than 3 days late. "
   ]
  },
  {
   "cell_type": "code",
   "execution_count": 9,
   "metadata": {},
   "outputs": [
    {
     "name": "stdout",
     "output_type": "stream",
     "text": [
      "There are  145  number of loans that were paid more than 3 days late\n"
     ]
    }
   ],
   "source": [
    "# number of loans more than 3 days late\n",
    "# finding the difference between column repaymentPaidDate and repaymentDueDate\n",
    "# setting the result to a new column dateDifference\n",
    "arise_data['dateDifference'] = arise_data['repaymentPaidDate'] - arise_data['repaymentDueDate']\n",
    "\n",
    "# function to count the number of loans that were paid more than 3 days late\n",
    "def three_days_late(column):\n",
    "    count = 0\n",
    "    for i in range(arise_data.shape[0]):\n",
    "        value = arise_data[column][i].__str__().split(' ')[0]\n",
    "        if int(value) >3:\n",
    "            count += 1\n",
    "        else:\n",
    "            pass\n",
    "    return count\n",
    "print('There are ',three_days_late('dateDifference'), ' number of loans that were paid more than 3 days late')"
   ]
  },
  {
   "cell_type": "markdown",
   "metadata": {},
   "source": []
  },
  {
   "cell_type": "markdown",
   "metadata": {},
   "source": [
    "### Question 4"
   ]
  },
  {
   "cell_type": "markdown",
   "metadata": {},
   "source": [
    "Please group the dataset by `TermDays` and calculate the `mean` loan amount and the `standard deviation` of loan amount within each term.\n",
    "\n",
    "What is the mean loan amount in 30-day loans and what is the standard deviation of  loan amount in 90-day loans? Please give your answers to the nearest two decimal places. "
   ]
  },
  {
   "cell_type": "code",
   "execution_count": 10,
   "metadata": {},
   "outputs": [
    {
     "data": {
      "text/html": [
       "<div>\n",
       "<style>\n",
       "    .dataframe thead tr:only-child th {\n",
       "        text-align: right;\n",
       "    }\n",
       "\n",
       "    .dataframe thead th {\n",
       "        text-align: left;\n",
       "    }\n",
       "\n",
       "    .dataframe tbody tr th {\n",
       "        vertical-align: top;\n",
       "    }\n",
       "</style>\n",
       "<table border=\"1\" class=\"dataframe\">\n",
       "  <thead>\n",
       "    <tr style=\"text-align: right;\">\n",
       "      <th></th>\n",
       "      <th>LoanNumber</th>\n",
       "      <th>LoanAmount</th>\n",
       "      <th>InterestRate</th>\n",
       "    </tr>\n",
       "    <tr>\n",
       "      <th>TermDays</th>\n",
       "      <th></th>\n",
       "      <th></th>\n",
       "      <th></th>\n",
       "    </tr>\n",
       "  </thead>\n",
       "  <tbody>\n",
       "    <tr>\n",
       "      <th>15</th>\n",
       "      <td>2.628931</td>\n",
       "      <td>1274.088050</td>\n",
       "      <td>15.000000</td>\n",
       "    </tr>\n",
       "    <tr>\n",
       "      <th>30</th>\n",
       "      <td>2.137500</td>\n",
       "      <td>7941.964286</td>\n",
       "      <td>28.562143</td>\n",
       "    </tr>\n",
       "    <tr>\n",
       "      <th>45</th>\n",
       "      <td>1.100000</td>\n",
       "      <td>10706.250000</td>\n",
       "      <td>28.732500</td>\n",
       "    </tr>\n",
       "    <tr>\n",
       "      <th>60</th>\n",
       "      <td>4.800000</td>\n",
       "      <td>25710.526316</td>\n",
       "      <td>15.055789</td>\n",
       "    </tr>\n",
       "    <tr>\n",
       "      <th>90</th>\n",
       "      <td>4.709091</td>\n",
       "      <td>37672.727273</td>\n",
       "      <td>10.645455</td>\n",
       "    </tr>\n",
       "    <tr>\n",
       "      <th>120</th>\n",
       "      <td>1.000000</td>\n",
       "      <td>45055.555556</td>\n",
       "      <td>11.666667</td>\n",
       "    </tr>\n",
       "    <tr>\n",
       "      <th>180</th>\n",
       "      <td>6.285714</td>\n",
       "      <td>80988.095238</td>\n",
       "      <td>6.250000</td>\n",
       "    </tr>\n",
       "  </tbody>\n",
       "</table>\n",
       "</div>"
      ],
      "text/plain": [
       "          LoanNumber    LoanAmount  InterestRate\n",
       "TermDays                                        \n",
       "15          2.628931   1274.088050     15.000000\n",
       "30          2.137500   7941.964286     28.562143\n",
       "45          1.100000  10706.250000     28.732500\n",
       "60          4.800000  25710.526316     15.055789\n",
       "90          4.709091  37672.727273     10.645455\n",
       "120         1.000000  45055.555556     11.666667\n",
       "180         6.285714  80988.095238      6.250000"
      ]
     },
     "execution_count": 10,
     "metadata": {},
     "output_type": "execute_result"
    }
   ],
   "source": [
    "# mean loan amount in 30-day loans and standard deviation of loan amount in 90-day loans\n",
    "# grouping by TermDays and finding the mean for each term days\n",
    "arise_data.groupby(['TermDays']).mean()"
   ]
  },
  {
   "cell_type": "code",
   "execution_count": 11,
   "metadata": {},
   "outputs": [
    {
     "data": {
      "text/html": [
       "<div>\n",
       "<style>\n",
       "    .dataframe thead tr:only-child th {\n",
       "        text-align: right;\n",
       "    }\n",
       "\n",
       "    .dataframe thead th {\n",
       "        text-align: left;\n",
       "    }\n",
       "\n",
       "    .dataframe tbody tr th {\n",
       "        vertical-align: top;\n",
       "    }\n",
       "</style>\n",
       "<table border=\"1\" class=\"dataframe\">\n",
       "  <thead>\n",
       "    <tr style=\"text-align: right;\">\n",
       "      <th></th>\n",
       "      <th>LoanNumber</th>\n",
       "      <th>LoanAmount</th>\n",
       "      <th>InterestRate</th>\n",
       "    </tr>\n",
       "    <tr>\n",
       "      <th>TermDays</th>\n",
       "      <th></th>\n",
       "      <th></th>\n",
       "      <th></th>\n",
       "    </tr>\n",
       "  </thead>\n",
       "  <tbody>\n",
       "    <tr>\n",
       "      <th>15</th>\n",
       "      <td>1.712033</td>\n",
       "      <td>2885.967406</td>\n",
       "      <td>0.000000</td>\n",
       "    </tr>\n",
       "    <tr>\n",
       "      <th>30</th>\n",
       "      <td>2.059236</td>\n",
       "      <td>1606.039495</td>\n",
       "      <td>4.034005</td>\n",
       "    </tr>\n",
       "    <tr>\n",
       "      <th>45</th>\n",
       "      <td>0.341256</td>\n",
       "      <td>2346.143820</td>\n",
       "      <td>5.773965</td>\n",
       "    </tr>\n",
       "    <tr>\n",
       "      <th>60</th>\n",
       "      <td>4.939205</td>\n",
       "      <td>11559.646185</td>\n",
       "      <td>3.632352</td>\n",
       "    </tr>\n",
       "    <tr>\n",
       "      <th>90</th>\n",
       "      <td>2.891064</td>\n",
       "      <td>18050.140602</td>\n",
       "      <td>2.180963</td>\n",
       "    </tr>\n",
       "    <tr>\n",
       "      <th>120</th>\n",
       "      <td>0.000000</td>\n",
       "      <td>22192.966854</td>\n",
       "      <td>1.000000</td>\n",
       "    </tr>\n",
       "    <tr>\n",
       "      <th>180</th>\n",
       "      <td>3.808115</td>\n",
       "      <td>34612.222587</td>\n",
       "      <td>1.265152</td>\n",
       "    </tr>\n",
       "  </tbody>\n",
       "</table>\n",
       "</div>"
      ],
      "text/plain": [
       "          LoanNumber    LoanAmount  InterestRate\n",
       "TermDays                                        \n",
       "15          1.712033   2885.967406      0.000000\n",
       "30          2.059236   1606.039495      4.034005\n",
       "45          0.341256   2346.143820      5.773965\n",
       "60          4.939205  11559.646185      3.632352\n",
       "90          2.891064  18050.140602      2.180963\n",
       "120         0.000000  22192.966854      1.000000\n",
       "180         3.808115  34612.222587      1.265152"
      ]
     },
     "execution_count": 11,
     "metadata": {},
     "output_type": "execute_result"
    }
   ],
   "source": [
    "# grouping by TermDays and finding the standard deviation for each term days\n",
    "\n",
    "arise_data.groupby(['TermDays']).std()"
   ]
  },
  {
   "cell_type": "code",
   "execution_count": 12,
   "metadata": {},
   "outputs": [
    {
     "name": "stdout",
     "output_type": "stream",
     "text": [
      "The mean loan amount in 30-day loans is: 7941.96\n",
      "the standard deviation of loan amount in 90-day loans: 18050.14\n"
     ]
    }
   ],
   "source": [
    "print('The mean loan amount in 30-day loans is: %.2f'%(7941.964286))\n",
    "print('the standard deviation of loan amount in 90-day loans: %.2f'%(18050.140602))"
   ]
  },
  {
   "cell_type": "markdown",
   "metadata": {},
   "source": [
    "--- "
   ]
  },
  {
   "cell_type": "markdown",
   "metadata": {},
   "source": [
    "### Question 5"
   ]
  },
  {
   "cell_type": "markdown",
   "metadata": {},
   "source": [
    "`Late` loans are defined as loans that were paid `more than 3 days` after their due date. Please find the average number of days that these loans were paid beyond their due date for each `week of the year`. This will require you to break all `appilcationDate's` down into the week of the year they were made and then perform a group by. \n",
    "\n",
    "What is the average number of days that `late` loans applied for in the second week of the year were paid late? Please sumbit your answer rounded to two decimal places. "
   ]
  },
  {
   "cell_type": "code",
   "execution_count": 27,
   "metadata": {},
   "outputs": [
    {
     "name": "stdout",
     "output_type": "stream",
     "text": [
      "The average number of days that late loans applied in the second week is: 45.75\n"
     ]
    }
   ],
   "source": [
    "import datetime # import datetime\n",
    "import numpy as np #import numpy\n",
    "\n",
    "\n",
    "\n",
    "def date_to_week(data): # this function is to break all applicationDate into week of the year\n",
    "    value = data.__str__().split(' ')[0].split('-')\n",
    "    return datetime.date(int(value[0]), int(value[1]), int(value[2])).isocalendar()[1]\n",
    "\n",
    "# create new column 'week_year' which is the week each transaction is made\n",
    "arise_data['week_year'] = arise_data['appilcationDate'].apply(date_to_week)\n",
    "\n",
    "\n",
    "\n",
    "def get_average_no_week(week): # this function calculates the average number for any given week with due dates exceeding 3 days\n",
    "    list_data = [] # all days exceeding 3 days and are in the week to be calculated gets appended to list_data\n",
    "    counter = 0 \n",
    "    for i in arise_data['week_year']: # looping through the week_year column\n",
    "        if  i == week: # checking if week being considered is week 2 of the year\n",
    "            value_int = int(arise_data['dateDifference'][counter].__str__().split(' ')[0]) # returns int from the timedelta datatype\n",
    "            if value_int > 3: # checks if the date difference is more than 3 days\n",
    "                list_data.append(value_int) # appends number of days to list_data\n",
    "                counter += 1 # increment counter\n",
    "            else:\n",
    "                counter += 1 # increment counter\n",
    "        else:\n",
    "            counter += 1 #increment counter\n",
    "    return sum(list_data)/len(list_data)\n",
    "\n",
    "value = get_average_no_week(2)\n",
    "print('The average number of days that late loans applied in the second week is: %.2f'%(value))"
   ]
  },
  {
   "cell_type": "code",
   "execution_count": 64,
   "metadata": {
    "collapsed": true
   },
   "outputs": [],
   "source": [
    "# week of year and average number of late days"
   ]
  },
  {
   "cell_type": "markdown",
   "metadata": {},
   "source": [
    "---"
   ]
  },
  {
   "cell_type": "markdown",
   "metadata": {},
   "source": [
    "### The End"
   ]
  },
  {
   "cell_type": "markdown",
   "metadata": {},
   "source": [
    "Thank you for completing the challenge. Please make sure you have submitted all of your answers to the arise Challenge Answers form. "
   ]
  },
  {
   "cell_type": "markdown",
   "metadata": {},
   "source": [
    "### Notebook\n",
    "Please save you notebook as `yourEmail.ipynb` where you replace `yourEmail` with your actual email address and attach it to the arise Challenge Answers form. "
   ]
  }
 ],
 "metadata": {
  "kernelspec": {
   "display_name": "Python 3",
   "language": "python",
   "name": "python3"
  },
  "language_info": {
   "codemirror_mode": {
    "name": "ipython",
    "version": 3
   },
   "file_extension": ".py",
   "mimetype": "text/x-python",
   "name": "python",
   "nbconvert_exporter": "python",
   "pygments_lexer": "ipython3",
   "version": "3.6.2"
  }
 },
 "nbformat": 4,
 "nbformat_minor": 2
}
