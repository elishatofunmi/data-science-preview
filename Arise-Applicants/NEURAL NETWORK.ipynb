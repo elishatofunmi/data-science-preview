{
 "cells": [
  {
   "cell_type": "code",
   "execution_count": 31,
   "metadata": {
    "collapsed": true
   },
   "outputs": [],
   "source": [
    "import os, sys\n",
    "import pandas as pd\n",
    "import numpy as np\n",
    "import sklearn as sk\n",
    "import matplotlib.pyplot as plt\n",
    "import warnings\n",
    "warnings.filterwarnings('ignore')\n",
    "\n"
   ]
  },
  {
   "cell_type": "code",
   "execution_count": 59,
   "metadata": {
    "collapsed": true
   },
   "outputs": [],
   "source": [
    "x_train = pd.read_csv('x_train_nn.csv')\n",
    "y_train = pd.read_csv('y_train_nn.csv')\n",
    "x_test = pd.read_csv('x_test_nn.csv')\n",
    "y_test = pd.read_csv('y_test_nn.csv')"
   ]
  },
  {
   "cell_type": "code",
   "execution_count": 60,
   "metadata": {
    "collapsed": true
   },
   "outputs": [],
   "source": [
    "x_train = x_train.drop('Unnamed: 0',axis = 1)\n",
    "x_test = x_test.drop('Unnamed: 0', axis = 1)\n",
    "y_train = y_train.drop('Unnamed: 0', axis = 1)\n",
    "y_test = y_test.drop('Unnamed: 0', axis = 1)"
   ]
  },
  {
   "cell_type": "code",
   "execution_count": 61,
   "metadata": {},
   "outputs": [
    {
     "data": {
      "text/plain": [
       "((95757, 67), (95757, 1))"
      ]
     },
     "execution_count": 61,
     "metadata": {},
     "output_type": "execute_result"
    }
   ],
   "source": [
    "x_train.shape, y_train.shape"
   ]
  },
  {
   "cell_type": "markdown",
   "metadata": {},
   "source": [
    "# Keras One"
   ]
  },
  {
   "cell_type": "code",
   "execution_count": 62,
   "metadata": {
    "collapsed": true
   },
   "outputs": [],
   "source": [
    "import keras\n",
    "import tensorflow as tf\n",
    "\n",
    "from keras import Sequential\n",
    "from keras.layers import Dense\n",
    "\n",
    "model_one = Sequential()\n",
    "model_one.add(Dense(300, input_dim = 67, activation = 'relu'))\n",
    "model_one.add(Dense(500, activation = 'relu'))\n",
    "model_one.add(Dense(100, activation = 'relu'))\n",
    "model_one.add(Dense(1,activation = 'sigmoid'))"
   ]
  },
  {
   "cell_type": "code",
   "execution_count": 63,
   "metadata": {},
   "outputs": [
    {
     "data": {
      "text/plain": [
       "((95757, 67), (95757, 1))"
      ]
     },
     "execution_count": 63,
     "metadata": {},
     "output_type": "execute_result"
    }
   ],
   "source": [
    "x_train.shape, y_train.shape"
   ]
  },
  {
   "cell_type": "code",
   "execution_count": 64,
   "metadata": {
    "scrolled": true
   },
   "outputs": [
    {
     "name": "stdout",
     "output_type": "stream",
     "text": [
      "Epoch 1/20\n",
      "10/10 [==============================] - 21s 2s/step - loss: 0.4764 - acc: 0.7956\n",
      "Epoch 2/20\n",
      "10/10 [==============================] - 20s 2s/step - loss: 0.3630 - acc: 0.8470\n",
      "Epoch 3/20\n",
      "10/10 [==============================] - 20s 2s/step - loss: 0.3483 - acc: 0.8499\n",
      "Epoch 4/20\n",
      "10/10 [==============================] - 20s 2s/step - loss: 0.3428 - acc: 0.8518\n",
      "Epoch 5/20\n",
      "10/10 [==============================] - 20s 2s/step - loss: 0.3388 - acc: 0.8539\n",
      "Epoch 6/20\n",
      "10/10 [==============================] - 20s 2s/step - loss: 0.3358 - acc: 0.8562\n",
      "Epoch 7/20\n",
      "10/10 [==============================] - 20s 2s/step - loss: 0.3331 - acc: 0.8576\n",
      "Epoch 8/20\n",
      "10/10 [==============================] - 20s 2s/step - loss: 0.3305 - acc: 0.8597\n",
      "Epoch 9/20\n",
      "10/10 [==============================] - 20s 2s/step - loss: 0.3278 - acc: 0.8616\n",
      "Epoch 10/20\n",
      "10/10 [==============================] - 21s 2s/step - loss: 0.3263 - acc: 0.8617\n",
      "Epoch 11/20\n",
      "10/10 [==============================] - 20s 2s/step - loss: 0.3232 - acc: 0.8639\n",
      "Epoch 12/20\n",
      "10/10 [==============================] - 21s 2s/step - loss: 0.3205 - acc: 0.8656\n",
      "Epoch 13/20\n",
      "10/10 [==============================] - 21s 2s/step - loss: 0.3185 - acc: 0.8665\n",
      "Epoch 14/20\n",
      "10/10 [==============================] - 21s 2s/step - loss: 0.3171 - acc: 0.8669\n",
      "Epoch 15/20\n",
      "10/10 [==============================] - 20s 2s/step - loss: 0.3136 - acc: 0.8690\n",
      "Epoch 16/20\n",
      "10/10 [==============================] - 20s 2s/step - loss: 0.3118 - acc: 0.8698\n",
      "Epoch 17/20\n",
      "10/10 [==============================] - 20s 2s/step - loss: 0.3108 - acc: 0.8698\n",
      "Epoch 18/20\n",
      "10/10 [==============================] - 20s 2s/step - loss: 0.3070 - acc: 0.8721\n",
      "Epoch 19/20\n",
      "10/10 [==============================] - 20s 2s/step - loss: 0.3054 - acc: 0.8726\n",
      "Epoch 20/20\n",
      "10/10 [==============================] - 20s 2s/step - loss: 0.3032 - acc: 0.8736\n"
     ]
    },
    {
     "data": {
      "text/plain": [
       "<keras.callbacks.History at 0x14b866c8198>"
      ]
     },
     "execution_count": 64,
     "metadata": {},
     "output_type": "execute_result"
    }
   ],
   "source": [
    "# compile model\n",
    "model_one.compile(loss = 'binary_crossentropy', optimizer = 'adam', metrics = ['accuracy'])\n",
    "\n",
    "model_one.fit(x_train, y_train, epochs = 20, steps_per_epoch = 10)"
   ]
  },
  {
   "cell_type": "code",
   "execution_count": 65,
   "metadata": {},
   "outputs": [
    {
     "name": "stdout",
     "output_type": "stream",
     "text": [
      "95757/95757 [==============================] - 3s 36us/step\n",
      "\n",
      "acc: 87.23%\n"
     ]
    }
   ],
   "source": [
    "# evaluate the model\n",
    "scores = model_one.evaluate(x_train, y_train)\n",
    "print('\\n%s: %.2f%%' % (model_one.metrics_names[1], scores[1]*100))"
   ]
  },
  {
   "cell_type": "code",
   "execution_count": 66,
   "metadata": {},
   "outputs": [],
   "source": [
    "prediction = model_one.predict(x_test)"
   ]
  },
  {
   "cell_type": "code",
   "execution_count": 67,
   "metadata": {},
   "outputs": [
    {
     "data": {
      "text/plain": [
       "(87.231220694235219, 84.410783376932599)"
      ]
     },
     "execution_count": 67,
     "metadata": {},
     "output_type": "execute_result"
    }
   ],
   "source": [
    "from sklearn.metrics import accuracy_score\n",
    "test_score = accuracy_score(prediction.round(), y_test)\n",
    "scores[1]*100, test_score*100"
   ]
  },
  {
   "cell_type": "markdown",
   "metadata": {},
   "source": [
    "# Neural Network with scikit learn"
   ]
  },
  {
   "cell_type": "code",
   "execution_count": 68,
   "metadata": {},
   "outputs": [
    {
     "data": {
      "text/plain": [
       "(87.231220694235219, 84.487538965209353)"
      ]
     },
     "execution_count": 68,
     "metadata": {},
     "output_type": "execute_result"
    }
   ],
   "source": [
    "from sklearn.neural_network import MLPClassifier\n",
    "mlp = MLPClassifier(solver = 'lbfgs', activation = 'relu', random_state = 0).fit(x_train, y_train)\n",
    "train =mlp.score(x_train, y_train)\n",
    "prediction = mlp.predict(x_test)\n",
    "test_score = accuracy_score(prediction.round(), y_test)\n",
    "scores[1]*100, test_score*100"
   ]
  },
  {
   "cell_type": "code",
   "execution_count": 69,
   "metadata": {},
   "outputs": [
    {
     "data": {
      "text/plain": [
       "(87.231220694235219, 84.626952176569176)"
      ]
     },
     "execution_count": 69,
     "metadata": {},
     "output_type": "execute_result"
    }
   ],
   "source": [
    "from sklearn.neural_network import MLPClassifier\n",
    "mlp = MLPClassifier(solver = 'lbfgs', activation = 'logistic', random_state = 0).fit(x_train, y_train)\n",
    "train =mlp.score(x_train, y_train)\n",
    "prediction = mlp.predict(x_test)\n",
    "test_score = accuracy_score(prediction.round(), y_test)\n",
    "scores[1]*100, test_score*100"
   ]
  },
  {
   "cell_type": "code",
   "execution_count": 70,
   "metadata": {},
   "outputs": [
    {
     "data": {
      "text/plain": [
       "(0.85513330618127137, 0.84962170460063602)"
      ]
     },
     "execution_count": 70,
     "metadata": {},
     "output_type": "execute_result"
    }
   ],
   "source": [
    "mlp = MLPClassifier(solver = 'lbfgs', max_iter = 1000, alpha = 1, activation = 'logistic', random_state = 0, hidden_layer_sizes = [10]).fit(x_train, y_train)\n",
    "mlp.score(x_train, y_train), mlp.score(x_test, y_test)"
   ]
  },
  {
   "cell_type": "markdown",
   "metadata": {},
   "source": [
    "# Tensorflow Higher level API"
   ]
  },
  {
   "cell_type": "code",
   "execution_count": 71,
   "metadata": {
    "scrolled": true
   },
   "outputs": [
    {
     "name": "stdout",
     "output_type": "stream",
     "text": [
      "WARNING:tensorflow:float64 is not supported by many models, consider casting to float32.\n",
      "INFO:tensorflow:Using default config.\n",
      "WARNING:tensorflow:Using temporary folder as model directory: C:\\Users\\INVENTAR\\AppData\\Local\\Temp\\tmpggm_xjre\n",
      "INFO:tensorflow:Using config: {'_task_type': None, '_task_id': 0, '_cluster_spec': <tensorflow.python.training.server_lib.ClusterSpec object at 0x0000014B864087B8>, '_master': '', '_num_ps_replicas': 0, '_num_worker_replicas': 0, '_environment': 'local', '_is_chief': True, '_evaluation_master': '', '_tf_config': gpu_options {\n",
      "  per_process_gpu_memory_fraction: 1\n",
      "}\n",
      ", '_tf_random_seed': None, '_save_summary_steps': 100, '_save_checkpoints_secs': 600, '_session_config': None, '_save_checkpoints_steps': None, '_keep_checkpoint_max': 5, '_keep_checkpoint_every_n_hours': 10000, '_model_dir': 'C:\\\\Users\\\\INVENTAR\\\\AppData\\\\Local\\\\Temp\\\\tmpggm_xjre'}\n",
      "WARNING:tensorflow:float64 is not supported by many models, consider casting to float32.\n",
      "WARNING:tensorflow:From C:\\Users\\INVENTAR\\Anaconda3\\lib\\site-packages\\tensorflow\\contrib\\learn\\python\\learn\\estimators\\head.py:625: scalar_summary (from tensorflow.python.ops.logging_ops) is deprecated and will be removed after 2016-11-30.\n",
      "Instructions for updating:\n",
      "Please switch to tf.summary.scalar. Note that tf.summary.scalar uses the node name instead of the tag. This means that TensorFlow will automatically de-duplicate summary names based on the scope they are created in. Also, passing a tensor or list of tags to a scalar summary op is no longer supported.\n",
      "WARNING:tensorflow:Casting <dtype: 'int64'> labels to bool.\n",
      "WARNING:tensorflow:Casting <dtype: 'int64'> labels to bool.\n",
      "INFO:tensorflow:Create CheckpointSaverHook.\n",
      "INFO:tensorflow:Saving checkpoints for 1 into C:\\Users\\INVENTAR\\AppData\\Local\\Temp\\tmpggm_xjre\\model.ckpt.\n",
      "INFO:tensorflow:loss = 0.821034, step = 1\n",
      "INFO:tensorflow:global_step/sec: 420.447\n",
      "INFO:tensorflow:loss = 0.405719, step = 101 (0.236 sec)\n",
      "INFO:tensorflow:global_step/sec: 547.161\n",
      "INFO:tensorflow:loss = 0.323176, step = 201 (0.185 sec)\n",
      "INFO:tensorflow:global_step/sec: 537.34\n",
      "INFO:tensorflow:loss = 0.275732, step = 301 (0.186 sec)\n",
      "INFO:tensorflow:global_step/sec: 533.437\n",
      "INFO:tensorflow:loss = 0.359825, step = 401 (0.182 sec)\n",
      "INFO:tensorflow:global_step/sec: 535.759\n",
      "INFO:tensorflow:loss = 0.392151, step = 501 (0.192 sec)\n",
      "INFO:tensorflow:global_step/sec: 527.135\n",
      "INFO:tensorflow:loss = 0.29831, step = 601 (0.190 sec)\n",
      "INFO:tensorflow:global_step/sec: 516.703\n",
      "INFO:tensorflow:loss = 0.34084, step = 701 (0.192 sec)\n",
      "INFO:tensorflow:global_step/sec: 540.17\n",
      "INFO:tensorflow:loss = 0.348216, step = 801 (0.182 sec)\n",
      "INFO:tensorflow:global_step/sec: 518.646\n",
      "INFO:tensorflow:loss = 0.368579, step = 901 (0.198 sec)\n",
      "INFO:tensorflow:global_step/sec: 540.541\n",
      "INFO:tensorflow:loss = 0.366674, step = 1001 (0.185 sec)\n",
      "INFO:tensorflow:global_step/sec: 465.302\n",
      "INFO:tensorflow:loss = 0.358916, step = 1101 (0.214 sec)\n",
      "INFO:tensorflow:global_step/sec: 516.666\n",
      "INFO:tensorflow:loss = 0.361547, step = 1201 (0.194 sec)\n",
      "INFO:tensorflow:global_step/sec: 476.484\n",
      "INFO:tensorflow:loss = 0.45771, step = 1301 (0.211 sec)\n",
      "INFO:tensorflow:global_step/sec: 529.047\n",
      "INFO:tensorflow:loss = 0.284381, step = 1401 (0.190 sec)\n",
      "INFO:tensorflow:global_step/sec: 480.548\n",
      "INFO:tensorflow:loss = 0.392258, step = 1501 (0.207 sec)\n",
      "INFO:tensorflow:global_step/sec: 544.185\n",
      "INFO:tensorflow:loss = 0.337077, step = 1601 (0.179 sec)\n",
      "INFO:tensorflow:global_step/sec: 536.239\n",
      "INFO:tensorflow:loss = 0.292888, step = 1701 (0.190 sec)\n",
      "INFO:tensorflow:global_step/sec: 488.103\n",
      "INFO:tensorflow:loss = 0.405324, step = 1801 (0.205 sec)\n",
      "INFO:tensorflow:global_step/sec: 518.518\n",
      "INFO:tensorflow:loss = 0.302145, step = 1901 (0.194 sec)\n",
      "INFO:tensorflow:global_step/sec: 517.049\n",
      "INFO:tensorflow:loss = 0.260695, step = 2001 (0.191 sec)\n",
      "INFO:tensorflow:global_step/sec: 535.324\n",
      "INFO:tensorflow:loss = 0.30013, step = 2101 (0.184 sec)\n",
      "INFO:tensorflow:global_step/sec: 529.486\n",
      "INFO:tensorflow:loss = 0.322816, step = 2201 (0.193 sec)\n",
      "INFO:tensorflow:global_step/sec: 518.456\n",
      "INFO:tensorflow:loss = 0.286364, step = 2301 (0.193 sec)\n",
      "INFO:tensorflow:global_step/sec: 533.647\n",
      "INFO:tensorflow:loss = 0.395138, step = 2401 (0.186 sec)\n",
      "INFO:tensorflow:global_step/sec: 562.354\n",
      "INFO:tensorflow:loss = 0.448233, step = 2501 (0.180 sec)\n",
      "INFO:tensorflow:global_step/sec: 512.618\n",
      "INFO:tensorflow:loss = 0.418865, step = 2601 (0.190 sec)\n",
      "INFO:tensorflow:global_step/sec: 557.314\n",
      "INFO:tensorflow:loss = 0.345723, step = 2701 (0.184 sec)\n",
      "INFO:tensorflow:global_step/sec: 518.92\n",
      "INFO:tensorflow:loss = 0.328203, step = 2801 (0.188 sec)\n",
      "INFO:tensorflow:global_step/sec: 517.431\n",
      "INFO:tensorflow:loss = 0.461914, step = 2901 (0.198 sec)\n",
      "INFO:tensorflow:global_step/sec: 532.568\n",
      "INFO:tensorflow:loss = 0.314903, step = 3001 (0.189 sec)\n",
      "INFO:tensorflow:global_step/sec: 494.515\n",
      "INFO:tensorflow:loss = 0.314407, step = 3101 (0.200 sec)\n",
      "INFO:tensorflow:global_step/sec: 558.178\n",
      "INFO:tensorflow:loss = 0.349997, step = 3201 (0.180 sec)\n",
      "INFO:tensorflow:global_step/sec: 528.287\n",
      "INFO:tensorflow:loss = 0.290201, step = 3301 (0.184 sec)\n",
      "INFO:tensorflow:global_step/sec: 548.464\n",
      "INFO:tensorflow:loss = 0.459441, step = 3401 (0.187 sec)\n",
      "INFO:tensorflow:global_step/sec: 536.879\n",
      "INFO:tensorflow:loss = 0.343871, step = 3501 (0.186 sec)\n",
      "INFO:tensorflow:global_step/sec: 526.491\n",
      "INFO:tensorflow:loss = 0.317929, step = 3601 (0.189 sec)\n",
      "INFO:tensorflow:global_step/sec: 523.883\n",
      "INFO:tensorflow:loss = 0.310225, step = 3701 (0.191 sec)\n",
      "INFO:tensorflow:global_step/sec: 535.195\n",
      "INFO:tensorflow:loss = 0.292274, step = 3801 (0.187 sec)\n",
      "INFO:tensorflow:global_step/sec: 536.085\n",
      "INFO:tensorflow:loss = 0.399685, step = 3901 (0.188 sec)\n",
      "INFO:tensorflow:global_step/sec: 541.91\n",
      "INFO:tensorflow:loss = 0.413684, step = 4001 (0.185 sec)\n",
      "INFO:tensorflow:global_step/sec: 442.661\n",
      "INFO:tensorflow:loss = 0.288996, step = 4101 (0.224 sec)\n",
      "INFO:tensorflow:global_step/sec: 491.267\n",
      "INFO:tensorflow:loss = 0.228123, step = 4201 (0.206 sec)\n",
      "INFO:tensorflow:global_step/sec: 529.765\n",
      "INFO:tensorflow:loss = 0.382986, step = 4301 (0.189 sec)\n",
      "INFO:tensorflow:global_step/sec: 533.76\n",
      "INFO:tensorflow:loss = 0.286784, step = 4401 (0.187 sec)\n",
      "INFO:tensorflow:global_step/sec: 532.799\n",
      "INFO:tensorflow:loss = 0.293988, step = 4501 (0.188 sec)\n",
      "INFO:tensorflow:global_step/sec: 523.217\n",
      "INFO:tensorflow:loss = 0.404429, step = 4601 (0.191 sec)\n",
      "INFO:tensorflow:global_step/sec: 530.459\n",
      "INFO:tensorflow:loss = 0.338074, step = 4701 (0.184 sec)\n",
      "INFO:tensorflow:global_step/sec: 538.143\n",
      "INFO:tensorflow:loss = 0.312717, step = 4801 (0.191 sec)\n",
      "INFO:tensorflow:global_step/sec: 534.682\n",
      "INFO:tensorflow:loss = 0.26554, step = 4901 (0.187 sec)\n",
      "INFO:tensorflow:global_step/sec: 533.266\n",
      "INFO:tensorflow:loss = 0.277214, step = 5001 (0.188 sec)\n",
      "INFO:tensorflow:global_step/sec: 527.029\n",
      "INFO:tensorflow:loss = 0.330541, step = 5101 (0.190 sec)\n",
      "INFO:tensorflow:global_step/sec: 537.77\n",
      "INFO:tensorflow:loss = 0.325924, step = 5201 (0.186 sec)\n",
      "INFO:tensorflow:global_step/sec: 530.824\n",
      "INFO:tensorflow:loss = 0.357807, step = 5301 (0.183 sec)\n",
      "INFO:tensorflow:global_step/sec: 543.845\n",
      "INFO:tensorflow:loss = 0.504204, step = 5401 (0.189 sec)\n",
      "INFO:tensorflow:global_step/sec: 531.237\n",
      "INFO:tensorflow:loss = 0.317769, step = 5501 (0.188 sec)\n",
      "INFO:tensorflow:global_step/sec: 550.348\n",
      "INFO:tensorflow:loss = 0.364687, step = 5601 (0.182 sec)\n",
      "INFO:tensorflow:global_step/sec: 526.869\n",
      "INFO:tensorflow:loss = 0.355701, step = 5701 (0.185 sec)\n",
      "INFO:tensorflow:global_step/sec: 525.48\n",
      "INFO:tensorflow:loss = 0.4647, step = 5801 (0.190 sec)\n",
      "INFO:tensorflow:global_step/sec: 537.117\n",
      "INFO:tensorflow:loss = 0.285432, step = 5901 (0.186 sec)\n",
      "INFO:tensorflow:global_step/sec: 540.947\n",
      "INFO:tensorflow:loss = 0.377903, step = 6001 (0.190 sec)\n",
      "INFO:tensorflow:global_step/sec: 535.825\n",
      "INFO:tensorflow:loss = 0.318454, step = 6101 (0.187 sec)\n",
      "INFO:tensorflow:global_step/sec: 518.299\n",
      "INFO:tensorflow:loss = 0.318919, step = 6201 (0.191 sec)\n",
      "INFO:tensorflow:global_step/sec: 514.725\n",
      "INFO:tensorflow:loss = 0.357589, step = 6301 (0.195 sec)\n",
      "INFO:tensorflow:global_step/sec: 547.504\n",
      "INFO:tensorflow:loss = 0.344724, step = 6401 (0.184 sec)\n",
      "INFO:tensorflow:global_step/sec: 498.522\n",
      "INFO:tensorflow:loss = 0.281119, step = 6501 (0.200 sec)\n"
     ]
    },
    {
     "name": "stdout",
     "output_type": "stream",
     "text": [
      "INFO:tensorflow:global_step/sec: 511.052\n",
      "INFO:tensorflow:loss = 0.276656, step = 6601 (0.192 sec)\n",
      "INFO:tensorflow:global_step/sec: 487.499\n",
      "INFO:tensorflow:loss = 0.315453, step = 6701 (0.210 sec)\n",
      "INFO:tensorflow:global_step/sec: 442.752\n",
      "INFO:tensorflow:loss = 0.292963, step = 6801 (0.224 sec)\n",
      "INFO:tensorflow:global_step/sec: 500.912\n",
      "INFO:tensorflow:loss = 0.276317, step = 6901 (0.197 sec)\n",
      "INFO:tensorflow:global_step/sec: 549.234\n",
      "INFO:tensorflow:loss = 0.451278, step = 7001 (0.187 sec)\n",
      "INFO:tensorflow:global_step/sec: 537.379\n",
      "INFO:tensorflow:loss = 0.435785, step = 7101 (0.186 sec)\n",
      "INFO:tensorflow:global_step/sec: 524.863\n",
      "INFO:tensorflow:loss = 0.280808, step = 7201 (0.189 sec)\n",
      "INFO:tensorflow:global_step/sec: 534.344\n",
      "INFO:tensorflow:loss = 0.219867, step = 7301 (0.184 sec)\n",
      "INFO:tensorflow:global_step/sec: 533.648\n",
      "INFO:tensorflow:loss = 0.344941, step = 7401 (0.191 sec)\n",
      "INFO:tensorflow:global_step/sec: 548.598\n",
      "INFO:tensorflow:loss = 0.265836, step = 7501 (0.183 sec)\n",
      "INFO:tensorflow:global_step/sec: 504.645\n",
      "INFO:tensorflow:loss = 0.339903, step = 7601 (0.198 sec)\n",
      "INFO:tensorflow:global_step/sec: 449.041\n",
      "INFO:tensorflow:loss = 0.32206, step = 7701 (0.222 sec)\n",
      "INFO:tensorflow:global_step/sec: 498.227\n",
      "INFO:tensorflow:loss = 0.322768, step = 7801 (0.206 sec)\n",
      "INFO:tensorflow:global_step/sec: 473.364\n",
      "INFO:tensorflow:loss = 0.384552, step = 7901 (0.205 sec)\n",
      "INFO:tensorflow:global_step/sec: 514.11\n",
      "INFO:tensorflow:loss = 0.398608, step = 8001 (0.196 sec)\n",
      "INFO:tensorflow:global_step/sec: 471.99\n",
      "INFO:tensorflow:loss = 0.381415, step = 8101 (0.212 sec)\n",
      "INFO:tensorflow:global_step/sec: 539.835\n",
      "INFO:tensorflow:loss = 0.305903, step = 8201 (0.184 sec)\n",
      "INFO:tensorflow:global_step/sec: 471.991\n",
      "INFO:tensorflow:loss = 0.361354, step = 8301 (0.213 sec)\n",
      "INFO:tensorflow:global_step/sec: 536.663\n",
      "INFO:tensorflow:loss = 0.322269, step = 8401 (0.185 sec)\n",
      "INFO:tensorflow:global_step/sec: 474.226\n",
      "INFO:tensorflow:loss = 0.392684, step = 8501 (0.212 sec)\n",
      "INFO:tensorflow:global_step/sec: 542.58\n",
      "INFO:tensorflow:loss = 0.30041, step = 8601 (0.183 sec)\n",
      "INFO:tensorflow:global_step/sec: 472.843\n",
      "INFO:tensorflow:loss = 0.258887, step = 8701 (0.213 sec)\n",
      "INFO:tensorflow:global_step/sec: 524.911\n",
      "INFO:tensorflow:loss = 0.283768, step = 8801 (0.190 sec)\n",
      "INFO:tensorflow:global_step/sec: 475.531\n",
      "INFO:tensorflow:loss = 0.243095, step = 8901 (0.210 sec)\n",
      "INFO:tensorflow:global_step/sec: 509.391\n",
      "INFO:tensorflow:loss = 0.333644, step = 9001 (0.196 sec)\n",
      "INFO:tensorflow:global_step/sec: 487.447\n",
      "INFO:tensorflow:loss = 0.346538, step = 9101 (0.206 sec)\n",
      "INFO:tensorflow:global_step/sec: 484.902\n",
      "INFO:tensorflow:loss = 0.385934, step = 9201 (0.205 sec)\n",
      "INFO:tensorflow:global_step/sec: 512.889\n",
      "INFO:tensorflow:loss = 0.373543, step = 9301 (0.195 sec)\n",
      "INFO:tensorflow:global_step/sec: 478.766\n",
      "INFO:tensorflow:loss = 0.386812, step = 9401 (0.210 sec)\n",
      "INFO:tensorflow:global_step/sec: 532.611\n",
      "INFO:tensorflow:loss = 0.31355, step = 9501 (0.189 sec)\n",
      "INFO:tensorflow:global_step/sec: 468.902\n",
      "INFO:tensorflow:loss = 0.380164, step = 9601 (0.212 sec)\n",
      "INFO:tensorflow:global_step/sec: 537.221\n",
      "INFO:tensorflow:loss = 0.341812, step = 9701 (0.187 sec)\n",
      "INFO:tensorflow:global_step/sec: 526.627\n",
      "INFO:tensorflow:loss = 0.267252, step = 9801 (0.190 sec)\n",
      "INFO:tensorflow:global_step/sec: 529.096\n",
      "INFO:tensorflow:loss = 0.34119, step = 9901 (0.184 sec)\n",
      "INFO:tensorflow:Saving checkpoints for 10000 into C:\\Users\\INVENTAR\\AppData\\Local\\Temp\\tmpggm_xjre\\model.ckpt.\n",
      "INFO:tensorflow:Loss for final step: 0.275309.\n"
     ]
    },
    {
     "data": {
      "text/plain": [
       "SKCompat()"
      ]
     },
     "execution_count": 71,
     "metadata": {},
     "output_type": "execute_result"
    }
   ],
   "source": [
    "feature_cols = tf.contrib.learn.infer_real_valued_columns_from_input(x_train)\n",
    "dnn_clf = tf.contrib.learn.DNNClassifier(hidden_units = [300,100], n_classes = 2,\n",
    "                                  feature_columns = feature_cols)\n",
    "dnn_clf = tf.contrib.learn.SKCompat(dnn_clf)\n",
    "dnn_clf.fit(x_train, y_train,batch_size = 100, steps = 10000)"
   ]
  },
  {
   "cell_type": "code",
   "execution_count": 72,
   "metadata": {},
   "outputs": [
    {
     "name": "stdout",
     "output_type": "stream",
     "text": [
      "WARNING:tensorflow:float64 is not supported by many models, consider casting to float32.\n",
      "INFO:tensorflow:Restoring parameters from C:\\Users\\INVENTAR\\AppData\\Local\\Temp\\tmpggm_xjre\\model.ckpt-10000\n"
     ]
    },
    {
     "data": {
      "text/plain": [
       "0.85006030796221743"
      ]
     },
     "execution_count": 72,
     "metadata": {},
     "output_type": "execute_result"
    }
   ],
   "source": [
    "y_pred = dnn_clf.predict(x_test)\n",
    "accuracy_score(y_test, y_pred['classes'])"
   ]
  },
  {
   "cell_type": "markdown",
   "metadata": {},
   "source": [
    "# Keras implementation of Neural Networks"
   ]
  },
  {
   "cell_type": "markdown",
   "metadata": {},
   "source": [
    "## Model 1"
   ]
  },
  {
   "cell_type": "code",
   "execution_count": 73,
   "metadata": {
    "collapsed": true
   },
   "outputs": [],
   "source": [
    "\n",
    "model = Sequential()\n",
    "model.add(Dense(300, input_dim = 67, activation = 'relu')) # layer 1\n",
    "model.add(Dense(800, activation = 'relu')) # layer 2\n",
    "model.add(Dense(500, activation = 'relu')) # layer 3\n",
    "model.add(Dense(200, activation = 'relu')) # layer 5\n",
    "model.add(Dense(10, activation = 'relu')) # layer 6\n",
    "model.add(Dense(1, activation = 'sigmoid'))"
   ]
  },
  {
   "cell_type": "code",
   "execution_count": 74,
   "metadata": {
    "scrolled": true
   },
   "outputs": [
    {
     "name": "stdout",
     "output_type": "stream",
     "text": [
      "Epoch 1/20\n",
      "10/10 [==============================] - 60s 6s/step - loss: 0.6638 - acc: 0.6755\n",
      "Epoch 2/20\n",
      "10/10 [==============================] - 59s 6s/step - loss: 0.6299 - acc: 0.7204\n",
      "Epoch 3/20\n",
      "10/10 [==============================] - 61s 6s/step - loss: 0.6115 - acc: 0.7202\n",
      "Epoch 4/20\n",
      "10/10 [==============================] - 61s 6s/step - loss: 0.5998 - acc: 0.7202\n",
      "Epoch 5/20\n",
      "10/10 [==============================] - 62s 6s/step - loss: 0.5906 - acc: 0.7202\n",
      "Epoch 6/20\n",
      "10/10 [==============================] - 62s 6s/step - loss: 0.5828 - acc: 0.7202\n",
      "Epoch 7/20\n",
      "10/10 [==============================] - 61s 6s/step - loss: 0.5760 - acc: 0.7202\n",
      "Epoch 8/20\n",
      "10/10 [==============================] - 63s 6s/step - loss: 0.5695 - acc: 0.7202\n",
      "Epoch 9/20\n",
      "10/10 [==============================] - 63s 6s/step - loss: 0.5628 - acc: 0.7204\n",
      "Epoch 10/20\n",
      "10/10 [==============================] - 62s 6s/step - loss: 0.5558 - acc: 0.7209\n",
      "Epoch 11/20\n",
      "10/10 [==============================] - 63s 6s/step - loss: 0.5482 - acc: 0.7230\n",
      "Epoch 12/20\n",
      "10/10 [==============================] - 63s 6s/step - loss: 0.5401 - acc: 0.7295\n",
      "Epoch 13/20\n",
      "10/10 [==============================] - 63s 6s/step - loss: 0.5314 - acc: 0.7413\n",
      "Epoch 14/20\n",
      "10/10 [==============================] - 63s 6s/step - loss: 0.5222 - acc: 0.7561\n",
      "Epoch 15/20\n",
      "10/10 [==============================] - 62s 6s/step - loss: 0.5127 - acc: 0.7713\n",
      "Epoch 16/20\n",
      "10/10 [==============================] - 60s 6s/step - loss: 0.5028 - acc: 0.7844\n",
      "Epoch 17/20\n",
      "10/10 [==============================] - 60s 6s/step - loss: 0.4927 - acc: 0.7949\n",
      "Epoch 18/20\n",
      "10/10 [==============================] - 61s 6s/step - loss: 0.4826 - acc: 0.8041\n",
      "Epoch 19/20\n",
      "10/10 [==============================] - 61s 6s/step - loss: 0.4726 - acc: 0.8115\n",
      "Epoch 20/20\n",
      "10/10 [==============================] - 67s 7s/step - loss: 0.4630 - acc: 0.8176\n"
     ]
    },
    {
     "data": {
      "text/plain": [
       "<keras.callbacks.History at 0x14b95f7b320>"
      ]
     },
     "execution_count": 74,
     "metadata": {},
     "output_type": "execute_result"
    }
   ],
   "source": [
    "model.compile(loss = 'binary_crossentropy', optimizer = 'sgd', metrics = ['accuracy'])\n",
    "\n",
    "model.fit(x_train, y_train, epochs = 20, steps_per_epoch = 10)"
   ]
  },
  {
   "cell_type": "code",
   "execution_count": 75,
   "metadata": {},
   "outputs": [
    {
     "name": "stdout",
     "output_type": "stream",
     "text": [
      "95757/95757 [==============================] - 8s 87us/step\n",
      "\n",
      "acc: 82.04%\n"
     ]
    }
   ],
   "source": [
    "# evaluate the model\n",
    "scores = model.evaluate(x_train, y_train)\n",
    "print('\\n%s: %.2f%%' % (model.metrics_names[1], scores[1]*100))"
   ]
  },
  {
   "cell_type": "code",
   "execution_count": 76,
   "metadata": {},
   "outputs": [
    {
     "data": {
      "text/plain": [
       "(82.039955303715459, 82.250661821143808)"
      ]
     },
     "execution_count": 76,
     "metadata": {},
     "output_type": "execute_result"
    }
   ],
   "source": [
    "prediction = model.predict(x_test)\n",
    "from sklearn.metrics import accuracy_score\n",
    "test_score = accuracy_score(prediction.round(), y_test)\n",
    "scores[1]*100, test_score*100"
   ]
  },
  {
   "cell_type": "markdown",
   "metadata": {},
   "source": [
    "## Model 2"
   ]
  },
  {
   "cell_type": "code",
   "execution_count": null,
   "metadata": {
    "collapsed": true
   },
   "outputs": [],
   "source": [
    "\n",
    "model = Sequential()\n",
    "model.add(Dense(300, input_dim = 67, activation = 'relu')) \n",
    "model.add(Dense(1000, activation = 'relu')) \n",
    "model.add(Dense(400, activation = 'relu')) \n",
    "model.add(Dense(10, activation = 'relu')) \n",
    "model.add(Dense(1, activation = 'sigmoid'))"
   ]
  },
  {
   "cell_type": "code",
   "execution_count": null,
   "metadata": {},
   "outputs": [
    {
     "name": "stdout",
     "output_type": "stream",
     "text": [
      "Epoch 1/20\n",
      "10/10 [==============================] - 63s 6s/step - loss: 0.7185 - acc: 0.4463\n",
      "Epoch 2/20\n",
      "10/10 [==============================] - 64s 6s/step - loss: 0.6409 - acc: 0.7181\n",
      "Epoch 3/20\n",
      " 5/10 [==============>...............] - ETA: 32s - loss: 0.6217 - acc: 0.7202"
     ]
    }
   ],
   "source": [
    "model.compile(loss = 'binary_crossentropy', optimizer = 'adam', metrics = ['accuracy'])\n",
    "\n",
    "model.fit(x_train, y_train, epochs = 20, steps_per_epoch = 10)"
   ]
  },
  {
   "cell_type": "markdown",
   "metadata": {},
   "source": [
    "## Model 3"
   ]
  },
  {
   "cell_type": "code",
   "execution_count": null,
   "metadata": {
    "collapsed": true
   },
   "outputs": [],
   "source": [
    "\n",
    "model = Sequential()\n",
    "model.add(Dense(300, input_dim = 67, activation = 'relu')) \n",
    "model.add(Dense(800, activation = 'relu')) \n",
    "model.add(Dense(100, activation = 'relu')) \n",
    "model.add(Dense(1, activation = 'sigmoid'))"
   ]
  },
  {
   "cell_type": "code",
   "execution_count": null,
   "metadata": {
    "collapsed": true
   },
   "outputs": [],
   "source": [
    "model.compile(loss = 'binary_crossentropy', optimizer = 'adam', metrics = ['accuracy'])\n",
    "\n",
    "model.fit(x_train, y_train, epochs = 10, steps_per_epoch = 10)"
   ]
  },
  {
   "cell_type": "markdown",
   "metadata": {},
   "source": [
    "# Tensorflow Scratch"
   ]
  },
  {
   "cell_type": "code",
   "execution_count": null,
   "metadata": {
    "collapsed": true
   },
   "outputs": [],
   "source": [
    "n_inputs = 3\n",
    "n_hidden1 = 300\n",
    "n_hidden2 = 800\n",
    "n_hidden3 = 100\n",
    "n_outputs = 2\n",
    "\n",
    "import tensorflow as tf\n",
    "\n",
    "X = tf.placeholder(tf.float32, shape = (None, n_inputs), name = 'X')\n",
    "training = tf.placeholder_with_default(False, shape = (), name = 'training')\n",
    "\n",
    "hidden1 = tf.layers.dense(X, n_hidden1, name = 'hidden1')\n",
    "bn1 = tf.layers.batch_normalization(hidden1, training = training, momentum = 0.9)\n",
    "bn1_act = tf.nn.elu(bn1)\n",
    "\n",
    "hidden2 = tf.layers.dense(bn1_act, n_hidden2, name = 'hidden2')\n",
    "bn2 = tf.layers.batch_normalization(hidden2, training = training, momentum = 0.9)\n",
    "bn2_act = tf.nn.elu(bn2)\n",
    "\n",
    "hidden3 = tf.layers.dense(bn2_act, n_hidden3, name = 'hidden2')\n",
    "bn3 = tf.layers.batch_normalization(hidden3, training = training, momentum = 0.9)\n",
    "bn3_act = tf.nn.elu(bn3)\n",
    "\n",
    "logits_before_bn = tf.layers.dense(bn3_act, n_outputs, name = 'outputs')\n",
    "logits = tf.layers.batch_normalization(logits_before_bn, training = training, \n",
    "                                      momentum = 0.9)"
   ]
  }
 ],
 "metadata": {
  "kernelspec": {
   "display_name": "Python 3",
   "language": "python",
   "name": "python3"
  },
  "language_info": {
   "codemirror_mode": {
    "name": "ipython",
    "version": 3
   },
   "file_extension": ".py",
   "mimetype": "text/x-python",
   "name": "python",
   "nbconvert_exporter": "python",
   "pygments_lexer": "ipython3",
   "version": "3.6.7"
  }
 },
 "nbformat": 4,
 "nbformat_minor": 2
}
