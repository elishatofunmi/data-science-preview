{
 "cells": [
  {
   "cell_type": "code",
   "execution_count": 65,
   "metadata": {
    "collapsed": true
   },
   "outputs": [],
   "source": [
    "import os, sys\n",
    "import pandas as pd\n",
    "import numpy as np"
   ]
  },
  {
   "cell_type": "code",
   "execution_count": 66,
   "metadata": {},
   "outputs": [
    {
     "data": {
      "text/plain": [
       "['.ipynb_checkpoints',\n",
       " '2019_4_2_02379003-6369-43bf-b444-842420685d06.csv',\n",
       " 'Data preprocessing.ipynb']"
      ]
     },
     "execution_count": 66,
     "metadata": {},
     "output_type": "execute_result"
    }
   ],
   "source": [
    "os.listdir()"
   ]
  },
  {
   "cell_type": "code",
   "execution_count": 67,
   "metadata": {
    "collapsed": true
   },
   "outputs": [],
   "source": [
    "read_data = pd.read_csv('2019_4_2_02379003-6369-43bf-b444-842420685d06.csv')"
   ]
  },
  {
   "cell_type": "code",
   "execution_count": 29,
   "metadata": {},
   "outputs": [
    {
     "data": {
      "text/plain": [
       "(159596, 29)"
      ]
     },
     "execution_count": 29,
     "metadata": {},
     "output_type": "execute_result"
    }
   ],
   "source": [
    "read_data.shape"
   ]
  },
  {
   "cell_type": "code",
   "execution_count": 30,
   "metadata": {},
   "outputs": [
    {
     "data": {
      "text/plain": [
       "Index(['clientId', 'clientIncome', 'incomeVerified', 'clientAge',\n",
       "       'clientGender', 'clientMaritalStatus', 'clientLoanPurpose',\n",
       "       'clientResidentialStauts', 'clientState', 'clientTimeAtEmployer',\n",
       "       'clientNumberPhoneContacts', 'clientAvgCallsPerDay', 'loanType',\n",
       "       'loanNumber', 'applicationDate', 'approvalDate', 'declinedDate',\n",
       "       'disbursementDate', 'payout_status', 'dueDate', 'paidAt', 'loanAmount',\n",
       "       'interestRate', 'loanTerm', 'max_amount_taken', 'max_tenor_taken',\n",
       "       'paymentRatio', 'FirstPaymentDefault', 'loanDefault'],\n",
       "      dtype='object')"
      ]
     },
     "execution_count": 30,
     "metadata": {},
     "output_type": "execute_result"
    }
   ],
   "source": [
    "read_data.columns"
   ]
  },
  {
   "cell_type": "code",
   "execution_count": 31,
   "metadata": {},
   "outputs": [
    {
     "data": {
      "text/plain": [
       "array([0, 1], dtype=int64)"
      ]
     },
     "execution_count": 31,
     "metadata": {},
     "output_type": "execute_result"
    }
   ],
   "source": [
    "np.unique(read_data['loanDefault'])"
   ]
  },
  {
   "cell_type": "code",
   "execution_count": 32,
   "metadata": {},
   "outputs": [
    {
     "data": {
      "text/plain": [
       "44670"
      ]
     },
     "execution_count": 32,
     "metadata": {},
     "output_type": "execute_result"
    }
   ],
   "source": [
    "sum(read_data['loanDefault'])"
   ]
  },
  {
   "cell_type": "code",
   "execution_count": 33,
   "metadata": {},
   "outputs": [
    {
     "data": {
      "text/plain": [
       "0.2798942329381689"
      ]
     },
     "execution_count": 33,
     "metadata": {},
     "output_type": "execute_result"
    }
   ],
   "source": [
    "44670/159596"
   ]
  },
  {
   "cell_type": "code",
   "execution_count": 34,
   "metadata": {
    "scrolled": true
   },
   "outputs": [
    {
     "name": "stdout",
     "output_type": "stream",
     "text": [
      "<class 'pandas.core.frame.DataFrame'>\n",
      "RangeIndex: 159596 entries, 0 to 159595\n",
      "Data columns (total 29 columns):\n",
      "clientId                     159596 non-null int64\n",
      "clientIncome                 159596 non-null float64\n",
      "incomeVerified               159596 non-null object\n",
      "clientAge                    159596 non-null int64\n",
      "clientGender                 159596 non-null object\n",
      "clientMaritalStatus          159596 non-null object\n",
      "clientLoanPurpose            159596 non-null object\n",
      "clientResidentialStauts      159596 non-null object\n",
      "clientState                  159596 non-null object\n",
      "clientTimeAtEmployer         159596 non-null object\n",
      "clientNumberPhoneContacts    159596 non-null object\n",
      "clientAvgCallsPerDay         159596 non-null object\n",
      "loanType                     159596 non-null object\n",
      "loanNumber                   159596 non-null int64\n",
      "applicationDate              159596 non-null object\n",
      "approvalDate                 159596 non-null object\n",
      "declinedDate                 159596 non-null object\n",
      "disbursementDate             159596 non-null object\n",
      "payout_status                159596 non-null object\n",
      "dueDate                      159596 non-null object\n",
      "paidAt                       159596 non-null object\n",
      "loanAmount                   159596 non-null int64\n",
      "interestRate                 159596 non-null float64\n",
      "loanTerm                     159596 non-null int64\n",
      "max_amount_taken             159596 non-null int64\n",
      "max_tenor_taken              159596 non-null int64\n",
      "paymentRatio                 159596 non-null float64\n",
      "FirstPaymentDefault          159596 non-null int64\n",
      "loanDefault                  159596 non-null int64\n",
      "dtypes: float64(3), int64(9), object(17)\n",
      "memory usage: 35.3+ MB\n"
     ]
    }
   ],
   "source": [
    "read_data.info()"
   ]
  },
  {
   "cell_type": "code",
   "execution_count": 35,
   "metadata": {},
   "outputs": [],
   "source": [
    "import sklearn"
   ]
  },
  {
   "cell_type": "code",
   "execution_count": 36,
   "metadata": {
    "collapsed": true
   },
   "outputs": [],
   "source": [
    "import sklearn.preprocessing as sp"
   ]
  },
  {
   "cell_type": "code",
   "execution_count": 37,
   "metadata": {
    "scrolled": true
   },
   "outputs": [
    {
     "data": {
      "text/html": [
       "<div>\n",
       "<style>\n",
       "    .dataframe thead tr:only-child th {\n",
       "        text-align: right;\n",
       "    }\n",
       "\n",
       "    .dataframe thead th {\n",
       "        text-align: left;\n",
       "    }\n",
       "\n",
       "    .dataframe tbody tr th {\n",
       "        vertical-align: top;\n",
       "    }\n",
       "</style>\n",
       "<table border=\"1\" class=\"dataframe\">\n",
       "  <thead>\n",
       "    <tr style=\"text-align: right;\">\n",
       "      <th></th>\n",
       "      <th>clientId</th>\n",
       "      <th>clientIncome</th>\n",
       "      <th>incomeVerified</th>\n",
       "      <th>clientAge</th>\n",
       "      <th>clientGender</th>\n",
       "      <th>clientMaritalStatus</th>\n",
       "      <th>clientLoanPurpose</th>\n",
       "      <th>clientResidentialStauts</th>\n",
       "      <th>clientState</th>\n",
       "      <th>clientTimeAtEmployer</th>\n",
       "      <th>...</th>\n",
       "      <th>dueDate</th>\n",
       "      <th>paidAt</th>\n",
       "      <th>loanAmount</th>\n",
       "      <th>interestRate</th>\n",
       "      <th>loanTerm</th>\n",
       "      <th>max_amount_taken</th>\n",
       "      <th>max_tenor_taken</th>\n",
       "      <th>paymentRatio</th>\n",
       "      <th>FirstPaymentDefault</th>\n",
       "      <th>loanDefault</th>\n",
       "    </tr>\n",
       "  </thead>\n",
       "  <tbody>\n",
       "    <tr>\n",
       "      <th>0</th>\n",
       "      <td>719046128</td>\n",
       "      <td>25000.00</td>\n",
       "      <td>true</td>\n",
       "      <td>38</td>\n",
       "      <td>FEMALE</td>\n",
       "      <td>Single</td>\n",
       "      <td>business</td>\n",
       "      <td>Rented</td>\n",
       "      <td>EKITI</td>\n",
       "      <td>36+</td>\n",
       "      <td>...</td>\n",
       "      <td>2018-09-14 04:38:34 UTC</td>\n",
       "      <td>2018-09-10 09:19:02 UTC</td>\n",
       "      <td>48000</td>\n",
       "      <td>7.5</td>\n",
       "      <td>180</td>\n",
       "      <td>1</td>\n",
       "      <td>1</td>\n",
       "      <td>0.0</td>\n",
       "      <td>1</td>\n",
       "      <td>0</td>\n",
       "    </tr>\n",
       "    <tr>\n",
       "      <th>1</th>\n",
       "      <td>821565030</td>\n",
       "      <td>105000.00</td>\n",
       "      <td>false</td>\n",
       "      <td>31</td>\n",
       "      <td>MALE</td>\n",
       "      <td>Married</td>\n",
       "      <td>house</td>\n",
       "      <td>Rented</td>\n",
       "      <td>OSUN</td>\n",
       "      <td>36+</td>\n",
       "      <td>...</td>\n",
       "      <td>2018-04-06 01:43:49 UTC</td>\n",
       "      <td>2018-01-22 08:12:58 UTC</td>\n",
       "      <td>31500</td>\n",
       "      <td>12.5</td>\n",
       "      <td>90</td>\n",
       "      <td>1</td>\n",
       "      <td>1</td>\n",
       "      <td>0.0</td>\n",
       "      <td>0</td>\n",
       "      <td>0</td>\n",
       "    </tr>\n",
       "    <tr>\n",
       "      <th>2</th>\n",
       "      <td>703822576</td>\n",
       "      <td>78029.19</td>\n",
       "      <td>true</td>\n",
       "      <td>38</td>\n",
       "      <td>MALE</td>\n",
       "      <td>Married</td>\n",
       "      <td>education</td>\n",
       "      <td>Family Owned</td>\n",
       "      <td>CROSS RIVER</td>\n",
       "      <td>36+</td>\n",
       "      <td>...</td>\n",
       "      <td>2018-10-23 11:02:13 UTC</td>\n",
       "      <td>Null</td>\n",
       "      <td>129500</td>\n",
       "      <td>5.0</td>\n",
       "      <td>180</td>\n",
       "      <td>1</td>\n",
       "      <td>1</td>\n",
       "      <td>0.0</td>\n",
       "      <td>0</td>\n",
       "      <td>1</td>\n",
       "    </tr>\n",
       "    <tr>\n",
       "      <th>3</th>\n",
       "      <td>103590131</td>\n",
       "      <td>35000.00</td>\n",
       "      <td>true</td>\n",
       "      <td>41</td>\n",
       "      <td>FEMALE</td>\n",
       "      <td>Single</td>\n",
       "      <td>education</td>\n",
       "      <td>Family Owned</td>\n",
       "      <td>LAGOS</td>\n",
       "      <td>36+</td>\n",
       "      <td>...</td>\n",
       "      <td>2018-12-12 03:17:05 UTC</td>\n",
       "      <td>2019-01-07 06:54:05 UTC</td>\n",
       "      <td>17500</td>\n",
       "      <td>12.5</td>\n",
       "      <td>90</td>\n",
       "      <td>1</td>\n",
       "      <td>1</td>\n",
       "      <td>0.0</td>\n",
       "      <td>0</td>\n",
       "      <td>1</td>\n",
       "    </tr>\n",
       "    <tr>\n",
       "      <th>4</th>\n",
       "      <td>663612175</td>\n",
       "      <td>350000.00</td>\n",
       "      <td>true</td>\n",
       "      <td>40</td>\n",
       "      <td>MALE</td>\n",
       "      <td>Married</td>\n",
       "      <td>business</td>\n",
       "      <td>Rented</td>\n",
       "      <td>BENUE</td>\n",
       "      <td>36+</td>\n",
       "      <td>...</td>\n",
       "      <td>2018-05-31 11:24:16 UTC</td>\n",
       "      <td>2018-05-28 12:43:53 UTC</td>\n",
       "      <td>132500</td>\n",
       "      <td>12.5</td>\n",
       "      <td>90</td>\n",
       "      <td>1</td>\n",
       "      <td>1</td>\n",
       "      <td>0.0</td>\n",
       "      <td>1</td>\n",
       "      <td>0</td>\n",
       "    </tr>\n",
       "  </tbody>\n",
       "</table>\n",
       "<p>5 rows × 29 columns</p>\n",
       "</div>"
      ],
      "text/plain": [
       "    clientId  clientIncome incomeVerified  clientAge clientGender  \\\n",
       "0  719046128      25000.00           true         38       FEMALE   \n",
       "1  821565030     105000.00          false         31         MALE   \n",
       "2  703822576      78029.19           true         38         MALE   \n",
       "3  103590131      35000.00           true         41       FEMALE   \n",
       "4  663612175     350000.00           true         40         MALE   \n",
       "\n",
       "  clientMaritalStatus clientLoanPurpose clientResidentialStauts  clientState  \\\n",
       "0              Single          business                  Rented        EKITI   \n",
       "1             Married             house                  Rented         OSUN   \n",
       "2             Married         education            Family Owned  CROSS RIVER   \n",
       "3              Single         education            Family Owned        LAGOS   \n",
       "4             Married          business                  Rented        BENUE   \n",
       "\n",
       "  clientTimeAtEmployer     ...                      dueDate  \\\n",
       "0                  36+     ...      2018-09-14 04:38:34 UTC   \n",
       "1                  36+     ...      2018-04-06 01:43:49 UTC   \n",
       "2                  36+     ...      2018-10-23 11:02:13 UTC   \n",
       "3                  36+     ...      2018-12-12 03:17:05 UTC   \n",
       "4                  36+     ...      2018-05-31 11:24:16 UTC   \n",
       "\n",
       "                    paidAt loanAmount  interestRate loanTerm max_amount_taken  \\\n",
       "0  2018-09-10 09:19:02 UTC      48000           7.5      180                1   \n",
       "1  2018-01-22 08:12:58 UTC      31500          12.5       90                1   \n",
       "2                     Null     129500           5.0      180                1   \n",
       "3  2019-01-07 06:54:05 UTC      17500          12.5       90                1   \n",
       "4  2018-05-28 12:43:53 UTC     132500          12.5       90                1   \n",
       "\n",
       "  max_tenor_taken paymentRatio FirstPaymentDefault loanDefault  \n",
       "0               1          0.0                   1           0  \n",
       "1               1          0.0                   0           0  \n",
       "2               1          0.0                   0           1  \n",
       "3               1          0.0                   0           1  \n",
       "4               1          0.0                   1           0  \n",
       "\n",
       "[5 rows x 29 columns]"
      ]
     },
     "execution_count": 37,
     "metadata": {},
     "output_type": "execute_result"
    }
   ],
   "source": [
    "read_data.head()"
   ]
  },
  {
   "cell_type": "code",
   "execution_count": 38,
   "metadata": {},
   "outputs": [
    {
     "data": {
      "text/plain": [
       "array(['Divorced', 'Married', 'Null', 'Separated', 'Single', 'Widowed'], dtype=object)"
      ]
     },
     "execution_count": 38,
     "metadata": {},
     "output_type": "execute_result"
    }
   ],
   "source": [
    "np.unique(read_data['clientMaritalStatus'])"
   ]
  },
  {
   "cell_type": "code",
   "execution_count": 39,
   "metadata": {},
   "outputs": [
    {
     "data": {
      "text/plain": [
       "Index(['clientId', 'clientIncome', 'incomeVerified', 'clientAge',\n",
       "       'clientGender', 'clientMaritalStatus', 'clientLoanPurpose',\n",
       "       'clientResidentialStauts', 'clientState', 'clientTimeAtEmployer',\n",
       "       'clientNumberPhoneContacts', 'clientAvgCallsPerDay', 'loanType',\n",
       "       'loanNumber', 'applicationDate', 'approvalDate', 'declinedDate',\n",
       "       'disbursementDate', 'payout_status', 'dueDate', 'paidAt', 'loanAmount',\n",
       "       'interestRate', 'loanTerm', 'max_amount_taken', 'max_tenor_taken',\n",
       "       'paymentRatio', 'FirstPaymentDefault', 'loanDefault'],\n",
       "      dtype='object')"
      ]
     },
     "execution_count": 39,
     "metadata": {},
     "output_type": "execute_result"
    }
   ],
   "source": [
    "read_data.columns"
   ]
  },
  {
   "cell_type": "code",
   "execution_count": 40,
   "metadata": {
    "collapsed": true
   },
   "outputs": [],
   "source": [
    "# get dummies (clientGender,clientState,)"
   ]
  },
  {
   "cell_type": "code",
   "execution_count": 41,
   "metadata": {},
   "outputs": [
    {
     "data": {
      "text/html": [
       "<div>\n",
       "<style>\n",
       "    .dataframe thead tr:only-child th {\n",
       "        text-align: right;\n",
       "    }\n",
       "\n",
       "    .dataframe thead th {\n",
       "        text-align: left;\n",
       "    }\n",
       "\n",
       "    .dataframe tbody tr th {\n",
       "        vertical-align: top;\n",
       "    }\n",
       "</style>\n",
       "<table border=\"1\" class=\"dataframe\">\n",
       "  <thead>\n",
       "    <tr style=\"text-align: right;\">\n",
       "      <th></th>\n",
       "      <th>clientId</th>\n",
       "      <th>clientIncome</th>\n",
       "      <th>incomeVerified</th>\n",
       "      <th>clientAge</th>\n",
       "      <th>clientMaritalStatus</th>\n",
       "      <th>clientLoanPurpose</th>\n",
       "      <th>clientResidentialStauts</th>\n",
       "      <th>clientState</th>\n",
       "      <th>clientTimeAtEmployer</th>\n",
       "      <th>clientNumberPhoneContacts</th>\n",
       "      <th>...</th>\n",
       "      <th>loanAmount</th>\n",
       "      <th>interestRate</th>\n",
       "      <th>loanTerm</th>\n",
       "      <th>max_amount_taken</th>\n",
       "      <th>max_tenor_taken</th>\n",
       "      <th>paymentRatio</th>\n",
       "      <th>FirstPaymentDefault</th>\n",
       "      <th>loanDefault</th>\n",
       "      <th>clientGender_FEMALE</th>\n",
       "      <th>clientGender_MALE</th>\n",
       "    </tr>\n",
       "  </thead>\n",
       "  <tbody>\n",
       "    <tr>\n",
       "      <th>0</th>\n",
       "      <td>719046128</td>\n",
       "      <td>25000.00</td>\n",
       "      <td>true</td>\n",
       "      <td>38</td>\n",
       "      <td>Single</td>\n",
       "      <td>business</td>\n",
       "      <td>Rented</td>\n",
       "      <td>EKITI</td>\n",
       "      <td>36+</td>\n",
       "      <td>2976</td>\n",
       "      <td>...</td>\n",
       "      <td>48000</td>\n",
       "      <td>7.5</td>\n",
       "      <td>180</td>\n",
       "      <td>1</td>\n",
       "      <td>1</td>\n",
       "      <td>0.0</td>\n",
       "      <td>1</td>\n",
       "      <td>0</td>\n",
       "      <td>1</td>\n",
       "      <td>0</td>\n",
       "    </tr>\n",
       "    <tr>\n",
       "      <th>1</th>\n",
       "      <td>821565030</td>\n",
       "      <td>105000.00</td>\n",
       "      <td>false</td>\n",
       "      <td>31</td>\n",
       "      <td>Married</td>\n",
       "      <td>house</td>\n",
       "      <td>Rented</td>\n",
       "      <td>OSUN</td>\n",
       "      <td>36+</td>\n",
       "      <td>1159</td>\n",
       "      <td>...</td>\n",
       "      <td>31500</td>\n",
       "      <td>12.5</td>\n",
       "      <td>90</td>\n",
       "      <td>1</td>\n",
       "      <td>1</td>\n",
       "      <td>0.0</td>\n",
       "      <td>0</td>\n",
       "      <td>0</td>\n",
       "      <td>0</td>\n",
       "      <td>1</td>\n",
       "    </tr>\n",
       "    <tr>\n",
       "      <th>2</th>\n",
       "      <td>703822576</td>\n",
       "      <td>78029.19</td>\n",
       "      <td>true</td>\n",
       "      <td>38</td>\n",
       "      <td>Married</td>\n",
       "      <td>education</td>\n",
       "      <td>Family Owned</td>\n",
       "      <td>CROSS RIVER</td>\n",
       "      <td>36+</td>\n",
       "      <td>1375</td>\n",
       "      <td>...</td>\n",
       "      <td>129500</td>\n",
       "      <td>5.0</td>\n",
       "      <td>180</td>\n",
       "      <td>1</td>\n",
       "      <td>1</td>\n",
       "      <td>0.0</td>\n",
       "      <td>0</td>\n",
       "      <td>1</td>\n",
       "      <td>0</td>\n",
       "      <td>1</td>\n",
       "    </tr>\n",
       "    <tr>\n",
       "      <th>3</th>\n",
       "      <td>103590131</td>\n",
       "      <td>35000.00</td>\n",
       "      <td>true</td>\n",
       "      <td>41</td>\n",
       "      <td>Single</td>\n",
       "      <td>education</td>\n",
       "      <td>Family Owned</td>\n",
       "      <td>LAGOS</td>\n",
       "      <td>36+</td>\n",
       "      <td>1632</td>\n",
       "      <td>...</td>\n",
       "      <td>17500</td>\n",
       "      <td>12.5</td>\n",
       "      <td>90</td>\n",
       "      <td>1</td>\n",
       "      <td>1</td>\n",
       "      <td>0.0</td>\n",
       "      <td>0</td>\n",
       "      <td>1</td>\n",
       "      <td>1</td>\n",
       "      <td>0</td>\n",
       "    </tr>\n",
       "    <tr>\n",
       "      <th>4</th>\n",
       "      <td>663612175</td>\n",
       "      <td>350000.00</td>\n",
       "      <td>true</td>\n",
       "      <td>40</td>\n",
       "      <td>Married</td>\n",
       "      <td>business</td>\n",
       "      <td>Rented</td>\n",
       "      <td>BENUE</td>\n",
       "      <td>36+</td>\n",
       "      <td>1971</td>\n",
       "      <td>...</td>\n",
       "      <td>132500</td>\n",
       "      <td>12.5</td>\n",
       "      <td>90</td>\n",
       "      <td>1</td>\n",
       "      <td>1</td>\n",
       "      <td>0.0</td>\n",
       "      <td>1</td>\n",
       "      <td>0</td>\n",
       "      <td>0</td>\n",
       "      <td>1</td>\n",
       "    </tr>\n",
       "  </tbody>\n",
       "</table>\n",
       "<p>5 rows × 30 columns</p>\n",
       "</div>"
      ],
      "text/plain": [
       "    clientId  clientIncome incomeVerified  clientAge clientMaritalStatus  \\\n",
       "0  719046128      25000.00           true         38              Single   \n",
       "1  821565030     105000.00          false         31             Married   \n",
       "2  703822576      78029.19           true         38             Married   \n",
       "3  103590131      35000.00           true         41              Single   \n",
       "4  663612175     350000.00           true         40             Married   \n",
       "\n",
       "  clientLoanPurpose clientResidentialStauts  clientState clientTimeAtEmployer  \\\n",
       "0          business                  Rented        EKITI                  36+   \n",
       "1             house                  Rented         OSUN                  36+   \n",
       "2         education            Family Owned  CROSS RIVER                  36+   \n",
       "3         education            Family Owned        LAGOS                  36+   \n",
       "4          business                  Rented        BENUE                  36+   \n",
       "\n",
       "  clientNumberPhoneContacts        ...        loanAmount interestRate  \\\n",
       "0                      2976        ...             48000          7.5   \n",
       "1                      1159        ...             31500         12.5   \n",
       "2                      1375        ...            129500          5.0   \n",
       "3                      1632        ...             17500         12.5   \n",
       "4                      1971        ...            132500         12.5   \n",
       "\n",
       "   loanTerm max_amount_taken max_tenor_taken paymentRatio FirstPaymentDefault  \\\n",
       "0       180                1               1          0.0                   1   \n",
       "1        90                1               1          0.0                   0   \n",
       "2       180                1               1          0.0                   0   \n",
       "3        90                1               1          0.0                   0   \n",
       "4        90                1               1          0.0                   1   \n",
       "\n",
       "  loanDefault clientGender_FEMALE clientGender_MALE  \n",
       "0           0                   1                 0  \n",
       "1           0                   0                 1  \n",
       "2           1                   0                 1  \n",
       "3           1                   1                 0  \n",
       "4           0                   0                 1  \n",
       "\n",
       "[5 rows x 30 columns]"
      ]
     },
     "execution_count": 41,
     "metadata": {},
     "output_type": "execute_result"
    }
   ],
   "source": [
    "def apply_dummies(col = 'default', data = None):\n",
    "    gender_frame = pd.get_dummies(data[col])\n",
    "    dataframe = data.drop(col, axis = 1)\n",
    "    for k in gender_frame.columns:\n",
    "        new_value = col + '_'+k\n",
    "        dataframe[new_value] = gender_frame[k]\n",
    "    return dataframe\n",
    "\n",
    "frame = apply_dummies(col = 'clientGender', data = read_data)\n",
    "frame.head()"
   ]
  },
  {
   "cell_type": "code",
   "execution_count": 43,
   "metadata": {
    "scrolled": true
   },
   "outputs": [
    {
     "data": {
      "text/html": [
       "<div>\n",
       "<style>\n",
       "    .dataframe thead tr:only-child th {\n",
       "        text-align: right;\n",
       "    }\n",
       "\n",
       "    .dataframe thead th {\n",
       "        text-align: left;\n",
       "    }\n",
       "\n",
       "    .dataframe tbody tr th {\n",
       "        vertical-align: top;\n",
       "    }\n",
       "</style>\n",
       "<table border=\"1\" class=\"dataframe\">\n",
       "  <thead>\n",
       "    <tr style=\"text-align: right;\">\n",
       "      <th></th>\n",
       "      <th>clientId</th>\n",
       "      <th>clientIncome</th>\n",
       "      <th>incomeVerified</th>\n",
       "      <th>clientAge</th>\n",
       "      <th>clientMaritalStatus</th>\n",
       "      <th>clientLoanPurpose</th>\n",
       "      <th>clientResidentialStauts</th>\n",
       "      <th>clientTimeAtEmployer</th>\n",
       "      <th>clientNumberPhoneContacts</th>\n",
       "      <th>clientAvgCallsPerDay</th>\n",
       "      <th>...</th>\n",
       "      <th>clientState_OJO</th>\n",
       "      <th>clientState_ONDO</th>\n",
       "      <th>clientState_OSUN</th>\n",
       "      <th>clientState_OYO</th>\n",
       "      <th>clientState_PLATEAU</th>\n",
       "      <th>clientState_RIVERS</th>\n",
       "      <th>clientState_SOKOTO</th>\n",
       "      <th>clientState_TARABA</th>\n",
       "      <th>clientState_YOBE</th>\n",
       "      <th>clientState_ZAMFARA</th>\n",
       "    </tr>\n",
       "  </thead>\n",
       "  <tbody>\n",
       "    <tr>\n",
       "      <th>0</th>\n",
       "      <td>719046128</td>\n",
       "      <td>25000.00</td>\n",
       "      <td>true</td>\n",
       "      <td>38</td>\n",
       "      <td>Single</td>\n",
       "      <td>business</td>\n",
       "      <td>Rented</td>\n",
       "      <td>36+</td>\n",
       "      <td>2976</td>\n",
       "      <td>51.40909090909091</td>\n",
       "      <td>...</td>\n",
       "      <td>0</td>\n",
       "      <td>0</td>\n",
       "      <td>0</td>\n",
       "      <td>0</td>\n",
       "      <td>0</td>\n",
       "      <td>0</td>\n",
       "      <td>0</td>\n",
       "      <td>0</td>\n",
       "      <td>0</td>\n",
       "      <td>0</td>\n",
       "    </tr>\n",
       "    <tr>\n",
       "      <th>1</th>\n",
       "      <td>821565030</td>\n",
       "      <td>105000.00</td>\n",
       "      <td>false</td>\n",
       "      <td>31</td>\n",
       "      <td>Married</td>\n",
       "      <td>house</td>\n",
       "      <td>Rented</td>\n",
       "      <td>36+</td>\n",
       "      <td>1159</td>\n",
       "      <td>121.03645833333333</td>\n",
       "      <td>...</td>\n",
       "      <td>0</td>\n",
       "      <td>0</td>\n",
       "      <td>1</td>\n",
       "      <td>0</td>\n",
       "      <td>0</td>\n",
       "      <td>0</td>\n",
       "      <td>0</td>\n",
       "      <td>0</td>\n",
       "      <td>0</td>\n",
       "      <td>0</td>\n",
       "    </tr>\n",
       "    <tr>\n",
       "      <th>2</th>\n",
       "      <td>703822576</td>\n",
       "      <td>78029.19</td>\n",
       "      <td>true</td>\n",
       "      <td>38</td>\n",
       "      <td>Married</td>\n",
       "      <td>education</td>\n",
       "      <td>Family Owned</td>\n",
       "      <td>36+</td>\n",
       "      <td>1375</td>\n",
       "      <td>13.402912621359222</td>\n",
       "      <td>...</td>\n",
       "      <td>0</td>\n",
       "      <td>0</td>\n",
       "      <td>0</td>\n",
       "      <td>0</td>\n",
       "      <td>0</td>\n",
       "      <td>0</td>\n",
       "      <td>0</td>\n",
       "      <td>0</td>\n",
       "      <td>0</td>\n",
       "      <td>0</td>\n",
       "    </tr>\n",
       "    <tr>\n",
       "      <th>3</th>\n",
       "      <td>103590131</td>\n",
       "      <td>35000.00</td>\n",
       "      <td>true</td>\n",
       "      <td>41</td>\n",
       "      <td>Single</td>\n",
       "      <td>education</td>\n",
       "      <td>Family Owned</td>\n",
       "      <td>36+</td>\n",
       "      <td>1632</td>\n",
       "      <td>178.0103896103896</td>\n",
       "      <td>...</td>\n",
       "      <td>0</td>\n",
       "      <td>0</td>\n",
       "      <td>0</td>\n",
       "      <td>0</td>\n",
       "      <td>0</td>\n",
       "      <td>0</td>\n",
       "      <td>0</td>\n",
       "      <td>0</td>\n",
       "      <td>0</td>\n",
       "      <td>0</td>\n",
       "    </tr>\n",
       "    <tr>\n",
       "      <th>4</th>\n",
       "      <td>663612175</td>\n",
       "      <td>350000.00</td>\n",
       "      <td>true</td>\n",
       "      <td>40</td>\n",
       "      <td>Married</td>\n",
       "      <td>business</td>\n",
       "      <td>Rented</td>\n",
       "      <td>36+</td>\n",
       "      <td>1971</td>\n",
       "      <td>31.976190476190474</td>\n",
       "      <td>...</td>\n",
       "      <td>0</td>\n",
       "      <td>0</td>\n",
       "      <td>0</td>\n",
       "      <td>0</td>\n",
       "      <td>0</td>\n",
       "      <td>0</td>\n",
       "      <td>0</td>\n",
       "      <td>0</td>\n",
       "      <td>0</td>\n",
       "      <td>0</td>\n",
       "    </tr>\n",
       "  </tbody>\n",
       "</table>\n",
       "<p>5 rows × 69 columns</p>\n",
       "</div>"
      ],
      "text/plain": [
       "    clientId  clientIncome incomeVerified  clientAge clientMaritalStatus  \\\n",
       "0  719046128      25000.00           true         38              Single   \n",
       "1  821565030     105000.00          false         31             Married   \n",
       "2  703822576      78029.19           true         38             Married   \n",
       "3  103590131      35000.00           true         41              Single   \n",
       "4  663612175     350000.00           true         40             Married   \n",
       "\n",
       "  clientLoanPurpose clientResidentialStauts clientTimeAtEmployer  \\\n",
       "0          business                  Rented                  36+   \n",
       "1             house                  Rented                  36+   \n",
       "2         education            Family Owned                  36+   \n",
       "3         education            Family Owned                  36+   \n",
       "4          business                  Rented                  36+   \n",
       "\n",
       "  clientNumberPhoneContacts clientAvgCallsPerDay         ...           \\\n",
       "0                      2976    51.40909090909091         ...            \n",
       "1                      1159   121.03645833333333         ...            \n",
       "2                      1375   13.402912621359222         ...            \n",
       "3                      1632    178.0103896103896         ...            \n",
       "4                      1971   31.976190476190474         ...            \n",
       "\n",
       "  clientState_OJO  clientState_ONDO clientState_OSUN clientState_OYO  \\\n",
       "0               0                 0                0               0   \n",
       "1               0                 0                1               0   \n",
       "2               0                 0                0               0   \n",
       "3               0                 0                0               0   \n",
       "4               0                 0                0               0   \n",
       "\n",
       "  clientState_PLATEAU clientState_RIVERS clientState_SOKOTO  \\\n",
       "0                   0                  0                  0   \n",
       "1                   0                  0                  0   \n",
       "2                   0                  0                  0   \n",
       "3                   0                  0                  0   \n",
       "4                   0                  0                  0   \n",
       "\n",
       "  clientState_TARABA clientState_YOBE  clientState_ZAMFARA  \n",
       "0                  0                0                    0  \n",
       "1                  0                0                    0  \n",
       "2                  0                0                    0  \n",
       "3                  0                0                    0  \n",
       "4                  0                0                    0  \n",
       "\n",
       "[5 rows x 69 columns]"
      ]
     },
     "execution_count": 43,
     "metadata": {},
     "output_type": "execute_result"
    }
   ],
   "source": [
    "frame = apply_dummies(col = 'clientState', data = frame)\n",
    "frame.head()"
   ]
  },
  {
   "cell_type": "code",
   "execution_count": 45,
   "metadata": {
    "collapsed": true
   },
   "outputs": [],
   "source": [
    "# encode numeric(clientMaritalStatus,clientLoanPurpose,clientResidentialStauts,\n",
    "# loanType)"
   ]
  },
  {
   "cell_type": "code",
   "execution_count": 47,
   "metadata": {},
   "outputs": [
    {
     "data": {
      "text/plain": [
       "array(['Single', 'Married', 'Separated', 'Null', 'Widowed', 'Divorced'], dtype=object)"
      ]
     },
     "execution_count": 47,
     "metadata": {},
     "output_type": "execute_result"
    }
   ],
   "source": [
    "frame['clientMaritalStatus'].unique()"
   ]
  },
  {
   "cell_type": "code",
   "execution_count": 48,
   "metadata": {},
   "outputs": [
    {
     "data": {
      "text/plain": [
       "Married      85492\n",
       "Single       71361\n",
       "Separated     1795\n",
       "Widowed        939\n",
       "Null             6\n",
       "Divorced         3\n",
       "Name: clientMaritalStatus, dtype: int64"
      ]
     },
     "execution_count": 48,
     "metadata": {},
     "output_type": "execute_result"
    }
   ],
   "source": [
    "frame['clientMaritalStatus'].value_counts()"
   ]
  },
  {
   "cell_type": "code",
   "execution_count": 49,
   "metadata": {
    "scrolled": true
   },
   "outputs": [
    {
     "name": "stderr",
     "output_type": "stream",
     "text": [
      "C:\\Users\\INVENTAR\\Anaconda3\\lib\\site-packages\\ipykernel_launcher.py:1: SettingWithCopyWarning: \n",
      "A value is trying to be set on a copy of a slice from a DataFrame\n",
      "\n",
      "See the caveats in the documentation: http://pandas.pydata.org/pandas-docs/stable/indexing.html#indexing-view-versus-copy\n",
      "  \"\"\"Entry point for launching an IPython kernel.\n"
     ]
    }
   ],
   "source": [
    "frame['clientMaritalStatus'][frame['clientMaritalStatus'] == 'Null'] = 'Married'"
   ]
  },
  {
   "cell_type": "code",
   "execution_count": 50,
   "metadata": {
    "scrolled": true
   },
   "outputs": [
    {
     "data": {
      "text/plain": [
       "array(['Single', 'Married', 'Separated', 'Widowed', 'Divorced'], dtype=object)"
      ]
     },
     "execution_count": 50,
     "metadata": {},
     "output_type": "execute_result"
    }
   ],
   "source": [
    "frame['clientMaritalStatus'].unique()"
   ]
  },
  {
   "cell_type": "code",
   "execution_count": 51,
   "metadata": {
    "scrolled": true
   },
   "outputs": [
    {
     "data": {
      "text/html": [
       "<div>\n",
       "<style>\n",
       "    .dataframe thead tr:only-child th {\n",
       "        text-align: right;\n",
       "    }\n",
       "\n",
       "    .dataframe thead th {\n",
       "        text-align: left;\n",
       "    }\n",
       "\n",
       "    .dataframe tbody tr th {\n",
       "        vertical-align: top;\n",
       "    }\n",
       "</style>\n",
       "<table border=\"1\" class=\"dataframe\">\n",
       "  <thead>\n",
       "    <tr style=\"text-align: right;\">\n",
       "      <th></th>\n",
       "      <th>clientId</th>\n",
       "      <th>clientIncome</th>\n",
       "      <th>incomeVerified</th>\n",
       "      <th>clientAge</th>\n",
       "      <th>clientLoanPurpose</th>\n",
       "      <th>clientResidentialStauts</th>\n",
       "      <th>clientTimeAtEmployer</th>\n",
       "      <th>clientNumberPhoneContacts</th>\n",
       "      <th>clientAvgCallsPerDay</th>\n",
       "      <th>loanType</th>\n",
       "      <th>...</th>\n",
       "      <th>clientState_RIVERS</th>\n",
       "      <th>clientState_SOKOTO</th>\n",
       "      <th>clientState_TARABA</th>\n",
       "      <th>clientState_YOBE</th>\n",
       "      <th>clientState_ZAMFARA</th>\n",
       "      <th>clientMaritalStatus_Divorced</th>\n",
       "      <th>clientMaritalStatus_Married</th>\n",
       "      <th>clientMaritalStatus_Separated</th>\n",
       "      <th>clientMaritalStatus_Single</th>\n",
       "      <th>clientMaritalStatus_Widowed</th>\n",
       "    </tr>\n",
       "  </thead>\n",
       "  <tbody>\n",
       "    <tr>\n",
       "      <th>0</th>\n",
       "      <td>719046128</td>\n",
       "      <td>25000.00</td>\n",
       "      <td>true</td>\n",
       "      <td>38</td>\n",
       "      <td>business</td>\n",
       "      <td>Rented</td>\n",
       "      <td>36+</td>\n",
       "      <td>2976</td>\n",
       "      <td>51.40909090909091</td>\n",
       "      <td>paylater</td>\n",
       "      <td>...</td>\n",
       "      <td>0</td>\n",
       "      <td>0</td>\n",
       "      <td>0</td>\n",
       "      <td>0</td>\n",
       "      <td>0</td>\n",
       "      <td>0</td>\n",
       "      <td>0</td>\n",
       "      <td>0</td>\n",
       "      <td>1</td>\n",
       "      <td>0</td>\n",
       "    </tr>\n",
       "    <tr>\n",
       "      <th>1</th>\n",
       "      <td>821565030</td>\n",
       "      <td>105000.00</td>\n",
       "      <td>false</td>\n",
       "      <td>31</td>\n",
       "      <td>house</td>\n",
       "      <td>Rented</td>\n",
       "      <td>36+</td>\n",
       "      <td>1159</td>\n",
       "      <td>121.03645833333333</td>\n",
       "      <td>paylater</td>\n",
       "      <td>...</td>\n",
       "      <td>0</td>\n",
       "      <td>0</td>\n",
       "      <td>0</td>\n",
       "      <td>0</td>\n",
       "      <td>0</td>\n",
       "      <td>0</td>\n",
       "      <td>1</td>\n",
       "      <td>0</td>\n",
       "      <td>0</td>\n",
       "      <td>0</td>\n",
       "    </tr>\n",
       "    <tr>\n",
       "      <th>2</th>\n",
       "      <td>703822576</td>\n",
       "      <td>78029.19</td>\n",
       "      <td>true</td>\n",
       "      <td>38</td>\n",
       "      <td>education</td>\n",
       "      <td>Family Owned</td>\n",
       "      <td>36+</td>\n",
       "      <td>1375</td>\n",
       "      <td>13.402912621359222</td>\n",
       "      <td>paylater</td>\n",
       "      <td>...</td>\n",
       "      <td>0</td>\n",
       "      <td>0</td>\n",
       "      <td>0</td>\n",
       "      <td>0</td>\n",
       "      <td>0</td>\n",
       "      <td>0</td>\n",
       "      <td>1</td>\n",
       "      <td>0</td>\n",
       "      <td>0</td>\n",
       "      <td>0</td>\n",
       "    </tr>\n",
       "    <tr>\n",
       "      <th>3</th>\n",
       "      <td>103590131</td>\n",
       "      <td>35000.00</td>\n",
       "      <td>true</td>\n",
       "      <td>41</td>\n",
       "      <td>education</td>\n",
       "      <td>Family Owned</td>\n",
       "      <td>36+</td>\n",
       "      <td>1632</td>\n",
       "      <td>178.0103896103896</td>\n",
       "      <td>paylater</td>\n",
       "      <td>...</td>\n",
       "      <td>0</td>\n",
       "      <td>0</td>\n",
       "      <td>0</td>\n",
       "      <td>0</td>\n",
       "      <td>0</td>\n",
       "      <td>0</td>\n",
       "      <td>0</td>\n",
       "      <td>0</td>\n",
       "      <td>1</td>\n",
       "      <td>0</td>\n",
       "    </tr>\n",
       "    <tr>\n",
       "      <th>4</th>\n",
       "      <td>663612175</td>\n",
       "      <td>350000.00</td>\n",
       "      <td>true</td>\n",
       "      <td>40</td>\n",
       "      <td>business</td>\n",
       "      <td>Rented</td>\n",
       "      <td>36+</td>\n",
       "      <td>1971</td>\n",
       "      <td>31.976190476190474</td>\n",
       "      <td>paylater</td>\n",
       "      <td>...</td>\n",
       "      <td>0</td>\n",
       "      <td>0</td>\n",
       "      <td>0</td>\n",
       "      <td>0</td>\n",
       "      <td>0</td>\n",
       "      <td>0</td>\n",
       "      <td>1</td>\n",
       "      <td>0</td>\n",
       "      <td>0</td>\n",
       "      <td>0</td>\n",
       "    </tr>\n",
       "  </tbody>\n",
       "</table>\n",
       "<p>5 rows × 73 columns</p>\n",
       "</div>"
      ],
      "text/plain": [
       "    clientId  clientIncome incomeVerified  clientAge clientLoanPurpose  \\\n",
       "0  719046128      25000.00           true         38          business   \n",
       "1  821565030     105000.00          false         31             house   \n",
       "2  703822576      78029.19           true         38         education   \n",
       "3  103590131      35000.00           true         41         education   \n",
       "4  663612175     350000.00           true         40          business   \n",
       "\n",
       "  clientResidentialStauts clientTimeAtEmployer clientNumberPhoneContacts  \\\n",
       "0                  Rented                  36+                      2976   \n",
       "1                  Rented                  36+                      1159   \n",
       "2            Family Owned                  36+                      1375   \n",
       "3            Family Owned                  36+                      1632   \n",
       "4                  Rented                  36+                      1971   \n",
       "\n",
       "  clientAvgCallsPerDay  loanType             ...               \\\n",
       "0    51.40909090909091  paylater             ...                \n",
       "1   121.03645833333333  paylater             ...                \n",
       "2   13.402912621359222  paylater             ...                \n",
       "3    178.0103896103896  paylater             ...                \n",
       "4   31.976190476190474  paylater             ...                \n",
       "\n",
       "   clientState_RIVERS clientState_SOKOTO clientState_TARABA clientState_YOBE  \\\n",
       "0                   0                  0                  0                0   \n",
       "1                   0                  0                  0                0   \n",
       "2                   0                  0                  0                0   \n",
       "3                   0                  0                  0                0   \n",
       "4                   0                  0                  0                0   \n",
       "\n",
       "  clientState_ZAMFARA clientMaritalStatus_Divorced  \\\n",
       "0                   0                            0   \n",
       "1                   0                            0   \n",
       "2                   0                            0   \n",
       "3                   0                            0   \n",
       "4                   0                            0   \n",
       "\n",
       "  clientMaritalStatus_Married clientMaritalStatus_Separated  \\\n",
       "0                           0                             0   \n",
       "1                           1                             0   \n",
       "2                           1                             0   \n",
       "3                           0                             0   \n",
       "4                           1                             0   \n",
       "\n",
       "   clientMaritalStatus_Single  clientMaritalStatus_Widowed  \n",
       "0                           1                            0  \n",
       "1                           0                            0  \n",
       "2                           0                            0  \n",
       "3                           1                            0  \n",
       "4                           0                            0  \n",
       "\n",
       "[5 rows x 73 columns]"
      ]
     },
     "execution_count": 51,
     "metadata": {},
     "output_type": "execute_result"
    }
   ],
   "source": [
    "frame = apply_dummies(col = 'clientMaritalStatus', data= frame)\n",
    "frame.head()"
   ]
  },
  {
   "cell_type": "code",
   "execution_count": 54,
   "metadata": {},
   "outputs": [
    {
     "name": "stderr",
     "output_type": "stream",
     "text": [
      "C:\\Users\\INVENTAR\\Anaconda3\\lib\\site-packages\\ipykernel_launcher.py:1: SettingWithCopyWarning: \n",
      "A value is trying to be set on a copy of a slice from a DataFrame\n",
      "\n",
      "See the caveats in the documentation: http://pandas.pydata.org/pandas-docs/stable/indexing.html#indexing-view-versus-copy\n",
      "  \"\"\"Entry point for launching an IPython kernel.\n",
      "C:\\Users\\INVENTAR\\Anaconda3\\lib\\site-packages\\ipykernel_launcher.py:2: SettingWithCopyWarning: \n",
      "A value is trying to be set on a copy of a slice from a DataFrame\n",
      "\n",
      "See the caveats in the documentation: http://pandas.pydata.org/pandas-docs/stable/indexing.html#indexing-view-versus-copy\n",
      "  \n"
     ]
    }
   ],
   "source": [
    "frame['incomeVerified'][frame['incomeVerified'] == 'true'] = 1\n",
    "frame['incomeVerified'][frame['incomeVerified'] == 'false'] = 0"
   ]
  },
  {
   "cell_type": "code",
   "execution_count": 58,
   "metadata": {},
   "outputs": [
    {
     "data": {
      "text/plain": [
       "business     78976\n",
       "other        31554\n",
       "house        22240\n",
       "education    15737\n",
       "medical      11089\n",
       "Name: clientLoanPurpose, dtype: int64"
      ]
     },
     "execution_count": 58,
     "metadata": {},
     "output_type": "execute_result"
    }
   ],
   "source": [
    "frame['clientLoanPurpose'].value_counts()"
   ]
  },
  {
   "cell_type": "code",
   "execution_count": 59,
   "metadata": {},
   "outputs": [
    {
     "data": {
      "text/html": [
       "<div>\n",
       "<style>\n",
       "    .dataframe thead tr:only-child th {\n",
       "        text-align: right;\n",
       "    }\n",
       "\n",
       "    .dataframe thead th {\n",
       "        text-align: left;\n",
       "    }\n",
       "\n",
       "    .dataframe tbody tr th {\n",
       "        vertical-align: top;\n",
       "    }\n",
       "</style>\n",
       "<table border=\"1\" class=\"dataframe\">\n",
       "  <thead>\n",
       "    <tr style=\"text-align: right;\">\n",
       "      <th></th>\n",
       "      <th>clientId</th>\n",
       "      <th>clientIncome</th>\n",
       "      <th>incomeVerified</th>\n",
       "      <th>clientAge</th>\n",
       "      <th>clientResidentialStauts</th>\n",
       "      <th>clientTimeAtEmployer</th>\n",
       "      <th>clientNumberPhoneContacts</th>\n",
       "      <th>clientAvgCallsPerDay</th>\n",
       "      <th>loanType</th>\n",
       "      <th>loanNumber</th>\n",
       "      <th>...</th>\n",
       "      <th>clientMaritalStatus_Divorced</th>\n",
       "      <th>clientMaritalStatus_Married</th>\n",
       "      <th>clientMaritalStatus_Separated</th>\n",
       "      <th>clientMaritalStatus_Single</th>\n",
       "      <th>clientMaritalStatus_Widowed</th>\n",
       "      <th>clientLoanPurpose_business</th>\n",
       "      <th>clientLoanPurpose_education</th>\n",
       "      <th>clientLoanPurpose_house</th>\n",
       "      <th>clientLoanPurpose_medical</th>\n",
       "      <th>clientLoanPurpose_other</th>\n",
       "    </tr>\n",
       "  </thead>\n",
       "  <tbody>\n",
       "    <tr>\n",
       "      <th>0</th>\n",
       "      <td>719046128</td>\n",
       "      <td>25000.00</td>\n",
       "      <td>1</td>\n",
       "      <td>38</td>\n",
       "      <td>Rented</td>\n",
       "      <td>36+</td>\n",
       "      <td>2976</td>\n",
       "      <td>51.40909090909091</td>\n",
       "      <td>paylater</td>\n",
       "      <td>4</td>\n",
       "      <td>...</td>\n",
       "      <td>0</td>\n",
       "      <td>0</td>\n",
       "      <td>0</td>\n",
       "      <td>1</td>\n",
       "      <td>0</td>\n",
       "      <td>1</td>\n",
       "      <td>0</td>\n",
       "      <td>0</td>\n",
       "      <td>0</td>\n",
       "      <td>0</td>\n",
       "    </tr>\n",
       "    <tr>\n",
       "      <th>1</th>\n",
       "      <td>821565030</td>\n",
       "      <td>105000.00</td>\n",
       "      <td>0</td>\n",
       "      <td>31</td>\n",
       "      <td>Rented</td>\n",
       "      <td>36+</td>\n",
       "      <td>1159</td>\n",
       "      <td>121.03645833333333</td>\n",
       "      <td>paylater</td>\n",
       "      <td>4</td>\n",
       "      <td>...</td>\n",
       "      <td>0</td>\n",
       "      <td>1</td>\n",
       "      <td>0</td>\n",
       "      <td>0</td>\n",
       "      <td>0</td>\n",
       "      <td>0</td>\n",
       "      <td>0</td>\n",
       "      <td>1</td>\n",
       "      <td>0</td>\n",
       "      <td>0</td>\n",
       "    </tr>\n",
       "    <tr>\n",
       "      <th>2</th>\n",
       "      <td>703822576</td>\n",
       "      <td>78029.19</td>\n",
       "      <td>1</td>\n",
       "      <td>38</td>\n",
       "      <td>Family Owned</td>\n",
       "      <td>36+</td>\n",
       "      <td>1375</td>\n",
       "      <td>13.402912621359222</td>\n",
       "      <td>paylater</td>\n",
       "      <td>4</td>\n",
       "      <td>...</td>\n",
       "      <td>0</td>\n",
       "      <td>1</td>\n",
       "      <td>0</td>\n",
       "      <td>0</td>\n",
       "      <td>0</td>\n",
       "      <td>0</td>\n",
       "      <td>1</td>\n",
       "      <td>0</td>\n",
       "      <td>0</td>\n",
       "      <td>0</td>\n",
       "    </tr>\n",
       "    <tr>\n",
       "      <th>3</th>\n",
       "      <td>103590131</td>\n",
       "      <td>35000.00</td>\n",
       "      <td>1</td>\n",
       "      <td>41</td>\n",
       "      <td>Family Owned</td>\n",
       "      <td>36+</td>\n",
       "      <td>1632</td>\n",
       "      <td>178.0103896103896</td>\n",
       "      <td>paylater</td>\n",
       "      <td>3</td>\n",
       "      <td>...</td>\n",
       "      <td>0</td>\n",
       "      <td>0</td>\n",
       "      <td>0</td>\n",
       "      <td>1</td>\n",
       "      <td>0</td>\n",
       "      <td>0</td>\n",
       "      <td>1</td>\n",
       "      <td>0</td>\n",
       "      <td>0</td>\n",
       "      <td>0</td>\n",
       "    </tr>\n",
       "    <tr>\n",
       "      <th>4</th>\n",
       "      <td>663612175</td>\n",
       "      <td>350000.00</td>\n",
       "      <td>1</td>\n",
       "      <td>40</td>\n",
       "      <td>Rented</td>\n",
       "      <td>36+</td>\n",
       "      <td>1971</td>\n",
       "      <td>31.976190476190474</td>\n",
       "      <td>paylater</td>\n",
       "      <td>2</td>\n",
       "      <td>...</td>\n",
       "      <td>0</td>\n",
       "      <td>1</td>\n",
       "      <td>0</td>\n",
       "      <td>0</td>\n",
       "      <td>0</td>\n",
       "      <td>1</td>\n",
       "      <td>0</td>\n",
       "      <td>0</td>\n",
       "      <td>0</td>\n",
       "      <td>0</td>\n",
       "    </tr>\n",
       "  </tbody>\n",
       "</table>\n",
       "<p>5 rows × 77 columns</p>\n",
       "</div>"
      ],
      "text/plain": [
       "    clientId  clientIncome incomeVerified  clientAge clientResidentialStauts  \\\n",
       "0  719046128      25000.00              1         38                  Rented   \n",
       "1  821565030     105000.00              0         31                  Rented   \n",
       "2  703822576      78029.19              1         38            Family Owned   \n",
       "3  103590131      35000.00              1         41            Family Owned   \n",
       "4  663612175     350000.00              1         40                  Rented   \n",
       "\n",
       "  clientTimeAtEmployer clientNumberPhoneContacts clientAvgCallsPerDay  \\\n",
       "0                  36+                      2976    51.40909090909091   \n",
       "1                  36+                      1159   121.03645833333333   \n",
       "2                  36+                      1375   13.402912621359222   \n",
       "3                  36+                      1632    178.0103896103896   \n",
       "4                  36+                      1971   31.976190476190474   \n",
       "\n",
       "   loanType  loanNumber           ...            clientMaritalStatus_Divorced  \\\n",
       "0  paylater           4           ...                                       0   \n",
       "1  paylater           4           ...                                       0   \n",
       "2  paylater           4           ...                                       0   \n",
       "3  paylater           3           ...                                       0   \n",
       "4  paylater           2           ...                                       0   \n",
       "\n",
       "  clientMaritalStatus_Married clientMaritalStatus_Separated  \\\n",
       "0                           0                             0   \n",
       "1                           1                             0   \n",
       "2                           1                             0   \n",
       "3                           0                             0   \n",
       "4                           1                             0   \n",
       "\n",
       "  clientMaritalStatus_Single clientMaritalStatus_Widowed  \\\n",
       "0                          1                           0   \n",
       "1                          0                           0   \n",
       "2                          0                           0   \n",
       "3                          1                           0   \n",
       "4                          0                           0   \n",
       "\n",
       "  clientLoanPurpose_business clientLoanPurpose_education  \\\n",
       "0                          1                           0   \n",
       "1                          0                           0   \n",
       "2                          0                           1   \n",
       "3                          0                           1   \n",
       "4                          1                           0   \n",
       "\n",
       "   clientLoanPurpose_house  clientLoanPurpose_medical  clientLoanPurpose_other  \n",
       "0                        0                          0                        0  \n",
       "1                        1                          0                        0  \n",
       "2                        0                          0                        0  \n",
       "3                        0                          0                        0  \n",
       "4                        0                          0                        0  \n",
       "\n",
       "[5 rows x 77 columns]"
      ]
     },
     "execution_count": 59,
     "metadata": {},
     "output_type": "execute_result"
    }
   ],
   "source": [
    "frame = apply_dummies(col = 'clientLoanPurpose', data= frame)\n",
    "frame.head()"
   ]
  },
  {
   "cell_type": "code",
   "execution_count": 60,
   "metadata": {},
   "outputs": [
    {
     "data": {
      "text/plain": [
       "array(['paylater'], dtype=object)"
      ]
     },
     "execution_count": 60,
     "metadata": {},
     "output_type": "execute_result"
    }
   ],
   "source": [
    "frame['loanType'].unique()"
   ]
  },
  {
   "cell_type": "code",
   "execution_count": 61,
   "metadata": {
    "collapsed": true
   },
   "outputs": [],
   "source": [
    "frame = frame.drop('loanType', axis = 1)"
   ]
  },
  {
   "cell_type": "code",
   "execution_count": 62,
   "metadata": {},
   "outputs": [
    {
     "data": {
      "text/plain": [
       "Rented               100534\n",
       "Own Residence         26406\n",
       "Family Owned          25668\n",
       "Employer Provided      5589\n",
       "Null                   1136\n",
       "Temp. Residence         263\n",
       "Name: clientResidentialStauts, dtype: int64"
      ]
     },
     "execution_count": 62,
     "metadata": {},
     "output_type": "execute_result"
    }
   ],
   "source": [
    "frame['clientResidentialStauts'].value_counts()"
   ]
  },
  {
   "cell_type": "code",
   "execution_count": 63,
   "metadata": {},
   "outputs": [
    {
     "name": "stderr",
     "output_type": "stream",
     "text": [
      "C:\\Users\\INVENTAR\\Anaconda3\\lib\\site-packages\\ipykernel_launcher.py:1: SettingWithCopyWarning: \n",
      "A value is trying to be set on a copy of a slice from a DataFrame\n",
      "\n",
      "See the caveats in the documentation: http://pandas.pydata.org/pandas-docs/stable/indexing.html#indexing-view-versus-copy\n",
      "  \"\"\"Entry point for launching an IPython kernel.\n"
     ]
    },
    {
     "data": {
      "text/plain": [
       "Rented               101670\n",
       "Own Residence         26406\n",
       "Family Owned          25668\n",
       "Employer Provided      5589\n",
       "Temp. Residence         263\n",
       "Name: clientResidentialStauts, dtype: int64"
      ]
     },
     "execution_count": 63,
     "metadata": {},
     "output_type": "execute_result"
    }
   ],
   "source": [
    "frame['clientResidentialStauts'][frame['clientResidentialStauts']== 'Null'] = 'Rented'\n",
    "frame['clientResidentialStauts'].value_counts()"
   ]
  },
  {
   "cell_type": "code",
   "execution_count": 64,
   "metadata": {
    "collapsed": true
   },
   "outputs": [],
   "source": [
    "def encode_numeric(col = 'default', data = None, unique_values = [None ,None]):\n",
    "    for i,k in zip(range(len(unique_values)), unique_values):\n",
    "        data[col][data[col] == k] = i\n",
    "    return data[col]\n"
   ]
  },
  {
   "cell_type": "code",
   "execution_count": null,
   "metadata": {
    "collapsed": true
   },
   "outputs": [],
   "source": []
  },
  {
   "cell_type": "code",
   "execution_count": null,
   "metadata": {
    "collapsed": true
   },
   "outputs": [],
   "source": []
  },
  {
   "cell_type": "code",
   "execution_count": null,
   "metadata": {
    "collapsed": true
   },
   "outputs": [],
   "source": [
    "data = pd.get_dummies(read_data, prefix_sep = '_', columns = )"
   ]
  }
 ],
 "metadata": {
  "kernelspec": {
   "display_name": "Python 3",
   "language": "python",
   "name": "python3"
  },
  "language_info": {
   "codemirror_mode": {
    "name": "ipython",
    "version": 3
   },
   "file_extension": ".py",
   "mimetype": "text/x-python",
   "name": "python",
   "nbconvert_exporter": "python",
   "pygments_lexer": "ipython3",
   "version": "3.6.1"
  }
 },
 "nbformat": 4,
 "nbformat_minor": 2
}
