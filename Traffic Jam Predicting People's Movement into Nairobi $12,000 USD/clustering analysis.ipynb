{
 "cells": [
  {
   "cell_type": "code",
   "execution_count": 1,
   "metadata": {
    "collapsed": true
   },
   "outputs": [],
   "source": [
    "import pandas as pd\n",
    "data = pd.read_csv('clustering_analysis.csv')"
   ]
  },
  {
   "cell_type": "code",
   "execution_count": 2,
   "metadata": {},
   "outputs": [
    {
     "data": {
      "text/html": [
       "<div>\n",
       "<style>\n",
       "    .dataframe thead tr:only-child th {\n",
       "        text-align: right;\n",
       "    }\n",
       "\n",
       "    .dataframe thead th {\n",
       "        text-align: left;\n",
       "    }\n",
       "\n",
       "    .dataframe tbody tr th {\n",
       "        vertical-align: top;\n",
       "    }\n",
       "</style>\n",
       "<table border=\"1\" class=\"dataframe\">\n",
       "  <thead>\n",
       "    <tr style=\"text-align: right;\">\n",
       "      <th></th>\n",
       "      <th>Unnamed: 0</th>\n",
       "      <th>ride_id</th>\n",
       "      <th>seat_number</th>\n",
       "      <th>travel_from</th>\n",
       "      <th>max_capacity</th>\n",
       "      <th>travel_time_in_seconds</th>\n",
       "      <th>car_type_Bus</th>\n",
       "      <th>car_type_shuttle</th>\n",
       "      <th>payment_method_Cash</th>\n",
       "      <th>payment_method_Mpesa</th>\n",
       "      <th>new_time_frame</th>\n",
       "    </tr>\n",
       "  </thead>\n",
       "  <tbody>\n",
       "    <tr>\n",
       "      <th>0</th>\n",
       "      <td>0</td>\n",
       "      <td>1442</td>\n",
       "      <td>0</td>\n",
       "      <td>371</td>\n",
       "      <td>1</td>\n",
       "      <td>435</td>\n",
       "      <td>1</td>\n",
       "      <td>0</td>\n",
       "      <td>0</td>\n",
       "      <td>1</td>\n",
       "      <td>365</td>\n",
       "    </tr>\n",
       "    <tr>\n",
       "      <th>1</th>\n",
       "      <td>1</td>\n",
       "      <td>5437</td>\n",
       "      <td>0</td>\n",
       "      <td>371</td>\n",
       "      <td>1</td>\n",
       "      <td>432</td>\n",
       "      <td>1</td>\n",
       "      <td>0</td>\n",
       "      <td>0</td>\n",
       "      <td>1</td>\n",
       "      <td>334</td>\n",
       "    </tr>\n",
       "    <tr>\n",
       "      <th>2</th>\n",
       "      <td>2</td>\n",
       "      <td>5710</td>\n",
       "      <td>0</td>\n",
       "      <td>280</td>\n",
       "      <td>1</td>\n",
       "      <td>425</td>\n",
       "      <td>1</td>\n",
       "      <td>0</td>\n",
       "      <td>0</td>\n",
       "      <td>1</td>\n",
       "      <td>334</td>\n",
       "    </tr>\n",
       "    <tr>\n",
       "      <th>3</th>\n",
       "      <td>3</td>\n",
       "      <td>5777</td>\n",
       "      <td>0</td>\n",
       "      <td>363</td>\n",
       "      <td>1</td>\n",
       "      <td>430</td>\n",
       "      <td>1</td>\n",
       "      <td>0</td>\n",
       "      <td>0</td>\n",
       "      <td>1</td>\n",
       "      <td>334</td>\n",
       "    </tr>\n",
       "    <tr>\n",
       "      <th>4</th>\n",
       "      <td>4</td>\n",
       "      <td>5778</td>\n",
       "      <td>0</td>\n",
       "      <td>371</td>\n",
       "      <td>1</td>\n",
       "      <td>432</td>\n",
       "      <td>1</td>\n",
       "      <td>0</td>\n",
       "      <td>0</td>\n",
       "      <td>1</td>\n",
       "      <td>334</td>\n",
       "    </tr>\n",
       "  </tbody>\n",
       "</table>\n",
       "</div>"
      ],
      "text/plain": [
       "   Unnamed: 0  ride_id  seat_number  travel_from  max_capacity  \\\n",
       "0           0     1442            0          371             1   \n",
       "1           1     5437            0          371             1   \n",
       "2           2     5710            0          280             1   \n",
       "3           3     5777            0          363             1   \n",
       "4           4     5778            0          371             1   \n",
       "\n",
       "   travel_time_in_seconds  car_type_Bus  car_type_shuttle  \\\n",
       "0                     435             1                 0   \n",
       "1                     432             1                 0   \n",
       "2                     425             1                 0   \n",
       "3                     430             1                 0   \n",
       "4                     432             1                 0   \n",
       "\n",
       "   payment_method_Cash  payment_method_Mpesa  new_time_frame  \n",
       "0                    0                     1             365  \n",
       "1                    0                     1             334  \n",
       "2                    0                     1             334  \n",
       "3                    0                     1             334  \n",
       "4                    0                     1             334  "
      ]
     },
     "execution_count": 2,
     "metadata": {},
     "output_type": "execute_result"
    }
   ],
   "source": [
    "data.head()"
   ]
  },
  {
   "cell_type": "code",
   "execution_count": 5,
   "metadata": {},
   "outputs": [
    {
     "name": "stdout",
     "output_type": "stream",
     "text": [
      "<class 'pandas.core.frame.DataFrame'>\n",
      "RangeIndex: 51645 entries, 0 to 51644\n",
      "Data columns (total 11 columns):\n",
      "Unnamed: 0                51645 non-null int64\n",
      "ride_id                   51645 non-null int64\n",
      "seat_number               51645 non-null int64\n",
      "travel_from               51645 non-null int64\n",
      "max_capacity              51645 non-null int64\n",
      "travel_time_in_seconds    51645 non-null int64\n",
      "car_type_Bus              51645 non-null int64\n",
      "car_type_shuttle          51645 non-null int64\n",
      "payment_method_Cash       51645 non-null int64\n",
      "payment_method_Mpesa      51645 non-null int64\n",
      "new_time_frame            51645 non-null int64\n",
      "dtypes: int64(11)\n",
      "memory usage: 4.3 MB\n"
     ]
    }
   ],
   "source": [
    "data.info()"
   ]
  },
  {
   "cell_type": "code",
   "execution_count": 6,
   "metadata": {},
   "outputs": [],
   "source": [
    "data = data.drop('Unnamed: 0', axis = 1)"
   ]
  },
  {
   "cell_type": "code",
   "execution_count": null,
   "metadata": {
    "collapsed": true
   },
   "outputs": [],
   "source": []
  },
  {
   "cell_type": "code",
   "execution_count": null,
   "metadata": {
    "collapsed": true
   },
   "outputs": [],
   "source": []
  }
 ],
 "metadata": {
  "kernelspec": {
   "display_name": "Python 3",
   "language": "python",
   "name": "python3"
  },
  "language_info": {
   "codemirror_mode": {
    "name": "ipython",
    "version": 3
   },
   "file_extension": ".py",
   "mimetype": "text/x-python",
   "name": "python",
   "nbconvert_exporter": "python",
   "pygments_lexer": "ipython3",
   "version": "3.6.2"
  }
 },
 "nbformat": 4,
 "nbformat_minor": 2
}
